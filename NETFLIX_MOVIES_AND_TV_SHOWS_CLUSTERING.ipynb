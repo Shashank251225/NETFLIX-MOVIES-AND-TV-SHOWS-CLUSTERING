{
  "nbformat": 4,
  "nbformat_minor": 0,
  "metadata": {
    "colab": {
      "provenance": [],
      "include_colab_link": true
    },
    "kernelspec": {
      "name": "python3",
      "display_name": "Python 3"
    },
    "language_info": {
      "name": "python"
    },
    "gpuClass": "standard"
  },
  "cells": [
    {
      "cell_type": "markdown",
      "metadata": {
        "id": "view-in-github",
        "colab_type": "text"
      },
      "source": [
        "<a href=\"https://colab.research.google.com/github/Shashank251225/NETFLIX-MOVIES-AND-TV-SHOWS-CLUSTERING/blob/main/NETFLIX_MOVIES_AND_TV_SHOWS_CLUSTERING.ipynb\" target=\"_parent\"><img src=\"https://colab.research.google.com/assets/colab-badge.svg\" alt=\"Open In Colab\"/></a>"
      ]
    },
    {
      "cell_type": "markdown",
      "source": [
        "# **Project Name**    - NETFLIX MOVIES AND TV SHOWS CLUSTERING\n",
        "\n",
        "\n",
        "\n",
        "\n",
        "\n"
      ],
      "metadata": {
        "id": "vncDsAP0Gaoa"
      }
    },
    {
      "cell_type": "markdown",
      "source": [
        "##### **Project Type**    - Unsupervised\n",
        "##### **Contribution**-    Team\n",
        "##### **Team Member 1 -** AMITHA K\n",
        "\n",
        "##### **Team Member 2 -**APOORVA VISHWAKARMA\n",
        "\n",
        "##### **Team Member 3 -**ABHISHEK P SADAWARTE\n",
        "\n",
        "##### **Team Member 4 -**MOHD KHALID\n",
        "##### **Team Member 5 -**SHASHANK KUMAR YADAV"
      ],
      "metadata": {
        "id": "beRrZCGUAJYm"
      }
    },
    {
      "cell_type": "markdown",
      "source": [
        "# **Project Summary -**"
      ],
      "metadata": {
        "id": "FJNUwmbgGyua"
      }
    },
    {
      "cell_type": "markdown",
      "source": [
        "Write the summary here within 500-600 words."
      ],
      "metadata": {
        "id": "F6v_1wHtG2nS"
      }
    },
    {
      "cell_type": "markdown",
      "source": [
        "# **GitHub Link -**"
      ],
      "metadata": {
        "id": "w6K7xa23Elo4"
      }
    },
    {
      "cell_type": "markdown",
      "source": [
        "Provide your GitHub Link here."
      ],
      "metadata": {
        "id": "h1o69JH3Eqqn"
      }
    },
    {
      "cell_type": "markdown",
      "source": [
        "# **Problem Statement**\n",
        "\n",
        "\n"
      ],
      "metadata": {
        "id": "yQaldy8SH6Dl"
      }
    },
    {
      "cell_type": "markdown",
      "source": [
        "This dataset consists of tv shows and movies available on Netflix as of 2019. The dataset is collected from Flixable which is a third-party Netflix search engine.\n",
        "In 2018, they released an interesting report which shows that the number of TV shows on Netflix has nearly tripled since 2010. The streaming service’s number of movies has decreased by more than 2,000 titles since 2010, while its number of TV shows has nearly tripled. It will be interesting to explore what all other insights can be obtained from the same dataset.\n",
        "Integrating this dataset with other external datasets such as IMDB ratings, rotten tomatoes can also provide many interesting findings.\n",
        "In this project, I have done\n",
        "\n",
        " 1.Exploratory Data Analysis\n",
        "\n",
        " 2.Understanding what type content is available in different countries\n",
        "\n",
        " 3.Is Netflix increasingly focusing on TV rather than movies in recent years.\n",
        " \n",
        " 4.Clustering similar content by matching text-based features**Write Problem Statement Here.**"
      ],
      "metadata": {
        "id": "DpeJGUA3kjGy"
      }
    },
    {
      "cell_type": "markdown",
      "source": [
        "# **General Guidelines** : -  "
      ],
      "metadata": {
        "id": "mDgbUHAGgjLW"
      }
    },
    {
      "cell_type": "markdown",
      "source": [
        "1.   Well-structured, formatted, and commented code is required. \n",
        "2.   Exception Handling, Production Grade Code & Deployment Ready Code will be a plus. Those students will be awarded some additional credits. \n",
        "     \n",
        "     The additional credits will have advantages over other students during Star Student selection.\n",
        "       \n",
        "             [ Note: - Deployment Ready Code is defined as, the whole .ipynb notebook should be executable in one go\n",
        "                       without a single error logged. ]\n",
        "\n",
        "3.   Each and every logic should have proper comments.\n",
        "4. You may add as many number of charts you want. Make Sure for each and every chart the following format should be answered.\n",
        "        \n",
        "\n",
        "```\n",
        "# Chart visualization code\n",
        "```\n",
        "            \n",
        "\n",
        "*   Why did you pick the specific chart?\n",
        "*   What is/are the insight(s) found from the chart?\n",
        "* Will the gained insights help creating a positive business impact? \n",
        "Are there any insights that lead to negative growth? Justify with specific reason.\n",
        "\n",
        "5. You have to create at least 15 logical & meaningful charts having important insights.\n",
        "\n",
        "\n",
        "[ Hints : - Do the Vizualization in  a structured way while following \"UBM\" Rule. \n",
        "\n",
        "U - Univariate Analysis,\n",
        "\n",
        "B - Bivariate Analysis (Numerical - Categorical, Numerical - Numerical, Categorical - Categorical)\n",
        "\n",
        "M - Multivariate Analysis\n",
        " ]\n",
        "\n",
        "\n",
        "\n",
        "\n",
        "\n",
        "6. You may add more ml algorithms for model creation. Make sure for each and every algorithm, the following format should be answered.\n",
        "\n",
        "\n",
        "*   Explain the ML Model used and it's performance using Evaluation metric Score Chart.\n",
        "\n",
        "\n",
        "*   Cross- Validation & Hyperparameter Tuning\n",
        "\n",
        "*   Have you seen any improvement? Note down the improvement with updates Evaluation metric Score Chart.\n",
        "\n",
        "*   Explain each evaluation metric's indication towards business and the business impact pf the ML model used.\n",
        "\n",
        "\n",
        "\n",
        "\n",
        "\n",
        "\n",
        "\n",
        "\n",
        "\n",
        "\n",
        "\n",
        "\n",
        "\n",
        "\n",
        "\n",
        "\n",
        "\n",
        "\n"
      ],
      "metadata": {
        "id": "ZrxVaUj-hHfC"
      }
    },
    {
      "cell_type": "markdown",
      "source": [
        "# ***Let's Begin !***"
      ],
      "metadata": {
        "id": "O_i_v8NEhb9l"
      }
    },
    {
      "cell_type": "markdown",
      "source": [
        "## ***1. Know Your Data***"
      ],
      "metadata": {
        "id": "HhfV-JJviCcP"
      }
    },
    {
      "cell_type": "markdown",
      "source": [
        "### Import Libraries"
      ],
      "metadata": {
        "id": "Y3lxredqlCYt"
      }
    },
    {
      "cell_type": "code",
      "source": [
        "# Import Libraries\n",
        "\n",
        "# Import Libraries\n",
        "import numpy as np\n",
        "import pandas as pd\n",
        "import matplotlib.pyplot as plt\n",
        "import matplotlib.mlab as mlab\n",
        "import seaborn as sns\n",
        "\n",
        "from sklearn.feature_extraction.text import CountVectorizer\n",
        "from textblob import TextBlob\n",
        "import scipy.stats as stats\n",
        "\n",
        "from sklearn.decomposition import TruncatedSVD\n",
        "from sklearn.decomposition import LatentDirichletAllocation\n",
        "from sklearn.manifold import TSNE\n",
        "import datetime as dt\n",
        "\n",
        "%matplotlib inline\n"
      ],
      "metadata": {
        "id": "M8Vqi-pPk-HR"
      },
      "execution_count": null,
      "outputs": []
    },
    {
      "cell_type": "markdown",
      "source": [
        "### Dataset Loading"
      ],
      "metadata": {
        "id": "3RnN4peoiCZX"
      }
    },
    {
      "cell_type": "code",
      "source": [
        "# Load Dataset\n",
        "from google.colab import drive\n",
        "drive.mount('/content/drive')"
      ],
      "metadata": {
        "id": "Wk7fQ5O03DiF",
        "colab": {
          "base_uri": "https://localhost:8080/"
        },
        "outputId": "545946d4-d15e-4a7b-df45-3256e34903a9"
      },
      "execution_count": null,
      "outputs": [
        {
          "output_type": "stream",
          "name": "stdout",
          "text": [
            "Drive already mounted at /content/drive; to attempt to forcibly remount, call drive.mount(\"/content/drive\", force_remount=True).\n"
          ]
        }
      ]
    },
    {
      "cell_type": "code",
      "source": [
        "netflix = pd.read_csv('/content/drive/MyDrive/NETFLIX MOVIES AND TV SHOWS CLUSTERING.csv')\n",
        "df = netflix.copy()"
      ],
      "metadata": {
        "id": "TBTMlHGu3e3K"
      },
      "execution_count": null,
      "outputs": []
    },
    {
      "cell_type": "markdown",
      "source": [
        "### Dataset First View"
      ],
      "metadata": {
        "id": "x71ZqKXriCWQ"
      }
    },
    {
      "cell_type": "code",
      "source": [
        "# Dataset First Look\n",
        "df.head()"
      ],
      "metadata": {
        "colab": {
          "base_uri": "https://localhost:8080/",
          "height": 337
        },
        "id": "9vBgqivCN8ZP",
        "outputId": "2c444975-efd8-4bcf-9660-f8333834b833"
      },
      "execution_count": null,
      "outputs": [
        {
          "output_type": "execute_result",
          "data": {
            "text/plain": [
              "  show_id     type  title           director  \\\n",
              "0      s1  TV Show     3%                NaN   \n",
              "1      s2    Movie   7:19  Jorge Michel Grau   \n",
              "2      s3    Movie  23:59       Gilbert Chan   \n",
              "3      s4    Movie      9        Shane Acker   \n",
              "4      s5    Movie     21     Robert Luketic   \n",
              "\n",
              "                                                cast        country  \\\n",
              "0  João Miguel, Bianca Comparato, Michel Gomes, R...         Brazil   \n",
              "1  Demián Bichir, Héctor Bonilla, Oscar Serrano, ...         Mexico   \n",
              "2  Tedd Chan, Stella Chung, Henley Hii, Lawrence ...      Singapore   \n",
              "3  Elijah Wood, John C. Reilly, Jennifer Connelly...  United States   \n",
              "4  Jim Sturgess, Kevin Spacey, Kate Bosworth, Aar...  United States   \n",
              "\n",
              "          date_added  release_year rating   duration  \\\n",
              "0    August 14, 2020          2020  TV-MA  4 Seasons   \n",
              "1  December 23, 2016          2016  TV-MA     93 min   \n",
              "2  December 20, 2018          2011      R     78 min   \n",
              "3  November 16, 2017          2009  PG-13     80 min   \n",
              "4    January 1, 2020          2008  PG-13    123 min   \n",
              "\n",
              "                                           listed_in  \\\n",
              "0  International TV Shows, TV Dramas, TV Sci-Fi &...   \n",
              "1                       Dramas, International Movies   \n",
              "2                Horror Movies, International Movies   \n",
              "3  Action & Adventure, Independent Movies, Sci-Fi...   \n",
              "4                                             Dramas   \n",
              "\n",
              "                                         description  \n",
              "0  In a future where the elite inhabit an island ...  \n",
              "1  After a devastating earthquake hits Mexico Cit...  \n",
              "2  When an army recruit is found dead, his fellow...  \n",
              "3  In a postapocalyptic world, rag-doll robots hi...  \n",
              "4  A brilliant group of students become card-coun...  "
            ],
            "text/html": [
              "\n",
              "  <div id=\"df-dc97ec1e-aa2b-4c67-8f53-0a73028723e2\">\n",
              "    <div class=\"colab-df-container\">\n",
              "      <div>\n",
              "<style scoped>\n",
              "    .dataframe tbody tr th:only-of-type {\n",
              "        vertical-align: middle;\n",
              "    }\n",
              "\n",
              "    .dataframe tbody tr th {\n",
              "        vertical-align: top;\n",
              "    }\n",
              "\n",
              "    .dataframe thead th {\n",
              "        text-align: right;\n",
              "    }\n",
              "</style>\n",
              "<table border=\"1\" class=\"dataframe\">\n",
              "  <thead>\n",
              "    <tr style=\"text-align: right;\">\n",
              "      <th></th>\n",
              "      <th>show_id</th>\n",
              "      <th>type</th>\n",
              "      <th>title</th>\n",
              "      <th>director</th>\n",
              "      <th>cast</th>\n",
              "      <th>country</th>\n",
              "      <th>date_added</th>\n",
              "      <th>release_year</th>\n",
              "      <th>rating</th>\n",
              "      <th>duration</th>\n",
              "      <th>listed_in</th>\n",
              "      <th>description</th>\n",
              "    </tr>\n",
              "  </thead>\n",
              "  <tbody>\n",
              "    <tr>\n",
              "      <th>0</th>\n",
              "      <td>s1</td>\n",
              "      <td>TV Show</td>\n",
              "      <td>3%</td>\n",
              "      <td>NaN</td>\n",
              "      <td>João Miguel, Bianca Comparato, Michel Gomes, R...</td>\n",
              "      <td>Brazil</td>\n",
              "      <td>August 14, 2020</td>\n",
              "      <td>2020</td>\n",
              "      <td>TV-MA</td>\n",
              "      <td>4 Seasons</td>\n",
              "      <td>International TV Shows, TV Dramas, TV Sci-Fi &amp;...</td>\n",
              "      <td>In a future where the elite inhabit an island ...</td>\n",
              "    </tr>\n",
              "    <tr>\n",
              "      <th>1</th>\n",
              "      <td>s2</td>\n",
              "      <td>Movie</td>\n",
              "      <td>7:19</td>\n",
              "      <td>Jorge Michel Grau</td>\n",
              "      <td>Demián Bichir, Héctor Bonilla, Oscar Serrano, ...</td>\n",
              "      <td>Mexico</td>\n",
              "      <td>December 23, 2016</td>\n",
              "      <td>2016</td>\n",
              "      <td>TV-MA</td>\n",
              "      <td>93 min</td>\n",
              "      <td>Dramas, International Movies</td>\n",
              "      <td>After a devastating earthquake hits Mexico Cit...</td>\n",
              "    </tr>\n",
              "    <tr>\n",
              "      <th>2</th>\n",
              "      <td>s3</td>\n",
              "      <td>Movie</td>\n",
              "      <td>23:59</td>\n",
              "      <td>Gilbert Chan</td>\n",
              "      <td>Tedd Chan, Stella Chung, Henley Hii, Lawrence ...</td>\n",
              "      <td>Singapore</td>\n",
              "      <td>December 20, 2018</td>\n",
              "      <td>2011</td>\n",
              "      <td>R</td>\n",
              "      <td>78 min</td>\n",
              "      <td>Horror Movies, International Movies</td>\n",
              "      <td>When an army recruit is found dead, his fellow...</td>\n",
              "    </tr>\n",
              "    <tr>\n",
              "      <th>3</th>\n",
              "      <td>s4</td>\n",
              "      <td>Movie</td>\n",
              "      <td>9</td>\n",
              "      <td>Shane Acker</td>\n",
              "      <td>Elijah Wood, John C. Reilly, Jennifer Connelly...</td>\n",
              "      <td>United States</td>\n",
              "      <td>November 16, 2017</td>\n",
              "      <td>2009</td>\n",
              "      <td>PG-13</td>\n",
              "      <td>80 min</td>\n",
              "      <td>Action &amp; Adventure, Independent Movies, Sci-Fi...</td>\n",
              "      <td>In a postapocalyptic world, rag-doll robots hi...</td>\n",
              "    </tr>\n",
              "    <tr>\n",
              "      <th>4</th>\n",
              "      <td>s5</td>\n",
              "      <td>Movie</td>\n",
              "      <td>21</td>\n",
              "      <td>Robert Luketic</td>\n",
              "      <td>Jim Sturgess, Kevin Spacey, Kate Bosworth, Aar...</td>\n",
              "      <td>United States</td>\n",
              "      <td>January 1, 2020</td>\n",
              "      <td>2008</td>\n",
              "      <td>PG-13</td>\n",
              "      <td>123 min</td>\n",
              "      <td>Dramas</td>\n",
              "      <td>A brilliant group of students become card-coun...</td>\n",
              "    </tr>\n",
              "  </tbody>\n",
              "</table>\n",
              "</div>\n",
              "      <button class=\"colab-df-convert\" onclick=\"convertToInteractive('df-dc97ec1e-aa2b-4c67-8f53-0a73028723e2')\"\n",
              "              title=\"Convert this dataframe to an interactive table.\"\n",
              "              style=\"display:none;\">\n",
              "        \n",
              "  <svg xmlns=\"http://www.w3.org/2000/svg\" height=\"24px\"viewBox=\"0 0 24 24\"\n",
              "       width=\"24px\">\n",
              "    <path d=\"M0 0h24v24H0V0z\" fill=\"none\"/>\n",
              "    <path d=\"M18.56 5.44l.94 2.06.94-2.06 2.06-.94-2.06-.94-.94-2.06-.94 2.06-2.06.94zm-11 1L8.5 8.5l.94-2.06 2.06-.94-2.06-.94L8.5 2.5l-.94 2.06-2.06.94zm10 10l.94 2.06.94-2.06 2.06-.94-2.06-.94-.94-2.06-.94 2.06-2.06.94z\"/><path d=\"M17.41 7.96l-1.37-1.37c-.4-.4-.92-.59-1.43-.59-.52 0-1.04.2-1.43.59L10.3 9.45l-7.72 7.72c-.78.78-.78 2.05 0 2.83L4 21.41c.39.39.9.59 1.41.59.51 0 1.02-.2 1.41-.59l7.78-7.78 2.81-2.81c.8-.78.8-2.07 0-2.86zM5.41 20L4 18.59l7.72-7.72 1.47 1.35L5.41 20z\"/>\n",
              "  </svg>\n",
              "      </button>\n",
              "      \n",
              "  <style>\n",
              "    .colab-df-container {\n",
              "      display:flex;\n",
              "      flex-wrap:wrap;\n",
              "      gap: 12px;\n",
              "    }\n",
              "\n",
              "    .colab-df-convert {\n",
              "      background-color: #E8F0FE;\n",
              "      border: none;\n",
              "      border-radius: 50%;\n",
              "      cursor: pointer;\n",
              "      display: none;\n",
              "      fill: #1967D2;\n",
              "      height: 32px;\n",
              "      padding: 0 0 0 0;\n",
              "      width: 32px;\n",
              "    }\n",
              "\n",
              "    .colab-df-convert:hover {\n",
              "      background-color: #E2EBFA;\n",
              "      box-shadow: 0px 1px 2px rgba(60, 64, 67, 0.3), 0px 1px 3px 1px rgba(60, 64, 67, 0.15);\n",
              "      fill: #174EA6;\n",
              "    }\n",
              "\n",
              "    [theme=dark] .colab-df-convert {\n",
              "      background-color: #3B4455;\n",
              "      fill: #D2E3FC;\n",
              "    }\n",
              "\n",
              "    [theme=dark] .colab-df-convert:hover {\n",
              "      background-color: #434B5C;\n",
              "      box-shadow: 0px 1px 3px 1px rgba(0, 0, 0, 0.15);\n",
              "      filter: drop-shadow(0px 1px 2px rgba(0, 0, 0, 0.3));\n",
              "      fill: #FFFFFF;\n",
              "    }\n",
              "  </style>\n",
              "\n",
              "      <script>\n",
              "        const buttonEl =\n",
              "          document.querySelector('#df-dc97ec1e-aa2b-4c67-8f53-0a73028723e2 button.colab-df-convert');\n",
              "        buttonEl.style.display =\n",
              "          google.colab.kernel.accessAllowed ? 'block' : 'none';\n",
              "\n",
              "        async function convertToInteractive(key) {\n",
              "          const element = document.querySelector('#df-dc97ec1e-aa2b-4c67-8f53-0a73028723e2');\n",
              "          const dataTable =\n",
              "            await google.colab.kernel.invokeFunction('convertToInteractive',\n",
              "                                                     [key], {});\n",
              "          if (!dataTable) return;\n",
              "\n",
              "          const docLinkHtml = 'Like what you see? Visit the ' +\n",
              "            '<a target=\"_blank\" href=https://colab.research.google.com/notebooks/data_table.ipynb>data table notebook</a>'\n",
              "            + ' to learn more about interactive tables.';\n",
              "          element.innerHTML = '';\n",
              "          dataTable['output_type'] = 'display_data';\n",
              "          await google.colab.output.renderOutput(dataTable, element);\n",
              "          const docLink = document.createElement('div');\n",
              "          docLink.innerHTML = docLinkHtml;\n",
              "          element.appendChild(docLink);\n",
              "        }\n",
              "      </script>\n",
              "    </div>\n",
              "  </div>\n",
              "  "
            ]
          },
          "metadata": {},
          "execution_count": 7
        }
      ]
    },
    {
      "cell_type": "markdown",
      "source": [
        "### Dataset Rows & Columns count"
      ],
      "metadata": {
        "id": "7hBIi_osiCS2"
      }
    },
    {
      "cell_type": "code",
      "source": [
        "# Dataset Rows & Columns count\n",
        "df.shape"
      ],
      "metadata": {
        "id": "Kllu7SJgmLij",
        "colab": {
          "base_uri": "https://localhost:8080/"
        },
        "outputId": "0820f86e-8183-4cff-c161-bfa77a904165"
      },
      "execution_count": null,
      "outputs": [
        {
          "output_type": "execute_result",
          "data": {
            "text/plain": [
              "(7787, 12)"
            ]
          },
          "metadata": {},
          "execution_count": 8
        }
      ]
    },
    {
      "cell_type": "markdown",
      "source": [
        "### Dataset Information"
      ],
      "metadata": {
        "id": "JlHwYmJAmNHm"
      }
    },
    {
      "cell_type": "code",
      "source": [
        "# Dataset Info\n",
        "df.info()"
      ],
      "metadata": {
        "id": "e9hRXRi6meOf",
        "colab": {
          "base_uri": "https://localhost:8080/"
        },
        "outputId": "6476e611-289e-4fea-b0fd-27938cfcddef"
      },
      "execution_count": null,
      "outputs": [
        {
          "output_type": "stream",
          "name": "stdout",
          "text": [
            "<class 'pandas.core.frame.DataFrame'>\n",
            "RangeIndex: 7787 entries, 0 to 7786\n",
            "Data columns (total 12 columns):\n",
            " #   Column        Non-Null Count  Dtype \n",
            "---  ------        --------------  ----- \n",
            " 0   show_id       7787 non-null   object\n",
            " 1   type          7787 non-null   object\n",
            " 2   title         7787 non-null   object\n",
            " 3   director      5398 non-null   object\n",
            " 4   cast          7069 non-null   object\n",
            " 5   country       7280 non-null   object\n",
            " 6   date_added    7777 non-null   object\n",
            " 7   release_year  7787 non-null   int64 \n",
            " 8   rating        7780 non-null   object\n",
            " 9   duration      7787 non-null   object\n",
            " 10  listed_in     7787 non-null   object\n",
            " 11  description   7787 non-null   object\n",
            "dtypes: int64(1), object(11)\n",
            "memory usage: 730.2+ KB\n"
          ]
        }
      ]
    },
    {
      "cell_type": "markdown",
      "source": [
        "#### Duplicate Values"
      ],
      "metadata": {
        "id": "35m5QtbWiB9F"
      }
    },
    {
      "cell_type": "code",
      "source": [
        "# Dataset Duplicate Value Count\n",
        "df.duplicated().sum()"
      ],
      "metadata": {
        "id": "1sLdpKYkmox0",
        "colab": {
          "base_uri": "https://localhost:8080/"
        },
        "outputId": "348a833c-5b2a-4b1e-acb1-310b5dd720bb"
      },
      "execution_count": null,
      "outputs": [
        {
          "output_type": "execute_result",
          "data": {
            "text/plain": [
              "0"
            ]
          },
          "metadata": {},
          "execution_count": 10
        }
      ]
    },
    {
      "cell_type": "markdown",
      "source": [
        "#### Missing Values/Null Values"
      ],
      "metadata": {
        "id": "PoPl-ycgm1ru"
      }
    },
    {
      "cell_type": "code",
      "source": [
        "# Missing Values/Null Values Count\n",
        "df.isna().sum()"
      ],
      "metadata": {
        "id": "GgHWkxvamxVg",
        "colab": {
          "base_uri": "https://localhost:8080/"
        },
        "outputId": "acb16fb7-1e37-4bf0-dc4a-4786491c85d1"
      },
      "execution_count": null,
      "outputs": [
        {
          "output_type": "execute_result",
          "data": {
            "text/plain": [
              "show_id            0\n",
              "type               0\n",
              "title              0\n",
              "director        2389\n",
              "cast             718\n",
              "country          507\n",
              "date_added        10\n",
              "release_year       0\n",
              "rating             7\n",
              "duration           0\n",
              "listed_in          0\n",
              "description        0\n",
              "dtype: int64"
            ]
          },
          "metadata": {},
          "execution_count": 11
        }
      ]
    },
    {
      "cell_type": "code",
      "source": [
        "# Visualizing the missing values\n",
        "plt.figure(figsize=(12,6))\n",
        "sns.heatmap(df.isnull(),cbar=False,yticklabels=False,cmap='Greens');"
      ],
      "metadata": {
        "id": "3q5wnI3om9sJ",
        "colab": {
          "base_uri": "https://localhost:8080/",
          "height": 428
        },
        "outputId": "c74751d7-22a9-4a50-c03e-9deb3e470ab8"
      },
      "execution_count": null,
      "outputs": [
        {
          "output_type": "display_data",
          "data": {
            "text/plain": [
              "<Figure size 864x432 with 1 Axes>"
            ],
            "image/png": "[encoded data removed]"
          },
          "metadata": {
            "needs_background": "light"
          }
        }
      ]
    },
    {
      "cell_type": "code",
      "source": [
        "#HANDLING MISSING VALUES\n",
        "df['director'].fillna('unknown', inplace=True)\n",
        "df['cast'].fillna('unknown', inplace=True)\n",
        "df['country'].fillna('unknown', inplace=True)\n",
        "df['date_added'].fillna('unknown', inplace=True)\n",
        "df['rating'].fillna('unknown', inplace=True)\n",
        "     "
      ],
      "metadata": {
        "id": "1XB8V1QSmocC"
      },
      "execution_count": null,
      "outputs": []
    },
    {
      "cell_type": "markdown",
      "source": [
        "### What did you know about your dataset?"
      ],
      "metadata": {
        "id": "H0kj-8xxnORC"
      }
    },
    {
      "cell_type": "markdown",
      "source": [
        "There is a total of 7787 movies / TV shows that is rows and 12 columns in this dataset collected from AlmaBetter\n",
        "\n",
        "Each row contains the following information: type (Movie or TV Show), title, director, cast, country, rating (ex. PG, PG-13, R, etc.), listed_in (genre), and plot description.Answer Here\n",
        "\n",
        "We have 5 columns with missing values."
      ],
      "metadata": {
        "id": "gfoNAAC-nUe_"
      }
    },
    {
      "cell_type": "markdown",
      "source": [
        "## ***2. Understanding Your Variables***"
      ],
      "metadata": {
        "id": "nA9Y7ga8ng1Z"
      }
    },
    {
      "cell_type": "code",
      "source": [
        "# Dataset Columns\n",
        "df.columns"
      ],
      "metadata": {
        "id": "j7xfkqrt5Ag5",
        "colab": {
          "base_uri": "https://localhost:8080/"
        },
        "outputId": "14c2248e-e90c-4794-e238-f5e9e00f67a6"
      },
      "execution_count": null,
      "outputs": [
        {
          "output_type": "execute_result",
          "data": {
            "text/plain": [
              "Index(['show_id', 'type', 'title', 'director', 'cast', 'country', 'date_added',\n",
              "       'release_year', 'rating', 'duration', 'listed_in', 'description'],\n",
              "      dtype='object')"
            ]
          },
          "metadata": {},
          "execution_count": 14
        }
      ]
    },
    {
      "cell_type": "code",
      "source": [
        "# Dataset Describe\n",
        "df.describe(include = 'O').T"
      ],
      "metadata": {
        "id": "DnOaZdaE5Q5t",
        "colab": {
          "base_uri": "https://localhost:8080/",
          "height": 394
        },
        "outputId": "c5374843-382c-408c-b9f1-580ba59b9a34"
      },
      "execution_count": null,
      "outputs": [
        {
          "output_type": "execute_result",
          "data": {
            "text/plain": [
              "            count unique                                                top  \\\n",
              "show_id      7787   7787                                                 s1   \n",
              "type         7787      2                                              Movie   \n",
              "title        7787   7787                                                 3%   \n",
              "director     7787   4050                                            unknown   \n",
              "cast         7787   6832                                            unknown   \n",
              "country      7787    682                                      United States   \n",
              "date_added   7787   1566                                    January 1, 2020   \n",
              "rating       7787     15                                              TV-MA   \n",
              "duration     7787    216                                           1 Season   \n",
              "listed_in    7787    492                                      Documentaries   \n",
              "description  7787   7769  Multiple women report their husbands as missin...   \n",
              "\n",
              "             freq  \n",
              "show_id         1  \n",
              "type         5377  \n",
              "title           1  \n",
              "director     2389  \n",
              "cast          718  \n",
              "country      2555  \n",
              "date_added    118  \n",
              "rating       2863  \n",
              "duration     1608  \n",
              "listed_in     334  \n",
              "description     3  "
            ],
            "text/html": [
              "\n",
              "  <div id=\"df-bf812930-3fd3-4877-b44d-76af5b5b81f7\">\n",
              "    <div class=\"colab-df-container\">\n",
              "      <div>\n",
              "<style scoped>\n",
              "    .dataframe tbody tr th:only-of-type {\n",
              "        vertical-align: middle;\n",
              "    }\n",
              "\n",
              "    .dataframe tbody tr th {\n",
              "        vertical-align: top;\n",
              "    }\n",
              "\n",
              "    .dataframe thead th {\n",
              "        text-align: right;\n",
              "    }\n",
              "</style>\n",
              "<table border=\"1\" class=\"dataframe\">\n",
              "  <thead>\n",
              "    <tr style=\"text-align: right;\">\n",
              "      <th></th>\n",
              "      <th>count</th>\n",
              "      <th>unique</th>\n",
              "      <th>top</th>\n",
              "      <th>freq</th>\n",
              "    </tr>\n",
              "  </thead>\n",
              "  <tbody>\n",
              "    <tr>\n",
              "      <th>show_id</th>\n",
              "      <td>7787</td>\n",
              "      <td>7787</td>\n",
              "      <td>s1</td>\n",
              "      <td>1</td>\n",
              "    </tr>\n",
              "    <tr>\n",
              "      <th>type</th>\n",
              "      <td>7787</td>\n",
              "      <td>2</td>\n",
              "      <td>Movie</td>\n",
              "      <td>5377</td>\n",
              "    </tr>\n",
              "    <tr>\n",
              "      <th>title</th>\n",
              "      <td>7787</td>\n",
              "      <td>7787</td>\n",
              "      <td>3%</td>\n",
              "      <td>1</td>\n",
              "    </tr>\n",
              "    <tr>\n",
              "      <th>director</th>\n",
              "      <td>7787</td>\n",
              "      <td>4050</td>\n",
              "      <td>unknown</td>\n",
              "      <td>2389</td>\n",
              "    </tr>\n",
              "    <tr>\n",
              "      <th>cast</th>\n",
              "      <td>7787</td>\n",
              "      <td>6832</td>\n",
              "      <td>unknown</td>\n",
              "      <td>718</td>\n",
              "    </tr>\n",
              "    <tr>\n",
              "      <th>country</th>\n",
              "      <td>7787</td>\n",
              "      <td>682</td>\n",
              "      <td>United States</td>\n",
              "      <td>2555</td>\n",
              "    </tr>\n",
              "    <tr>\n",
              "      <th>date_added</th>\n",
              "      <td>7787</td>\n",
              "      <td>1566</td>\n",
              "      <td>January 1, 2020</td>\n",
              "      <td>118</td>\n",
              "    </tr>\n",
              "    <tr>\n",
              "      <th>rating</th>\n",
              "      <td>7787</td>\n",
              "      <td>15</td>\n",
              "      <td>TV-MA</td>\n",
              "      <td>2863</td>\n",
              "    </tr>\n",
              "    <tr>\n",
              "      <th>duration</th>\n",
              "      <td>7787</td>\n",
              "      <td>216</td>\n",
              "      <td>1 Season</td>\n",
              "      <td>1608</td>\n",
              "    </tr>\n",
              "    <tr>\n",
              "      <th>listed_in</th>\n",
              "      <td>7787</td>\n",
              "      <td>492</td>\n",
              "      <td>Documentaries</td>\n",
              "      <td>334</td>\n",
              "    </tr>\n",
              "    <tr>\n",
              "      <th>description</th>\n",
              "      <td>7787</td>\n",
              "      <td>7769</td>\n",
              "      <td>Multiple women report their husbands as missin...</td>\n",
              "      <td>3</td>\n",
              "    </tr>\n",
              "  </tbody>\n",
              "</table>\n",
              "</div>\n",
              "      <button class=\"colab-df-convert\" onclick=\"convertToInteractive('df-bf812930-3fd3-4877-b44d-76af5b5b81f7')\"\n",
              "              title=\"Convert this dataframe to an interactive table.\"\n",
              "              style=\"display:none;\">\n",
              "        \n",
              "  <svg xmlns=\"http://www.w3.org/2000/svg\" height=\"24px\"viewBox=\"0 0 24 24\"\n",
              "       width=\"24px\">\n",
              "    <path d=\"M0 0h24v24H0V0z\" fill=\"none\"/>\n",
              "    <path d=\"M18.56 5.44l.94 2.06.94-2.06 2.06-.94-2.06-.94-.94-2.06-.94 2.06-2.06.94zm-11 1L8.5 8.5l.94-2.06 2.06-.94-2.06-.94L8.5 2.5l-.94 2.06-2.06.94zm10 10l.94 2.06.94-2.06 2.06-.94-2.06-.94-.94-2.06-.94 2.06-2.06.94z\"/><path d=\"M17.41 7.96l-1.37-1.37c-.4-.4-.92-.59-1.43-.59-.52 0-1.04.2-1.43.59L10.3 9.45l-7.72 7.72c-.78.78-.78 2.05 0 2.83L4 21.41c.39.39.9.59 1.41.59.51 0 1.02-.2 1.41-.59l7.78-7.78 2.81-2.81c.8-.78.8-2.07 0-2.86zM5.41 20L4 18.59l7.72-7.72 1.47 1.35L5.41 20z\"/>\n",
              "  </svg>\n",
              "      </button>\n",
              "      \n",
              "  <style>\n",
              "    .colab-df-container {\n",
              "      display:flex;\n",
              "      flex-wrap:wrap;\n",
              "      gap: 12px;\n",
              "    }\n",
              "\n",
              "    .colab-df-convert {\n",
              "      background-color: #E8F0FE;\n",
              "      border: none;\n",
              "      border-radius: 50%;\n",
              "      cursor: pointer;\n",
              "      display: none;\n",
              "      fill: #1967D2;\n",
              "      height: 32px;\n",
              "      padding: 0 0 0 0;\n",
              "      width: 32px;\n",
              "    }\n",
              "\n",
              "    .colab-df-convert:hover {\n",
              "      background-color: #E2EBFA;\n",
              "      box-shadow: 0px 1px 2px rgba(60, 64, 67, 0.3), 0px 1px 3px 1px rgba(60, 64, 67, 0.15);\n",
              "      fill: #174EA6;\n",
              "    }\n",
              "\n",
              "    [theme=dark] .colab-df-convert {\n",
              "      background-color: #3B4455;\n",
              "      fill: #D2E3FC;\n",
              "    }\n",
              "\n",
              "    [theme=dark] .colab-df-convert:hover {\n",
              "      background-color: #434B5C;\n",
              "      box-shadow: 0px 1px 3px 1px rgba(0, 0, 0, 0.15);\n",
              "      filter: drop-shadow(0px 1px 2px rgba(0, 0, 0, 0.3));\n",
              "      fill: #FFFFFF;\n",
              "    }\n",
              "  </style>\n",
              "\n",
              "      <script>\n",
              "        const buttonEl =\n",
              "          document.querySelector('#df-bf812930-3fd3-4877-b44d-76af5b5b81f7 button.colab-df-convert');\n",
              "        buttonEl.style.display =\n",
              "          google.colab.kernel.accessAllowed ? 'block' : 'none';\n",
              "\n",
              "        async function convertToInteractive(key) {\n",
              "          const element = document.querySelector('#df-bf812930-3fd3-4877-b44d-76af5b5b81f7');\n",
              "          const dataTable =\n",
              "            await google.colab.kernel.invokeFunction('convertToInteractive',\n",
              "                                                     [key], {});\n",
              "          if (!dataTable) return;\n",
              "\n",
              "          const docLinkHtml = 'Like what you see? Visit the ' +\n",
              "            '<a target=\"_blank\" href=https://colab.research.google.com/notebooks/data_table.ipynb>data table notebook</a>'\n",
              "            + ' to learn more about interactive tables.';\n",
              "          element.innerHTML = '';\n",
              "          dataTable['output_type'] = 'display_data';\n",
              "          await google.colab.output.renderOutput(dataTable, element);\n",
              "          const docLink = document.createElement('div');\n",
              "          docLink.innerHTML = docLinkHtml;\n",
              "          element.appendChild(docLink);\n",
              "        }\n",
              "      </script>\n",
              "    </div>\n",
              "  </div>\n",
              "  "
            ]
          },
          "metadata": {},
          "execution_count": 15
        }
      ]
    },
    {
      "cell_type": "markdown",
      "source": [
        "### Variables Description \n"
      ],
      "metadata": {
        "id": "PBTbrJXOngz2"
      }
    },
    {
      "cell_type": "markdown",
      "source": [
        "The dataset consists of listings of all the movies and tv shows available on Netflix, along with details such as - cast, directors, ratings, release year, duration, etc\n",
        "\n",
        "show_id : Unique ID for every Movie / Tv Show\n",
        "\n",
        "type : Identifier - A Movie or TV Show\n",
        "\n",
        "title : Title of the Movie / Tv Show\n",
        "\n",
        "director : Director of the Movie\n",
        "\n",
        "cast : Actors involved in the movie / show\n",
        "\n",
        "country : Country where the movie / show was produced\n",
        "\n",
        "date_added : Date it was added on Netflix\n",
        "\n",
        "release_year : Actual Release Year of the movie / show\n",
        "\n",
        "rating : TV Rating of the movie / show\n",
        "\n",
        "duration : Total Duration - in minutes or number of seasons\n",
        "\n",
        "listed_in : Genre\n",
        "\n",
        "description: The Summary description\n",
        "Answer Here"
      ],
      "metadata": {
        "id": "aJV4KIxSnxay"
      }
    },
    {
      "cell_type": "markdown",
      "source": [
        "### Check Unique Values for each variable."
      ],
      "metadata": {
        "id": "u3PMJOP6ngxN"
      }
    },
    {
      "cell_type": "code",
      "source": [
        "# Check Unique Values for each variable.\n",
        "df.nunique()"
      ],
      "metadata": {
        "id": "zms12Yq5n-jE",
        "colab": {
          "base_uri": "https://localhost:8080/"
        },
        "outputId": "81253878-ee2f-4735-a2ec-4f6867329b9c"
      },
      "execution_count": null,
      "outputs": [
        {
          "output_type": "execute_result",
          "data": {
            "text/plain": [
              "show_id         7787\n",
              "type               2\n",
              "title           7787\n",
              "director        4050\n",
              "cast            6832\n",
              "country          682\n",
              "date_added      1566\n",
              "release_year      73\n",
              "rating            15\n",
              "duration         216\n",
              "listed_in        492\n",
              "description     7769\n",
              "dtype: int64"
            ]
          },
          "metadata": {},
          "execution_count": 16
        }
      ]
    },
    {
      "cell_type": "markdown",
      "source": [
        "## 3. ***Data Wrangling***"
      ],
      "metadata": {
        "id": "dauF4eBmngu3"
      }
    },
    {
      "cell_type": "markdown",
      "source": [
        "### Data Wrangling Code"
      ],
      "metadata": {
        "id": "bKJF3rekwFvQ"
      }
    },
    {
      "cell_type": "code",
      "source": [
        "# Write your code to make your dataset analysis ready.\n",
        "# CONVERTING 'date_added' to datetime format\n",
        "def date(row):\n",
        "  a = row['date_added']\n",
        "  if 'unknown'  not in a:\n",
        "    month = a.split()[0]\n",
        "    year = a.split()[-1]\n",
        "    day = a.split()[1].split(',')[0]\n",
        "    a = dt.datetime.strptime(f'{month[:3]} {day} {year}' , '%b %d %Y')\n",
        "    return a\n",
        "  else:\n",
        "    return np.nan\n",
        "\n",
        "df['date_added'] = df.apply(lambda x: date(x), axis=1)"
      ],
      "metadata": {
        "id": "wk-9a2fpoLcV"
      },
      "execution_count": null,
      "outputs": []
    },
    {
      "cell_type": "markdown",
      "source": [
        "## FEATURE ENGINEERING LISTED_IN \n"
      ],
      "metadata": {
        "id": "vWMRh7X-m56F"
      }
    },
    {
      "cell_type": "code",
      "source": [
        "a = df.copy()"
      ],
      "metadata": {
        "id": "HXVdmlHwm9gg"
      },
      "execution_count": null,
      "outputs": []
    },
    {
      "cell_type": "code",
      "source": [
        "a['listed_in'] = a.listed_in.apply(lambda row: row.split(', '))\n",
        "a.explode('listed_in')['listed_in'].unique()"
      ],
      "metadata": {
        "colab": {
          "base_uri": "https://localhost:8080/"
        },
        "id": "NHkX8a2ZnF1C",
        "outputId": "6aa772ee-d3af-4e5a-9d11-370d88c8e881"
      },
      "execution_count": null,
      "outputs": [
        {
          "output_type": "execute_result",
          "data": {
            "text/plain": [
              "array(['International TV Shows', 'TV Dramas', 'TV Sci-Fi & Fantasy',\n",
              "       'Dramas', 'International Movies', 'Horror Movies',\n",
              "       'Action & Adventure', 'Independent Movies', 'Sci-Fi & Fantasy',\n",
              "       'TV Mysteries', 'Thrillers', 'Crime TV Shows', 'Docuseries',\n",
              "       'Documentaries', 'Sports Movies', 'Comedies', 'Anime Series',\n",
              "       'Reality TV', 'TV Comedies', 'Romantic Movies',\n",
              "       'Romantic TV Shows', 'Science & Nature TV', 'Movies',\n",
              "       'British TV Shows', 'Korean TV Shows', 'Music & Musicals',\n",
              "       'LGBTQ Movies', 'Faith & Spirituality', \"Kids' TV\",\n",
              "       'TV Action & Adventure', 'Spanish-Language TV Shows',\n",
              "       'Children & Family Movies', 'TV Shows', 'Classic Movies',\n",
              "       'Cult Movies', 'TV Horror', 'Stand-Up Comedy & Talk Shows',\n",
              "       'Teen TV Shows', 'Stand-Up Comedy', 'Anime Features',\n",
              "       'TV Thrillers', 'Classic & Cult TV'], dtype=object)"
            ]
          },
          "metadata": {},
          "execution_count": 19
        }
      ]
    },
    {
      "cell_type": "code",
      "source": [
        "replacing_genre = {'International TV Shows': '-',\n",
        "                   'TV Dramas': 'Drama',\n",
        "                   'TV Sci-Fi & Fantasy': 'SciFiFantasy',\n",
        "                   'Dramas': 'Drama' ,\n",
        "                   'International Movies': '-',\n",
        "                   'Horror Movies': 'Horror',\n",
        "                   'Action & Adventure': 'ActionAdventure',\n",
        "                   'Independent Movies': '-',\n",
        "                   'Sci-Fi & Fantasy': 'SciFiFantasy',\n",
        "                  'TV Mysteries': 'Mystery'       ,\n",
        "                  'Thrillers': 'Thriller',\n",
        "                   'Crime TV Shows': 'Crime',\n",
        "                   'Docuseries': 'Documentary',\n",
        "                  'Documentaries': 'Documentary', 'Sports Movies': 'Sports',\n",
        "                   'Comedies':'Comedy',\n",
        "                   'Anime Series': 'Anime',\n",
        "                  'Reality TV': 'Reality',\n",
        "                   'TV Comedies': 'Comedy',\n",
        "                   'Romantic Movies': 'Romance',\n",
        "                  'Romantic TV Shows': 'Romance', \n",
        "                   'Science & Nature TV': 'Science',\n",
        "                   'Movies': '-',\n",
        "                  'British TV Shows': '-',\n",
        "                   'Korean TV Shows': '-',\n",
        "                   'Music & Musicals': 'Music',\n",
        "                  'LGBTQ Movies': 'LGBTQ',\n",
        "                   'Faith & Spirituality': 'Spirituality', \n",
        "                   \"Kids' TV\": 'Kids',\n",
        "                  'TV Action & Adventure': 'ActionAdventure',\n",
        "                   'Spanish-Language TV Shows': '-',\n",
        "                  'Children & Family Movies': 'Family', \n",
        "                   'TV Shows': '-',\n",
        "                   'Classic Movies': 'Classic',\n",
        "                  'Cult Movies': 'Cult',\n",
        "                   'TV Horror': 'Horror',\n",
        "                   'Stand-Up Comedy & Talk Shows':'Comedy, TalkShow',\n",
        "                  'Teen TV Shows': 'Teen', 'Stand-Up Comedy':'Comedy', \n",
        "                   'Anime Features':'Anime',\n",
        "                  'TV Thrillers': 'Thriller',\n",
        "                   'Classic & Cult TV':'Classic, Cult'}"
      ],
      "metadata": {
        "id": "yggcehdonc9Y"
      },
      "execution_count": null,
      "outputs": []
    },
    {
      "cell_type": "code",
      "source": [
        "def genre_replace(row, replacing_genre = replacing_genre):\n",
        "  new_text = []\n",
        " \n",
        "  for word in (row['listed_in']):\n",
        "    if word in replacing_genre:\n",
        "      if '-' not in replacing_genre[word]:\n",
        "       new_text.append(replacing_genre[word])\n",
        "    else:\n",
        "      print(word, 'not present in dictionary')\n",
        "\n",
        "  return(', '.join(new_text))\n",
        "  \n",
        "\n",
        "df['Genres'] = a.apply(lambda row: genre_replace(row),axis=1)\n",
        "df['Genres'] = df['Genres'].apply(lambda row: row.split(', '))\n",
        "     "
      ],
      "metadata": {
        "id": "9M4hb6gOngiq"
      },
      "execution_count": null,
      "outputs": []
    },
    {
      "cell_type": "code",
      "source": [
        "(df.explode('Genres')['Genres'].unique())"
      ],
      "metadata": {
        "colab": {
          "base_uri": "https://localhost:8080/"
        },
        "id": "tljZHEYCnoCB",
        "outputId": "47e3694a-d8c3-4489-88e1-dc9f9feb8511"
      },
      "execution_count": null,
      "outputs": [
        {
          "output_type": "execute_result",
          "data": {
            "text/plain": [
              "array(['Drama', 'SciFiFantasy', 'Horror', 'ActionAdventure', 'Mystery',\n",
              "       'Thriller', 'Crime', 'Documentary', 'Sports', 'Comedy', 'Anime',\n",
              "       'Reality', 'Romance', 'Science', '', 'Music', 'LGBTQ',\n",
              "       'Spirituality', 'Kids', 'Family', 'Classic', 'Cult', 'TalkShow',\n",
              "       'Teen'], dtype=object)"
            ]
          },
          "metadata": {},
          "execution_count": 22
        }
      ]
    },
    {
      "cell_type": "markdown",
      "source": [
        "### What all manipulations have you done and insights you found?"
      ],
      "metadata": {
        "id": "MSa1f5Uengrz"
      }
    },
    {
      "cell_type": "markdown",
      "source": [
        "Converted date added to date time format\n",
        "\n",
        "FEATURE ENGINEERING LISTED_IN Genres are extracted and re-defined accordingly. TV and Movie genres are separately defined. These are combined. Topics like International TV Shows are removed as it could bring in a bias by displaying content in reference to American movies."
      ],
      "metadata": {
        "id": "LbyXE7I1olp8"
      }
    },
    {
      "cell_type": "markdown",
      "source": [
        "## ***4. Data Vizualization, Storytelling & Experimenting with charts : Understand the relationships between variables***"
      ],
      "metadata": {
        "id": "GF8Ens_Soomf"
      }
    },
    {
      "cell_type": "markdown",
      "source": [
        "#### Chart - 1"
      ],
      "metadata": {
        "id": "0wOQAZs5pc--"
      }
    },
    {
      "cell_type": "code",
      "source": [
        "# Chart - 1 visualization code\n",
        "#Histogram plot of release dates of shows/movies on Netflix\n",
        "a = plt.figure(figsize=(14,8))\n",
        "a = sns.displot(x='release_year', hue = 'type', data = df, kind = 'hist', height=10, aspect=2, bins = 50, multiple='dodge', palette='GnBu')\n",
        "a = plt.xticks(ticks= np.arange(df.release_year.min(),df.release_year.max()+1,1), rotation = 90)\n",
        "a = plt.title('Distribution of Movie/Shows Release Dates')\n",
        "a = plt.xlabel('Release Year')"
      ],
      "metadata": {
        "id": "7v_ESjsspbW7",
        "colab": {
          "base_uri": "https://localhost:8080/",
          "height": 728
        },
        "outputId": "ba0192fb-065d-4642-c09c-e69132c0ab2e"
      },
      "execution_count": null,
      "outputs": [
        {
          "output_type": "display_data",
          "data": {
            "text/plain": [
              "<Figure size 1008x576 with 0 Axes>"
            ]
          },
          "metadata": {}
        },
        {
          "output_type": "display_data",
          "data": {
            "text/plain": [
              "<Figure size 1518.75x720 with 1 Axes>"
            ],
            "image/png": "[encoded data removed]"
          },
          "metadata": {
            "needs_background": "light"
          }
        }
      ]
    },
    {
      "cell_type": "markdown",
      "source": [
        "##### 1. Why did you pick the specific chart?"
      ],
      "metadata": {
        "id": "K5QZ13OEpz2H"
      }
    },
    {
      "cell_type": "markdown",
      "source": [
        "The histogram is a popular graphing tool. It is used to summarize discrete or continuous data that are measured on an interval scale. It is often used to illustrate the major features of the distribution of the data in a convenient form."
      ],
      "metadata": {
        "id": "XESiWehPqBRc"
      }
    },
    {
      "cell_type": "markdown",
      "source": [
        "##### 2. What is/are the insight(s) found from the chart?"
      ],
      "metadata": {
        "id": "lQ7QKXXCp7Bj"
      }
    },
    {
      "cell_type": "markdown",
      "source": [
        "Most Movies streaming on the platform were released after 2010\n",
        "Most TV Shows streaming on the platform were released after 2015\n",
        "The year 2017 had highest number of Movie and TV show releases on the platform."
      ],
      "metadata": {
        "id": "C_j1G7yiqdRP"
      }
    },
    {
      "cell_type": "markdown",
      "source": [
        "##### 3. Will the gained insights help creating a positive business impact? \n",
        "Are there any insights that lead to negative growth? Justify with specific reason."
      ],
      "metadata": {
        "id": "448CDAPjqfQr"
      }
    },
    {
      "cell_type": "markdown",
      "source": [
        "From the histogram plot we can see that the number of movies and tv shows are increasing in netflix platform and there is increasing trend during pandemic times."
      ],
      "metadata": {
        "id": "3cspy4FjqxJW"
      }
    },
    {
      "cell_type": "markdown",
      "source": [
        "#### Chart - 2"
      ],
      "metadata": {
        "id": "KSlN3yHqYklG"
      }
    },
    {
      "cell_type": "code",
      "source": [
        "# Chart - 2 visualization code\n",
        "#Histogram plot of dates of number of shows/movies added by the Streaming giant\n",
        "a = plt.figure(figsize=(14,8))\n",
        "a = sns.displot(x= df['date_added'], hue = 'type', data = df, kind = 'hist', height=10, aspect=2, bins = 50, multiple='dodge', palette='GnBu')\n",
        "a = plt.title('Number of Movie/Shows Added by Year')\n",
        "a = plt.xlabel('Added Year')"
      ],
      "metadata": {
        "id": "R4YgtaqtYklH",
        "colab": {
          "base_uri": "https://localhost:8080/",
          "height": 713
        },
        "outputId": "96e3f3e9-e956-4a75-8be3-40ddc65441c3"
      },
      "execution_count": null,
      "outputs": [
        {
          "output_type": "display_data",
          "data": {
            "text/plain": [
              "<Figure size 1008x576 with 0 Axes>"
            ]
          },
          "metadata": {}
        },
        {
          "output_type": "display_data",
          "data": {
            "text/plain": [
              "<Figure size 1518.75x720 with 1 Axes>"
            ],
            "image/png": "[encoded data removed]"
          },
          "metadata": {
            "needs_background": "light"
          }
        }
      ]
    },
    {
      "cell_type": "markdown",
      "source": [
        "##### 1. Why did you pick the specific chart?"
      ],
      "metadata": {
        "id": "t6dVpIINYklI"
      }
    },
    {
      "cell_type": "markdown",
      "source": [
        " It is used to summarize discrete or continuous data that are measured on an interval scale. It is often used to illustrate the major features of the distribution of the data in a convenient form."
      ],
      "metadata": {
        "id": "5aaW0BYyYklI"
      }
    },
    {
      "cell_type": "markdown",
      "source": [
        "##### 2. What is/are the insight(s) found from the chart?"
      ],
      "metadata": {
        "id": "ijmpgYnKYklI"
      }
    },
    {
      "cell_type": "markdown",
      "source": [
        "Netflix began adding videos to the platform from 2008 The streaming giant started aggressively adding movies and TV shows from 2017 More movies are added as compared to TV shows"
      ],
      "metadata": {
        "id": "PSx9atu2YklI"
      }
    },
    {
      "cell_type": "markdown",
      "source": [
        "##### 3. Will the gained insights help creating a positive business impact? \n",
        "Are there any insights that lead to negative growth? Justify with specific reason."
      ],
      "metadata": {
        "id": "-JiQyfWJYklI"
      }
    },
    {
      "cell_type": "markdown",
      "source": [
        "We can see that tv series are increasing trend as compared to movies , which are in reducing trend."
      ],
      "metadata": {
        "id": "BcBbebzrYklV"
      }
    },
    {
      "cell_type": "markdown",
      "source": [
        "#### Chart - 3"
      ],
      "metadata": {
        "id": "EM7whBJCYoAo"
      }
    },
    {
      "cell_type": "code",
      "source": [
        "# Chart - 3 visualization code\n",
        "#Type of Videos on Netflix\n",
        "a = plt.figure(figsize=(14,8))\n",
        "a = sns.countplot(x= df['type'], data = df,palette='icefire')\n",
        "a = plt.title('Types of Video Entertainment on Netflix ')\n",
        "a = plt.xlabel('Type')\n",
        "a = plt.ylabel('Number of Shows / Movies')"
      ],
      "metadata": {
        "id": "t6GMdE67YoAp",
        "colab": {
          "base_uri": "https://localhost:8080/",
          "height": 513
        },
        "outputId": "11d3b7a0-36eb-485f-c34b-c6f917dc0d5c"
      },
      "execution_count": null,
      "outputs": [
        {
          "output_type": "display_data",
          "data": {
            "text/plain": [
              "<Figure size 1008x576 with 1 Axes>"
            ],
            "image/png": "[encoded data removed]"
          },
          "metadata": {
            "needs_background": "light"
          }
        }
      ]
    },
    {
      "cell_type": "markdown",
      "source": [
        "##### 1. Why did you pick the specific chart?"
      ],
      "metadata": {
        "id": "fge-S5ZAYoAp"
      }
    },
    {
      "cell_type": "markdown",
      "source": [
        "A count plot Show the counts of observations in each categorical bin using bars."
      ],
      "metadata": {
        "id": "5dBItgRVYoAp"
      }
    },
    {
      "cell_type": "markdown",
      "source": [
        "##### 2. What is/are the insight(s) found from the chart?"
      ],
      "metadata": {
        "id": "85gYPyotYoAp"
      }
    },
    {
      "cell_type": "markdown",
      "source": [
        "Show the counts of observations in each categorical bin using bars."
      ],
      "metadata": {
        "id": "4jstXR6OYoAp"
      }
    },
    {
      "cell_type": "markdown",
      "source": [
        "##### 3. Will the gained insights help creating a positive business impact? \n",
        "Are there any insights that lead to negative growth? Justify with specific reason."
      ],
      "metadata": {
        "id": "RoGjAbkUYoAp"
      }
    },
    {
      "cell_type": "markdown",
      "source": [
        "So we can see that netflix is focusing more on movies as compared to the tv series and in future also this trend might continue."
      ],
      "metadata": {
        "id": "zfJ8IqMcYoAp"
      }
    },
    {
      "cell_type": "markdown",
      "source": [
        "#### Chart - 4"
      ],
      "metadata": {
        "id": "4Of9eVA-YrdM"
      }
    },
    {
      "cell_type": "code",
      "source": [
        "# Chart - 4 visualization code\n",
        "#Different Ratings on the Platform\n",
        "a = plt.figure(figsize=(14,8))\n",
        "d = df.groupby('rating').agg({'show_id':'count'}).reset_index()\n",
        "a = sns.barplot(x= d['rating'], y=d['show_id'], palette='bone')\n",
        "a = plt.title('Ratings Distribution of Movies and Shows on Netflix')\n",
        "a = plt.xlabel('Ratings')\n",
        "a = plt.ylabel('Number of Videos')"
      ],
      "metadata": {
        "id": "irlUoxc8YrdO",
        "colab": {
          "base_uri": "https://localhost:8080/",
          "height": 513
        },
        "outputId": "4cdf3354-f093-4101-f40e-aeb387f1b070"
      },
      "execution_count": null,
      "outputs": [
        {
          "output_type": "display_data",
          "data": {
            "text/plain": [
              "<Figure size 1008x576 with 1 Axes>"
            ],
            "image/png": "[encoded data removed]"
          },
          "metadata": {
            "needs_background": "light"
          }
        }
      ]
    },
    {
      "cell_type": "markdown",
      "source": [
        "##### 1. Why did you pick the specific chart?"
      ],
      "metadata": {
        "id": "iky9q4vBYrdO"
      }
    },
    {
      "cell_type": "markdown",
      "source": [
        "A bar chart or bar graph is a chart or graph that presents categorical data with rectangular bars with heights or lengths proportional to the values that they represent"
      ],
      "metadata": {
        "id": "aJRCwT6DYrdO"
      }
    },
    {
      "cell_type": "markdown",
      "source": [
        "##### 2. What is/are the insight(s) found from the chart?"
      ],
      "metadata": {
        "id": "F6T5p64dYrdO"
      }
    },
    {
      "cell_type": "markdown",
      "source": [
        "Most content on Netflix is rated for Mature Audiences and over 14 years old"
      ],
      "metadata": {
        "id": "Xx8WAJvtYrdO"
      }
    },
    {
      "cell_type": "markdown",
      "source": [
        "##### 3. Will the gained insights help creating a positive business impact? \n",
        "Are there any insights that lead to negative growth? Justify with specific reason."
      ],
      "metadata": {
        "id": "y-Ehk30pYrdP"
      }
    },
    {
      "cell_type": "markdown",
      "source": [
        "Netflix is targeting the older people as compared to the younger generation.\n",
        "Netflix should try to focus more on younger audiances."
      ],
      "metadata": {
        "id": "jLNxxz7MYrdP"
      }
    },
    {
      "cell_type": "markdown",
      "source": [
        "#### Chart - 5"
      ],
      "metadata": {
        "id": "bamQiAODYuh1"
      }
    },
    {
      "cell_type": "code",
      "source": [
        "# Chart - 5 visualization code\n",
        "#Top 10 Countries that produced content on Netflix\n",
        "a = df[df.country != 'unknown'].loc[:,['show_id','title','country', 'listed_in']].copy()\n",
        "countrylist = (a['country'].to_list())\n",
        "\n",
        "newlist = []\n",
        "for country in countrylist:\n",
        "  if ',' in country:\n",
        "    a = country.split(', ')\n",
        "    newlist = newlist + a\n",
        "  else:\n",
        "    newlist.append(country)\n",
        "\n",
        "country_list = pd.DataFrame({'country' : newlist, 'id':np.arange(0,len(newlist),1)})\n",
        "a = country_list.groupby('country').agg({'id':'count'}).sort_values('id', ascending= False).head(20).reset_index()\n",
        "plt.figure(figsize=(15,10))\n",
        "a = sns.barplot(y = 'country', x = 'id',data = a , palette='icefire')\n",
        "a = plt.title('Movies/Show numbers produced in Countries')\n",
        "a = plt.ylabel('Country')\n",
        "a = plt.xlabel('Number of Videos')\n",
        "top10countries = country_list.groupby('country').agg({'id':'count'}).sort_values('id', ascending= False).head(10).reset_index()['country'].unique()"
      ],
      "metadata": {
        "id": "TIJwrbroYuh3",
        "colab": {
          "base_uri": "https://localhost:8080/",
          "height": 621
        },
        "outputId": "5bf298d4-46f7-4cee-8162-b63d4ef06c00"
      },
      "execution_count": null,
      "outputs": [
        {
          "output_type": "display_data",
          "data": {
            "text/plain": [
              "<Figure size 1080x720 with 1 Axes>"
            ],
            "image/png": "[encoded data removed]"
          },
          "metadata": {
            "needs_background": "light"
          }
        }
      ]
    },
    {
      "cell_type": "markdown",
      "source": [
        "##### 1. Why did you pick the specific chart?"
      ],
      "metadata": {
        "id": "QHF8YVU7Yuh3"
      }
    },
    {
      "cell_type": "markdown",
      "source": [
        "A bar chart or bar graph is a chart or graph that presents categorical data with rectangular bars it can be used to compare different values."
      ],
      "metadata": {
        "id": "dcxuIMRPYuh3"
      }
    },
    {
      "cell_type": "markdown",
      "source": [
        "##### 2. What is/are the insight(s) found from the chart?"
      ],
      "metadata": {
        "id": "GwzvFGzlYuh3"
      }
    },
    {
      "cell_type": "markdown",
      "source": [
        "Top Countries in Netflix are:\n",
        "\n",
        "1.United States 2.India 3.United Kingdom 4.Canada 5.France"
      ],
      "metadata": {
        "id": "uyqkiB8YYuh3"
      }
    },
    {
      "cell_type": "markdown",
      "source": [
        "##### 3. Will the gained insights help creating a positive business impact? \n",
        "Are there any insights that lead to negative growth? Justify with specific reason."
      ],
      "metadata": {
        "id": "qYpmQ266Yuh3"
      }
    },
    {
      "cell_type": "markdown",
      "source": [
        "Majority of videos are produced in usa and then india so netflix should try to target other regions too ."
      ],
      "metadata": {
        "id": "_WtzZ_hCYuh4"
      }
    },
    {
      "cell_type": "markdown",
      "source": [
        "#### Chart - 6"
      ],
      "metadata": {
        "id": "OH-pJp9IphqM"
      }
    },
    {
      "cell_type": "code",
      "source": [
        "# Chart - 6 visualization code\n",
        "#Top Genres on Netflix\n",
        "a = df.loc[:,['show_id','title','country', 'Genres']].copy()\n",
        "a = a.explode('Genres')\n",
        "genre_list = a.Genres.unique()\n",
        "group = a.groupby('Genres').agg(count = ('show_id','count')).sort_values('count', ascending= False).reset_index()\n",
        "plt.figure(figsize=(15,10))\n",
        "_ = sns.barplot(y = 'Genres', x = 'count',data = group , palette='inferno')"
      ],
      "metadata": {
        "id": "kuRf4wtuphqN",
        "colab": {
          "base_uri": "https://localhost:8080/",
          "height": 606
        },
        "outputId": "fe33b573-3cbd-44f4-d77d-e65e7821b4fb"
      },
      "execution_count": null,
      "outputs": [
        {
          "output_type": "display_data",
          "data": {
            "text/plain": [
              "<Figure size 1080x720 with 1 Axes>"
            ],
            "image/png": "[encoded data removed]"
          },
          "metadata": {
            "needs_background": "light"
          }
        }
      ]
    },
    {
      "cell_type": "markdown",
      "source": [
        "##### 1. Why did you pick the specific chart?"
      ],
      "metadata": {
        "id": "bbFf2-_FphqN"
      }
    },
    {
      "cell_type": "markdown",
      "source": [
        "A bar chart or bar graph is a chart or graph that presents categorical data with rectangular bars and we wanted to know which genre is most in demand so its best to show it."
      ],
      "metadata": {
        "id": "loh7H2nzphqN"
      }
    },
    {
      "cell_type": "markdown",
      "source": [
        "##### 2. What is/are the insight(s) found from the chart?"
      ],
      "metadata": {
        "id": "_ouA3fa0phqN"
      }
    },
    {
      "cell_type": "markdown",
      "source": [
        " Top Genres in Netflix are:\n",
        "\n",
        "1.Drama 2.Comedy 3.Documentary 4.Action and Adventure 5.Romance"
      ],
      "metadata": {
        "id": "VECbqPI7phqN"
      }
    },
    {
      "cell_type": "markdown",
      "source": [
        "##### 3. Will the gained insights help creating a positive business impact? \n",
        "Are there any insights that lead to negative growth? Justify with specific reason."
      ],
      "metadata": {
        "id": "Seke61FWphqN"
      }
    },
    {
      "cell_type": "markdown",
      "source": [
        "Netflix should need to target other genres too so as to get high viewership and get wide range of audiances"
      ],
      "metadata": {
        "id": "DW4_bGpfphqN"
      }
    },
    {
      "cell_type": "markdown",
      "source": [
        "#### Chart - 7"
      ],
      "metadata": {
        "id": "PIIx-8_IphqN"
      }
    },
    {
      "cell_type": "code",
      "source": [
        "# Chart - 7 visualization code\n",
        "#Frequent Directors on Netflix\n",
        "a=df[df.director != 'unknown'].loc[:,['show_id','title','director', 'cast']].copy()\n",
        "director = (a['director'].to_list())\n",
        "\n",
        "newlist = []\n",
        "for genre in director:\n",
        "  if ',' in genre:\n",
        "    a = genre.split(', ')\n",
        "    newlist = newlist + a\n",
        "  else:\n",
        "    newlist.append(genre)\n",
        "country_list = pd.DataFrame({'Director' : newlist, 'id':np.arange(0,len(newlist),1)})\n",
        "a = country_list.groupby('Director').agg({'id':'count'}).sort_values('id', ascending= False).reset_index().head(15)\n",
        "plt.figure(figsize=(15,10))\n",
        "a = sns.barplot(y = 'Director', x = 'id',data = a , palette= 'copper')\n",
        "a = plt.title('Directors on Netflix')\n",
        "a = plt.ylabel('Director')\n",
        "a = plt.xlabel('Number of Movies/Shows Directed')\n",
        "top10directors = country_list.groupby('Director').agg({'id':'count'}).sort_values('id', ascending= False).reset_index().head(10)['Director'].to_list()"
      ],
      "metadata": {
        "id": "lqAIGUfyphqO",
        "colab": {
          "base_uri": "https://localhost:8080/",
          "height": 621
        },
        "outputId": "049cfb71-c36f-4fc9-c9d1-ed02fa11bcd2"
      },
      "execution_count": null,
      "outputs": [
        {
          "output_type": "display_data",
          "data": {
            "text/plain": [
              "<Figure size 1080x720 with 1 Axes>"
            ],
            "image/png": "[encoded data removed]"
          },
          "metadata": {
            "needs_background": "light"
          }
        }
      ]
    },
    {
      "cell_type": "markdown",
      "source": [
        "##### 1. Why did you pick the specific chart?"
      ],
      "metadata": {
        "id": "t27r6nlMphqO"
      }
    },
    {
      "cell_type": "markdown",
      "source": [
        "To know which diretor is frequently directed a movie or a series or most successful director we used bar plot."
      ],
      "metadata": {
        "id": "iv6ro40sphqO"
      }
    },
    {
      "cell_type": "markdown",
      "source": [
        "##### 2. What is/are the insight(s) found from the chart?"
      ],
      "metadata": {
        "id": "r2jJGEOYphqO"
      }
    },
    {
      "cell_type": "markdown",
      "source": [
        "Top Directors on Netflix are:\n",
        "\n",
        "1.Jan Suter 2.Raul Campos 3.Marcus Raboy 4.Jay Karas 5.Cathy Garcia-Molina"
      ],
      "metadata": {
        "id": "Po6ZPi4hphqO"
      }
    },
    {
      "cell_type": "markdown",
      "source": [
        "##### 3. Will the gained insights help creating a positive business impact? \n",
        "Are there any insights that lead to negative growth? Justify with specific reason."
      ],
      "metadata": {
        "id": "b0JNsNcRphqO"
      }
    },
    {
      "cell_type": "markdown",
      "source": [
        "Jan Suter is most common director in netflix so he might be highly loved by the audiences, he and other top directors need to be utilised for further movies in future."
      ],
      "metadata": {
        "id": "xvSq8iUTphqO"
      }
    },
    {
      "cell_type": "markdown",
      "source": [
        "#### Chart - 8"
      ],
      "metadata": {
        "id": "BZR9WyysphqO"
      }
    },
    {
      "cell_type": "code",
      "source": [
        "# Chart - 8 visualization code\n",
        "#Frequent Cast on Netflix\n",
        "a=df[df.cast != 'unknown'].loc[:,['show_id','title','director', 'cast']].copy()\n",
        "cast = (a['cast'].to_list())\n",
        "\n",
        "newlist = []\n",
        "for genre in cast:\n",
        "  if ',' in genre:\n",
        "    a = genre.split(', ')\n",
        "    newlist = newlist + a\n",
        "  else:\n",
        "    newlist.append(genre)\n",
        "country_list = pd.DataFrame({'Actor' : newlist, 'id':np.arange(0,len(newlist),1)})\n",
        "a = country_list.groupby('Actor').agg({'id':'count'}).sort_values('id', ascending= False).head(20).reset_index()\n",
        "plt.figure(figsize=(15,10))\n",
        "a = sns.barplot(y = 'Actor', x = 'id',data = a , palette= 'bone')\n",
        "a = plt.title('Directors on Netflix')\n",
        "a = plt.ylabel('Director')\n",
        "a = plt.xlabel('Number of Movies/Shows Directed')\n",
        "top10actors = country_list.groupby('Actor').agg({'id':'count'}).sort_values('id', ascending= False).head(20).reset_index()['Actor'].to_list()"
      ],
      "metadata": {
        "id": "TdPTWpAVphqO",
        "colab": {
          "base_uri": "https://localhost:8080/",
          "height": 621
        },
        "outputId": "93de41d8-d7f5-4030-d545-4a59a33bcc9a"
      },
      "execution_count": null,
      "outputs": [
        {
          "output_type": "display_data",
          "data": {
            "text/plain": [
              "<Figure size 1080x720 with 1 Axes>"
            ],
            "image/png": "[encoded data removed]"
          },
          "metadata": {
            "needs_background": "light"
          }
        }
      ]
    },
    {
      "cell_type": "markdown",
      "source": [
        "##### 1. Why did you pick the specific chart?"
      ],
      "metadata": {
        "id": "jj7wYXLtphqO"
      }
    },
    {
      "cell_type": "markdown",
      "source": [
        "To know which diretor is frequently directed a movie or a series or most successful director we used bar plot."
      ],
      "metadata": {
        "id": "Ob8u6rCTphqO"
      }
    },
    {
      "cell_type": "markdown",
      "source": [
        "##### 2. What is/are the insight(s) found from the chart?"
      ],
      "metadata": {
        "id": "eZrbJ2SmphqO"
      }
    },
    {
      "cell_type": "markdown",
      "source": [
        " Top Actors on Netflix are:\n",
        "\n",
        "1.Anupam Kher 2.Shah Rukh Khan 3.Naseeruddin Shah 4.Om Puri 5.Akshay Kumar"
      ],
      "metadata": {
        "id": "mZtgC_hjphqO"
      }
    },
    {
      "cell_type": "markdown",
      "source": [
        "##### 3. Will the gained insights help creating a positive business impact? \n",
        "Are there any insights that lead to negative growth? Justify with specific reason."
      ],
      "metadata": {
        "id": "rFu4xreNphqO"
      }
    },
    {
      "cell_type": "markdown",
      "source": [
        "Indian actors like anupam kher , shahruk khan and other are frequently used in movies so that means people like them a lot and their movies and tv shows need to be promoted."
      ],
      "metadata": {
        "id": "ey_0qi68phqO"
      }
    },
    {
      "cell_type": "markdown",
      "source": [
        "#### Chart - 9"
      ],
      "metadata": {
        "id": "YJ55k-q6phqO"
      }
    },
    {
      "cell_type": "code",
      "source": [
        "# Chart - 9 visualization code\n",
        "#Duration of Movies on Netflix\n",
        "a=df[df['type']=='Movie'].loc[:,['show_id','duration']].copy()\n",
        "cast = (a['duration'].to_list())\n",
        "\n",
        "newlist = []\n",
        "for genre in cast:\n",
        "  newlist.append(int(genre.split(' ')[0]))\n",
        "country_list = pd.DataFrame({'Duration' : newlist, 'id':np.arange(0,len(newlist),1)})\n",
        "a = sns.displot(x= 'Duration',  data = country_list, kind = 'hist', height=10, aspect=2, bins = 50)\n",
        "a = plt.title('Distribution of Movie Duration')\n",
        "a = plt.xlabel('Minutes')\n",
        "a = plt.xticks(ticks = np.arange(0,country_list.Duration.max()+1,10))"
      ],
      "metadata": {
        "id": "B2aS4O1ophqO",
        "colab": {
          "base_uri": "https://localhost:8080/",
          "height": 736
        },
        "outputId": "b814c33d-05c4-43f6-9b32-fb26b9462cdc"
      },
      "execution_count": null,
      "outputs": [
        {
          "output_type": "display_data",
          "data": {
            "text/plain": [
              "<Figure size 1440x720 with 1 Axes>"
            ],
            "image/png": "[encoded data removed]"
          },
          "metadata": {
            "needs_background": "light"
          }
        }
      ]
    },
    {
      "cell_type": "markdown",
      "source": [
        "##### 1. Why did you pick the specific chart?"
      ],
      "metadata": {
        "id": "gCFgpxoyphqP"
      }
    },
    {
      "cell_type": "markdown",
      "source": [
        "Bar plot is used to know the time duration of each movies in netflix"
      ],
      "metadata": {
        "id": "TVxDimi2phqP"
      }
    },
    {
      "cell_type": "markdown",
      "source": [
        "##### 2. What is/are the insight(s) found from the chart?"
      ],
      "metadata": {
        "id": "OVtJsKN_phqQ"
      }
    },
    {
      "cell_type": "markdown",
      "source": [
        "Most movies on Netflix have a duration range from 90 to 110 minutes"
      ],
      "metadata": {
        "id": "ngGi97qjphqQ"
      }
    },
    {
      "cell_type": "markdown",
      "source": [
        "##### 3. Will the gained insights help creating a positive business impact? \n",
        "Are there any insights that lead to negative growth? Justify with specific reason."
      ],
      "metadata": {
        "id": "lssrdh5qphqQ"
      }
    },
    {
      "cell_type": "markdown",
      "source": [
        "Most of the movies in netflix is around 1 hour and 30mins long approx ,  so people dont like long movies ."
      ],
      "metadata": {
        "id": "tBpY5ekJphqQ"
      }
    },
    {
      "cell_type": "markdown",
      "source": [
        "#### Chart - 10"
      ],
      "metadata": {
        "id": "U2RJ9gkRphqQ"
      }
    },
    {
      "cell_type": "code",
      "source": [
        "# Chart - 10 visualization code\n",
        "#Duration of TV shows on Netflix\n",
        "a=df[df['type']!='Movie'].loc[:,['show_id','duration']].copy()\n",
        "cast = (a['duration'].to_list())\n",
        "\n",
        "newlist = []\n",
        "for genre in cast:\n",
        "  newlist.append(int(genre.split(' ')[0]))\n",
        "country_list = pd.DataFrame({'Seasons' : newlist, 'id':np.arange(0,len(newlist),1)})\n",
        "a = sns.displot(x= 'Seasons',  data = country_list, kind = 'hist', height=10, aspect=2)\n",
        "a = plt.title('TV Show Season Distribution')\n",
        "a = plt.xlabel('Seasons')\n",
        "a = plt.xticks(ticks = np.arange(country_list.Seasons.min(),country_list.Seasons.max()+1,1))"
      ],
      "metadata": {
        "id": "GM7a4YP4phqQ",
        "colab": {
          "base_uri": "https://localhost:8080/",
          "height": 736
        },
        "outputId": "6dd454de-c1f2-463c-b898-188a554ab683"
      },
      "execution_count": null,
      "outputs": [
        {
          "output_type": "display_data",
          "data": {
            "text/plain": [
              "<Figure size 1440x720 with 1 Axes>"
            ],
            "image/png": "[encoded data removed]"
          },
          "metadata": {
            "needs_background": "light"
          }
        }
      ]
    },
    {
      "cell_type": "markdown",
      "source": [
        "##### 1. Why did you pick the specific chart?"
      ],
      "metadata": {
        "id": "1M8mcRywphqQ"
      }
    },
    {
      "cell_type": "markdown",
      "source": [
        "Bar plot is used to depict the number of seasons in each series."
      ],
      "metadata": {
        "id": "8agQvks0phqQ"
      }
    },
    {
      "cell_type": "markdown",
      "source": [
        "##### 2. What is/are the insight(s) found from the chart?"
      ],
      "metadata": {
        "id": "tgIPom80phqQ"
      }
    },
    {
      "cell_type": "markdown",
      "source": [
        "Most TV shows on Netflix have a span of 1 season only."
      ],
      "metadata": {
        "id": "Qp13pnNzphqQ"
      }
    },
    {
      "cell_type": "markdown",
      "source": [
        "##### 3. Will the gained insights help creating a positive business impact? \n",
        "Are there any insights that lead to negative growth? Justify with specific reason."
      ],
      "metadata": {
        "id": "JMzcOPDDphqR"
      }
    },
    {
      "cell_type": "markdown",
      "source": [
        "Most tv shows in netflix is just 1 season long , so people mostly like small series."
      ],
      "metadata": {
        "id": "R4Ka1PC2phqR"
      }
    },
    {
      "cell_type": "markdown",
      "source": [
        "#### Chart - 11"
      ],
      "metadata": {
        "id": "x-EpHcCOp1ci"
      }
    },
    {
      "cell_type": "code",
      "source": [
        "#Has Netflix Been Focusing Increasingly on TV Shows as compared to movies\n",
        "content = df.loc[:,['title','date_added','release_year', 'duration', 'type']].dropna().copy()"
      ],
      "metadata": {
        "id": "EN-IlwTp4UQJ"
      },
      "execution_count": null,
      "outputs": []
    },
    {
      "cell_type": "code",
      "source": [
        "content['date_added'] = content['date_added'].dt.year"
      ],
      "metadata": {
        "id": "P3EVKgR8AkyY"
      },
      "execution_count": null,
      "outputs": []
    },
    {
      "cell_type": "code",
      "source": [
        "#Assuming TV shows release new seasons every year, we'll be adding a duplicate of the show for each season.\n",
        "def season(row):\n",
        "  release = row['release_year']\n",
        "  added = row['date_added']\n",
        "\n",
        "  if row['type'] =='TV Show':\n",
        "    seasons = int(row['duration'][0])\n",
        "    b = []\n",
        "    for i in range(1, seasons+1):\n",
        "      if i ==1:\n",
        "        b.append(release)\n",
        "      else:\n",
        "        b.append(b[-1]-1)\n",
        "    a = b\n",
        "  else:\n",
        "    a = []\n",
        "    a.append(row['release_year'])      \n",
        "  \n",
        "  return a\n",
        "\n",
        "content['Released Years'] = content.apply(lambda x: season(x),axis=1)"
      ],
      "metadata": {
        "id": "nkkdQuwZ5Bfw"
      },
      "execution_count": null,
      "outputs": []
    },
    {
      "cell_type": "code",
      "source": [
        "compare = content.explode('Released Years')"
      ],
      "metadata": {
        "id": "Dw6zl3Yx5Bir"
      },
      "execution_count": null,
      "outputs": []
    },
    {
      "cell_type": "code",
      "source": [
        "tv = compare[compare['type'] == 'TV Show'].groupby(['date_added']).agg(count = ('title','count')).reset_index()\n",
        "tv['type'] = 'TV'\n",
        "movie = compare[compare['type'] != 'TV Show'].groupby(['date_added']).agg(count = ('title','count')).reset_index()\n",
        "movie['type'] = 'Movie'"
      ],
      "metadata": {
        "id": "1lDWt5Kr5BmD"
      },
      "execution_count": null,
      "outputs": []
    },
    {
      "cell_type": "code",
      "source": [
        "data = pd.concat([tv, movie], axis = 0)"
      ],
      "metadata": {
        "id": "QgblvErB5BqA"
      },
      "execution_count": null,
      "outputs": []
    },
    {
      "cell_type": "code",
      "source": [
        "plt.figure(figsize = (15,10))\n",
        "sns.barplot(x = 'date_added', y='count', hue = 'type', data = data)\n",
        "plt.title('MOVIE VS TV -  Trends')\n",
        "plt.xlabel('Date Added')\n",
        "_ = plt.ylabel('Number of TV. Seasons/Movies Signed')"
      ],
      "metadata": {
        "colab": {
          "base_uri": "https://localhost:8080/",
          "height": 621
        },
        "id": "554Nsg0a5B-q",
        "outputId": "4ceb3070-b796-4fd0-f3f5-221a7918e8fd"
      },
      "execution_count": null,
      "outputs": [
        {
          "output_type": "display_data",
          "data": {
            "text/plain": [
              "<Figure size 1080x720 with 1 Axes>"
            ],
            "image/png": "[encoded data removed]"
          },
          "metadata": {
            "needs_background": "light"
          }
        }
      ]
    },
    {
      "cell_type": "markdown",
      "source": [
        "##### 1. Why did you pick the specific chart?"
      ],
      "metadata": {
        "id": "X_VqEhTip1ck"
      }
    },
    {
      "cell_type": "markdown",
      "source": [
        "Bar plot is used to compare number of movies and tv shows signed."
      ],
      "metadata": {
        "id": "-vsMzt_np1ck"
      }
    },
    {
      "cell_type": "markdown",
      "source": [
        "##### 2. What is/are the insight(s) found from the chart?"
      ],
      "metadata": {
        "id": "8zGJKyg5p1ck"
      }
    },
    {
      "cell_type": "markdown",
      "source": [
        "The above graph depicts seasons of TV shows signed vs the movies signed This distinction gives contacts as TV shows require recurring investment for each seasons. So the TV numbers have been increased in accordance to the seasons. As they were considered as one entity earlier We can observe that TV shows signed have been higher than movies in 2016. While the the movies signed have been higher, it is blatantly visible that the TV shows signed per year is catching up to the movies signed by the year"
      ],
      "metadata": {
        "id": "ZYdMsrqVp1ck"
      }
    },
    {
      "cell_type": "markdown",
      "source": [
        "##### 3. Will the gained insights help creating a positive business impact? \n",
        "Are there any insights that lead to negative growth? Justify with specific reason."
      ],
      "metadata": {
        "id": "PVzmfK_Ep1ck"
      }
    },
    {
      "cell_type": "markdown",
      "source": [
        "number of tv shows and movies signed are at par with each other since past few years."
      ],
      "metadata": {
        "id": "druuKYZpp1ck"
      }
    },
    {
      "cell_type": "markdown",
      "source": [
        "#### Chart - 12"
      ],
      "metadata": {
        "id": "n3dbpmDWp1ck"
      }
    },
    {
      "cell_type": "code",
      "source": [
        "# Chart - 12 visualization code\n",
        "# Tv shows vs movies release year\n",
        "tv = compare[compare['type'] == 'TV Show'].groupby(['Released Years']).agg(count = ('title','count')).reset_index()\n",
        "tv['type'] = 'TV'\n",
        "movie = compare[compare['type'] != 'TV Show'].groupby(['Released Years']).agg(count = ('title','count')).reset_index()\n",
        "movie['type'] = 'Movie'\n",
        "     "
      ],
      "metadata": {
        "id": "bwevp1tKp1ck"
      },
      "execution_count": null,
      "outputs": []
    },
    {
      "cell_type": "code",
      "source": [
        "data = pd.concat([tv, movie], axis = 0)"
      ],
      "metadata": {
        "id": "LMiRWmgIGNJk"
      },
      "execution_count": null,
      "outputs": []
    },
    {
      "cell_type": "code",
      "source": [
        "plt.figure(figsize = (20,10))\n",
        "sns.barplot(x = 'Released Years', y='count', hue = 'type', data = data)\n",
        "plt.title('MOVIE VS TV -  Trends')\n",
        "plt.xlabel('Released Years')\n",
        "plt.xticks(rotation = 90)\n",
        "_ = plt.ylabel('Number of TV. Seasons/Movies Signed')"
      ],
      "metadata": {
        "colab": {
          "base_uri": "https://localhost:8080/",
          "height": 637
        },
        "id": "3MObZn5TGRxh",
        "outputId": "9503d234-b355-4e45-b9a3-c9d7b26dad7f"
      },
      "execution_count": null,
      "outputs": [
        {
          "output_type": "display_data",
          "data": {
            "text/plain": [
              "<Figure size 1440x720 with 1 Axes>"
            ],
            "image/png": "[encoded data removed]"
          },
          "metadata": {
            "needs_background": "light"
          }
        }
      ]
    },
    {
      "cell_type": "markdown",
      "source": [
        "##### 1. Why did you pick the specific chart?"
      ],
      "metadata": {
        "id": "ylSl6qgtp1ck"
      }
    },
    {
      "cell_type": "markdown",
      "source": [
        "Bar plot is used to show comparison between tv shows and movies realease year."
      ],
      "metadata": {
        "id": "m2xqNkiQp1ck"
      }
    },
    {
      "cell_type": "markdown",
      "source": [
        "##### 2. What is/are the insight(s) found from the chart?"
      ],
      "metadata": {
        "id": "ZWILFDl5p1ck"
      }
    },
    {
      "cell_type": "markdown",
      "source": [
        "The above graph depicts an estimation of seasonal TV show and Movie release date per each year. We make a general assumption that each show releases a season yearly which is often the case for most TV shows. There are certainly exemptions. Eg. Ozark was released in years 2017, 2018, 2020 and 2022. [ P.S: Brilliant slow burn. Do check it out! ] We can observe that TV releases outnumbering movies from 2010. It is a known fact that each show contains multiple episodes, hence we can confidently say that significant amount of video content is being enlisted under TV shows from 2010 Years 2019, 2020 and 2021 see multi-episode TV seasons outnumbering movies signed per year"
      ],
      "metadata": {
        "id": "x-lUsV2mp1ck"
      }
    },
    {
      "cell_type": "markdown",
      "source": [
        "##### 3. Will the gained insights help creating a positive business impact? \n",
        "Are there any insights that lead to negative growth? Justify with specific reason."
      ],
      "metadata": {
        "id": "M7G43BXep1ck"
      }
    },
    {
      "cell_type": "markdown",
      "source": [
        "There is high trend of tv shows compared to movies."
      ],
      "metadata": {
        "id": "5wwDJXsLp1cl"
      }
    },
    {
      "cell_type": "markdown",
      "source": [
        "#### Chart - 13"
      ],
      "metadata": {
        "id": "Ag9LCva-p1cl"
      }
    },
    {
      "cell_type": "code",
      "source": [
        "# Chart - 13 visualization code"
      ],
      "metadata": {
        "id": "EUfxeq9-p1cl"
      },
      "execution_count": null,
      "outputs": []
    },
    {
      "cell_type": "markdown",
      "source": [
        "##### 1. Why did you pick the specific chart?"
      ],
      "metadata": {
        "id": "E6MkPsBcp1cl"
      }
    },
    {
      "cell_type": "markdown",
      "source": [
        "Answer Here."
      ],
      "metadata": {
        "id": "V22bRsFWp1cl"
      }
    },
    {
      "cell_type": "markdown",
      "source": [
        "##### 2. What is/are the insight(s) found from the chart?"
      ],
      "metadata": {
        "id": "2cELzS2fp1cl"
      }
    },
    {
      "cell_type": "markdown",
      "source": [
        "Answer Here"
      ],
      "metadata": {
        "id": "ozQPc2_Ip1cl"
      }
    },
    {
      "cell_type": "markdown",
      "source": [
        "##### 3. Will the gained insights help creating a positive business impact? \n",
        "Are there any insights that lead to negative growth? Justify with specific reason."
      ],
      "metadata": {
        "id": "3MPXvC8up1cl"
      }
    },
    {
      "cell_type": "markdown",
      "source": [
        "Answer Here"
      ],
      "metadata": {
        "id": "GL8l1tdLp1cl"
      }
    },
    {
      "cell_type": "markdown",
      "source": [
        "#### Chart - 14 - Correlation Heatmap"
      ],
      "metadata": {
        "id": "NC_X3p0fY2L0"
      }
    },
    {
      "cell_type": "markdown",
      "source": [
        "##### 1. Why did you pick the specific chart?"
      ],
      "metadata": {
        "id": "UV0SzAkaZNRQ"
      }
    },
    {
      "cell_type": "markdown",
      "source": [
        "Answer Here."
      ],
      "metadata": {
        "id": "DVPuT8LYZNRQ"
      }
    },
    {
      "cell_type": "markdown",
      "source": [
        "##### 2. What is/are the insight(s) found from the chart?"
      ],
      "metadata": {
        "id": "YPEH6qLeZNRQ"
      }
    },
    {
      "cell_type": "markdown",
      "source": [
        "Answer Here"
      ],
      "metadata": {
        "id": "bfSqtnDqZNRR"
      }
    },
    {
      "cell_type": "markdown",
      "source": [
        "#### Chart - 15 - Pair Plot "
      ],
      "metadata": {
        "id": "q29F0dvdveiT"
      }
    },
    {
      "cell_type": "code",
      "source": [
        "# Pair Plot visualization code"
      ],
      "metadata": {
        "id": "o58-TEIhveiU"
      },
      "execution_count": null,
      "outputs": []
    },
    {
      "cell_type": "markdown",
      "source": [
        "##### 1. Why did you pick the specific chart?"
      ],
      "metadata": {
        "id": "EXh0U9oCveiU"
      }
    },
    {
      "cell_type": "markdown",
      "source": [
        "Answer Here."
      ],
      "metadata": {
        "id": "eMmPjTByveiU"
      }
    },
    {
      "cell_type": "markdown",
      "source": [
        "##### 2. What is/are the insight(s) found from the chart?"
      ],
      "metadata": {
        "id": "22aHeOlLveiV"
      }
    },
    {
      "cell_type": "markdown",
      "source": [
        "Answer Here"
      ],
      "metadata": {
        "id": "uPQ8RGwHveiV"
      }
    },
    {
      "cell_type": "markdown",
      "source": [
        "## ***5. Hypothesis Testing***"
      ],
      "metadata": {
        "id": "g-ATYxFrGrvw"
      }
    },
    {
      "cell_type": "markdown",
      "source": [
        "### Based on your chart experiments, define three hypothetical statements from the dataset. In the next three questions, perform hypothesis testing to obtain final conclusion about the statements through your code and statistical testing."
      ],
      "metadata": {
        "id": "Yfr_Vlr8HBkt"
      }
    },
    {
      "cell_type": "markdown",
      "source": [
        "Answer Here."
      ],
      "metadata": {
        "id": "-7MS06SUHkB-"
      }
    },
    {
      "cell_type": "markdown",
      "source": [
        "### Hypothetical Statement - 1"
      ],
      "metadata": {
        "id": "8yEUt7NnHlrM"
      }
    },
    {
      "cell_type": "markdown",
      "source": [
        "#### 1. State Your research hypothesis as a null hypothesis and alternate hypothesis."
      ],
      "metadata": {
        "id": "tEA2Xm5dHt1r"
      }
    },
    {
      "cell_type": "markdown",
      "source": [
        "HO:movies rated for kids and older kids are at least two hours long.\n",
        "\n",
        "H1:movies rated for kids and older kids are not at least two hours long."
      ],
      "metadata": {
        "id": "HI9ZP0laH0D-"
      }
    },
    {
      "cell_type": "markdown",
      "source": [
        "#### 2. Perform an appropriate statistical test."
      ],
      "metadata": {
        "id": "I79__PHVH19G"
      }
    },
    {
      "cell_type": "code",
      "source": [
        "# Perform Statistical Test to obtain P-Value\n",
        "\n",
        "#making copy of df_clean_frame\n",
        "df_hypothesis=df.copy()\n",
        "#head of df_hypothesis\n",
        "df_hypothesis.head()"
      ],
      "metadata": {
        "id": "oZrfquKtyian",
        "colab": {
          "base_uri": "https://localhost:8080/",
          "height": 424
        },
        "outputId": "8cb46b3b-bb40-4dcc-89c3-a4c335ce973d"
      },
      "execution_count": null,
      "outputs": [
        {
          "output_type": "execute_result",
          "data": {
            "text/plain": [
              "  show_id     type  title           director  \\\n",
              "0      s1  TV Show     3%            unknown   \n",
              "1      s2    Movie   7:19  Jorge Michel Grau   \n",
              "2      s3    Movie  23:59       Gilbert Chan   \n",
              "3      s4    Movie      9        Shane Acker   \n",
              "4      s5    Movie     21     Robert Luketic   \n",
              "\n",
              "                                                cast        country  \\\n",
              "0  João Miguel, Bianca Comparato, Michel Gomes, R...         Brazil   \n",
              "1  Demián Bichir, Héctor Bonilla, Oscar Serrano, ...         Mexico   \n",
              "2  Tedd Chan, Stella Chung, Henley Hii, Lawrence ...      Singapore   \n",
              "3  Elijah Wood, John C. Reilly, Jennifer Connelly...  United States   \n",
              "4  Jim Sturgess, Kevin Spacey, Kate Bosworth, Aar...  United States   \n",
              "\n",
              "  date_added  release_year rating   duration  \\\n",
              "0 2020-08-14          2020  TV-MA  4 Seasons   \n",
              "1 2016-12-23          2016  TV-MA     93 min   \n",
              "2 2018-12-20          2011      R     78 min   \n",
              "3 2017-11-16          2009  PG-13     80 min   \n",
              "4 2020-01-01          2008  PG-13    123 min   \n",
              "\n",
              "                                           listed_in  \\\n",
              "0  International TV Shows, TV Dramas, TV Sci-Fi &...   \n",
              "1                       Dramas, International Movies   \n",
              "2                Horror Movies, International Movies   \n",
              "3  Action & Adventure, Independent Movies, Sci-Fi...   \n",
              "4                                             Dramas   \n",
              "\n",
              "                                         description  \\\n",
              "0  In a future where the elite inhabit an island ...   \n",
              "1  After a devastating earthquake hits Mexico Cit...   \n",
              "2  When an army recruit is found dead, his fellow...   \n",
              "3  In a postapocalyptic world, rag-doll robots hi...   \n",
              "4  A brilliant group of students become card-coun...   \n",
              "\n",
              "                            Genres  \n",
              "0            [Drama, SciFiFantasy]  \n",
              "1                          [Drama]  \n",
              "2                         [Horror]  \n",
              "3  [ActionAdventure, SciFiFantasy]  \n",
              "4                          [Drama]  "
            ],
            "text/html": [
              "\n",
              "  <div id=\"df-a30804f0-d32e-48f6-b46f-6fb2147bc368\">\n",
              "    <div class=\"colab-df-container\">\n",
              "      <div>\n",
              "<style scoped>\n",
              "    .dataframe tbody tr th:only-of-type {\n",
              "        vertical-align: middle;\n",
              "    }\n",
              "\n",
              "    .dataframe tbody tr th {\n",
              "        vertical-align: top;\n",
              "    }\n",
              "\n",
              "    .dataframe thead th {\n",
              "        text-align: right;\n",
              "    }\n",
              "</style>\n",
              "<table border=\"1\" class=\"dataframe\">\n",
              "  <thead>\n",
              "    <tr style=\"text-align: right;\">\n",
              "      <th></th>\n",
              "      <th>show_id</th>\n",
              "      <th>type</th>\n",
              "      <th>title</th>\n",
              "      <th>director</th>\n",
              "      <th>cast</th>\n",
              "      <th>country</th>\n",
              "      <th>date_added</th>\n",
              "      <th>release_year</th>\n",
              "      <th>rating</th>\n",
              "      <th>duration</th>\n",
              "      <th>listed_in</th>\n",
              "      <th>description</th>\n",
              "      <th>Genres</th>\n",
              "    </tr>\n",
              "  </thead>\n",
              "  <tbody>\n",
              "    <tr>\n",
              "      <th>0</th>\n",
              "      <td>s1</td>\n",
              "      <td>TV Show</td>\n",
              "      <td>3%</td>\n",
              "      <td>unknown</td>\n",
              "      <td>João Miguel, Bianca Comparato, Michel Gomes, R...</td>\n",
              "      <td>Brazil</td>\n",
              "      <td>2020-08-14</td>\n",
              "      <td>2020</td>\n",
              "      <td>TV-MA</td>\n",
              "      <td>4 Seasons</td>\n",
              "      <td>International TV Shows, TV Dramas, TV Sci-Fi &amp;...</td>\n",
              "      <td>In a future where the elite inhabit an island ...</td>\n",
              "      <td>[Drama, SciFiFantasy]</td>\n",
              "    </tr>\n",
              "    <tr>\n",
              "      <th>1</th>\n",
              "      <td>s2</td>\n",
              "      <td>Movie</td>\n",
              "      <td>7:19</td>\n",
              "      <td>Jorge Michel Grau</td>\n",
              "      <td>Demián Bichir, Héctor Bonilla, Oscar Serrano, ...</td>\n",
              "      <td>Mexico</td>\n",
              "      <td>2016-12-23</td>\n",
              "      <td>2016</td>\n",
              "      <td>TV-MA</td>\n",
              "      <td>93 min</td>\n",
              "      <td>Dramas, International Movies</td>\n",
              "      <td>After a devastating earthquake hits Mexico Cit...</td>\n",
              "      <td>[Drama]</td>\n",
              "    </tr>\n",
              "    <tr>\n",
              "      <th>2</th>\n",
              "      <td>s3</td>\n",
              "      <td>Movie</td>\n",
              "      <td>23:59</td>\n",
              "      <td>Gilbert Chan</td>\n",
              "      <td>Tedd Chan, Stella Chung, Henley Hii, Lawrence ...</td>\n",
              "      <td>Singapore</td>\n",
              "      <td>2018-12-20</td>\n",
              "      <td>2011</td>\n",
              "      <td>R</td>\n",
              "      <td>78 min</td>\n",
              "      <td>Horror Movies, International Movies</td>\n",
              "      <td>When an army recruit is found dead, his fellow...</td>\n",
              "      <td>[Horror]</td>\n",
              "    </tr>\n",
              "    <tr>\n",
              "      <th>3</th>\n",
              "      <td>s4</td>\n",
              "      <td>Movie</td>\n",
              "      <td>9</td>\n",
              "      <td>Shane Acker</td>\n",
              "      <td>Elijah Wood, John C. Reilly, Jennifer Connelly...</td>\n",
              "      <td>United States</td>\n",
              "      <td>2017-11-16</td>\n",
              "      <td>2009</td>\n",
              "      <td>PG-13</td>\n",
              "      <td>80 min</td>\n",
              "      <td>Action &amp; Adventure, Independent Movies, Sci-Fi...</td>\n",
              "      <td>In a postapocalyptic world, rag-doll robots hi...</td>\n",
              "      <td>[ActionAdventure, SciFiFantasy]</td>\n",
              "    </tr>\n",
              "    <tr>\n",
              "      <th>4</th>\n",
              "      <td>s5</td>\n",
              "      <td>Movie</td>\n",
              "      <td>21</td>\n",
              "      <td>Robert Luketic</td>\n",
              "      <td>Jim Sturgess, Kevin Spacey, Kate Bosworth, Aar...</td>\n",
              "      <td>United States</td>\n",
              "      <td>2020-01-01</td>\n",
              "      <td>2008</td>\n",
              "      <td>PG-13</td>\n",
              "      <td>123 min</td>\n",
              "      <td>Dramas</td>\n",
              "      <td>A brilliant group of students become card-coun...</td>\n",
              "      <td>[Drama]</td>\n",
              "    </tr>\n",
              "  </tbody>\n",
              "</table>\n",
              "</div>\n",
              "      <button class=\"colab-df-convert\" onclick=\"convertToInteractive('df-a30804f0-d32e-48f6-b46f-6fb2147bc368')\"\n",
              "              title=\"Convert this dataframe to an interactive table.\"\n",
              "              style=\"display:none;\">\n",
              "        \n",
              "  <svg xmlns=\"http://www.w3.org/2000/svg\" height=\"24px\"viewBox=\"0 0 24 24\"\n",
              "       width=\"24px\">\n",
              "    <path d=\"M0 0h24v24H0V0z\" fill=\"none\"/>\n",
              "    <path d=\"M18.56 5.44l.94 2.06.94-2.06 2.06-.94-2.06-.94-.94-2.06-.94 2.06-2.06.94zm-11 1L8.5 8.5l.94-2.06 2.06-.94-2.06-.94L8.5 2.5l-.94 2.06-2.06.94zm10 10l.94 2.06.94-2.06 2.06-.94-2.06-.94-.94-2.06-.94 2.06-2.06.94z\"/><path d=\"M17.41 7.96l-1.37-1.37c-.4-.4-.92-.59-1.43-.59-.52 0-1.04.2-1.43.59L10.3 9.45l-7.72 7.72c-.78.78-.78 2.05 0 2.83L4 21.41c.39.39.9.59 1.41.59.51 0 1.02-.2 1.41-.59l7.78-7.78 2.81-2.81c.8-.78.8-2.07 0-2.86zM5.41 20L4 18.59l7.72-7.72 1.47 1.35L5.41 20z\"/>\n",
              "  </svg>\n",
              "      </button>\n",
              "      \n",
              "  <style>\n",
              "    .colab-df-container {\n",
              "      display:flex;\n",
              "      flex-wrap:wrap;\n",
              "      gap: 12px;\n",
              "    }\n",
              "\n",
              "    .colab-df-convert {\n",
              "      background-color: #E8F0FE;\n",
              "      border: none;\n",
              "      border-radius: 50%;\n",
              "      cursor: pointer;\n",
              "      display: none;\n",
              "      fill: #1967D2;\n",
              "      height: 32px;\n",
              "      padding: 0 0 0 0;\n",
              "      width: 32px;\n",
              "    }\n",
              "\n",
              "    .colab-df-convert:hover {\n",
              "      background-color: #E2EBFA;\n",
              "      box-shadow: 0px 1px 2px rgba(60, 64, 67, 0.3), 0px 1px 3px 1px rgba(60, 64, 67, 0.15);\n",
              "      fill: #174EA6;\n",
              "    }\n",
              "\n",
              "    [theme=dark] .colab-df-convert {\n",
              "      background-color: #3B4455;\n",
              "      fill: #D2E3FC;\n",
              "    }\n",
              "\n",
              "    [theme=dark] .colab-df-convert:hover {\n",
              "      background-color: #434B5C;\n",
              "      box-shadow: 0px 1px 3px 1px rgba(0, 0, 0, 0.15);\n",
              "      filter: drop-shadow(0px 1px 2px rgba(0, 0, 0, 0.3));\n",
              "      fill: #FFFFFF;\n",
              "    }\n",
              "  </style>\n",
              "\n",
              "      <script>\n",
              "        const buttonEl =\n",
              "          document.querySelector('#df-a30804f0-d32e-48f6-b46f-6fb2147bc368 button.colab-df-convert');\n",
              "        buttonEl.style.display =\n",
              "          google.colab.kernel.accessAllowed ? 'block' : 'none';\n",
              "\n",
              "        async function convertToInteractive(key) {\n",
              "          const element = document.querySelector('#df-a30804f0-d32e-48f6-b46f-6fb2147bc368');\n",
              "          const dataTable =\n",
              "            await google.colab.kernel.invokeFunction('convertToInteractive',\n",
              "                                                     [key], {});\n",
              "          if (!dataTable) return;\n",
              "\n",
              "          const docLinkHtml = 'Like what you see? Visit the ' +\n",
              "            '<a target=\"_blank\" href=https://colab.research.google.com/notebooks/data_table.ipynb>data table notebook</a>'\n",
              "            + ' to learn more about interactive tables.';\n",
              "          element.innerHTML = '';\n",
              "          dataTable['output_type'] = 'display_data';\n",
              "          await google.colab.output.renderOutput(dataTable, element);\n",
              "          const docLink = document.createElement('div');\n",
              "          docLink.innerHTML = docLinkHtml;\n",
              "          element.appendChild(docLink);\n",
              "        }\n",
              "      </script>\n",
              "    </div>\n",
              "  </div>\n",
              "  "
            ]
          },
          "metadata": {},
          "execution_count": 43
        }
      ]
    },
    {
      "cell_type": "code",
      "source": [
        "#filtering movie from Type_of_show column\n",
        "df_hypothesis = df_hypothesis[df_hypothesis[\"type\"] == \"Movie\"]"
      ],
      "metadata": {
        "id": "wdHnByyHRtje"
      },
      "execution_count": null,
      "outputs": []
    },
    {
      "cell_type": "code",
      "source": [
        "#with respect to each ratings assigning it into group of categories                 \n",
        "ratings_ages = {\n",
        "    'TV-PG': 'Older Kids',\n",
        "    'TV-MA': 'Adults',\n",
        "    'TV-Y7-FV': 'Older Kids',\n",
        "    'TV-Y7': 'Older Kids',\n",
        "    'TV-14': 'Teens',\n",
        "    'R': 'Adults',\n",
        "    'TV-Y': 'Kids',\n",
        "    'NR': 'Adults',\n",
        "    'PG-13': 'Teens',\n",
        "    'TV-G': 'Kids',\n",
        "    'PG': 'Older Kids',\n",
        "    'G': 'Kids',\n",
        "    'UR': 'Adults',\n",
        "    'NC-17': 'Adults'\n",
        "}\n",
        "\n",
        "df_hypothesis['target_ages'] = df_hypothesis['rating'].replace(ratings_ages)\n",
        "#let's see unique target ages \n",
        "df_hypothesis['target_ages'].unique()"
      ],
      "metadata": {
        "colab": {
          "base_uri": "https://localhost:8080/"
        },
        "id": "9SjwQHBwR2s1",
        "outputId": "ff7ab93e-32f1-48d2-8abf-a8b8e44ea264"
      },
      "execution_count": null,
      "outputs": [
        {
          "output_type": "execute_result",
          "data": {
            "text/plain": [
              "array(['Adults', 'Teens', 'Older Kids', 'Kids', 'unknown'], dtype=object)"
            ]
          },
          "metadata": {},
          "execution_count": 45
        }
      ]
    },
    {
      "cell_type": "code",
      "source": [
        "#Another category is target_ages (4 classes).\n",
        "df_hypothesis['target_ages'] = pd.Categorical(df_hypothesis['target_ages'], categories=['Kids', 'Older Kids', 'Teens', 'Adults'])\n",
        "#from duration feature extractin string part and after extracting Changing the object type to numeric\n",
        "df_hypothesis['duration']= df_hypothesis['duration'].str.extract('(\\d+)')\n",
        "df_hypothesis['duration'] = pd.to_numeric(df_hypothesis['duration'])\n",
        "#head of df_\n",
        "df_hypothesis.head(3)"
      ],
      "metadata": {
        "colab": {
          "base_uri": "https://localhost:8080/",
          "height": 292
        },
        "id": "hsOxXNgjR2vx",
        "outputId": "1502b895-f782-4acc-eea6-d67ec6904eed"
      },
      "execution_count": null,
      "outputs": [
        {
          "output_type": "execute_result",
          "data": {
            "text/plain": [
              "  show_id   type  title           director  \\\n",
              "1      s2  Movie   7:19  Jorge Michel Grau   \n",
              "2      s3  Movie  23:59       Gilbert Chan   \n",
              "3      s4  Movie      9        Shane Acker   \n",
              "\n",
              "                                                cast        country  \\\n",
              "1  Demián Bichir, Héctor Bonilla, Oscar Serrano, ...         Mexico   \n",
              "2  Tedd Chan, Stella Chung, Henley Hii, Lawrence ...      Singapore   \n",
              "3  Elijah Wood, John C. Reilly, Jennifer Connelly...  United States   \n",
              "\n",
              "  date_added  release_year rating  duration  \\\n",
              "1 2016-12-23          2016  TV-MA        93   \n",
              "2 2018-12-20          2011      R        78   \n",
              "3 2017-11-16          2009  PG-13        80   \n",
              "\n",
              "                                           listed_in  \\\n",
              "1                       Dramas, International Movies   \n",
              "2                Horror Movies, International Movies   \n",
              "3  Action & Adventure, Independent Movies, Sci-Fi...   \n",
              "\n",
              "                                         description  \\\n",
              "1  After a devastating earthquake hits Mexico Cit...   \n",
              "2  When an army recruit is found dead, his fellow...   \n",
              "3  In a postapocalyptic world, rag-doll robots hi...   \n",
              "\n",
              "                            Genres target_ages  \n",
              "1                          [Drama]      Adults  \n",
              "2                         [Horror]      Adults  \n",
              "3  [ActionAdventure, SciFiFantasy]       Teens  "
            ],
            "text/html": [
              "\n",
              "  <div id=\"df-511d7aed-ee6b-4343-b9e8-a8bdaf101f1c\">\n",
              "    <div class=\"colab-df-container\">\n",
              "      <div>\n",
              "<style scoped>\n",
              "    .dataframe tbody tr th:only-of-type {\n",
              "        vertical-align: middle;\n",
              "    }\n",
              "\n",
              "    .dataframe tbody tr th {\n",
              "        vertical-align: top;\n",
              "    }\n",
              "\n",
              "    .dataframe thead th {\n",
              "        text-align: right;\n",
              "    }\n",
              "</style>\n",
              "<table border=\"1\" class=\"dataframe\">\n",
              "  <thead>\n",
              "    <tr style=\"text-align: right;\">\n",
              "      <th></th>\n",
              "      <th>show_id</th>\n",
              "      <th>type</th>\n",
              "      <th>title</th>\n",
              "      <th>director</th>\n",
              "      <th>cast</th>\n",
              "      <th>country</th>\n",
              "      <th>date_added</th>\n",
              "      <th>release_year</th>\n",
              "      <th>rating</th>\n",
              "      <th>duration</th>\n",
              "      <th>listed_in</th>\n",
              "      <th>description</th>\n",
              "      <th>Genres</th>\n",
              "      <th>target_ages</th>\n",
              "    </tr>\n",
              "  </thead>\n",
              "  <tbody>\n",
              "    <tr>\n",
              "      <th>1</th>\n",
              "      <td>s2</td>\n",
              "      <td>Movie</td>\n",
              "      <td>7:19</td>\n",
              "      <td>Jorge Michel Grau</td>\n",
              "      <td>Demián Bichir, Héctor Bonilla, Oscar Serrano, ...</td>\n",
              "      <td>Mexico</td>\n",
              "      <td>2016-12-23</td>\n",
              "      <td>2016</td>\n",
              "      <td>TV-MA</td>\n",
              "      <td>93</td>\n",
              "      <td>Dramas, International Movies</td>\n",
              "      <td>After a devastating earthquake hits Mexico Cit...</td>\n",
              "      <td>[Drama]</td>\n",
              "      <td>Adults</td>\n",
              "    </tr>\n",
              "    <tr>\n",
              "      <th>2</th>\n",
              "      <td>s3</td>\n",
              "      <td>Movie</td>\n",
              "      <td>23:59</td>\n",
              "      <td>Gilbert Chan</td>\n",
              "      <td>Tedd Chan, Stella Chung, Henley Hii, Lawrence ...</td>\n",
              "      <td>Singapore</td>\n",
              "      <td>2018-12-20</td>\n",
              "      <td>2011</td>\n",
              "      <td>R</td>\n",
              "      <td>78</td>\n",
              "      <td>Horror Movies, International Movies</td>\n",
              "      <td>When an army recruit is found dead, his fellow...</td>\n",
              "      <td>[Horror]</td>\n",
              "      <td>Adults</td>\n",
              "    </tr>\n",
              "    <tr>\n",
              "      <th>3</th>\n",
              "      <td>s4</td>\n",
              "      <td>Movie</td>\n",
              "      <td>9</td>\n",
              "      <td>Shane Acker</td>\n",
              "      <td>Elijah Wood, John C. Reilly, Jennifer Connelly...</td>\n",
              "      <td>United States</td>\n",
              "      <td>2017-11-16</td>\n",
              "      <td>2009</td>\n",
              "      <td>PG-13</td>\n",
              "      <td>80</td>\n",
              "      <td>Action &amp; Adventure, Independent Movies, Sci-Fi...</td>\n",
              "      <td>In a postapocalyptic world, rag-doll robots hi...</td>\n",
              "      <td>[ActionAdventure, SciFiFantasy]</td>\n",
              "      <td>Teens</td>\n",
              "    </tr>\n",
              "  </tbody>\n",
              "</table>\n",
              "</div>\n",
              "      <button class=\"colab-df-convert\" onclick=\"convertToInteractive('df-511d7aed-ee6b-4343-b9e8-a8bdaf101f1c')\"\n",
              "              title=\"Convert this dataframe to an interactive table.\"\n",
              "              style=\"display:none;\">\n",
              "        \n",
              "  <svg xmlns=\"http://www.w3.org/2000/svg\" height=\"24px\"viewBox=\"0 0 24 24\"\n",
              "       width=\"24px\">\n",
              "    <path d=\"M0 0h24v24H0V0z\" fill=\"none\"/>\n",
              "    <path d=\"M18.56 5.44l.94 2.06.94-2.06 2.06-.94-2.06-.94-.94-2.06-.94 2.06-2.06.94zm-11 1L8.5 8.5l.94-2.06 2.06-.94-2.06-.94L8.5 2.5l-.94 2.06-2.06.94zm10 10l.94 2.06.94-2.06 2.06-.94-2.06-.94-.94-2.06-.94 2.06-2.06.94z\"/><path d=\"M17.41 7.96l-1.37-1.37c-.4-.4-.92-.59-1.43-.59-.52 0-1.04.2-1.43.59L10.3 9.45l-7.72 7.72c-.78.78-.78 2.05 0 2.83L4 21.41c.39.39.9.59 1.41.59.51 0 1.02-.2 1.41-.59l7.78-7.78 2.81-2.81c.8-.78.8-2.07 0-2.86zM5.41 20L4 18.59l7.72-7.72 1.47 1.35L5.41 20z\"/>\n",
              "  </svg>\n",
              "      </button>\n",
              "      \n",
              "  <style>\n",
              "    .colab-df-container {\n",
              "      display:flex;\n",
              "      flex-wrap:wrap;\n",
              "      gap: 12px;\n",
              "    }\n",
              "\n",
              "    .colab-df-convert {\n",
              "      background-color: #E8F0FE;\n",
              "      border: none;\n",
              "      border-radius: 50%;\n",
              "      cursor: pointer;\n",
              "      display: none;\n",
              "      fill: #1967D2;\n",
              "      height: 32px;\n",
              "      padding: 0 0 0 0;\n",
              "      width: 32px;\n",
              "    }\n",
              "\n",
              "    .colab-df-convert:hover {\n",
              "      background-color: #E2EBFA;\n",
              "      box-shadow: 0px 1px 2px rgba(60, 64, 67, 0.3), 0px 1px 3px 1px rgba(60, 64, 67, 0.15);\n",
              "      fill: #174EA6;\n",
              "    }\n",
              "\n",
              "    [theme=dark] .colab-df-convert {\n",
              "      background-color: #3B4455;\n",
              "      fill: #D2E3FC;\n",
              "    }\n",
              "\n",
              "    [theme=dark] .colab-df-convert:hover {\n",
              "      background-color: #434B5C;\n",
              "      box-shadow: 0px 1px 3px 1px rgba(0, 0, 0, 0.15);\n",
              "      filter: drop-shadow(0px 1px 2px rgba(0, 0, 0, 0.3));\n",
              "      fill: #FFFFFF;\n",
              "    }\n",
              "  </style>\n",
              "\n",
              "      <script>\n",
              "        const buttonEl =\n",
              "          document.querySelector('#df-511d7aed-ee6b-4343-b9e8-a8bdaf101f1c button.colab-df-convert');\n",
              "        buttonEl.style.display =\n",
              "          google.colab.kernel.accessAllowed ? 'block' : 'none';\n",
              "\n",
              "        async function convertToInteractive(key) {\n",
              "          const element = document.querySelector('#df-511d7aed-ee6b-4343-b9e8-a8bdaf101f1c');\n",
              "          const dataTable =\n",
              "            await google.colab.kernel.invokeFunction('convertToInteractive',\n",
              "                                                     [key], {});\n",
              "          if (!dataTable) return;\n",
              "\n",
              "          const docLinkHtml = 'Like what you see? Visit the ' +\n",
              "            '<a target=\"_blank\" href=https://colab.research.google.com/notebooks/data_table.ipynb>data table notebook</a>'\n",
              "            + ' to learn more about interactive tables.';\n",
              "          element.innerHTML = '';\n",
              "          dataTable['output_type'] = 'display_data';\n",
              "          await google.colab.output.renderOutput(dataTable, element);\n",
              "          const docLink = document.createElement('div');\n",
              "          docLink.innerHTML = docLinkHtml;\n",
              "          element.appendChild(docLink);\n",
              "        }\n",
              "      </script>\n",
              "    </div>\n",
              "  </div>\n",
              "  "
            ]
          },
          "metadata": {},
          "execution_count": 46
        }
      ]
    },
    {
      "cell_type": "code",
      "source": [
        "#group_by duration and target_ages                 \n",
        "group_by_= df_hypothesis[['duration','target_ages']].groupby(by='target_ages')\n",
        "#mean of group_by variable\n",
        "group=group_by_.mean().reset_index()\n",
        "group"
      ],
      "metadata": {
        "colab": {
          "base_uri": "https://localhost:8080/",
          "height": 175
        },
        "id": "3BZddNTuR21W",
        "outputId": "455048f3-6e70-4a86-95d6-fcfe9a2a847c"
      },
      "execution_count": null,
      "outputs": [
        {
          "output_type": "execute_result",
          "data": {
            "text/plain": [
              "  target_ages    duration\n",
              "0        Kids   66.486891\n",
              "1  Older Kids   92.024648\n",
              "2       Teens  110.025332\n",
              "3      Adults   98.275145"
            ],
            "text/html": [
              "\n",
              "  <div id=\"df-e7953cd2-b194-421c-9bd1-6b3b0e3b2da7\">\n",
              "    <div class=\"colab-df-container\">\n",
              "      <div>\n",
              "<style scoped>\n",
              "    .dataframe tbody tr th:only-of-type {\n",
              "        vertical-align: middle;\n",
              "    }\n",
              "\n",
              "    .dataframe tbody tr th {\n",
              "        vertical-align: top;\n",
              "    }\n",
              "\n",
              "    .dataframe thead th {\n",
              "        text-align: right;\n",
              "    }\n",
              "</style>\n",
              "<table border=\"1\" class=\"dataframe\">\n",
              "  <thead>\n",
              "    <tr style=\"text-align: right;\">\n",
              "      <th></th>\n",
              "      <th>target_ages</th>\n",
              "      <th>duration</th>\n",
              "    </tr>\n",
              "  </thead>\n",
              "  <tbody>\n",
              "    <tr>\n",
              "      <th>0</th>\n",
              "      <td>Kids</td>\n",
              "      <td>66.486891</td>\n",
              "    </tr>\n",
              "    <tr>\n",
              "      <th>1</th>\n",
              "      <td>Older Kids</td>\n",
              "      <td>92.024648</td>\n",
              "    </tr>\n",
              "    <tr>\n",
              "      <th>2</th>\n",
              "      <td>Teens</td>\n",
              "      <td>110.025332</td>\n",
              "    </tr>\n",
              "    <tr>\n",
              "      <th>3</th>\n",
              "      <td>Adults</td>\n",
              "      <td>98.275145</td>\n",
              "    </tr>\n",
              "  </tbody>\n",
              "</table>\n",
              "</div>\n",
              "      <button class=\"colab-df-convert\" onclick=\"convertToInteractive('df-e7953cd2-b194-421c-9bd1-6b3b0e3b2da7')\"\n",
              "              title=\"Convert this dataframe to an interactive table.\"\n",
              "              style=\"display:none;\">\n",
              "        \n",
              "  <svg xmlns=\"http://www.w3.org/2000/svg\" height=\"24px\"viewBox=\"0 0 24 24\"\n",
              "       width=\"24px\">\n",
              "    <path d=\"M0 0h24v24H0V0z\" fill=\"none\"/>\n",
              "    <path d=\"M18.56 5.44l.94 2.06.94-2.06 2.06-.94-2.06-.94-.94-2.06-.94 2.06-2.06.94zm-11 1L8.5 8.5l.94-2.06 2.06-.94-2.06-.94L8.5 2.5l-.94 2.06-2.06.94zm10 10l.94 2.06.94-2.06 2.06-.94-2.06-.94-.94-2.06-.94 2.06-2.06.94z\"/><path d=\"M17.41 7.96l-1.37-1.37c-.4-.4-.92-.59-1.43-.59-.52 0-1.04.2-1.43.59L10.3 9.45l-7.72 7.72c-.78.78-.78 2.05 0 2.83L4 21.41c.39.39.9.59 1.41.59.51 0 1.02-.2 1.41-.59l7.78-7.78 2.81-2.81c.8-.78.8-2.07 0-2.86zM5.41 20L4 18.59l7.72-7.72 1.47 1.35L5.41 20z\"/>\n",
              "  </svg>\n",
              "      </button>\n",
              "      \n",
              "  <style>\n",
              "    .colab-df-container {\n",
              "      display:flex;\n",
              "      flex-wrap:wrap;\n",
              "      gap: 12px;\n",
              "    }\n",
              "\n",
              "    .colab-df-convert {\n",
              "      background-color: #E8F0FE;\n",
              "      border: none;\n",
              "      border-radius: 50%;\n",
              "      cursor: pointer;\n",
              "      display: none;\n",
              "      fill: #1967D2;\n",
              "      height: 32px;\n",
              "      padding: 0 0 0 0;\n",
              "      width: 32px;\n",
              "    }\n",
              "\n",
              "    .colab-df-convert:hover {\n",
              "      background-color: #E2EBFA;\n",
              "      box-shadow: 0px 1px 2px rgba(60, 64, 67, 0.3), 0px 1px 3px 1px rgba(60, 64, 67, 0.15);\n",
              "      fill: #174EA6;\n",
              "    }\n",
              "\n",
              "    [theme=dark] .colab-df-convert {\n",
              "      background-color: #3B4455;\n",
              "      fill: #D2E3FC;\n",
              "    }\n",
              "\n",
              "    [theme=dark] .colab-df-convert:hover {\n",
              "      background-color: #434B5C;\n",
              "      box-shadow: 0px 1px 3px 1px rgba(0, 0, 0, 0.15);\n",
              "      filter: drop-shadow(0px 1px 2px rgba(0, 0, 0, 0.3));\n",
              "      fill: #FFFFFF;\n",
              "    }\n",
              "  </style>\n",
              "\n",
              "      <script>\n",
              "        const buttonEl =\n",
              "          document.querySelector('#df-e7953cd2-b194-421c-9bd1-6b3b0e3b2da7 button.colab-df-convert');\n",
              "        buttonEl.style.display =\n",
              "          google.colab.kernel.accessAllowed ? 'block' : 'none';\n",
              "\n",
              "        async function convertToInteractive(key) {\n",
              "          const element = document.querySelector('#df-e7953cd2-b194-421c-9bd1-6b3b0e3b2da7');\n",
              "          const dataTable =\n",
              "            await google.colab.kernel.invokeFunction('convertToInteractive',\n",
              "                                                     [key], {});\n",
              "          if (!dataTable) return;\n",
              "\n",
              "          const docLinkHtml = 'Like what you see? Visit the ' +\n",
              "            '<a target=\"_blank\" href=https://colab.research.google.com/notebooks/data_table.ipynb>data table notebook</a>'\n",
              "            + ' to learn more about interactive tables.';\n",
              "          element.innerHTML = '';\n",
              "          dataTable['output_type'] = 'display_data';\n",
              "          await google.colab.output.renderOutput(dataTable, element);\n",
              "          const docLink = document.createElement('div');\n",
              "          docLink.innerHTML = docLinkHtml;\n",
              "          element.appendChild(docLink);\n",
              "        }\n",
              "      </script>\n",
              "    </div>\n",
              "  </div>\n",
              "  "
            ]
          },
          "metadata": {},
          "execution_count": 47
        }
      ]
    },
    {
      "cell_type": "code",
      "source": [
        "\n",
        "#In A and B variable grouping values \n",
        "A= group_by_.get_group('Kids')\n",
        "B= group_by_.get_group('Older Kids')\n",
        "#mean and std. calutation for kids and older kids variables\n",
        "M1 = A.mean()\n",
        "S1 = A.std()\n",
        "\n",
        "M2= B.mean()\n",
        "S2 = B.std()\n",
        "\n",
        "print('Mean for movies rated for Kids {} \\n Mean for  movies rated for older kids {}'.format(M1,M2))\n",
        "print('Std for  movies rated for Older Kids {} \\n Std for  movies rated for kids {}'.format(S2,S1))"
      ],
      "metadata": {
        "colab": {
          "base_uri": "https://localhost:8080/"
        },
        "id": "KMmAiZvhR24M",
        "outputId": "aeaafee3-216f-469b-a540-28eb8f4a6a60"
      },
      "execution_count": null,
      "outputs": [
        {
          "output_type": "stream",
          "name": "stdout",
          "text": [
            "Mean for movies rated for Kids duration    66.486891\n",
            "dtype: float64 \n",
            " Mean for  movies rated for older kids duration    92.024648\n",
            "dtype: float64\n",
            "Std for  movies rated for Older Kids duration    31.182577\n",
            "dtype: float64 \n",
            " Std for  movies rated for kids duration    31.739465\n",
            "dtype: float64\n"
          ]
        },
        {
          "output_type": "stream",
          "name": "stderr",
          "text": [
            "<ipython-input-48-0e65087deef1>:5: FutureWarning: Dropping of nuisance columns in DataFrame reductions (with 'numeric_only=None') is deprecated; in a future version this will raise TypeError.  Select only valid columns before calling the reduction.\n",
            "  M1 = A.mean()\n",
            "<ipython-input-48-0e65087deef1>:6: FutureWarning: Dropping of nuisance columns in DataFrame reductions (with 'numeric_only=None') is deprecated; in a future version this will raise TypeError.  Select only valid columns before calling the reduction.\n",
            "  S1 = A.std()\n",
            "<ipython-input-48-0e65087deef1>:8: FutureWarning: Dropping of nuisance columns in DataFrame reductions (with 'numeric_only=None') is deprecated; in a future version this will raise TypeError.  Select only valid columns before calling the reduction.\n",
            "  M2= B.mean()\n",
            "<ipython-input-48-0e65087deef1>:9: FutureWarning: Dropping of nuisance columns in DataFrame reductions (with 'numeric_only=None') is deprecated; in a future version this will raise TypeError.  Select only valid columns before calling the reduction.\n",
            "  S2 = B.std()\n"
          ]
        }
      ]
    },
    {
      "cell_type": "code",
      "source": [
        "\n",
        "#import stats \n",
        "from scipy import stats\n",
        "#length of groups and DOF\n",
        "n1 = len(A)\n",
        "n2= len(B)\n",
        "print(n1,n2)\n",
        "\n",
        "dof = n1+n2-2\n",
        "print('dof',dof)\n",
        "\n",
        "sp_2 = ((n2-1)*S1**2  + (n1-1)*S2**2) / dof\n",
        "print('SP_2 =',sp_2)\n",
        "\n",
        "sp = np.sqrt(sp_2)\n",
        "print('SP',sp)\n",
        "\n",
        "#tvalue\n",
        "t_val = (M1-M2)/(sp * np.sqrt(1/n1 + 1/n2))\n",
        "print('tvalue',t_val[0])"
      ],
      "metadata": {
        "colab": {
          "base_uri": "https://localhost:8080/"
        },
        "id": "MsY5800cSHSG",
        "outputId": "8fe2b2e6-4f18-4c39-e9f6-067a36486d68"
      },
      "execution_count": null,
      "outputs": [
        {
          "output_type": "stream",
          "name": "stdout",
          "text": [
            "267 852\n",
            "dof 1117\n",
            "SP_2 = duration    999.049147\n",
            "dtype: float64\n",
            "SP duration    31.607739\n",
            "dtype: float64\n",
            "tvalue -11.51992627853396\n"
          ]
        }
      ]
    },
    {
      "cell_type": "code",
      "source": [
        "#t-distribution\n",
        "stats.t.ppf(0.025,dof)"
      ],
      "metadata": {
        "colab": {
          "base_uri": "https://localhost:8080/"
        },
        "id": "F7RLJ0ohSHVa",
        "outputId": "e6b9e3d2-7c27-4311-a941-99fe9a9748bb"
      },
      "execution_count": null,
      "outputs": [
        {
          "output_type": "execute_result",
          "data": {
            "text/plain": [
              "-1.9620900365868952"
            ]
          },
          "metadata": {},
          "execution_count": 50
        }
      ]
    },
    {
      "cell_type": "code",
      "source": [
        "#t-distribution\n",
        "stats.t.ppf(0.975,dof)"
      ],
      "metadata": {
        "colab": {
          "base_uri": "https://localhost:8080/"
        },
        "id": "eBx9RYWtSHZM",
        "outputId": "a8e55f9e-7b96-4a9d-b3be-c7f6f213387a"
      },
      "execution_count": null,
      "outputs": [
        {
          "output_type": "execute_result",
          "data": {
            "text/plain": [
              "1.9620900365868947"
            ]
          },
          "metadata": {},
          "execution_count": 51
        }
      ]
    },
    {
      "cell_type": "markdown",
      "source": [
        "##### Which statistical test have you done to obtain P-Value?"
      ],
      "metadata": {
        "id": "Ou-I18pAyIpj"
      }
    },
    {
      "cell_type": "markdown",
      "source": [
        "T-values are a type of test statistic. Hypothesis tests use the test statistic that is calculated from your sample to compare your sample to the null hypothesis. If the test statistic is extreme enough, this indicates that your data are so incompatible with the null hypothesis that you can reject the null."
      ],
      "metadata": {
        "id": "s2U0kk00ygSB"
      }
    },
    {
      "cell_type": "markdown",
      "source": [
        "##### Why did you choose the specific statistical test?"
      ],
      "metadata": {
        "id": "fF3858GYyt-u"
      }
    },
    {
      "cell_type": "markdown",
      "source": [
        "Because the t-value is not in the range, the null hypothesis is rejected.\n",
        "\n",
        "As a result, movies rated for kids and older kids are not at least two hours long."
      ],
      "metadata": {
        "id": "HO4K0gP5y3B4"
      }
    },
    {
      "cell_type": "markdown",
      "source": [
        "### Hypothetical Statement - 2"
      ],
      "metadata": {
        "id": "4_0_7-oCpUZd"
      }
    },
    {
      "cell_type": "markdown",
      "source": [
        "#### 1. State Your research hypothesis as a null hypothesis and alternate hypothesis."
      ],
      "metadata": {
        "id": "hwyV_J3ipUZe"
      }
    },
    {
      "cell_type": "markdown",
      "source": [
        "H1:The duration which is more than 90 mins are movies\n",
        "\n",
        "HO:The duration which is more than 90 mins are NOT movies"
      ],
      "metadata": {
        "id": "FnpLGJ-4pUZe"
      }
    },
    {
      "cell_type": "markdown",
      "source": [
        "#### 2. Perform an appropriate statistical test."
      ],
      "metadata": {
        "id": "3yB-zSqbpUZe"
      }
    },
    {
      "cell_type": "code",
      "source": [
        "# Perform Statistical Test to obtain P-Value\n",
        "#making copy of df_clean_frame\n",
        "df_hypothesis=df.copy()\n",
        "#head of df_hypothesis\n",
        "df_hypothesis.head()"
      ],
      "metadata": {
        "id": "sWxdNTXNpUZe",
        "colab": {
          "base_uri": "https://localhost:8080/",
          "height": 424
        },
        "outputId": "64611685-d749-4960-cd52-6f8e3e5837fe"
      },
      "execution_count": null,
      "outputs": [
        {
          "output_type": "execute_result",
          "data": {
            "text/plain": [
              "  show_id     type  title           director  \\\n",
              "0      s1  TV Show     3%            unknown   \n",
              "1      s2    Movie   7:19  Jorge Michel Grau   \n",
              "2      s3    Movie  23:59       Gilbert Chan   \n",
              "3      s4    Movie      9        Shane Acker   \n",
              "4      s5    Movie     21     Robert Luketic   \n",
              "\n",
              "                                                cast        country  \\\n",
              "0  João Miguel, Bianca Comparato, Michel Gomes, R...         Brazil   \n",
              "1  Demián Bichir, Héctor Bonilla, Oscar Serrano, ...         Mexico   \n",
              "2  Tedd Chan, Stella Chung, Henley Hii, Lawrence ...      Singapore   \n",
              "3  Elijah Wood, John C. Reilly, Jennifer Connelly...  United States   \n",
              "4  Jim Sturgess, Kevin Spacey, Kate Bosworth, Aar...  United States   \n",
              "\n",
              "  date_added  release_year rating   duration  \\\n",
              "0 2020-08-14          2020  TV-MA  4 Seasons   \n",
              "1 2016-12-23          2016  TV-MA     93 min   \n",
              "2 2018-12-20          2011      R     78 min   \n",
              "3 2017-11-16          2009  PG-13     80 min   \n",
              "4 2020-01-01          2008  PG-13    123 min   \n",
              "\n",
              "                                           listed_in  \\\n",
              "0  International TV Shows, TV Dramas, TV Sci-Fi &...   \n",
              "1                       Dramas, International Movies   \n",
              "2                Horror Movies, International Movies   \n",
              "3  Action & Adventure, Independent Movies, Sci-Fi...   \n",
              "4                                             Dramas   \n",
              "\n",
              "                                         description  \\\n",
              "0  In a future where the elite inhabit an island ...   \n",
              "1  After a devastating earthquake hits Mexico Cit...   \n",
              "2  When an army recruit is found dead, his fellow...   \n",
              "3  In a postapocalyptic world, rag-doll robots hi...   \n",
              "4  A brilliant group of students become card-coun...   \n",
              "\n",
              "                            Genres  \n",
              "0            [Drama, SciFiFantasy]  \n",
              "1                          [Drama]  \n",
              "2                         [Horror]  \n",
              "3  [ActionAdventure, SciFiFantasy]  \n",
              "4                          [Drama]  "
            ],
            "text/html": [
              "\n",
              "  <div id=\"df-3f4e70ae-6907-44f5-98ec-1141001c30fc\">\n",
              "    <div class=\"colab-df-container\">\n",
              "      <div>\n",
              "<style scoped>\n",
              "    .dataframe tbody tr th:only-of-type {\n",
              "        vertical-align: middle;\n",
              "    }\n",
              "\n",
              "    .dataframe tbody tr th {\n",
              "        vertical-align: top;\n",
              "    }\n",
              "\n",
              "    .dataframe thead th {\n",
              "        text-align: right;\n",
              "    }\n",
              "</style>\n",
              "<table border=\"1\" class=\"dataframe\">\n",
              "  <thead>\n",
              "    <tr style=\"text-align: right;\">\n",
              "      <th></th>\n",
              "      <th>show_id</th>\n",
              "      <th>type</th>\n",
              "      <th>title</th>\n",
              "      <th>director</th>\n",
              "      <th>cast</th>\n",
              "      <th>country</th>\n",
              "      <th>date_added</th>\n",
              "      <th>release_year</th>\n",
              "      <th>rating</th>\n",
              "      <th>duration</th>\n",
              "      <th>listed_in</th>\n",
              "      <th>description</th>\n",
              "      <th>Genres</th>\n",
              "    </tr>\n",
              "  </thead>\n",
              "  <tbody>\n",
              "    <tr>\n",
              "      <th>0</th>\n",
              "      <td>s1</td>\n",
              "      <td>TV Show</td>\n",
              "      <td>3%</td>\n",
              "      <td>unknown</td>\n",
              "      <td>João Miguel, Bianca Comparato, Michel Gomes, R...</td>\n",
              "      <td>Brazil</td>\n",
              "      <td>2020-08-14</td>\n",
              "      <td>2020</td>\n",
              "      <td>TV-MA</td>\n",
              "      <td>4 Seasons</td>\n",
              "      <td>International TV Shows, TV Dramas, TV Sci-Fi &amp;...</td>\n",
              "      <td>In a future where the elite inhabit an island ...</td>\n",
              "      <td>[Drama, SciFiFantasy]</td>\n",
              "    </tr>\n",
              "    <tr>\n",
              "      <th>1</th>\n",
              "      <td>s2</td>\n",
              "      <td>Movie</td>\n",
              "      <td>7:19</td>\n",
              "      <td>Jorge Michel Grau</td>\n",
              "      <td>Demián Bichir, Héctor Bonilla, Oscar Serrano, ...</td>\n",
              "      <td>Mexico</td>\n",
              "      <td>2016-12-23</td>\n",
              "      <td>2016</td>\n",
              "      <td>TV-MA</td>\n",
              "      <td>93 min</td>\n",
              "      <td>Dramas, International Movies</td>\n",
              "      <td>After a devastating earthquake hits Mexico Cit...</td>\n",
              "      <td>[Drama]</td>\n",
              "    </tr>\n",
              "    <tr>\n",
              "      <th>2</th>\n",
              "      <td>s3</td>\n",
              "      <td>Movie</td>\n",
              "      <td>23:59</td>\n",
              "      <td>Gilbert Chan</td>\n",
              "      <td>Tedd Chan, Stella Chung, Henley Hii, Lawrence ...</td>\n",
              "      <td>Singapore</td>\n",
              "      <td>2018-12-20</td>\n",
              "      <td>2011</td>\n",
              "      <td>R</td>\n",
              "      <td>78 min</td>\n",
              "      <td>Horror Movies, International Movies</td>\n",
              "      <td>When an army recruit is found dead, his fellow...</td>\n",
              "      <td>[Horror]</td>\n",
              "    </tr>\n",
              "    <tr>\n",
              "      <th>3</th>\n",
              "      <td>s4</td>\n",
              "      <td>Movie</td>\n",
              "      <td>9</td>\n",
              "      <td>Shane Acker</td>\n",
              "      <td>Elijah Wood, John C. Reilly, Jennifer Connelly...</td>\n",
              "      <td>United States</td>\n",
              "      <td>2017-11-16</td>\n",
              "      <td>2009</td>\n",
              "      <td>PG-13</td>\n",
              "      <td>80 min</td>\n",
              "      <td>Action &amp; Adventure, Independent Movies, Sci-Fi...</td>\n",
              "      <td>In a postapocalyptic world, rag-doll robots hi...</td>\n",
              "      <td>[ActionAdventure, SciFiFantasy]</td>\n",
              "    </tr>\n",
              "    <tr>\n",
              "      <th>4</th>\n",
              "      <td>s5</td>\n",
              "      <td>Movie</td>\n",
              "      <td>21</td>\n",
              "      <td>Robert Luketic</td>\n",
              "      <td>Jim Sturgess, Kevin Spacey, Kate Bosworth, Aar...</td>\n",
              "      <td>United States</td>\n",
              "      <td>2020-01-01</td>\n",
              "      <td>2008</td>\n",
              "      <td>PG-13</td>\n",
              "      <td>123 min</td>\n",
              "      <td>Dramas</td>\n",
              "      <td>A brilliant group of students become card-coun...</td>\n",
              "      <td>[Drama]</td>\n",
              "    </tr>\n",
              "  </tbody>\n",
              "</table>\n",
              "</div>\n",
              "      <button class=\"colab-df-convert\" onclick=\"convertToInteractive('df-3f4e70ae-6907-44f5-98ec-1141001c30fc')\"\n",
              "              title=\"Convert this dataframe to an interactive table.\"\n",
              "              style=\"display:none;\">\n",
              "        \n",
              "  <svg xmlns=\"http://www.w3.org/2000/svg\" height=\"24px\"viewBox=\"0 0 24 24\"\n",
              "       width=\"24px\">\n",
              "    <path d=\"M0 0h24v24H0V0z\" fill=\"none\"/>\n",
              "    <path d=\"M18.56 5.44l.94 2.06.94-2.06 2.06-.94-2.06-.94-.94-2.06-.94 2.06-2.06.94zm-11 1L8.5 8.5l.94-2.06 2.06-.94-2.06-.94L8.5 2.5l-.94 2.06-2.06.94zm10 10l.94 2.06.94-2.06 2.06-.94-2.06-.94-.94-2.06-.94 2.06-2.06.94z\"/><path d=\"M17.41 7.96l-1.37-1.37c-.4-.4-.92-.59-1.43-.59-.52 0-1.04.2-1.43.59L10.3 9.45l-7.72 7.72c-.78.78-.78 2.05 0 2.83L4 21.41c.39.39.9.59 1.41.59.51 0 1.02-.2 1.41-.59l7.78-7.78 2.81-2.81c.8-.78.8-2.07 0-2.86zM5.41 20L4 18.59l7.72-7.72 1.47 1.35L5.41 20z\"/>\n",
              "  </svg>\n",
              "      </button>\n",
              "      \n",
              "  <style>\n",
              "    .colab-df-container {\n",
              "      display:flex;\n",
              "      flex-wrap:wrap;\n",
              "      gap: 12px;\n",
              "    }\n",
              "\n",
              "    .colab-df-convert {\n",
              "      background-color: #E8F0FE;\n",
              "      border: none;\n",
              "      border-radius: 50%;\n",
              "      cursor: pointer;\n",
              "      display: none;\n",
              "      fill: #1967D2;\n",
              "      height: 32px;\n",
              "      padding: 0 0 0 0;\n",
              "      width: 32px;\n",
              "    }\n",
              "\n",
              "    .colab-df-convert:hover {\n",
              "      background-color: #E2EBFA;\n",
              "      box-shadow: 0px 1px 2px rgba(60, 64, 67, 0.3), 0px 1px 3px 1px rgba(60, 64, 67, 0.15);\n",
              "      fill: #174EA6;\n",
              "    }\n",
              "\n",
              "    [theme=dark] .colab-df-convert {\n",
              "      background-color: #3B4455;\n",
              "      fill: #D2E3FC;\n",
              "    }\n",
              "\n",
              "    [theme=dark] .colab-df-convert:hover {\n",
              "      background-color: #434B5C;\n",
              "      box-shadow: 0px 1px 3px 1px rgba(0, 0, 0, 0.15);\n",
              "      filter: drop-shadow(0px 1px 2px rgba(0, 0, 0, 0.3));\n",
              "      fill: #FFFFFF;\n",
              "    }\n",
              "  </style>\n",
              "\n",
              "      <script>\n",
              "        const buttonEl =\n",
              "          document.querySelector('#df-3f4e70ae-6907-44f5-98ec-1141001c30fc button.colab-df-convert');\n",
              "        buttonEl.style.display =\n",
              "          google.colab.kernel.accessAllowed ? 'block' : 'none';\n",
              "\n",
              "        async function convertToInteractive(key) {\n",
              "          const element = document.querySelector('#df-3f4e70ae-6907-44f5-98ec-1141001c30fc');\n",
              "          const dataTable =\n",
              "            await google.colab.kernel.invokeFunction('convertToInteractive',\n",
              "                                                     [key], {});\n",
              "          if (!dataTable) return;\n",
              "\n",
              "          const docLinkHtml = 'Like what you see? Visit the ' +\n",
              "            '<a target=\"_blank\" href=https://colab.research.google.com/notebooks/data_table.ipynb>data table notebook</a>'\n",
              "            + ' to learn more about interactive tables.';\n",
              "          element.innerHTML = '';\n",
              "          dataTable['output_type'] = 'display_data';\n",
              "          await google.colab.output.renderOutput(dataTable, element);\n",
              "          const docLink = document.createElement('div');\n",
              "          docLink.innerHTML = docLinkHtml;\n",
              "          element.appendChild(docLink);\n",
              "        }\n",
              "      </script>\n",
              "    </div>\n",
              "  </div>\n",
              "  "
            ]
          },
          "metadata": {},
          "execution_count": 52
        }
      ]
    },
    {
      "cell_type": "code",
      "source": [
        "df_hypothesis['duration']= df_hypothesis['duration'].str.extract('(\\d+)')\n",
        "df_hypothesis['duration'] = pd.to_numeric(df_hypothesis['duration'])\n",
        "#head of df_"
      ],
      "metadata": {
        "id": "Hb94exLGTS1J"
      },
      "execution_count": null,
      "outputs": []
    },
    {
      "cell_type": "code",
      "source": [
        "df_hypothesis['type'] = pd.Categorical(df_hypothesis['type'], categories=['Movie','TV Show'])\n",
        "#from duration feature extractin string part and after extracting Changing the object type to numeric\n",
        "#df_hypothesis['duration']= df_hypothesis['duration'].str.extract('(\\d+)')\n",
        "#df_hypothesis['duration'] = pd.to_numeric(df_hypothesis['duration'])\n",
        "#head of df_\n",
        "df_hypothesis.head(3)"
      ],
      "metadata": {
        "colab": {
          "base_uri": "https://localhost:8080/",
          "height": 274
        },
        "id": "UnTeInxZTS-t",
        "outputId": "414c0868-3879-4969-9f60-2c6c7a419593"
      },
      "execution_count": null,
      "outputs": [
        {
          "output_type": "execute_result",
          "data": {
            "text/plain": [
              "  show_id     type  title           director  \\\n",
              "0      s1  TV Show     3%            unknown   \n",
              "1      s2    Movie   7:19  Jorge Michel Grau   \n",
              "2      s3    Movie  23:59       Gilbert Chan   \n",
              "\n",
              "                                                cast    country date_added  \\\n",
              "0  João Miguel, Bianca Comparato, Michel Gomes, R...     Brazil 2020-08-14   \n",
              "1  Demián Bichir, Héctor Bonilla, Oscar Serrano, ...     Mexico 2016-12-23   \n",
              "2  Tedd Chan, Stella Chung, Henley Hii, Lawrence ...  Singapore 2018-12-20   \n",
              "\n",
              "   release_year rating  duration  \\\n",
              "0          2020  TV-MA         4   \n",
              "1          2016  TV-MA        93   \n",
              "2          2011      R        78   \n",
              "\n",
              "                                           listed_in  \\\n",
              "0  International TV Shows, TV Dramas, TV Sci-Fi &...   \n",
              "1                       Dramas, International Movies   \n",
              "2                Horror Movies, International Movies   \n",
              "\n",
              "                                         description                 Genres  \n",
              "0  In a future where the elite inhabit an island ...  [Drama, SciFiFantasy]  \n",
              "1  After a devastating earthquake hits Mexico Cit...                [Drama]  \n",
              "2  When an army recruit is found dead, his fellow...               [Horror]  "
            ],
            "text/html": [
              "\n",
              "  <div id=\"df-f8a0e380-9d77-42fb-bb18-10c8f96bc6f3\">\n",
              "    <div class=\"colab-df-container\">\n",
              "      <div>\n",
              "<style scoped>\n",
              "    .dataframe tbody tr th:only-of-type {\n",
              "        vertical-align: middle;\n",
              "    }\n",
              "\n",
              "    .dataframe tbody tr th {\n",
              "        vertical-align: top;\n",
              "    }\n",
              "\n",
              "    .dataframe thead th {\n",
              "        text-align: right;\n",
              "    }\n",
              "</style>\n",
              "<table border=\"1\" class=\"dataframe\">\n",
              "  <thead>\n",
              "    <tr style=\"text-align: right;\">\n",
              "      <th></th>\n",
              "      <th>show_id</th>\n",
              "      <th>type</th>\n",
              "      <th>title</th>\n",
              "      <th>director</th>\n",
              "      <th>cast</th>\n",
              "      <th>country</th>\n",
              "      <th>date_added</th>\n",
              "      <th>release_year</th>\n",
              "      <th>rating</th>\n",
              "      <th>duration</th>\n",
              "      <th>listed_in</th>\n",
              "      <th>description</th>\n",
              "      <th>Genres</th>\n",
              "    </tr>\n",
              "  </thead>\n",
              "  <tbody>\n",
              "    <tr>\n",
              "      <th>0</th>\n",
              "      <td>s1</td>\n",
              "      <td>TV Show</td>\n",
              "      <td>3%</td>\n",
              "      <td>unknown</td>\n",
              "      <td>João Miguel, Bianca Comparato, Michel Gomes, R...</td>\n",
              "      <td>Brazil</td>\n",
              "      <td>2020-08-14</td>\n",
              "      <td>2020</td>\n",
              "      <td>TV-MA</td>\n",
              "      <td>4</td>\n",
              "      <td>International TV Shows, TV Dramas, TV Sci-Fi &amp;...</td>\n",
              "      <td>In a future where the elite inhabit an island ...</td>\n",
              "      <td>[Drama, SciFiFantasy]</td>\n",
              "    </tr>\n",
              "    <tr>\n",
              "      <th>1</th>\n",
              "      <td>s2</td>\n",
              "      <td>Movie</td>\n",
              "      <td>7:19</td>\n",
              "      <td>Jorge Michel Grau</td>\n",
              "      <td>Demián Bichir, Héctor Bonilla, Oscar Serrano, ...</td>\n",
              "      <td>Mexico</td>\n",
              "      <td>2016-12-23</td>\n",
              "      <td>2016</td>\n",
              "      <td>TV-MA</td>\n",
              "      <td>93</td>\n",
              "      <td>Dramas, International Movies</td>\n",
              "      <td>After a devastating earthquake hits Mexico Cit...</td>\n",
              "      <td>[Drama]</td>\n",
              "    </tr>\n",
              "    <tr>\n",
              "      <th>2</th>\n",
              "      <td>s3</td>\n",
              "      <td>Movie</td>\n",
              "      <td>23:59</td>\n",
              "      <td>Gilbert Chan</td>\n",
              "      <td>Tedd Chan, Stella Chung, Henley Hii, Lawrence ...</td>\n",
              "      <td>Singapore</td>\n",
              "      <td>2018-12-20</td>\n",
              "      <td>2011</td>\n",
              "      <td>R</td>\n",
              "      <td>78</td>\n",
              "      <td>Horror Movies, International Movies</td>\n",
              "      <td>When an army recruit is found dead, his fellow...</td>\n",
              "      <td>[Horror]</td>\n",
              "    </tr>\n",
              "  </tbody>\n",
              "</table>\n",
              "</div>\n",
              "      <button class=\"colab-df-convert\" onclick=\"convertToInteractive('df-f8a0e380-9d77-42fb-bb18-10c8f96bc6f3')\"\n",
              "              title=\"Convert this dataframe to an interactive table.\"\n",
              "              style=\"display:none;\">\n",
              "        \n",
              "  <svg xmlns=\"http://www.w3.org/2000/svg\" height=\"24px\"viewBox=\"0 0 24 24\"\n",
              "       width=\"24px\">\n",
              "    <path d=\"M0 0h24v24H0V0z\" fill=\"none\"/>\n",
              "    <path d=\"M18.56 5.44l.94 2.06.94-2.06 2.06-.94-2.06-.94-.94-2.06-.94 2.06-2.06.94zm-11 1L8.5 8.5l.94-2.06 2.06-.94-2.06-.94L8.5 2.5l-.94 2.06-2.06.94zm10 10l.94 2.06.94-2.06 2.06-.94-2.06-.94-.94-2.06-.94 2.06-2.06.94z\"/><path d=\"M17.41 7.96l-1.37-1.37c-.4-.4-.92-.59-1.43-.59-.52 0-1.04.2-1.43.59L10.3 9.45l-7.72 7.72c-.78.78-.78 2.05 0 2.83L4 21.41c.39.39.9.59 1.41.59.51 0 1.02-.2 1.41-.59l7.78-7.78 2.81-2.81c.8-.78.8-2.07 0-2.86zM5.41 20L4 18.59l7.72-7.72 1.47 1.35L5.41 20z\"/>\n",
              "  </svg>\n",
              "      </button>\n",
              "      \n",
              "  <style>\n",
              "    .colab-df-container {\n",
              "      display:flex;\n",
              "      flex-wrap:wrap;\n",
              "      gap: 12px;\n",
              "    }\n",
              "\n",
              "    .colab-df-convert {\n",
              "      background-color: #E8F0FE;\n",
              "      border: none;\n",
              "      border-radius: 50%;\n",
              "      cursor: pointer;\n",
              "      display: none;\n",
              "      fill: #1967D2;\n",
              "      height: 32px;\n",
              "      padding: 0 0 0 0;\n",
              "      width: 32px;\n",
              "    }\n",
              "\n",
              "    .colab-df-convert:hover {\n",
              "      background-color: #E2EBFA;\n",
              "      box-shadow: 0px 1px 2px rgba(60, 64, 67, 0.3), 0px 1px 3px 1px rgba(60, 64, 67, 0.15);\n",
              "      fill: #174EA6;\n",
              "    }\n",
              "\n",
              "    [theme=dark] .colab-df-convert {\n",
              "      background-color: #3B4455;\n",
              "      fill: #D2E3FC;\n",
              "    }\n",
              "\n",
              "    [theme=dark] .colab-df-convert:hover {\n",
              "      background-color: #434B5C;\n",
              "      box-shadow: 0px 1px 3px 1px rgba(0, 0, 0, 0.15);\n",
              "      filter: drop-shadow(0px 1px 2px rgba(0, 0, 0, 0.3));\n",
              "      fill: #FFFFFF;\n",
              "    }\n",
              "  </style>\n",
              "\n",
              "      <script>\n",
              "        const buttonEl =\n",
              "          document.querySelector('#df-f8a0e380-9d77-42fb-bb18-10c8f96bc6f3 button.colab-df-convert');\n",
              "        buttonEl.style.display =\n",
              "          google.colab.kernel.accessAllowed ? 'block' : 'none';\n",
              "\n",
              "        async function convertToInteractive(key) {\n",
              "          const element = document.querySelector('#df-f8a0e380-9d77-42fb-bb18-10c8f96bc6f3');\n",
              "          const dataTable =\n",
              "            await google.colab.kernel.invokeFunction('convertToInteractive',\n",
              "                                                     [key], {});\n",
              "          if (!dataTable) return;\n",
              "\n",
              "          const docLinkHtml = 'Like what you see? Visit the ' +\n",
              "            '<a target=\"_blank\" href=https://colab.research.google.com/notebooks/data_table.ipynb>data table notebook</a>'\n",
              "            + ' to learn more about interactive tables.';\n",
              "          element.innerHTML = '';\n",
              "          dataTable['output_type'] = 'display_data';\n",
              "          await google.colab.output.renderOutput(dataTable, element);\n",
              "          const docLink = document.createElement('div');\n",
              "          docLink.innerHTML = docLinkHtml;\n",
              "          element.appendChild(docLink);\n",
              "        }\n",
              "      </script>\n",
              "    </div>\n",
              "  </div>\n",
              "  "
            ]
          },
          "metadata": {},
          "execution_count": 54
        }
      ]
    },
    {
      "cell_type": "code",
      "source": [
        "#group_by duration and TYPE                 \n",
        "group_by_= df_hypothesis[['duration','type']].groupby(by='type')\n",
        "#mean of group_by variable\n",
        "group=group_by_.mean().reset_index()\n",
        "group"
      ],
      "metadata": {
        "colab": {
          "base_uri": "https://localhost:8080/",
          "height": 112
        },
        "id": "ISRGYfYCTTCQ",
        "outputId": "8323e335-bc4a-46d9-c222-745733b52d90"
      },
      "execution_count": null,
      "outputs": [
        {
          "output_type": "execute_result",
          "data": {
            "text/plain": [
              "      type   duration\n",
              "0    Movie  99.307978\n",
              "1  TV Show   1.775934"
            ],
            "text/html": [
              "\n",
              "  <div id=\"df-7782fa21-1c3f-4d78-9ff5-8da9c4994b17\">\n",
              "    <div class=\"colab-df-container\">\n",
              "      <div>\n",
              "<style scoped>\n",
              "    .dataframe tbody tr th:only-of-type {\n",
              "        vertical-align: middle;\n",
              "    }\n",
              "\n",
              "    .dataframe tbody tr th {\n",
              "        vertical-align: top;\n",
              "    }\n",
              "\n",
              "    .dataframe thead th {\n",
              "        text-align: right;\n",
              "    }\n",
              "</style>\n",
              "<table border=\"1\" class=\"dataframe\">\n",
              "  <thead>\n",
              "    <tr style=\"text-align: right;\">\n",
              "      <th></th>\n",
              "      <th>type</th>\n",
              "      <th>duration</th>\n",
              "    </tr>\n",
              "  </thead>\n",
              "  <tbody>\n",
              "    <tr>\n",
              "      <th>0</th>\n",
              "      <td>Movie</td>\n",
              "      <td>99.307978</td>\n",
              "    </tr>\n",
              "    <tr>\n",
              "      <th>1</th>\n",
              "      <td>TV Show</td>\n",
              "      <td>1.775934</td>\n",
              "    </tr>\n",
              "  </tbody>\n",
              "</table>\n",
              "</div>\n",
              "      <button class=\"colab-df-convert\" onclick=\"convertToInteractive('df-7782fa21-1c3f-4d78-9ff5-8da9c4994b17')\"\n",
              "              title=\"Convert this dataframe to an interactive table.\"\n",
              "              style=\"display:none;\">\n",
              "        \n",
              "  <svg xmlns=\"http://www.w3.org/2000/svg\" height=\"24px\"viewBox=\"0 0 24 24\"\n",
              "       width=\"24px\">\n",
              "    <path d=\"M0 0h24v24H0V0z\" fill=\"none\"/>\n",
              "    <path d=\"M18.56 5.44l.94 2.06.94-2.06 2.06-.94-2.06-.94-.94-2.06-.94 2.06-2.06.94zm-11 1L8.5 8.5l.94-2.06 2.06-.94-2.06-.94L8.5 2.5l-.94 2.06-2.06.94zm10 10l.94 2.06.94-2.06 2.06-.94-2.06-.94-.94-2.06-.94 2.06-2.06.94z\"/><path d=\"M17.41 7.96l-1.37-1.37c-.4-.4-.92-.59-1.43-.59-.52 0-1.04.2-1.43.59L10.3 9.45l-7.72 7.72c-.78.78-.78 2.05 0 2.83L4 21.41c.39.39.9.59 1.41.59.51 0 1.02-.2 1.41-.59l7.78-7.78 2.81-2.81c.8-.78.8-2.07 0-2.86zM5.41 20L4 18.59l7.72-7.72 1.47 1.35L5.41 20z\"/>\n",
              "  </svg>\n",
              "      </button>\n",
              "      \n",
              "  <style>\n",
              "    .colab-df-container {\n",
              "      display:flex;\n",
              "      flex-wrap:wrap;\n",
              "      gap: 12px;\n",
              "    }\n",
              "\n",
              "    .colab-df-convert {\n",
              "      background-color: #E8F0FE;\n",
              "      border: none;\n",
              "      border-radius: 50%;\n",
              "      cursor: pointer;\n",
              "      display: none;\n",
              "      fill: #1967D2;\n",
              "      height: 32px;\n",
              "      padding: 0 0 0 0;\n",
              "      width: 32px;\n",
              "    }\n",
              "\n",
              "    .colab-df-convert:hover {\n",
              "      background-color: #E2EBFA;\n",
              "      box-shadow: 0px 1px 2px rgba(60, 64, 67, 0.3), 0px 1px 3px 1px rgba(60, 64, 67, 0.15);\n",
              "      fill: #174EA6;\n",
              "    }\n",
              "\n",
              "    [theme=dark] .colab-df-convert {\n",
              "      background-color: #3B4455;\n",
              "      fill: #D2E3FC;\n",
              "    }\n",
              "\n",
              "    [theme=dark] .colab-df-convert:hover {\n",
              "      background-color: #434B5C;\n",
              "      box-shadow: 0px 1px 3px 1px rgba(0, 0, 0, 0.15);\n",
              "      filter: drop-shadow(0px 1px 2px rgba(0, 0, 0, 0.3));\n",
              "      fill: #FFFFFF;\n",
              "    }\n",
              "  </style>\n",
              "\n",
              "      <script>\n",
              "        const buttonEl =\n",
              "          document.querySelector('#df-7782fa21-1c3f-4d78-9ff5-8da9c4994b17 button.colab-df-convert');\n",
              "        buttonEl.style.display =\n",
              "          google.colab.kernel.accessAllowed ? 'block' : 'none';\n",
              "\n",
              "        async function convertToInteractive(key) {\n",
              "          const element = document.querySelector('#df-7782fa21-1c3f-4d78-9ff5-8da9c4994b17');\n",
              "          const dataTable =\n",
              "            await google.colab.kernel.invokeFunction('convertToInteractive',\n",
              "                                                     [key], {});\n",
              "          if (!dataTable) return;\n",
              "\n",
              "          const docLinkHtml = 'Like what you see? Visit the ' +\n",
              "            '<a target=\"_blank\" href=https://colab.research.google.com/notebooks/data_table.ipynb>data table notebook</a>'\n",
              "            + ' to learn more about interactive tables.';\n",
              "          element.innerHTML = '';\n",
              "          dataTable['output_type'] = 'display_data';\n",
              "          await google.colab.output.renderOutput(dataTable, element);\n",
              "          const docLink = document.createElement('div');\n",
              "          docLink.innerHTML = docLinkHtml;\n",
              "          element.appendChild(docLink);\n",
              "        }\n",
              "      </script>\n",
              "    </div>\n",
              "  </div>\n",
              "  "
            ]
          },
          "metadata": {},
          "execution_count": 55
        }
      ]
    },
    {
      "cell_type": "code",
      "source": [
        "#In A and B variable grouping values \n",
        "A= group_by_.get_group('Movie')\n",
        "B= group_by_.get_group('TV Show')\n",
        "#mean and std\n",
        "M1 = A.mean()\n",
        "S1 = A.std()\n",
        "\n",
        "M2= B.mean()\n",
        "S2 = B.std()\n",
        "\n",
        "print('Mean  {}'.format(M1,M2))\n",
        "print('Std  {}'.format(S2,S1))"
      ],
      "metadata": {
        "colab": {
          "base_uri": "https://localhost:8080/"
        },
        "id": "ViXlR84zTTFc",
        "outputId": "eeb7cff4-f76e-4bd2-8a61-a15de510568f"
      },
      "execution_count": null,
      "outputs": [
        {
          "output_type": "stream",
          "name": "stdout",
          "text": [
            "Mean  duration    99.307978\n",
            "dtype: float64\n",
            "Std  duration    1.596359\n",
            "dtype: float64\n"
          ]
        },
        {
          "output_type": "stream",
          "name": "stderr",
          "text": [
            "<ipython-input-56-0f10debe6e90>:5: FutureWarning: Dropping of nuisance columns in DataFrame reductions (with 'numeric_only=None') is deprecated; in a future version this will raise TypeError.  Select only valid columns before calling the reduction.\n",
            "  M1 = A.mean()\n",
            "<ipython-input-56-0f10debe6e90>:6: FutureWarning: Dropping of nuisance columns in DataFrame reductions (with 'numeric_only=None') is deprecated; in a future version this will raise TypeError.  Select only valid columns before calling the reduction.\n",
            "  S1 = A.std()\n",
            "<ipython-input-56-0f10debe6e90>:8: FutureWarning: Dropping of nuisance columns in DataFrame reductions (with 'numeric_only=None') is deprecated; in a future version this will raise TypeError.  Select only valid columns before calling the reduction.\n",
            "  M2= B.mean()\n",
            "<ipython-input-56-0f10debe6e90>:9: FutureWarning: Dropping of nuisance columns in DataFrame reductions (with 'numeric_only=None') is deprecated; in a future version this will raise TypeError.  Select only valid columns before calling the reduction.\n",
            "  S2 = B.std()\n"
          ]
        }
      ]
    },
    {
      "cell_type": "code",
      "source": [
        "#import stats \n",
        "from scipy import stats\n",
        "#length of groups and DOF\n",
        "n1 = len(A)\n",
        "n2= len(B)\n",
        "print(n1,n2)\n",
        "\n",
        "dof = n1+n2-2\n",
        "print('dof',dof)\n",
        "\n",
        "sp_2 = ((n2-1)*S1**2  + (n1-1)*S2**2) / dof\n",
        "print('SP_2 =',sp_2)\n",
        "\n",
        "sp = np.sqrt(sp_2)\n",
        "print('SP',sp)\n",
        "\n",
        "#tvalue\n",
        "t_val = (M1-M2)/(sp * np.sqrt(1/n1 + 1/n2))\n",
        "print('tvalue',t_val[0])\n",
        "     "
      ],
      "metadata": {
        "colab": {
          "base_uri": "https://localhost:8080/"
        },
        "id": "7XQMRbyvTTIg",
        "outputId": "3e8c20d9-4be5-48bf-c334-ace2bc5cfa5d"
      },
      "execution_count": null,
      "outputs": [
        {
          "output_type": "stream",
          "name": "stdout",
          "text": [
            "5377 2410\n",
            "dof 7785\n",
            "SP_2 = duration    253.64841\n",
            "dtype: float64\n",
            "SP duration    15.926343\n",
            "dtype: float64\n",
            "tvalue 249.81856492927665\n"
          ]
        }
      ]
    },
    {
      "cell_type": "code",
      "source": [
        "#t-distribution\n",
        "stats.t.ppf(0.025,dof)"
      ],
      "metadata": {
        "colab": {
          "base_uri": "https://localhost:8080/"
        },
        "id": "KAXGFkiKTpcf",
        "outputId": "38c2f13b-51da-45b0-942b-92399776cb60"
      },
      "execution_count": null,
      "outputs": [
        {
          "output_type": "execute_result",
          "data": {
            "text/plain": [
              "-1.9602687544602204"
            ]
          },
          "metadata": {},
          "execution_count": 58
        }
      ]
    },
    {
      "cell_type": "code",
      "source": [
        "#t-distribution\n",
        "stats.t.ppf(0.975,dof)"
      ],
      "metadata": {
        "colab": {
          "base_uri": "https://localhost:8080/"
        },
        "id": "0kWTUumcTpgH",
        "outputId": "21972a12-1700-49e0-e8d8-852efc21a6bc"
      },
      "execution_count": null,
      "outputs": [
        {
          "output_type": "execute_result",
          "data": {
            "text/plain": [
              "1.96026875446022"
            ]
          },
          "metadata": {},
          "execution_count": 59
        }
      ]
    },
    {
      "cell_type": "markdown",
      "source": [
        "##### Which statistical test have you done to obtain P-Value?"
      ],
      "metadata": {
        "id": "dEUvejAfpUZe"
      }
    },
    {
      "cell_type": "markdown",
      "source": [
        "T-values are a type of test statistic. Hypothesis tests use the test statistic that is calculated from your sample to compare your sample to the null hypothesis. If the test statistic is extreme enough, this indicates that your data are so incompatible with the null hypothesis that you can reject the null."
      ],
      "metadata": {
        "id": "oLDrPz7HpUZf"
      }
    },
    {
      "cell_type": "markdown",
      "source": [
        "##### Why did you choose the specific statistical test?"
      ],
      "metadata": {
        "id": "Fd15vwWVpUZf"
      }
    },
    {
      "cell_type": "markdown",
      "source": [
        "Because the t-value is not in the range, the null hypothesis is rejected.\n",
        "\n",
        "As a result, The duration which is more than 90 mins are movies"
      ],
      "metadata": {
        "id": "4xOGYyiBpUZf"
      }
    },
    {
      "cell_type": "markdown",
      "source": [
        "### Hypothetical Statement - 3"
      ],
      "metadata": {
        "id": "bn_IUdTipZyH"
      }
    },
    {
      "cell_type": "markdown",
      "source": [
        "#### 1. State Your research hypothesis as a null hypothesis and alternate hypothesis."
      ],
      "metadata": {
        "id": "49K5P_iCpZyH"
      }
    },
    {
      "cell_type": "markdown",
      "source": [
        "Answer Here."
      ],
      "metadata": {
        "id": "7gWI5rT9pZyH"
      }
    },
    {
      "cell_type": "markdown",
      "source": [
        "#### 2. Perform an appropriate statistical test."
      ],
      "metadata": {
        "id": "Nff-vKELpZyI"
      }
    },
    {
      "cell_type": "code",
      "source": [
        "# Perform Statistical Test to obtain P-Value"
      ],
      "metadata": {
        "id": "s6AnJQjtpZyI"
      },
      "execution_count": null,
      "outputs": []
    },
    {
      "cell_type": "markdown",
      "source": [
        "##### Which statistical test have you done to obtain P-Value?"
      ],
      "metadata": {
        "id": "kLW572S8pZyI"
      }
    },
    {
      "cell_type": "markdown",
      "source": [
        "Answer Here."
      ],
      "metadata": {
        "id": "ytWJ8v15pZyI"
      }
    },
    {
      "cell_type": "markdown",
      "source": [
        "##### Why did you choose the specific statistical test?"
      ],
      "metadata": {
        "id": "dWbDXHzopZyI"
      }
    },
    {
      "cell_type": "markdown",
      "source": [
        "Answer Here."
      ],
      "metadata": {
        "id": "M99G98V6pZyI"
      }
    },
    {
      "cell_type": "markdown",
      "source": [
        "## ***6. Feature Engineering & Data Pre-processing***"
      ],
      "metadata": {
        "id": "yLjJCtPM0KBk"
      }
    },
    {
      "cell_type": "markdown",
      "source": [
        "### 1. Handling Missing Values"
      ],
      "metadata": {
        "id": "xiyOF9F70UgQ"
      }
    },
    {
      "cell_type": "code",
      "source": [
        "# Handling Missing Values & Missing Value Imputation \n",
        "#HANDLING MISSING VALUES\n",
        "df['director'].fillna('unknown', inplace=True)\n",
        "df['cast'].fillna('unknown', inplace=True)\n",
        "df['country'].fillna('unknown', inplace=True)\n",
        "df['date_added'].fillna('unknown', inplace=True)\n",
        "df['rating'].fillna('unknown', inplace=True)"
      ],
      "metadata": {
        "id": "iRsAHk1K0fpS"
      },
      "execution_count": null,
      "outputs": []
    },
    {
      "cell_type": "markdown",
      "source": [
        "#### What all missing value imputation techniques have you used and why did you use those techniques?"
      ],
      "metadata": {
        "id": "7wuGOrhz0itI"
      }
    },
    {
      "cell_type": "markdown",
      "source": [
        "fillna() manages and let the user replace NaN values with some value of their own"
      ],
      "metadata": {
        "id": "1ixusLtI0pqI"
      }
    },
    {
      "cell_type": "markdown",
      "source": [
        "### 2. Handling Outliers"
      ],
      "metadata": {
        "id": "id1riN9m0vUs"
      }
    },
    {
      "cell_type": "markdown",
      "source": [
        "##### What all outlier treatment techniques have you used and why did you use those techniques?"
      ],
      "metadata": {
        "id": "578E2V7j08f6"
      }
    },
    {
      "cell_type": "markdown",
      "source": [
        "Answer Here."
      ],
      "metadata": {
        "id": "uGZz5OrT1HH-"
      }
    },
    {
      "cell_type": "markdown",
      "source": [
        "### 3. Categorical Encoding"
      ],
      "metadata": {
        "id": "89xtkJwZ18nB"
      }
    },
    {
      "cell_type": "code",
      "source": [
        "# Encode your categorical columns\n",
        "\n",
        "#not required"
      ],
      "metadata": {
        "id": "21JmIYMG2hEo"
      },
      "execution_count": null,
      "outputs": []
    },
    {
      "cell_type": "markdown",
      "source": [
        "#### What all categorical encoding techniques have you used & why did you use those techniques?"
      ],
      "metadata": {
        "id": "67NQN5KX2AMe"
      }
    },
    {
      "cell_type": "markdown",
      "source": [
        "not needed"
      ],
      "metadata": {
        "id": "UDaue5h32n_G"
      }
    },
    {
      "cell_type": "markdown",
      "source": [
        "### 4. Textual Data Preprocessing \n",
        "(It's mandatory for textual dataset i.e., NLP, Sentiment Analysis, Text Clustering etc.)"
      ],
      "metadata": {
        "id": "Iwf50b-R2tYG"
      }
    },
    {
      "cell_type": "markdown",
      "source": [
        "This process involves converting the 'Description' of the show/movie into a machine interprettable form. Here we convert all text to lower case, remove punctuations and remove irrelevant words (so that only words that provide context are retained). Here similar words are unified to save memory and processing time as well. Individual words and group of words (n grams) are also collected to extract context related details."
      ],
      "metadata": {
        "id": "_t3vjmgAukAw"
      }
    },
    {
      "cell_type": "markdown",
      "source": [
        "## FEATURE ENGINEERING LISTED_IN"
      ],
      "metadata": {
        "id": "1FcJt_8YupQK"
      }
    },
    {
      "cell_type": "code",
      "source": [
        "a = df.copy()"
      ],
      "metadata": {
        "id": "Fzi95kUcuwOb"
      },
      "execution_count": null,
      "outputs": []
    },
    {
      "cell_type": "code",
      "source": [
        "a['listed_in'] = a.listed_in.apply(lambda row: row.split(', '))\n",
        "a.explode('listed_in')['listed_in'].unique()"
      ],
      "metadata": {
        "colab": {
          "base_uri": "https://localhost:8080/"
        },
        "id": "3p5CRCBeuyGM",
        "outputId": "404e4cf5-31af-46da-bfa5-c964388d7706"
      },
      "execution_count": null,
      "outputs": [
        {
          "output_type": "execute_result",
          "data": {
            "text/plain": [
              "array(['International TV Shows', 'TV Dramas', 'TV Sci-Fi & Fantasy',\n",
              "       'Dramas', 'International Movies', 'Horror Movies',\n",
              "       'Action & Adventure', 'Independent Movies', 'Sci-Fi & Fantasy',\n",
              "       'TV Mysteries', 'Thrillers', 'Crime TV Shows', 'Docuseries',\n",
              "       'Documentaries', 'Sports Movies', 'Comedies', 'Anime Series',\n",
              "       'Reality TV', 'TV Comedies', 'Romantic Movies',\n",
              "       'Romantic TV Shows', 'Science & Nature TV', 'Movies',\n",
              "       'British TV Shows', 'Korean TV Shows', 'Music & Musicals',\n",
              "       'LGBTQ Movies', 'Faith & Spirituality', \"Kids' TV\",\n",
              "       'TV Action & Adventure', 'Spanish-Language TV Shows',\n",
              "       'Children & Family Movies', 'TV Shows', 'Classic Movies',\n",
              "       'Cult Movies', 'TV Horror', 'Stand-Up Comedy & Talk Shows',\n",
              "       'Teen TV Shows', 'Stand-Up Comedy', 'Anime Features',\n",
              "       'TV Thrillers', 'Classic & Cult TV'], dtype=object)"
            ]
          },
          "metadata": {},
          "execution_count": 62
        }
      ]
    },
    {
      "cell_type": "code",
      "source": [
        "replacing_genre = {'International TV Shows': '-',\n",
        "                   'TV Dramas': 'Drama',\n",
        "                   'TV Sci-Fi & Fantasy': 'SciFiFantasy',\n",
        "                   'Dramas': 'Drama' ,\n",
        "                   'International Movies': '-',\n",
        "                   'Horror Movies': 'Horror',\n",
        "                   'Action & Adventure': 'ActionAdventure',\n",
        "                   'Independent Movies': '-',\n",
        "                   'Sci-Fi & Fantasy': 'SciFiFantasy',\n",
        "                  'TV Mysteries': 'Mystery'       ,\n",
        "                  'Thrillers': 'Thriller',\n",
        "                   'Crime TV Shows': 'Crime',\n",
        "                   'Docuseries': 'Documentary',\n",
        "                  'Documentaries': 'Documentary', 'Sports Movies': 'Sports',\n",
        "                   'Comedies':'Comedy',\n",
        "                   'Anime Series': 'Anime',\n",
        "                  'Reality TV': 'Reality',\n",
        "                   'TV Comedies': 'Comedy',\n",
        "                   'Romantic Movies': 'Romance',\n",
        "                  'Romantic TV Shows': 'Romance', \n",
        "                   'Science & Nature TV': 'Science',\n",
        "                   'Movies': '-',\n",
        "                  'British TV Shows': '-',\n",
        "                   'Korean TV Shows': '-',\n",
        "                   'Music & Musicals': 'Music',\n",
        "                  'LGBTQ Movies': 'LGBTQ',\n",
        "                   'Faith & Spirituality': 'Spirituality', \n",
        "                   \"Kids' TV\": 'Kids',\n",
        "                  'TV Action & Adventure': 'ActionAdventure',\n",
        "                   'Spanish-Language TV Shows': '-',\n",
        "                  'Children & Family Movies': 'Family', \n",
        "                   'TV Shows': '-',\n",
        "                   'Classic Movies': 'Classic',\n",
        "                  'Cult Movies': 'Cult',\n",
        "                   'TV Horror': 'Horror',\n",
        "                   'Stand-Up Comedy & Talk Shows':'Comedy, TalkShow',\n",
        "                  'Teen TV Shows': 'Teen', 'Stand-Up Comedy':'Comedy', \n",
        "                   'Anime Features':'Anime',\n",
        "                  'TV Thrillers': 'Thriller',\n",
        "                   'Classic & Cult TV':'Classic, Cult'}"
      ],
      "metadata": {
        "id": "QLx57oxYuyMJ"
      },
      "execution_count": null,
      "outputs": []
    },
    {
      "cell_type": "code",
      "source": [
        "def genre_replace(row, replacing_genre = replacing_genre):\n",
        "  new_text = []\n",
        " \n",
        "  for word in (row['listed_in']):\n",
        "    if word in replacing_genre:\n",
        "      if '-' not in replacing_genre[word]:\n",
        "       new_text.append(replacing_genre[word])\n",
        "    else:\n",
        "      print(word, 'not present in dictionary')\n",
        "\n",
        "  return(', '.join(new_text))\n",
        "  \n",
        "\n",
        "df['Genres'] = a.apply(lambda row: genre_replace(row),axis=1)\n",
        "df['Genres'] = df['Genres'].apply(lambda row: row.split(', '))"
      ],
      "metadata": {
        "id": "EYNn5Sg6uyQG"
      },
      "execution_count": null,
      "outputs": []
    },
    {
      "cell_type": "code",
      "source": [
        "(df.explode('Genres')['Genres'].unique())"
      ],
      "metadata": {
        "colab": {
          "base_uri": "https://localhost:8080/"
        },
        "id": "uJ4qZym2vEWi",
        "outputId": "f2db65e8-69e3-4a53-86a6-10981e154ef9"
      },
      "execution_count": null,
      "outputs": [
        {
          "output_type": "execute_result",
          "data": {
            "text/plain": [
              "array(['Drama', 'SciFiFantasy', 'Horror', 'ActionAdventure', 'Mystery',\n",
              "       'Thriller', 'Crime', 'Documentary', 'Sports', 'Comedy', 'Anime',\n",
              "       'Reality', 'Romance', 'Science', '', 'Music', 'LGBTQ',\n",
              "       'Spirituality', 'Kids', 'Family', 'Classic', 'Cult', 'TalkShow',\n",
              "       'Teen'], dtype=object)"
            ]
          },
          "metadata": {},
          "execution_count": 65
        }
      ]
    },
    {
      "cell_type": "code",
      "source": [
        "df['Genres']"
      ],
      "metadata": {
        "colab": {
          "base_uri": "https://localhost:8080/"
        },
        "id": "TmvxOgQhvMRY",
        "outputId": "cf3e952a-94e4-47bc-c993-c459685c2a0e"
      },
      "execution_count": null,
      "outputs": [
        {
          "output_type": "execute_result",
          "data": {
            "text/plain": [
              "0                 [Drama, SciFiFantasy]\n",
              "1                               [Drama]\n",
              "2                              [Horror]\n",
              "3       [ActionAdventure, SciFiFantasy]\n",
              "4                               [Drama]\n",
              "                     ...               \n",
              "7782                            [Drama]\n",
              "7783                     [Drama, Music]\n",
              "7784               [Documentary, Music]\n",
              "7785                          [Reality]\n",
              "7786               [Documentary, Music]\n",
              "Name: Genres, Length: 7787, dtype: object"
            ]
          },
          "metadata": {},
          "execution_count": 66
        }
      ]
    },
    {
      "cell_type": "markdown",
      "source": [
        "## COMBINING Top CAST, DIRECTOR and ListedIn into single text attributes\n",
        "\n",
        "We are extracting non-plot related text details about the movie/show like lead actors, director, country and categories it is being listed in on the platform"
      ],
      "metadata": {
        "id": "qPj-GXeRvSVK"
      }
    },
    {
      "cell_type": "code",
      "source": [
        "def combine(row):\n",
        "  text = ' '.join(row['Genres']).lower()\n",
        "  if row['cast'] != 'unknown':\n",
        "    cast_list = [actor.replace(' ', '') for actor in row['cast'].split(', ')]\n",
        "    if len(cast_list) < 5:\n",
        "      text = text + ' ' + ' '.join(cast_list[:]).lower()\n",
        "    else :\n",
        "      text = text + ' ' + ' '.join(cast_list[:5]).lower()\n",
        "  if row['director'] !='unknown':\n",
        "    director_list = ' '.join([director.replace(' ', '') for director in row['director'].split(', ')])\n",
        "    text = text + ' ' + director_list.lower()\n",
        "\n",
        "  return text\n",
        "df['Movie Deets'] = df.apply(lambda row: combine(row), axis = 1)"
      ],
      "metadata": {
        "id": "KGQ432mcvEaS"
      },
      "execution_count": null,
      "outputs": []
    },
    {
      "cell_type": "code",
      "source": [
        "df.head()['Movie Deets'].to_list()"
      ],
      "metadata": {
        "colab": {
          "base_uri": "https://localhost:8080/"
        },
        "id": "NhwK7A6UvEen",
        "outputId": "373ef248-3a5a-43df-b04d-baceb783df02"
      },
      "execution_count": null,
      "outputs": [
        {
          "output_type": "execute_result",
          "data": {
            "text/plain": [
              "['drama scififantasy joãomiguel biancacomparato michelgomes rodolfovalente vanezaoliveira',\n",
              " 'drama demiánbichir héctorbonilla oscarserrano azaliaortiz octaviomichel jorgemichelgrau',\n",
              " 'horror teddchan stellachung henleyhii lawrencekoh tommykuan gilbertchan',\n",
              " 'actionadventure scififantasy elijahwood johnc.reilly jenniferconnelly christopherplummer crispinglover shaneacker',\n",
              " 'drama jimsturgess kevinspacey katebosworth aaronyoo lizalapira robertluketic']"
            ]
          },
          "metadata": {},
          "execution_count": 68
        }
      ]
    },
    {
      "cell_type": "code",
      "source": [
        "#importing necessary libraries for text processing\n",
        "import nltk \n",
        "from nltk.tokenize import word_tokenize\n",
        "from nltk.corpus import stopwords\n",
        "import string \n",
        "from nltk.stem import WordNetLemmatizer\n",
        "from nltk.stem import PorterStemmer"
      ],
      "metadata": {
        "id": "OidIMj7vuLlj"
      },
      "execution_count": null,
      "outputs": []
    },
    {
      "cell_type": "code",
      "source": [
        "nltk.download('punkt')"
      ],
      "metadata": {
        "colab": {
          "base_uri": "https://localhost:8080/"
        },
        "id": "_rS1oPHeviLr",
        "outputId": "d02aace5-a1bd-480b-c1b2-62c6b0e2f05b"
      },
      "execution_count": null,
      "outputs": [
        {
          "output_type": "stream",
          "name": "stderr",
          "text": [
            "[nltk_data] Downloading package punkt to /root/nltk_data...\n",
            "[nltk_data]   Unzipping tokenizers/punkt.zip.\n"
          ]
        },
        {
          "output_type": "execute_result",
          "data": {
            "text/plain": [
              "True"
            ]
          },
          "metadata": {},
          "execution_count": 70
        }
      ]
    },
    {
      "cell_type": "code",
      "source": [
        " nltk.download('stopwords')"
      ],
      "metadata": {
        "colab": {
          "base_uri": "https://localhost:8080/"
        },
        "id": "NXfcfwCaviPm",
        "outputId": "e2cd9707-aec7-4d4b-884b-f54eab79935a"
      },
      "execution_count": null,
      "outputs": [
        {
          "output_type": "stream",
          "name": "stderr",
          "text": [
            "[nltk_data] Downloading package stopwords to /root/nltk_data...\n",
            "[nltk_data]   Unzipping corpora/stopwords.zip.\n"
          ]
        },
        {
          "output_type": "execute_result",
          "data": {
            "text/plain": [
              "True"
            ]
          },
          "metadata": {},
          "execution_count": 71
        }
      ]
    },
    {
      "cell_type": "code",
      "source": [
        "nltk.download('wordnet')\n",
        "nltk.download('omw-1.4')"
      ],
      "metadata": {
        "colab": {
          "base_uri": "https://localhost:8080/"
        },
        "id": "t5SqnCUPviT7",
        "outputId": "e1098acd-f258-4a9f-b1e7-4748f1d66add"
      },
      "execution_count": null,
      "outputs": [
        {
          "output_type": "stream",
          "name": "stderr",
          "text": [
            "[nltk_data] Downloading package wordnet to /root/nltk_data...\n",
            "[nltk_data] Downloading package omw-1.4 to /root/nltk_data...\n"
          ]
        },
        {
          "output_type": "execute_result",
          "data": {
            "text/plain": [
              "True"
            ]
          },
          "metadata": {},
          "execution_count": 72
        }
      ]
    },
    {
      "cell_type": "markdown",
      "source": [
        "## WORD TOKENIZATION\n",
        "\n",
        "Tokenization breaks the raw text into words, sentences called tokens. These tokens help in understanding the context or developing the model for the NLP. The tokenization helps in interpreting the meaning of the text by analyzing the sequence of the words."
      ],
      "metadata": {
        "id": "rBeI3egyv0Ui"
      }
    },
    {
      "cell_type": "code",
      "source": [
        "import string"
      ],
      "metadata": {
        "id": "D1LwLxeZv2I0"
      },
      "execution_count": null,
      "outputs": []
    },
    {
      "cell_type": "code",
      "source": [
        "def tokenizer(txt):  \n",
        "  tokens = word_tokenize(txt) \n",
        "  \n",
        "  return tokens\n",
        "df['Processed Description'] = df['description'].apply(tokenizer)\n",
        "df['Processed Movie Deets'] = df['Movie Deets'].apply(tokenizer)"
      ],
      "metadata": {
        "id": "6hmkYymqv5XO"
      },
      "execution_count": null,
      "outputs": []
    },
    {
      "cell_type": "markdown",
      "source": [
        "#### 1. Expand Contraction"
      ],
      "metadata": {
        "id": "GMQiZwjn3iu7"
      }
    },
    {
      "cell_type": "markdown",
      "source": [
        "#### 2. Lower Casing"
      ],
      "metadata": {
        "id": "WVIkgGqN3qsr"
      }
    },
    {
      "cell_type": "code",
      "source": [
        "# Lower Casing"
      ],
      "metadata": {
        "id": "88JnJ1jN3w7j"
      },
      "execution_count": null,
      "outputs": []
    },
    {
      "cell_type": "markdown",
      "source": [
        "#### 3. Removing Punctuations"
      ],
      "metadata": {
        "id": "XkPnILGE3zoT"
      }
    },
    {
      "cell_type": "code",
      "source": [
        "# Remove Punctuations\n",
        "regular_punct = list(string.punctuation)\n",
        "def remove_punctuation(text,punct_list):\n",
        "  tokens = text\n",
        "  new_tok = []\n",
        "  for i in tokens:\n",
        "    word = i\n",
        "    for punctuation in list(string.punctuation):\n",
        "      word = word.replace(punctuation, ' ')\n",
        "    if word.replace(' ','').isalnum():\n",
        "      new_tok.append(word)\n",
        "\n",
        "  return ' '.join(new_tok).split(' ')\n",
        "\n",
        "df['Processed Description'] = df['Processed Description'].apply(lambda x : remove_punctuation(x, regular_punct))\n",
        "df['Processed Movie Deets'] = df['Processed Movie Deets'].apply(lambda x : remove_punctuation(x, regular_punct))\n",
        "\n"
      ],
      "metadata": {
        "id": "vqbBqNaA33c0"
      },
      "execution_count": null,
      "outputs": []
    },
    {
      "cell_type": "markdown",
      "source": [
        "#### 4. Removing URLs & Removing words and digits contain digits."
      ],
      "metadata": {
        "id": "Hlsf0x5436Go"
      }
    },
    {
      "cell_type": "code",
      "source": [
        "# Remove URLs & Remove words and digits contain digits"
      ],
      "metadata": {
        "id": "2sxKgKxu4Ip3"
      },
      "execution_count": null,
      "outputs": []
    },
    {
      "cell_type": "markdown",
      "source": [
        "#### 5. Removing Stopwords & Removing White spaces"
      ],
      "metadata": {
        "id": "mT9DMSJo4nBL"
      }
    },
    {
      "cell_type": "code",
      "source": [
        "# Remove Stopwords\n",
        "stop_words = set(stopwords.words('english')) \n",
        "\n",
        "def remove_stop(tokens, stopwords):\n",
        "  return [t.lower() for t in tokens if t.lower() not in stopwords]\n",
        "\n",
        "\n",
        "df['Processed Description'] = df['Processed Description'].apply(lambda x : remove_stop(x, stop_words))\n",
        "\n",
        "a = df.copy() #will be used for wordcloud later on"
      ],
      "metadata": {
        "id": "T2LSJh154s8W"
      },
      "execution_count": null,
      "outputs": []
    },
    {
      "cell_type": "code",
      "source": [
        "# Remove White spaces"
      ],
      "metadata": {
        "id": "EgLJGffy4vm0"
      },
      "execution_count": null,
      "outputs": []
    },
    {
      "cell_type": "markdown",
      "source": [
        "#### 6. Rephrase Text"
      ],
      "metadata": {
        "id": "c49ITxTc407N"
      }
    },
    {
      "cell_type": "code",
      "source": [
        "# Rephrase Text"
      ],
      "metadata": {
        "id": "foqY80Qu48N2"
      },
      "execution_count": null,
      "outputs": []
    },
    {
      "cell_type": "markdown",
      "source": [
        "#### 7. Tokenization"
      ],
      "metadata": {
        "id": "OeJFEK0N496M"
      }
    },
    {
      "cell_type": "code",
      "source": [
        "# Tokenization\n",
        "def tokenizer(txt):  \n",
        "  tokens = word_tokenize(txt) \n",
        "  \n",
        "  return tokens\n",
        "df['Processed Description'] = df['description'].apply(tokenizer)\n",
        "df['Processed Movie Deets'] = df['Movie Deets'].apply(tokenizer)"
      ],
      "metadata": {
        "id": "ijx1rUOS5CUU"
      },
      "execution_count": null,
      "outputs": []
    },
    {
      "cell_type": "markdown",
      "source": [
        "#### 8. Text Normalization"
      ],
      "metadata": {
        "id": "9ExmJH0g5HBk"
      }
    },
    {
      "cell_type": "code",
      "source": [
        "# Normalizing Text (i.e., Stemming, Lemmatization etc.)\n",
        "ps = PorterStemmer()\n",
        "\n",
        "def stem_text(text):  \n",
        "  stemmed = []\n",
        "  for word in text:\n",
        "    stemmed.append(ps.stem(word))\n",
        "  return stemmed\n",
        "\n",
        "\n",
        "df['Processed Description'] = df['Processed Description'] .apply(lambda x : stem_text(x))"
      ],
      "metadata": {
        "id": "AIJ1a-Zc5PY8"
      },
      "execution_count": null,
      "outputs": []
    },
    {
      "cell_type": "code",
      "source": [
        "def joiner(text_list):\n",
        "  new = []\n",
        "  for text in text_list:\n",
        "    if text == ' ' or text == '' :\n",
        "      pass\n",
        "    else:\n",
        "      new.append(text)\n",
        "      \n",
        "  return ' '.join(new)\n",
        "\n",
        "df['Processed Description'] = df['Processed Description'] .apply(lambda x : joiner(x))\n",
        "df['Processed Movie Deets'] = df['Processed Movie Deets'].apply(lambda x : joiner(x))"
      ],
      "metadata": {
        "id": "T5ElizX0wxh7"
      },
      "execution_count": null,
      "outputs": []
    },
    {
      "cell_type": "code",
      "source": [
        "df.loc[:,['description','Processed Description','Movie Deets',\t'Processed Movie Deets']].head(1).T"
      ],
      "metadata": {
        "colab": {
          "base_uri": "https://localhost:8080/",
          "height": 175
        },
        "id": "-dZuEyyiw3xF",
        "outputId": "0da7aa75-85f1-4160-b288-0406f6bad82a"
      },
      "execution_count": null,
      "outputs": [
        {
          "output_type": "execute_result",
          "data": {
            "text/plain": [
              "                                                                       0\n",
              "description            In a future where the elite inhabit an island ...\n",
              "Processed Description  in a futur where the elit inhabit an island pa...\n",
              "Movie Deets            drama scififantasy joãomiguel biancacomparato ...\n",
              "Processed Movie Deets  drama scififantasy joãomiguel biancacomparato ..."
            ],
            "text/html": [
              "\n",
              "  <div id=\"df-cff2572d-aec3-4614-ad40-7abfb1b78167\">\n",
              "    <div class=\"colab-df-container\">\n",
              "      <div>\n",
              "<style scoped>\n",
              "    .dataframe tbody tr th:only-of-type {\n",
              "        vertical-align: middle;\n",
              "    }\n",
              "\n",
              "    .dataframe tbody tr th {\n",
              "        vertical-align: top;\n",
              "    }\n",
              "\n",
              "    .dataframe thead th {\n",
              "        text-align: right;\n",
              "    }\n",
              "</style>\n",
              "<table border=\"1\" class=\"dataframe\">\n",
              "  <thead>\n",
              "    <tr style=\"text-align: right;\">\n",
              "      <th></th>\n",
              "      <th>0</th>\n",
              "    </tr>\n",
              "  </thead>\n",
              "  <tbody>\n",
              "    <tr>\n",
              "      <th>description</th>\n",
              "      <td>In a future where the elite inhabit an island ...</td>\n",
              "    </tr>\n",
              "    <tr>\n",
              "      <th>Processed Description</th>\n",
              "      <td>in a futur where the elit inhabit an island pa...</td>\n",
              "    </tr>\n",
              "    <tr>\n",
              "      <th>Movie Deets</th>\n",
              "      <td>drama scififantasy joãomiguel biancacomparato ...</td>\n",
              "    </tr>\n",
              "    <tr>\n",
              "      <th>Processed Movie Deets</th>\n",
              "      <td>drama scififantasy joãomiguel biancacomparato ...</td>\n",
              "    </tr>\n",
              "  </tbody>\n",
              "</table>\n",
              "</div>\n",
              "      <button class=\"colab-df-convert\" onclick=\"convertToInteractive('df-cff2572d-aec3-4614-ad40-7abfb1b78167')\"\n",
              "              title=\"Convert this dataframe to an interactive table.\"\n",
              "              style=\"display:none;\">\n",
              "        \n",
              "  <svg xmlns=\"http://www.w3.org/2000/svg\" height=\"24px\"viewBox=\"0 0 24 24\"\n",
              "       width=\"24px\">\n",
              "    <path d=\"M0 0h24v24H0V0z\" fill=\"none\"/>\n",
              "    <path d=\"M18.56 5.44l.94 2.06.94-2.06 2.06-.94-2.06-.94-.94-2.06-.94 2.06-2.06.94zm-11 1L8.5 8.5l.94-2.06 2.06-.94-2.06-.94L8.5 2.5l-.94 2.06-2.06.94zm10 10l.94 2.06.94-2.06 2.06-.94-2.06-.94-.94-2.06-.94 2.06-2.06.94z\"/><path d=\"M17.41 7.96l-1.37-1.37c-.4-.4-.92-.59-1.43-.59-.52 0-1.04.2-1.43.59L10.3 9.45l-7.72 7.72c-.78.78-.78 2.05 0 2.83L4 21.41c.39.39.9.59 1.41.59.51 0 1.02-.2 1.41-.59l7.78-7.78 2.81-2.81c.8-.78.8-2.07 0-2.86zM5.41 20L4 18.59l7.72-7.72 1.47 1.35L5.41 20z\"/>\n",
              "  </svg>\n",
              "      </button>\n",
              "      \n",
              "  <style>\n",
              "    .colab-df-container {\n",
              "      display:flex;\n",
              "      flex-wrap:wrap;\n",
              "      gap: 12px;\n",
              "    }\n",
              "\n",
              "    .colab-df-convert {\n",
              "      background-color: #E8F0FE;\n",
              "      border: none;\n",
              "      border-radius: 50%;\n",
              "      cursor: pointer;\n",
              "      display: none;\n",
              "      fill: #1967D2;\n",
              "      height: 32px;\n",
              "      padding: 0 0 0 0;\n",
              "      width: 32px;\n",
              "    }\n",
              "\n",
              "    .colab-df-convert:hover {\n",
              "      background-color: #E2EBFA;\n",
              "      box-shadow: 0px 1px 2px rgba(60, 64, 67, 0.3), 0px 1px 3px 1px rgba(60, 64, 67, 0.15);\n",
              "      fill: #174EA6;\n",
              "    }\n",
              "\n",
              "    [theme=dark] .colab-df-convert {\n",
              "      background-color: #3B4455;\n",
              "      fill: #D2E3FC;\n",
              "    }\n",
              "\n",
              "    [theme=dark] .colab-df-convert:hover {\n",
              "      background-color: #434B5C;\n",
              "      box-shadow: 0px 1px 3px 1px rgba(0, 0, 0, 0.15);\n",
              "      filter: drop-shadow(0px 1px 2px rgba(0, 0, 0, 0.3));\n",
              "      fill: #FFFFFF;\n",
              "    }\n",
              "  </style>\n",
              "\n",
              "      <script>\n",
              "        const buttonEl =\n",
              "          document.querySelector('#df-cff2572d-aec3-4614-ad40-7abfb1b78167 button.colab-df-convert');\n",
              "        buttonEl.style.display =\n",
              "          google.colab.kernel.accessAllowed ? 'block' : 'none';\n",
              "\n",
              "        async function convertToInteractive(key) {\n",
              "          const element = document.querySelector('#df-cff2572d-aec3-4614-ad40-7abfb1b78167');\n",
              "          const dataTable =\n",
              "            await google.colab.kernel.invokeFunction('convertToInteractive',\n",
              "                                                     [key], {});\n",
              "          if (!dataTable) return;\n",
              "\n",
              "          const docLinkHtml = 'Like what you see? Visit the ' +\n",
              "            '<a target=\"_blank\" href=https://colab.research.google.com/notebooks/data_table.ipynb>data table notebook</a>'\n",
              "            + ' to learn more about interactive tables.';\n",
              "          element.innerHTML = '';\n",
              "          dataTable['output_type'] = 'display_data';\n",
              "          await google.colab.output.renderOutput(dataTable, element);\n",
              "          const docLink = document.createElement('div');\n",
              "          docLink.innerHTML = docLinkHtml;\n",
              "          element.appendChild(docLink);\n",
              "        }\n",
              "      </script>\n",
              "    </div>\n",
              "  </div>\n",
              "  "
            ]
          },
          "metadata": {},
          "execution_count": 80
        }
      ]
    },
    {
      "cell_type": "markdown",
      "source": [
        "##### Which text normalization technique have you used and why?"
      ],
      "metadata": {
        "id": "cJNqERVU536h"
      }
    },
    {
      "cell_type": "markdown",
      "source": [
        "We used stemming .\n",
        "\n",
        "Stemming is the process of producing morphological variants of a root/base word. Stemming programs are commonly referred to as stemming algorithms or stemmers."
      ],
      "metadata": {
        "id": "Z9jKVxE06BC1"
      }
    },
    {
      "cell_type": "markdown",
      "source": [
        "#### 9. Part of speech tagging"
      ],
      "metadata": {
        "id": "k5UmGsbsOxih"
      }
    },
    {
      "cell_type": "code",
      "source": [
        "# POS Taging"
      ],
      "metadata": {
        "id": "btT3ZJBAO6Ik"
      },
      "execution_count": null,
      "outputs": []
    },
    {
      "cell_type": "markdown",
      "source": [
        "#### 10. Text Vectorization"
      ],
      "metadata": {
        "id": "T0VqWOYE6DLQ"
      }
    },
    {
      "cell_type": "code",
      "source": [
        "# Vectorizing Text\n",
        "from sklearn.feature_extraction.text import CountVectorizer, TfidfVectorizer"
      ],
      "metadata": {
        "id": "yBRtdhth6JDE"
      },
      "execution_count": null,
      "outputs": []
    },
    {
      "cell_type": "code",
      "source": [
        "count_vectorizer = CountVectorizer(min_df = 10,max_df=0.5)\n",
        "count_description_vector = count_vectorizer.fit_transform(df['Processed Description'])\n",
        "\n",
        "count_movie_vector = count_vectorizer.fit_transform(df['Processed Movie Deets'])"
      ],
      "metadata": {
        "id": "Uh-hpOFmxGuj"
      },
      "execution_count": null,
      "outputs": []
    },
    {
      "cell_type": "code",
      "source": [
        "count_description_vector.shape"
      ],
      "metadata": {
        "colab": {
          "base_uri": "https://localhost:8080/"
        },
        "id": "-d6nlSyRxGza",
        "outputId": "f9e2f382-9a02-48d8-9f47-403107bffaa3"
      },
      "execution_count": null,
      "outputs": [
        {
          "output_type": "execute_result",
          "data": {
            "text/plain": [
              "(7787, 2227)"
            ]
          },
          "metadata": {},
          "execution_count": 83
        }
      ]
    },
    {
      "cell_type": "code",
      "source": [
        "from sklearn.decomposition import PCA\n",
        "pca = PCA()\n",
        "pca.fit(pd.concat([pd.DataFrame(count_description_vector.todense()), pd.DataFrame(count_movie_vector.todense())],axis =1))"
      ],
      "metadata": {
        "colab": {
          "base_uri": "https://localhost:8080/"
        },
        "id": "m9JC6a-uxOJ5",
        "outputId": "6a5c760a-98cc-40e1-db88-b271f0509cf1"
      },
      "execution_count": null,
      "outputs": [
        {
          "output_type": "execute_result",
          "data": {
            "text/plain": [
              "PCA()"
            ]
          },
          "metadata": {},
          "execution_count": 84
        }
      ]
    },
    {
      "cell_type": "code",
      "source": [
        "exp_var_pca = pca.explained_variance_ratio_\n",
        "#\n",
        "# Cumulative sum of eigenvalues; This will be used to create step plot\n",
        "# for visualizing the variance explained by each principal component.\n",
        "#\n",
        "cum_sum_eigenvalues = np.cumsum(exp_var_pca)\n",
        "#\n",
        "# Create the visualization plot\n",
        "#\n",
        "plt.figure(figsize = (20,10))\n",
        "plt.bar(range(0,len(exp_var_pca)), exp_var_pca, alpha=0.5, align='center', label='Individual explained variance')\n",
        "plt.step(range(0,len(cum_sum_eigenvalues)), cum_sum_eigenvalues, where='mid',label='Cumulative explained variance')\n",
        "plt.ylabel('Explained variance ratio')\n",
        "plt.xlabel('Principal component index')\n",
        "plt.legend(loc='best')\n",
        "plt.tight_layout()\n",
        "plt.xticks(ticks = np.arange(0,2300,100))\n",
        "plt.axhline(y=0.75)\n",
        "plt.show()"
      ],
      "metadata": {
        "colab": {
          "base_uri": "https://localhost:8080/",
          "height": 720
        },
        "id": "AwLaFq5oxOWf",
        "outputId": "ab05b8af-70dd-4efd-a19c-ab0b95807d62"
      },
      "execution_count": null,
      "outputs": [
        {
          "output_type": "display_data",
          "data": {
            "text/plain": [
              "<Figure size 1440x720 with 1 Axes>"
            ],
            "image/png": "[encoded data removed]"
          },
          "metadata": {
            "needs_background": "light"
          }
        }
      ]
    },
    {
      "cell_type": "markdown",
      "source": [
        "##### Which text vectorization technique have you used and why?"
      ],
      "metadata": {
        "id": "qBMux9mC6MCf"
      }
    },
    {
      "cell_type": "markdown",
      "source": [
        "Vectorising the preprocessed attributes Movie Dates and Description has sum total of 2126 + 192 = 2318 dimensions. These dimensions will have to be reduced using PCA, which would result in loss of information. Alternatively, the two attributes can be used to model the content into topics using Latent Dirichlet Allocation. This would makes sure that all the topical information about video content are captured without putting any available information to waste."
      ],
      "metadata": {
        "id": "su2EnbCh6UKQ"
      }
    },
    {
      "cell_type": "markdown",
      "source": [
        "### 4. Feature Manipulation & Selection"
      ],
      "metadata": {
        "id": "-oLEiFgy-5Pf"
      }
    },
    {
      "cell_type": "markdown",
      "source": [
        "#### 1. Feature Manipulation\n",
        "\n",
        "Preparing dataset for clustering"
      ],
      "metadata": {
        "id": "C74aWNz2AliB"
      }
    },
    {
      "cell_type": "code",
      "source": [
        "# Manipulate Features to minimize feature correlation and create new features\n",
        "clustering_df = df[['type', 'duration','rating','release_year']]"
      ],
      "metadata": {
        "id": "h1qC4yhBApWC"
      },
      "execution_count": null,
      "outputs": []
    },
    {
      "cell_type": "markdown",
      "source": [
        "Encoding TV and Movie ratings into one based on their age reccomendations\n",
        "\n",
        "Guidelines:\n",
        "\n",
        "Netflix: Maturity Rating Guidelines"
      ],
      "metadata": {
        "id": "W6gsEGoF70Nd"
      }
    },
    {
      "cell_type": "code",
      "source": [
        "def topick(row):\n",
        "  older_kids = ['TV-PG', 'PG', 'TV-Y7', 'TV-Y7-FV']\n",
        "  kids = ['TV-G', 'G', 'TV-Y']\n",
        "  teens = ['PG-13','TV-14']\n",
        "  adult = ['R', 'NC-17', 'TV-MA', 'UR', 'NR']\n",
        "\n",
        "  rating = 'Others'\n",
        "  for column in older_kids + kids + teens + adult:\n",
        "    if row[column] == 1:\n",
        "      if column in older_kids:\n",
        "        rating = 'Older Kids'\n",
        "      elif column in kids :\n",
        "        rating = 'Kids'\n",
        "      elif column in teens :\n",
        "        rating = 'Teens'\n",
        "      elif column in adult:\n",
        "        rating = 'Adult'\n",
        "      \n",
        "  return rating\n",
        "\n",
        "ratings = pd.get_dummies(clustering_df['rating']).drop('unknown',axis=1).apply(lambda x: topick(x),axis=1)\n",
        "     "
      ],
      "metadata": {
        "id": "0HHPEmZs74LV"
      },
      "execution_count": null,
      "outputs": []
    },
    {
      "cell_type": "code",
      "source": [
        "clustering_df = pd.concat([clustering_df.drop(['type','rating'],axis =1),pd.get_dummies(ratings).drop('Others', axis=1), pd.get_dummies(clustering_df['type'])], axis =1)"
      ],
      "metadata": {
        "id": "LG2X_TUHUZ4K"
      },
      "execution_count": null,
      "outputs": []
    },
    {
      "cell_type": "code",
      "source": [
        "clustering_df"
      ],
      "metadata": {
        "id": "_4nhqnJCUaxo",
        "colab": {
          "base_uri": "https://localhost:8080/",
          "height": 424
        },
        "outputId": "45cdcb4c-70a4-4641-ba5c-5515e7ae9157"
      },
      "execution_count": null,
      "outputs": [
        {
          "output_type": "execute_result",
          "data": {
            "text/plain": [
              "       duration  release_year  Adult  Kids  Older Kids  Teens  Movie  TV Show\n",
              "0     4 Seasons          2020      1     0           0      0      0        1\n",
              "1        93 min          2016      1     0           0      0      1        0\n",
              "2        78 min          2011      1     0           0      0      1        0\n",
              "3        80 min          2009      0     0           0      1      1        0\n",
              "4       123 min          2008      0     0           0      1      1        0\n",
              "...         ...           ...    ...   ...         ...    ...    ...      ...\n",
              "7782     99 min          2005      1     0           0      0      1        0\n",
              "7783    111 min          2015      0     0           0      1      1        0\n",
              "7784     44 min          2019      1     0           0      0      1        0\n",
              "7785   1 Season          2019      0     0           1      0      0        1\n",
              "7786     90 min          2019      1     0           0      0      1        0\n",
              "\n",
              "[7787 rows x 8 columns]"
            ],
            "text/html": [
              "\n",
              "  <div id=\"df-c7a37f5b-816f-47c3-874d-aa33d9b2cff8\">\n",
              "    <div class=\"colab-df-container\">\n",
              "      <div>\n",
              "<style scoped>\n",
              "    .dataframe tbody tr th:only-of-type {\n",
              "        vertical-align: middle;\n",
              "    }\n",
              "\n",
              "    .dataframe tbody tr th {\n",
              "        vertical-align: top;\n",
              "    }\n",
              "\n",
              "    .dataframe thead th {\n",
              "        text-align: right;\n",
              "    }\n",
              "</style>\n",
              "<table border=\"1\" class=\"dataframe\">\n",
              "  <thead>\n",
              "    <tr style=\"text-align: right;\">\n",
              "      <th></th>\n",
              "      <th>duration</th>\n",
              "      <th>release_year</th>\n",
              "      <th>Adult</th>\n",
              "      <th>Kids</th>\n",
              "      <th>Older Kids</th>\n",
              "      <th>Teens</th>\n",
              "      <th>Movie</th>\n",
              "      <th>TV Show</th>\n",
              "    </tr>\n",
              "  </thead>\n",
              "  <tbody>\n",
              "    <tr>\n",
              "      <th>0</th>\n",
              "      <td>4 Seasons</td>\n",
              "      <td>2020</td>\n",
              "      <td>1</td>\n",
              "      <td>0</td>\n",
              "      <td>0</td>\n",
              "      <td>0</td>\n",
              "      <td>0</td>\n",
              "      <td>1</td>\n",
              "    </tr>\n",
              "    <tr>\n",
              "      <th>1</th>\n",
              "      <td>93 min</td>\n",
              "      <td>2016</td>\n",
              "      <td>1</td>\n",
              "      <td>0</td>\n",
              "      <td>0</td>\n",
              "      <td>0</td>\n",
              "      <td>1</td>\n",
              "      <td>0</td>\n",
              "    </tr>\n",
              "    <tr>\n",
              "      <th>2</th>\n",
              "      <td>78 min</td>\n",
              "      <td>2011</td>\n",
              "      <td>1</td>\n",
              "      <td>0</td>\n",
              "      <td>0</td>\n",
              "      <td>0</td>\n",
              "      <td>1</td>\n",
              "      <td>0</td>\n",
              "    </tr>\n",
              "    <tr>\n",
              "      <th>3</th>\n",
              "      <td>80 min</td>\n",
              "      <td>2009</td>\n",
              "      <td>0</td>\n",
              "      <td>0</td>\n",
              "      <td>0</td>\n",
              "      <td>1</td>\n",
              "      <td>1</td>\n",
              "      <td>0</td>\n",
              "    </tr>\n",
              "    <tr>\n",
              "      <th>4</th>\n",
              "      <td>123 min</td>\n",
              "      <td>2008</td>\n",
              "      <td>0</td>\n",
              "      <td>0</td>\n",
              "      <td>0</td>\n",
              "      <td>1</td>\n",
              "      <td>1</td>\n",
              "      <td>0</td>\n",
              "    </tr>\n",
              "    <tr>\n",
              "      <th>...</th>\n",
              "      <td>...</td>\n",
              "      <td>...</td>\n",
              "      <td>...</td>\n",
              "      <td>...</td>\n",
              "      <td>...</td>\n",
              "      <td>...</td>\n",
              "      <td>...</td>\n",
              "      <td>...</td>\n",
              "    </tr>\n",
              "    <tr>\n",
              "      <th>7782</th>\n",
              "      <td>99 min</td>\n",
              "      <td>2005</td>\n",
              "      <td>1</td>\n",
              "      <td>0</td>\n",
              "      <td>0</td>\n",
              "      <td>0</td>\n",
              "      <td>1</td>\n",
              "      <td>0</td>\n",
              "    </tr>\n",
              "    <tr>\n",
              "      <th>7783</th>\n",
              "      <td>111 min</td>\n",
              "      <td>2015</td>\n",
              "      <td>0</td>\n",
              "      <td>0</td>\n",
              "      <td>0</td>\n",
              "      <td>1</td>\n",
              "      <td>1</td>\n",
              "      <td>0</td>\n",
              "    </tr>\n",
              "    <tr>\n",
              "      <th>7784</th>\n",
              "      <td>44 min</td>\n",
              "      <td>2019</td>\n",
              "      <td>1</td>\n",
              "      <td>0</td>\n",
              "      <td>0</td>\n",
              "      <td>0</td>\n",
              "      <td>1</td>\n",
              "      <td>0</td>\n",
              "    </tr>\n",
              "    <tr>\n",
              "      <th>7785</th>\n",
              "      <td>1 Season</td>\n",
              "      <td>2019</td>\n",
              "      <td>0</td>\n",
              "      <td>0</td>\n",
              "      <td>1</td>\n",
              "      <td>0</td>\n",
              "      <td>0</td>\n",
              "      <td>1</td>\n",
              "    </tr>\n",
              "    <tr>\n",
              "      <th>7786</th>\n",
              "      <td>90 min</td>\n",
              "      <td>2019</td>\n",
              "      <td>1</td>\n",
              "      <td>0</td>\n",
              "      <td>0</td>\n",
              "      <td>0</td>\n",
              "      <td>1</td>\n",
              "      <td>0</td>\n",
              "    </tr>\n",
              "  </tbody>\n",
              "</table>\n",
              "<p>7787 rows × 8 columns</p>\n",
              "</div>\n",
              "      <button class=\"colab-df-convert\" onclick=\"convertToInteractive('df-c7a37f5b-816f-47c3-874d-aa33d9b2cff8')\"\n",
              "              title=\"Convert this dataframe to an interactive table.\"\n",
              "              style=\"display:none;\">\n",
              "        \n",
              "  <svg xmlns=\"http://www.w3.org/2000/svg\" height=\"24px\"viewBox=\"0 0 24 24\"\n",
              "       width=\"24px\">\n",
              "    <path d=\"M0 0h24v24H0V0z\" fill=\"none\"/>\n",
              "    <path d=\"M18.56 5.44l.94 2.06.94-2.06 2.06-.94-2.06-.94-.94-2.06-.94 2.06-2.06.94zm-11 1L8.5 8.5l.94-2.06 2.06-.94-2.06-.94L8.5 2.5l-.94 2.06-2.06.94zm10 10l.94 2.06.94-2.06 2.06-.94-2.06-.94-.94-2.06-.94 2.06-2.06.94z\"/><path d=\"M17.41 7.96l-1.37-1.37c-.4-.4-.92-.59-1.43-.59-.52 0-1.04.2-1.43.59L10.3 9.45l-7.72 7.72c-.78.78-.78 2.05 0 2.83L4 21.41c.39.39.9.59 1.41.59.51 0 1.02-.2 1.41-.59l7.78-7.78 2.81-2.81c.8-.78.8-2.07 0-2.86zM5.41 20L4 18.59l7.72-7.72 1.47 1.35L5.41 20z\"/>\n",
              "  </svg>\n",
              "      </button>\n",
              "      \n",
              "  <style>\n",
              "    .colab-df-container {\n",
              "      display:flex;\n",
              "      flex-wrap:wrap;\n",
              "      gap: 12px;\n",
              "    }\n",
              "\n",
              "    .colab-df-convert {\n",
              "      background-color: #E8F0FE;\n",
              "      border: none;\n",
              "      border-radius: 50%;\n",
              "      cursor: pointer;\n",
              "      display: none;\n",
              "      fill: #1967D2;\n",
              "      height: 32px;\n",
              "      padding: 0 0 0 0;\n",
              "      width: 32px;\n",
              "    }\n",
              "\n",
              "    .colab-df-convert:hover {\n",
              "      background-color: #E2EBFA;\n",
              "      box-shadow: 0px 1px 2px rgba(60, 64, 67, 0.3), 0px 1px 3px 1px rgba(60, 64, 67, 0.15);\n",
              "      fill: #174EA6;\n",
              "    }\n",
              "\n",
              "    [theme=dark] .colab-df-convert {\n",
              "      background-color: #3B4455;\n",
              "      fill: #D2E3FC;\n",
              "    }\n",
              "\n",
              "    [theme=dark] .colab-df-convert:hover {\n",
              "      background-color: #434B5C;\n",
              "      box-shadow: 0px 1px 3px 1px rgba(0, 0, 0, 0.15);\n",
              "      filter: drop-shadow(0px 1px 2px rgba(0, 0, 0, 0.3));\n",
              "      fill: #FFFFFF;\n",
              "    }\n",
              "  </style>\n",
              "\n",
              "      <script>\n",
              "        const buttonEl =\n",
              "          document.querySelector('#df-c7a37f5b-816f-47c3-874d-aa33d9b2cff8 button.colab-df-convert');\n",
              "        buttonEl.style.display =\n",
              "          google.colab.kernel.accessAllowed ? 'block' : 'none';\n",
              "\n",
              "        async function convertToInteractive(key) {\n",
              "          const element = document.querySelector('#df-c7a37f5b-816f-47c3-874d-aa33d9b2cff8');\n",
              "          const dataTable =\n",
              "            await google.colab.kernel.invokeFunction('convertToInteractive',\n",
              "                                                     [key], {});\n",
              "          if (!dataTable) return;\n",
              "\n",
              "          const docLinkHtml = 'Like what you see? Visit the ' +\n",
              "            '<a target=\"_blank\" href=https://colab.research.google.com/notebooks/data_table.ipynb>data table notebook</a>'\n",
              "            + ' to learn more about interactive tables.';\n",
              "          element.innerHTML = '';\n",
              "          dataTable['output_type'] = 'display_data';\n",
              "          await google.colab.output.renderOutput(dataTable, element);\n",
              "          const docLink = document.createElement('div');\n",
              "          docLink.innerHTML = docLinkHtml;\n",
              "          element.appendChild(docLink);\n",
              "        }\n",
              "      </script>\n",
              "    </div>\n",
              "  </div>\n",
              "  "
            ]
          },
          "metadata": {},
          "execution_count": 89
        }
      ]
    },
    {
      "cell_type": "markdown",
      "source": [
        "#### 2. Feature Selection"
      ],
      "metadata": {
        "id": "2DejudWSA-a0"
      }
    },
    {
      "cell_type": "code",
      "source": [
        "# Select your features wisely to avoid overfitting\n",
        "#ENCODING TYPE, RATING\n",
        "#PROCESSING MOVIE DURATION\n",
        "#Extracting season numbers and movie duration as separate columns\n",
        "def duration(row,column):\n",
        "  text = row['duration'].split()\n",
        "  if column == 'show':\n",
        "    if row['Movie'] == 0:\n",
        "      return int(text[0])\n",
        "    else:\n",
        "      return 0\n",
        "  if column == 'movie':\n",
        "    if row['Movie'] ==1:\n",
        "      return int(text[0])\n",
        "    else:\n",
        "      return 0\n",
        "clustering_df['show_duration'] = clustering_df.apply(lambda x: duration(x,'show'),axis =1)\n",
        "\n",
        "clustering_df['movie_duration'] = clustering_df.apply(lambda x: duration(x,'movie'), axis=1)"
      ],
      "metadata": {
        "id": "YLhe8UmaBCEE"
      },
      "execution_count": null,
      "outputs": []
    },
    {
      "cell_type": "code",
      "source": [
        "clustering_df.drop('duration', axis = 1, inplace=True)"
      ],
      "metadata": {
        "id": "L1VE7-YuUue-"
      },
      "execution_count": null,
      "outputs": []
    },
    {
      "cell_type": "markdown",
      "source": [
        "## Binning Release Years based on decades"
      ],
      "metadata": {
        "id": "MVZaH8IcVQre"
      }
    },
    {
      "cell_type": "code",
      "source": [
        "(clustering_df['release_year']).unique()"
      ],
      "metadata": {
        "id": "iL-NTSMuVMjy",
        "colab": {
          "base_uri": "https://localhost:8080/"
        },
        "outputId": "cd7ccd6a-91ea-4323-c260-c54795da491a"
      },
      "execution_count": null,
      "outputs": [
        {
          "output_type": "execute_result",
          "data": {
            "text/plain": [
              "array([2020, 2016, 2011, 2009, 2008, 2019, 1997, 2017, 2018, 2014, 2015,\n",
              "       2010, 2005, 2013, 2012, 2006, 2000, 2003, 1989, 2004, 1977, 1971,\n",
              "       1993, 2007, 1998, 1988, 1996, 2002, 1986, 1990, 1979, 1980, 1974,\n",
              "       2001, 1999, 1966, 1991, 1982, 1994, 1995, 1978, 1992, 1972, 1975,\n",
              "       2021, 1973, 1967, 1960, 1981, 1958, 1976, 1968, 1956, 1985, 1965,\n",
              "       1984, 1983, 1987, 1945, 1946, 1962, 1925, 1942, 1969, 1955, 1963,\n",
              "       1964, 1954, 1970, 1944, 1947, 1959, 1943])"
            ]
          },
          "metadata": {},
          "execution_count": 92
        }
      ]
    },
    {
      "cell_type": "code",
      "source": [
        "def bin_release_year(row):\n",
        "  r_year = row['release_year']\n",
        "  for yr in np.arange(2030,1910,-10):\n",
        "    if r_year >= yr:\n",
        "      return (yr)\n",
        "\n",
        "clustering_df['release_year_bins'] =(clustering_df.apply(lambda x: bin_release_year(x), axis=1))"
      ],
      "metadata": {
        "id": "Lw0X68HFVMnX"
      },
      "execution_count": null,
      "outputs": []
    },
    {
      "cell_type": "code",
      "source": [
        "clustering_df"
      ],
      "metadata": {
        "id": "iT92k13eVM2i",
        "colab": {
          "base_uri": "https://localhost:8080/",
          "height": 424
        },
        "outputId": "ec40b73c-f8b7-4330-87cb-0beb1660f3b2"
      },
      "execution_count": null,
      "outputs": [
        {
          "output_type": "execute_result",
          "data": {
            "text/plain": [
              "      release_year  Adult  Kids  Older Kids  Teens  Movie  TV Show  \\\n",
              "0             2020      1     0           0      0      0        1   \n",
              "1             2016      1     0           0      0      1        0   \n",
              "2             2011      1     0           0      0      1        0   \n",
              "3             2009      0     0           0      1      1        0   \n",
              "4             2008      0     0           0      1      1        0   \n",
              "...            ...    ...   ...         ...    ...    ...      ...   \n",
              "7782          2005      1     0           0      0      1        0   \n",
              "7783          2015      0     0           0      1      1        0   \n",
              "7784          2019      1     0           0      0      1        0   \n",
              "7785          2019      0     0           1      0      0        1   \n",
              "7786          2019      1     0           0      0      1        0   \n",
              "\n",
              "      show_duration  movie_duration  release_year_bins  \n",
              "0                 4               0               2020  \n",
              "1                 0              93               2010  \n",
              "2                 0              78               2010  \n",
              "3                 0              80               2000  \n",
              "4                 0             123               2000  \n",
              "...             ...             ...                ...  \n",
              "7782              0              99               2000  \n",
              "7783              0             111               2010  \n",
              "7784              0              44               2010  \n",
              "7785              1               0               2010  \n",
              "7786              0              90               2010  \n",
              "\n",
              "[7787 rows x 10 columns]"
            ],
            "text/html": [
              "\n",
              "  <div id=\"df-528408c9-a564-4039-bc3b-477ea07a0647\">\n",
              "    <div class=\"colab-df-container\">\n",
              "      <div>\n",
              "<style scoped>\n",
              "    .dataframe tbody tr th:only-of-type {\n",
              "        vertical-align: middle;\n",
              "    }\n",
              "\n",
              "    .dataframe tbody tr th {\n",
              "        vertical-align: top;\n",
              "    }\n",
              "\n",
              "    .dataframe thead th {\n",
              "        text-align: right;\n",
              "    }\n",
              "</style>\n",
              "<table border=\"1\" class=\"dataframe\">\n",
              "  <thead>\n",
              "    <tr style=\"text-align: right;\">\n",
              "      <th></th>\n",
              "      <th>release_year</th>\n",
              "      <th>Adult</th>\n",
              "      <th>Kids</th>\n",
              "      <th>Older Kids</th>\n",
              "      <th>Teens</th>\n",
              "      <th>Movie</th>\n",
              "      <th>TV Show</th>\n",
              "      <th>show_duration</th>\n",
              "      <th>movie_duration</th>\n",
              "      <th>release_year_bins</th>\n",
              "    </tr>\n",
              "  </thead>\n",
              "  <tbody>\n",
              "    <tr>\n",
              "      <th>0</th>\n",
              "      <td>2020</td>\n",
              "      <td>1</td>\n",
              "      <td>0</td>\n",
              "      <td>0</td>\n",
              "      <td>0</td>\n",
              "      <td>0</td>\n",
              "      <td>1</td>\n",
              "      <td>4</td>\n",
              "      <td>0</td>\n",
              "      <td>2020</td>\n",
              "    </tr>\n",
              "    <tr>\n",
              "      <th>1</th>\n",
              "      <td>2016</td>\n",
              "      <td>1</td>\n",
              "      <td>0</td>\n",
              "      <td>0</td>\n",
              "      <td>0</td>\n",
              "      <td>1</td>\n",
              "      <td>0</td>\n",
              "      <td>0</td>\n",
              "      <td>93</td>\n",
              "      <td>2010</td>\n",
              "    </tr>\n",
              "    <tr>\n",
              "      <th>2</th>\n",
              "      <td>2011</td>\n",
              "      <td>1</td>\n",
              "      <td>0</td>\n",
              "      <td>0</td>\n",
              "      <td>0</td>\n",
              "      <td>1</td>\n",
              "      <td>0</td>\n",
              "      <td>0</td>\n",
              "      <td>78</td>\n",
              "      <td>2010</td>\n",
              "    </tr>\n",
              "    <tr>\n",
              "      <th>3</th>\n",
              "      <td>2009</td>\n",
              "      <td>0</td>\n",
              "      <td>0</td>\n",
              "      <td>0</td>\n",
              "      <td>1</td>\n",
              "      <td>1</td>\n",
              "      <td>0</td>\n",
              "      <td>0</td>\n",
              "      <td>80</td>\n",
              "      <td>2000</td>\n",
              "    </tr>\n",
              "    <tr>\n",
              "      <th>4</th>\n",
              "      <td>2008</td>\n",
              "      <td>0</td>\n",
              "      <td>0</td>\n",
              "      <td>0</td>\n",
              "      <td>1</td>\n",
              "      <td>1</td>\n",
              "      <td>0</td>\n",
              "      <td>0</td>\n",
              "      <td>123</td>\n",
              "      <td>2000</td>\n",
              "    </tr>\n",
              "    <tr>\n",
              "      <th>...</th>\n",
              "      <td>...</td>\n",
              "      <td>...</td>\n",
              "      <td>...</td>\n",
              "      <td>...</td>\n",
              "      <td>...</td>\n",
              "      <td>...</td>\n",
              "      <td>...</td>\n",
              "      <td>...</td>\n",
              "      <td>...</td>\n",
              "      <td>...</td>\n",
              "    </tr>\n",
              "    <tr>\n",
              "      <th>7782</th>\n",
              "      <td>2005</td>\n",
              "      <td>1</td>\n",
              "      <td>0</td>\n",
              "      <td>0</td>\n",
              "      <td>0</td>\n",
              "      <td>1</td>\n",
              "      <td>0</td>\n",
              "      <td>0</td>\n",
              "      <td>99</td>\n",
              "      <td>2000</td>\n",
              "    </tr>\n",
              "    <tr>\n",
              "      <th>7783</th>\n",
              "      <td>2015</td>\n",
              "      <td>0</td>\n",
              "      <td>0</td>\n",
              "      <td>0</td>\n",
              "      <td>1</td>\n",
              "      <td>1</td>\n",
              "      <td>0</td>\n",
              "      <td>0</td>\n",
              "      <td>111</td>\n",
              "      <td>2010</td>\n",
              "    </tr>\n",
              "    <tr>\n",
              "      <th>7784</th>\n",
              "      <td>2019</td>\n",
              "      <td>1</td>\n",
              "      <td>0</td>\n",
              "      <td>0</td>\n",
              "      <td>0</td>\n",
              "      <td>1</td>\n",
              "      <td>0</td>\n",
              "      <td>0</td>\n",
              "      <td>44</td>\n",
              "      <td>2010</td>\n",
              "    </tr>\n",
              "    <tr>\n",
              "      <th>7785</th>\n",
              "      <td>2019</td>\n",
              "      <td>0</td>\n",
              "      <td>0</td>\n",
              "      <td>1</td>\n",
              "      <td>0</td>\n",
              "      <td>0</td>\n",
              "      <td>1</td>\n",
              "      <td>1</td>\n",
              "      <td>0</td>\n",
              "      <td>2010</td>\n",
              "    </tr>\n",
              "    <tr>\n",
              "      <th>7786</th>\n",
              "      <td>2019</td>\n",
              "      <td>1</td>\n",
              "      <td>0</td>\n",
              "      <td>0</td>\n",
              "      <td>0</td>\n",
              "      <td>1</td>\n",
              "      <td>0</td>\n",
              "      <td>0</td>\n",
              "      <td>90</td>\n",
              "      <td>2010</td>\n",
              "    </tr>\n",
              "  </tbody>\n",
              "</table>\n",
              "<p>7787 rows × 10 columns</p>\n",
              "</div>\n",
              "      <button class=\"colab-df-convert\" onclick=\"convertToInteractive('df-528408c9-a564-4039-bc3b-477ea07a0647')\"\n",
              "              title=\"Convert this dataframe to an interactive table.\"\n",
              "              style=\"display:none;\">\n",
              "        \n",
              "  <svg xmlns=\"http://www.w3.org/2000/svg\" height=\"24px\"viewBox=\"0 0 24 24\"\n",
              "       width=\"24px\">\n",
              "    <path d=\"M0 0h24v24H0V0z\" fill=\"none\"/>\n",
              "    <path d=\"M18.56 5.44l.94 2.06.94-2.06 2.06-.94-2.06-.94-.94-2.06-.94 2.06-2.06.94zm-11 1L8.5 8.5l.94-2.06 2.06-.94-2.06-.94L8.5 2.5l-.94 2.06-2.06.94zm10 10l.94 2.06.94-2.06 2.06-.94-2.06-.94-.94-2.06-.94 2.06-2.06.94z\"/><path d=\"M17.41 7.96l-1.37-1.37c-.4-.4-.92-.59-1.43-.59-.52 0-1.04.2-1.43.59L10.3 9.45l-7.72 7.72c-.78.78-.78 2.05 0 2.83L4 21.41c.39.39.9.59 1.41.59.51 0 1.02-.2 1.41-.59l7.78-7.78 2.81-2.81c.8-.78.8-2.07 0-2.86zM5.41 20L4 18.59l7.72-7.72 1.47 1.35L5.41 20z\"/>\n",
              "  </svg>\n",
              "      </button>\n",
              "      \n",
              "  <style>\n",
              "    .colab-df-container {\n",
              "      display:flex;\n",
              "      flex-wrap:wrap;\n",
              "      gap: 12px;\n",
              "    }\n",
              "\n",
              "    .colab-df-convert {\n",
              "      background-color: #E8F0FE;\n",
              "      border: none;\n",
              "      border-radius: 50%;\n",
              "      cursor: pointer;\n",
              "      display: none;\n",
              "      fill: #1967D2;\n",
              "      height: 32px;\n",
              "      padding: 0 0 0 0;\n",
              "      width: 32px;\n",
              "    }\n",
              "\n",
              "    .colab-df-convert:hover {\n",
              "      background-color: #E2EBFA;\n",
              "      box-shadow: 0px 1px 2px rgba(60, 64, 67, 0.3), 0px 1px 3px 1px rgba(60, 64, 67, 0.15);\n",
              "      fill: #174EA6;\n",
              "    }\n",
              "\n",
              "    [theme=dark] .colab-df-convert {\n",
              "      background-color: #3B4455;\n",
              "      fill: #D2E3FC;\n",
              "    }\n",
              "\n",
              "    [theme=dark] .colab-df-convert:hover {\n",
              "      background-color: #434B5C;\n",
              "      box-shadow: 0px 1px 3px 1px rgba(0, 0, 0, 0.15);\n",
              "      filter: drop-shadow(0px 1px 2px rgba(0, 0, 0, 0.3));\n",
              "      fill: #FFFFFF;\n",
              "    }\n",
              "  </style>\n",
              "\n",
              "      <script>\n",
              "        const buttonEl =\n",
              "          document.querySelector('#df-528408c9-a564-4039-bc3b-477ea07a0647 button.colab-df-convert');\n",
              "        buttonEl.style.display =\n",
              "          google.colab.kernel.accessAllowed ? 'block' : 'none';\n",
              "\n",
              "        async function convertToInteractive(key) {\n",
              "          const element = document.querySelector('#df-528408c9-a564-4039-bc3b-477ea07a0647');\n",
              "          const dataTable =\n",
              "            await google.colab.kernel.invokeFunction('convertToInteractive',\n",
              "                                                     [key], {});\n",
              "          if (!dataTable) return;\n",
              "\n",
              "          const docLinkHtml = 'Like what you see? Visit the ' +\n",
              "            '<a target=\"_blank\" href=https://colab.research.google.com/notebooks/data_table.ipynb>data table notebook</a>'\n",
              "            + ' to learn more about interactive tables.';\n",
              "          element.innerHTML = '';\n",
              "          dataTable['output_type'] = 'display_data';\n",
              "          await google.colab.output.renderOutput(dataTable, element);\n",
              "          const docLink = document.createElement('div');\n",
              "          docLink.innerHTML = docLinkHtml;\n",
              "          element.appendChild(docLink);\n",
              "        }\n",
              "      </script>\n",
              "    </div>\n",
              "  </div>\n",
              "  "
            ]
          },
          "metadata": {},
          "execution_count": 94
        }
      ]
    },
    {
      "cell_type": "code",
      "source": [
        "from sklearn.decomposition import PCA\n",
        "from sklearn.metrics.pairwise import linear_kernel\n",
        "from sklearn.preprocessing import StandardScaler, MinMaxScaler, Normalizer\n",
        "\n",
        "\n",
        "import matplotlib.cm as cm\n",
        "from sklearn import metrics\n",
        "from sklearn.preprocessing import LabelEncoder\n",
        "from sklearn.preprocessing import StandardScaler\n",
        "from sklearn.decomposition import PCA\n",
        "\n",
        "\n",
        "from sklearn.cluster import KMeans , AgglomerativeClustering, DBSCAN\n",
        "from sklearn.cluster import AffinityPropagation\n",
        "from sklearn.datasets import make_blobs\n",
        "from sklearn.metrics import silhouette_samples, silhouette_score, davies_bouldin_score, calinski_harabasz_score\n",
        "from sklearn.preprocessing import MinMaxScaler\n",
        "from sklearn.preprocessing import MultiLabelBinarizer\n",
        "from sklearn.preprocessing import OneHotEncoder"
      ],
      "metadata": {
        "id": "KUgqZSf2VM5d"
      },
      "execution_count": null,
      "outputs": []
    },
    {
      "cell_type": "markdown",
      "source": [
        "## TOPIC MODELING using GENSIM"
      ],
      "metadata": {
        "id": "inQbay5kVh7W"
      }
    },
    {
      "cell_type": "code",
      "source": [
        "topic_input = df['Processed Description'] + ' ' + df['Processed Movie Deets']"
      ],
      "metadata": {
        "id": "ek0oHqK-VM83"
      },
      "execution_count": null,
      "outputs": []
    },
    {
      "cell_type": "code",
      "source": [
        "from gensim.models.ldamulticore import LdaMulticore\n",
        "from gensim.models.coherencemodel import CoherenceModel"
      ],
      "metadata": {
        "id": "yxHGoGkKVmmL"
      },
      "execution_count": null,
      "outputs": []
    },
    {
      "cell_type": "code",
      "source": [
        "from gensim.corpora import Dictionary\n",
        "\n",
        "gensim_paragraphs = (topic_input).apply(lambda row: row.split(' '))\n",
        "dict_gensim_para = Dictionary(gensim_paragraphs) # dictionary of corpus\n",
        "dict_gensim_para.filter_extremes(no_below=5, no_above=0.6)\n",
        "\n",
        "bow_gensim_para = [dict_gensim_para.doc2bow(paragraph) for paragraph in gensim_paragraphs] #creating corpus"
      ],
      "metadata": {
        "id": "rTRPTbNXVmxU"
      },
      "execution_count": null,
      "outputs": []
    },
    {
      "cell_type": "markdown",
      "source": [
        "## TFIDF VECTOR"
      ],
      "metadata": {
        "id": "wzIXfj45W99N"
      }
    },
    {
      "cell_type": "code",
      "source": [
        "from gensim.models import TfidfModel\n",
        "tfidf_gensim_para = TfidfModel(bow_gensim_para)\n",
        "vectors_gensim_para = tfidf_gensim_para[bow_gensim_para]"
      ],
      "metadata": {
        "id": "tnSDz-JnVm07"
      },
      "execution_count": null,
      "outputs": []
    },
    {
      "cell_type": "code",
      "source": [
        "lda_para_model_n = []\n",
        "for n in (range(5, 16)):\n",
        "  lda_model = LdaMulticore(corpus=bow_gensim_para, id2word=dict_gensim_para,\n",
        "                            chunksize=1000, eta='auto', iterations=400,\n",
        "                            num_topics=n, passes=20, eval_every=None,\n",
        "                            random_state=42)\n",
        "  lda_coherence = CoherenceModel(model=lda_model, texts=gensim_paragraphs,\n",
        "                            dictionary=dict_gensim_para, coherence='c_npmi') \n",
        "  print(n,'|', lda_coherence.get_coherence())\n",
        "  lda_para_model_n.append((n, lda_model, lda_coherence.get_coherence()))"
      ],
      "metadata": {
        "id": "dMkeMN1lXCc6",
        "colab": {
          "base_uri": "https://localhost:8080/"
        },
        "outputId": "403057a9-52b9-4aba-c207-42dd42dbc69a"
      },
      "execution_count": 101,
      "outputs": [
        {
          "output_type": "stream",
          "name": "stdout",
          "text": [
            "5 | -0.031975860950065\n",
            "6 | -0.019944568735698432\n",
            "7 | -0.027401086832076194\n",
            "8 | -0.02239068915072824\n",
            "9 | -0.02119957317840014\n",
            "10 | -0.02358830927702543\n",
            "11 | -0.02625641363460742\n",
            "12 | -0.02259799094244981\n",
            "13 | -0.02035317037251107\n",
            "14 | -0.02577109660196963\n",
            "15 | -0.032073432784593146\n"
          ]
        }
      ]
    },
    {
      "cell_type": "code",
      "source": [
        "lda_df = pd.DataFrame(lda_para_model_n, columns=[\"n\", \"model\", \"coherence\"]).set_index(\"n\")[[\"coherence\"]]\n",
        "plt.figure(figsize=(16,9))\n",
        "_ = sns.lineplot(x='n', y='coherence', data=lda_df )\n",
        "_ = plt.xticks(ticks = np.arange(4,25,1))"
      ],
      "metadata": {
        "id": "gJU9cQF7XFQd",
        "colab": {
          "base_uri": "https://localhost:8080/",
          "height": 551
        },
        "outputId": "aa613d21-b51c-4178-ae0b-8297c61da8ac"
      },
      "execution_count": 103,
      "outputs": [
        {
          "output_type": "display_data",
          "data": {
            "text/plain": [
              "<Figure size 1152x648 with 1 Axes>"
            ],
            "image/png": "[encoded data removed]"
          },
          "metadata": {
            "needs_background": "light"
          }
        }
      ]
    },
    {
      "cell_type": "code",
      "source": [
        "lda_df = lda_df.reset_index()\n",
        "topic_nums = lda_df[lda_df['coherence']==lda_df['coherence'].max()]['n'].to_list()[0]\n",
        "topic_nums"
      ],
      "metadata": {
        "id": "SyL_YctRXLs_",
        "colab": {
          "base_uri": "https://localhost:8080/"
        },
        "outputId": "d6fb636c-61ba-45be-ebd5-60bd8a8e1fb3"
      },
      "execution_count": 104,
      "outputs": [
        {
          "output_type": "execute_result",
          "data": {
            "text/plain": [
              "6"
            ]
          },
          "metadata": {},
          "execution_count": 104
        }
      ]
    },
    {
      "cell_type": "code",
      "source": [
        "lda_gensim_para = LdaMulticore(corpus=bow_gensim_para, id2word=dict_gensim_para,\n",
        "                            chunksize=2000, eta='auto', iterations=400,\n",
        "                            num_topics= topic_nums , passes=20, eval_every=None,\n",
        "                            random_state=42)"
      ],
      "metadata": {
        "id": "878LIcWBXL2U"
      },
      "execution_count": 105,
      "outputs": []
    },
    {
      "cell_type": "code",
      "source": [
        "#function to display gensim topics\n",
        "def display_gensim_topics(model):\n",
        "  gen_list = lda_gensim_para.print_topics()\n",
        "  for i in range(0,len(gen_list)):\n",
        "    print('Topic: ',i+1,'\\n')\n",
        "    topics = gen_list[i][1]\n",
        "    for j in topics.split('+'):\n",
        "      print(j.split('\"')[1])\n",
        "\n",
        "    print(\"------\\n\")\n",
        "\n",
        "display_gensim_topics(lda_gensim_para)"
      ],
      "metadata": {
        "id": "2z_wB2S3XL_e",
        "colab": {
          "base_uri": "https://localhost:8080/"
        },
        "outputId": "caae14cd-0e55-400d-9d51-9bc0e8085b1b"
      },
      "execution_count": 106,
      "outputs": [
        {
          "output_type": "stream",
          "name": "stdout",
          "text": [
            "Topic:  1 \n",
            "\n",
            "to\n",
            "of\n",
            "drama\n",
            "and\n",
            "hi\n",
            "crime\n",
            "in\n",
            "thriller\n",
            "actionadventure\n",
            "'s\n",
            "------\n",
            "\n",
            "Topic:  2 \n",
            "\n",
            "of\n",
            "and\n",
            "documentary\n",
            "in\n",
            "thi\n",
            "to\n",
            "'s\n",
            "on\n",
            "documentari\n",
            "from\n",
            "------\n",
            "\n",
            "Topic:  3 \n",
            "\n",
            "to\n",
            "her\n",
            "hi\n",
            "drama\n",
            "comedy\n",
            "'s\n",
            "and\n",
            "he\n",
            "with\n",
            "when\n",
            "------\n",
            "\n",
            "Topic:  4 \n",
            "\n",
            "to\n",
            "and\n",
            "of\n",
            "in\n",
            "actionadventure\n",
            "’\n",
            "hi\n",
            "an\n",
            "s\n",
            "when\n",
            "------\n",
            "\n",
            "Topic:  5 \n",
            "\n",
            "and\n",
            "drama\n",
            "in\n",
            "of\n",
            "their\n",
            "to\n",
            "with\n",
            "comedy\n",
            "an\n",
            "romance\n",
            "------\n",
            "\n",
            "Topic:  6 \n",
            "\n",
            "and\n",
            "comedy\n",
            "in\n",
            "of\n",
            "to\n",
            "hi\n",
            "''\n",
            "thi\n",
            "``\n",
            "on\n",
            "------\n",
            "\n"
          ]
        }
      ]
    },
    {
      "cell_type": "code",
      "source": [
        "pip install pyLDAvis"
      ],
      "metadata": {
        "id": "P680i71zXcwk",
        "colab": {
          "base_uri": "https://localhost:8080/"
        },
        "outputId": "ed885ead-af5d-4d23-ef3b-9f89a9e4eed8"
      },
      "execution_count": 107,
      "outputs": [
        {
          "output_type": "stream",
          "name": "stdout",
          "text": [
            "Looking in indexes: https://pypi.org/simple, https://us-python.pkg.dev/colab-wheels/public/simple/\n",
            "Collecting pyLDAvis\n",
            "  Downloading pyLDAvis-3.3.1.tar.gz (1.7 MB)\n",
            "\u001b[K     |████████████████████████████████| 1.7 MB 5.2 MB/s \n",
            "\u001b[?25h  Installing build dependencies ... \u001b[?25l\u001b[?25hdone\n",
            "  Getting requirements to build wheel ... \u001b[?25l\u001b[?25hdone\n",
            "  Installing backend dependencies ... \u001b[?25l\u001b[?25hdone\n",
            "    Preparing wheel metadata ... \u001b[?25l\u001b[?25hdone\n",
            "Requirement already satisfied: jinja2 in /usr/local/lib/python3.8/dist-packages (from pyLDAvis) (2.11.3)\n",
            "Requirement already satisfied: scikit-learn in /usr/local/lib/python3.8/dist-packages (from pyLDAvis) (1.0.2)\n",
            "Requirement already satisfied: numpy>=1.20.0 in /usr/local/lib/python3.8/dist-packages (from pyLDAvis) (1.21.6)\n",
            "Requirement already satisfied: joblib in /usr/local/lib/python3.8/dist-packages (from pyLDAvis) (1.2.0)\n",
            "Collecting sklearn\n",
            "  Downloading sklearn-0.0.post1.tar.gz (3.6 kB)\n",
            "Requirement already satisfied: numexpr in /usr/local/lib/python3.8/dist-packages (from pyLDAvis) (2.8.4)\n",
            "Requirement already satisfied: pandas>=1.2.0 in /usr/local/lib/python3.8/dist-packages (from pyLDAvis) (1.3.5)\n",
            "Requirement already satisfied: future in /usr/local/lib/python3.8/dist-packages (from pyLDAvis) (0.16.0)\n",
            "Collecting funcy\n",
            "  Downloading funcy-1.17-py2.py3-none-any.whl (33 kB)\n",
            "Requirement already satisfied: setuptools in /usr/local/lib/python3.8/dist-packages (from pyLDAvis) (57.4.0)\n",
            "Requirement already satisfied: scipy in /usr/local/lib/python3.8/dist-packages (from pyLDAvis) (1.7.3)\n",
            "Requirement already satisfied: gensim in /usr/local/lib/python3.8/dist-packages (from pyLDAvis) (3.6.0)\n",
            "Requirement already satisfied: python-dateutil>=2.7.3 in /usr/local/lib/python3.8/dist-packages (from pandas>=1.2.0->pyLDAvis) (2.8.2)\n",
            "Requirement already satisfied: pytz>=2017.3 in /usr/local/lib/python3.8/dist-packages (from pandas>=1.2.0->pyLDAvis) (2022.6)\n",
            "Requirement already satisfied: six>=1.5 in /usr/local/lib/python3.8/dist-packages (from python-dateutil>=2.7.3->pandas>=1.2.0->pyLDAvis) (1.15.0)\n",
            "Requirement already satisfied: smart-open>=1.2.1 in /usr/local/lib/python3.8/dist-packages (from gensim->pyLDAvis) (6.3.0)\n",
            "Requirement already satisfied: MarkupSafe>=0.23 in /usr/local/lib/python3.8/dist-packages (from jinja2->pyLDAvis) (2.0.1)\n",
            "Requirement already satisfied: threadpoolctl>=2.0.0 in /usr/local/lib/python3.8/dist-packages (from scikit-learn->pyLDAvis) (3.1.0)\n",
            "Building wheels for collected packages: pyLDAvis, sklearn\n",
            "  Building wheel for pyLDAvis (PEP 517) ... \u001b[?25l\u001b[?25hdone\n",
            "  Created wheel for pyLDAvis: filename=pyLDAvis-3.3.1-py2.py3-none-any.whl size=136898 sha256=8234cbea62227e448a4a754397cd9381bff08808dd915577a7a648e8f499a6e8\n",
            "  Stored in directory: /root/.cache/pip/wheels/90/61/ec/9dbe9efc3acf9c4e37ba70fbbcc3f3a0ebd121060aa593181a\n",
            "  Building wheel for sklearn (setup.py) ... \u001b[?25l\u001b[?25hdone\n",
            "  Created wheel for sklearn: filename=sklearn-0.0.post1-py3-none-any.whl size=2344 sha256=f46f79087c4532e8f4cef30e118bf0d6066cf689de739f2b6fd78e352aa94dc5\n",
            "  Stored in directory: /root/.cache/pip/wheels/14/25/f7/1cc0956978ae479e75140219088deb7a36f60459df242b1a72\n",
            "Successfully built pyLDAvis sklearn\n",
            "Installing collected packages: sklearn, funcy, pyLDAvis\n",
            "Successfully installed funcy-1.17 pyLDAvis-3.3.1 sklearn-0.0.post1\n"
          ]
        }
      ]
    },
    {
      "cell_type": "code",
      "source": [
        "import pyLDAvis\n",
        "import pyLDAvis.gensim_models"
      ],
      "metadata": {
        "id": "EizuOerCXffy",
        "colab": {
          "base_uri": "https://localhost:8080/"
        },
        "outputId": "9c5fface-3316-4a85-8ccf-4f61e47cd37c"
      },
      "execution_count": 108,
      "outputs": [
        {
          "output_type": "stream",
          "name": "stderr",
          "text": [
            "/usr/local/lib/python3.8/dist-packages/past/types/oldstr.py:5: DeprecationWarning: Using or importing the ABCs from 'collections' instead of from 'collections.abc' is deprecated since Python 3.3, and in 3.10 it will stop working\n",
            "  from collections import Iterable\n"
          ]
        }
      ]
    },
    {
      "cell_type": "code",
      "source": [
        "pyLDAvis.enable_notebook()\n",
        "p = pyLDAvis.gensim_models.prepare(lda_gensim_para, bow_gensim_para, dict_gensim_para)\n",
        "\n",
        "p"
      ],
      "metadata": {
        "id": "jaoxjW35Xfk7",
        "colab": {
          "base_uri": "https://localhost:8080/",
          "height": 917
        },
        "outputId": "6144cb8d-f209-4e9d-ed03-31930438d27b"
      },
      "execution_count": 109,
      "outputs": [
        {
          "output_type": "stream",
          "name": "stderr",
          "text": [
            "/usr/local/lib/python3.8/dist-packages/pyLDAvis/_prepare.py:246: FutureWarning: In a future version of pandas all arguments of DataFrame.drop except for the argument 'labels' will be keyword-only\n",
            "  default_term_info = default_term_info.sort_values(\n"
          ]
        },
        {
          "output_type": "execute_result",
          "data": {
            "text/plain": [
              "PreparedData(topic_coordinates=              x         y  topics  cluster       Freq\n",
              "topic                                                \n",
              "2     -0.099019  0.089385       1        1  22.747294\n",
              "4     -0.017825  0.034605       2        1  17.878265\n",
              "1      0.167317 -0.104584       3        1  17.567540\n",
              "0     -0.120656 -0.085970       4        1  15.690375\n",
              "3     -0.061248 -0.040715       5        1  15.017427\n",
              "5      0.131431  0.107279       6        1  11.099098, topic_info=             Term         Freq        Total Category  logprob  loglift\n",
              "206   documentary  1069.000000  1069.000000  Default  30.0000  30.0000\n",
              "200           thi  1182.000000  1182.000000  Default  29.0000  29.0000\n",
              "277        comedy  2312.000000  2312.000000  Default  28.0000  28.0000\n",
              "184           her  1829.000000  1829.000000  Default  27.0000  27.0000\n",
              "192         crime   573.000000   573.000000  Default  26.0000  26.0000\n",
              "...           ...          ...          ...      ...      ...      ...\n",
              "1061       family    95.577576   510.786822   Topic6  -5.3112   0.5223\n",
              "259        friend    95.853865   536.197302   Topic6  -5.3083   0.4766\n",
              "360            at    92.914493   659.257235   Topic6  -5.3394   0.2389\n",
              "254            as   100.043325  1056.909883   Topic6  -5.2655  -0.1592\n",
              "62          their    94.086390  1433.071926   Topic6  -5.3269  -0.5251\n",
              "\n",
              "[480 rows x 6 columns], token_table=      Topic      Freq Term\n",
              "term                      \n",
              "1421      5  0.321661    !\n",
              "1421      6  0.664766    !\n",
              "708       6  0.998575   ''\n",
              "1564      1  0.982360   'd\n",
              "42        1  0.346882   's\n",
              "...     ...       ...  ...\n",
              "311       5  0.192396    –\n",
              "311       6  0.146828    –\n",
              "468       5  0.995466    ’\n",
              "757       3  0.993757    “\n",
              "758       3  1.002463    ”\n",
              "\n",
              "[956 rows x 3 columns], R=30, lambda_step=0.01, plot_opts={'xlab': 'PC1', 'ylab': 'PC2'}, topic_order=[3, 5, 2, 1, 4, 6])"
            ],
            "text/html": [
              "\n",
              "<link rel=\"stylesheet\" type=\"text/css\" href=\"https://cdn.jsdelivr.net/gh/bmabey/pyLDAvis@3.3.1/pyLDAvis/js/ldavis.v1.0.0.css\">\n",
              "\n",
              "\n",
              "<div id=\"ldavis_el1151397275863717287028348968\"></div>\n",
              "<script type=\"text/javascript\">\n",
              "\n",
              "var ldavis_el1151397275863717287028348968_data = {\"mdsDat\": {\"x\": [-0.09901893701909942, -0.017824941558597, 0.16731651379347293, -0.12065609215588532, -0.06124784178072837, 0.13143129872083661], \"y\": [0.08938531992062815, 0.03460464147383421, -0.1045843624346135, -0.0859700037849922, -0.04071486462395206, 0.10727926944909544], \"topics\": [1, 2, 3, 4, 5, 6], \"cluster\": [1, 1, 1, 1, 1, 1], \"Freq\": [22.74729403543813, 17.878265370533075, 17.56754008932495, 15.690375394417098, 15.017427337389607, 11.099097772897139]}, \"tinfo\": {\"Term\": [\"documentary\", \"thi\", \"comedy\", \"her\", \"crime\", \"and\", \"actionadventure\", \"drama\", \"romance\", \"''\", \"\\u2019\", \"thriller\", \"``\", \"s\", \"kids\", \"hi\", \"their\", \"of\", \"documentari\", \"horror\", \"she\", \"murder\", \"scififantasy\", \"in\", \"love\", \"family\", \"when\", \"to\", \"special\", \"comedi\", \"know\", \"boyfriend\", \"too\", \"heir\", \"handsom\", \"graduat\", \"dump\", \"app\", \"els\", \"say\", \"ahmedhelmy\", \"'d\", \"strain\", \"pretend\", \"ca\", \"coma\", \"truli\", \"hassanhosny\", \"reject\", \"grandson\", \"matriarch\", \"vengeanc\", \"depress\", \"woodyharrelson\", \"ramseynouah\", \"amyadams\", \"opera\", \"salmankhan\", \"replac\", \"tabithast.germain\", \"n't\", \"diagnos\", \"anilkapoor\", \"she\", \"wed\", \"her\", \"marri\", \"ex\", \"roommat\", \"father\", \"woman\", \"dad\", \"he\", \"mother\", \"lose\", \"but\", \"mom\", \"romance\", \"hi\", \"him\", \"job\", \"man\", \"decid\", \"to\", \"girl\", \"when\", \"husband\", \"ha\", \"school\", \"high\", \"comedy\", \"be\", \"meet\", \"'s\", \"drama\", \"is\", \"who\", \"for\", \"love\", \"life\", \"with\", \"after\", \"an\", \"famili\", \"that\", \"and\", \"young\", \"in\", \"of\", \"as\", \"tom\", \"heartbreak\", \"jamiewatson\", \"ericpeterson\", \"y\\u0131lmazerdo\\u011fan\", \"balanc\", \"michelaluci\", \"idealist\", \"annaclairebartlam\", \"divid\", \"kong\", \"opposit\", \"hong\", \"madrid\", \"delhi\", \"crumbl\", \"taypinghui\", \"self-discoveri\", \"mariocasas\", \"coast\", \"trainer\", \"revolut\", \"reckon\", \"antic\", \"nicolasaqui\", \"bicker\", \"jimmi\", \"intersect\", \"dysfunct\", \"poet\", \"rainbow\", \"domest\", \"differ\", \"romant\", \"each\", \"omonioboli\", \"their\", \"coupl\", \"two\", \"friendship\", \"form\", \"bond\", \"romanc\", \"between\", \"worker\", \"tension\", \"love\", \"drama\", \"live\", \"romance\", \"women\", \"relationship\", \"trip\", \"and\", \"path\", \"in\", \"other\", \"four\", \"they\", \"of\", \"dure\", \"with\", \"teen\", \"an\", \"comedy\", \"at\", \"as\", \"them\", \"to\", \"find\", \"young\", \"famili\", \"for\", \"on\", \"\\u2013\", \"friend\", \"when\", \"while\", \"up\", \"by\", \"new\", \"after\", \"from\", \"hi\", \"documentary\", \"documentari\", \"science\", \"examin\", \"footag\", \"chronicl\", \"docuseri\", \"ranger\", \"intim\", \"prize\", \"detail\", \"biopic\", \"\\u201d\", \"\\u201c\", \"our\", \"insight\", \"lee\", \"us\", \"frank\", \"account\", \"document\", \"becam\", \"delv\", \"davidattenborough\", \"dramat\", \"marin\", \"amateur\", \"innov\", \"kitchen\", \"award-win\", \"reality\", \"nazi\", \"histori\", \"studio\", \"argentina\", \"recount\", \"adapt\", \"explor\", \"britain\", \"thi\", \"stori\", \"interview\", \"film\", \"rare\", \"icon\", \"trace\", \"sports\", \"seri\", \"how\", \"follow\", \"most\", \"of\", \"and\", \"music\", \"in\", \"base\", \"world\", \"reveal\", \"from\", \"'s\", \"on\", \"to\", \"as\", \"look\", \"for\", \"life\", \"their\", \"that\", \"who\", \"with\", \"hi\", \"at\", \"drama\", \"by\", \"murder\", \"investig\", \"detect\", \"killer\", \"reveng\", \"polic\", \"corrupt\", \"crime\", \"terrorist\", \"serial\", \"accus\", \"undercov\", \"ruthless\", \"justic\", \"innoc\", \"fbi\", \"frame\", \"termin\", \"(\", \")\", \"suspici\", \"traffick\", \"nawazuddinsiddiqui\", \"assign\", \"rape\", \"grisli\", \"inmat\", \"convict\", \"cartel\", \"prime\", \"agent\", \"link\", \"kill\", \"case\", \"crimin\", \"cop\", \"suspect\", \"target\", \"prison\", \"offic\", \"thriller\", \"lord\", \"drug\", \"expos\", \"conspiraci\", \"actionadventure\", \"drama\", \"hi\", \"govern\", \"of\", \"to\", \"mysteri\", \"after\", \"an\", \"'s\", \"is\", \"and\", \"in\", \"by\", \"on\", \"who\", \"with\", \"for\", \"when\", \"horror\", \"into\", \"he\", \"take\", \"her\", \"as\", \"from\", \"s\", \"\\u2019\", \"evil\", \"alien\", \"possess\", \"villain\", \"abandon\", \"threat\", \"zombi\", \"transport\", \"invad\", \"dragon\", \"t\", \"fact\", \"actual\", \"unknown\", \"jungl\", \"doll\", \"mattdamon\", \"superpow\", \"retreat\", \"sword\", \"mythic\", \"buri\", \"contact\", \"chosen\", \"dennisquaid\", \"rebellion\", \"evad\", \"laurabailey\", \"carlagugino\", \"save\", \"scififantasy\", \"anime\", \"robot\", \"ghost\", \"earth\", \"superhero\", \"kingdom\", \"horror\", \"human\", \"family\", \"actionadventure\", \"planet\", \"fight\", \"power\", \"to\", \"mission\", \"kids\", \"magic\", \"rescu\", \"protect\", \"forc\", \"when\", \"from\", \"they\", \"of\", \"an\", \"them\", \"and\", \"by\", \"in\", \"must\", \"hi\", \"their\", \"is\", \"it\", \"on\", \"that\", \"with\", \"world\", \"for\", \"comedy\", \"'s\", \"after\", \"as\", \"drama\", \"''\", \"``\", \"comedi\", \"stand-up\", \"comedian\", \"comic\", \"fun\", \"talkshow\", \"humor\", \"johnpaultremblay\", \"robbwells\", \"funni\", \"sketch\", \"mikesmith\", \"pack\", \"jansuter\", \"highlight\", \"ra\\u00falcampos\", \"terrygilliam\", \"joke\", \"ericidle\", \"you\", \"observ\", \"marcusraboy\", \"santa\", \"riff\", \"curiou\", \"terryjones\", \"rocki\", \"spinoff\", \"special\", \"johncleese\", \"favorit\", \"talk\", \"stage\", \"kids\", \"tackl\", \"comedy\", \"adventur\", \"!\", \"show\", \"hilari\", \"charact\", \"and\", \"anim\", \"about\", \"thi\", \"in\", \"more\", \"on\", \"of\", \"hi\", \"with\", \"seri\", \"'s\", \"to\", \"take\", \"from\", \"for\", \"family\", \"friend\", \"at\", \"as\", \"their\"], \"Freq\": [1069.0, 1182.0, 2312.0, 1829.0, 573.0, 5569.0, 835.0, 2890.0, 817.0, 310.0, 361.0, 560.0, 288.0, 310.0, 404.0, 2985.0, 1433.0, 4696.0, 304.0, 406.0, 471.0, 247.0, 281.0, 3861.0, 491.0, 510.0, 1282.0, 5629.0, 183.0, 152.0, 32.53336553387563, 46.86600170995436, 35.27583120002472, 22.222677549369383, 21.519688170499677, 19.20816944912203, 17.562974632461344, 16.897853044842375, 16.7394763525302, 15.099414194066922, 13.458055011491203, 13.881249840641352, 13.458991686963321, 13.983146503437458, 17.962228221338325, 12.258925613005193, 12.066713107337682, 13.858000423559057, 11.822709724332649, 11.427655583071726, 13.429272163845503, 10.952289893562687, 11.420986823298591, 10.5133124869446, 10.522547575816434, 10.097976030066079, 9.53479268393248, 14.819232731544458, 10.350225853109245, 10.283466647635281, 98.18622676438201, 14.530658148607834, 14.71913550202278, 420.05253356829286, 69.76744674176771, 1528.8572005831008, 112.2918617764755, 22.767813434433535, 14.101204571759276, 209.1932885630622, 305.2328353196691, 40.18013923596858, 572.7041637580829, 138.96570894658416, 58.55925503028784, 388.8942030076326, 43.17121312495912, 450.0517981075039, 1339.860363024442, 225.57933912703376, 78.26836221778224, 258.93503873754105, 62.29879152464406, 1941.1579881184623, 146.85995900719962, 543.9006284045466, 82.74873393795067, 141.1830450069885, 165.9514517244544, 113.23693614382596, 815.1186772108513, 201.32957573978683, 122.61861299460224, 650.593023419354, 886.3373172250101, 399.26758703570044, 328.6236199454763, 509.68750230366567, 224.07419057553608, 289.7112334247032, 561.9499189363212, 315.8329802792953, 469.5912319038048, 236.5614721248185, 255.37076565815772, 618.7717991958414, 224.5363608060205, 462.8259910921522, 442.8250523243952, 215.71081278376536, 18.834527919176008, 19.50898255690109, 17.6200974549781, 17.6200974549781, 17.97993307425407, 19.0043071233648, 18.252794000853072, 17.619509236128508, 16.20939796796678, 16.873705830536416, 22.904450449299222, 16.796237044947276, 22.112036146347904, 14.395224829648047, 16.42877818200022, 13.572796841445392, 13.149713171916213, 13.177895027478545, 12.564307424509025, 12.921087573649624, 12.543234121124385, 15.633731418147951, 13.628811070691826, 12.838420131653681, 12.763962336688136, 12.085633442712977, 12.472900212321942, 11.914046917953916, 13.822264268086366, 12.045770722711552, 14.365997251686442, 13.306741280147905, 104.83703281503625, 51.54382771621573, 108.57028356632155, 18.363192149077634, 773.0081061919149, 102.9376087920581, 260.06982449816775, 62.46486953380167, 63.91154659162268, 67.62895174377455, 88.0478289794202, 115.01576786130268, 32.176482448727185, 24.03376165188276, 251.8956448858119, 1039.851132765858, 230.4082862647876, 365.57220545170213, 96.80107737037308, 90.87862130013353, 58.60717418602243, 1348.8669817886744, 54.294941799673396, 981.8794201174017, 122.36570036419882, 94.70870304080698, 217.16519970471484, 970.9110121585014, 73.82781983959397, 482.42099396362914, 124.76977258835912, 396.84845526093636, 478.1387316907648, 195.19592282077036, 253.59761618631634, 115.72860196347327, 594.2743375263882, 172.5767585135226, 177.12021900344962, 170.71769647037192, 268.6937809335884, 256.816669257565, 165.72817728146646, 152.6661314117677, 203.22049151041924, 126.62481150505704, 141.6586395781947, 149.43660659260408, 138.36760594846277, 135.83965919175535, 131.7590180070396, 129.20925631916958, 1068.5773202788992, 304.1669872883336, 76.50544198588535, 66.82625677756793, 48.13528928517079, 43.57434049701193, 41.059114271675284, 39.082487154839576, 37.81830737025458, 31.155309993982357, 28.20138869727518, 27.646154376706072, 24.546059070170138, 21.750763663209767, 24.80554697119006, 19.501823922613333, 19.851215110216323, 18.676597880256757, 17.938752637634522, 28.06509056240721, 17.607625396535965, 17.273891823551985, 17.695514618301345, 16.876023933242266, 36.04972298064559, 14.322933646120436, 14.61601040402244, 14.798645409224402, 14.201571523374794, 14.70294075967665, 203.61508134328216, 31.408921606685652, 110.98897179188788, 18.178374616768004, 18.769610568945435, 22.985249817245208, 32.494878954117006, 151.1922244719469, 21.06191960075786, 887.4643344047986, 224.09168052679215, 56.3358654873919, 139.7559898103457, 23.20857910020512, 52.99896503816813, 33.2051748584048, 131.36347983156548, 212.64118864107846, 99.2590440221681, 149.0662568571944, 87.62911662217411, 1460.4753298037963, 1317.2463715372255, 202.4335014074028, 927.5929828415665, 78.26397567471237, 191.10094916139425, 59.6549622458446, 280.0767312448941, 378.93378291452177, 328.6629819519106, 674.7378735774619, 224.23508051466206, 77.70177864822347, 233.5590053828077, 154.53145474282869, 200.82312011448323, 142.3241311735232, 145.0181328564683, 187.2259241308985, 175.03087404781596, 119.37976919119512, 145.2563812041495, 119.13648300556426, 246.9509585700681, 152.9064707582724, 111.48447720891214, 94.87772190650657, 77.43689761187365, 123.26446053105953, 77.34792685362888, 570.0788333076349, 54.84116111995184, 39.92607707741774, 37.44400005345181, 31.40161410256652, 30.956769871237878, 45.81491517780072, 24.514593881912333, 23.573084413861913, 22.94578639549664, 22.310351312977428, 20.675889652775307, 20.67589124609118, 22.40707992619881, 20.970836320262435, 18.80532885347095, 16.77952810220913, 18.518034882112936, 15.522637690624139, 18.85794970343141, 33.603812447238745, 19.539775770854895, 13.753830822798758, 103.57287362400187, 33.07623688261674, 102.38385846852769, 81.50506003956198, 99.91827226382811, 116.8632948989414, 49.14868645416059, 46.13393844141673, 79.41522233012294, 87.56143849042768, 435.54653216152207, 35.3495003017738, 96.17215721327923, 38.024005270129734, 32.25519802758364, 367.2221904125395, 666.8138070459742, 630.6574165341029, 51.09785349196792, 761.4611036111955, 831.4959782933323, 112.0917090071962, 237.8749215069437, 353.7881667647653, 362.4042581487344, 254.05574523741114, 632.7101682233252, 509.41076946184324, 227.15685134659748, 280.172843643098, 204.6635778117173, 276.65199796367517, 241.35028757814055, 213.73645373615335, 136.16406054259747, 153.56035484526362, 158.29380312831705, 125.27959721919576, 151.19654965841283, 131.6612096789432, 125.64250358853488, 310.07267602602826, 360.44019641093735, 109.08532988779554, 50.55010926471663, 22.29699023122403, 23.4315690925252, 25.197006166880822, 31.577262347394818, 20.557735534824314, 17.33688367680696, 18.63342149136276, 17.94679476751285, 17.93653622848848, 14.87466503820255, 14.711783472177038, 14.12703149799025, 15.40288143676122, 13.326041965004862, 11.505636231751842, 14.991714861721993, 14.090409108415376, 11.325860177160632, 11.518644309331425, 11.824505692677603, 11.5767765387961, 10.520968983391262, 9.893985743974534, 11.780441401744188, 10.372278879259724, 10.616030885857809, 10.481053399967255, 192.3601450906878, 257.58292057107576, 166.60598145885848, 31.067025460520004, 38.668814849766335, 77.50287650920718, 30.11519102696463, 34.624348858649796, 264.7920490149931, 99.94952368174744, 285.42922227188046, 425.9036259014869, 39.79177641505329, 110.69446415892497, 116.7743145712793, 1232.3552460876022, 71.47790706941252, 167.67357710801363, 73.638406932261, 52.69493843527816, 55.69262170136688, 104.81160453548273, 301.5625324269017, 269.6127907166736, 160.06641673995895, 606.812441578093, 324.0990009088719, 110.12463411194993, 619.7544204338055, 197.35929722756063, 434.3428884401329, 112.66150508604711, 355.94218923145166, 237.2179257064983, 181.9076896366584, 129.04050778444488, 212.25903293345468, 152.64070456683146, 197.6064171520174, 128.2360504474248, 173.24736602814883, 174.6273873361415, 151.414206023914, 130.32426016846995, 131.66183823904237, 129.4339281697076, 309.8536349375948, 288.3713807755891, 152.02646105081206, 124.6139605606396, 129.93705132956833, 106.36609440174387, 63.87265753346441, 49.50527342961118, 39.65395199462215, 27.174697069609397, 27.174697069609397, 29.58834937892574, 24.702979654740336, 21.83750648177339, 26.201284343936056, 18.39099791768793, 17.93336355556221, 17.110993590192663, 17.004306087544865, 17.44056643162443, 15.95165936753253, 32.21876696174496, 16.39067430453051, 15.274706886993867, 28.485844977923655, 15.975731624304823, 17.373779951275193, 13.316770643098193, 13.196637030173521, 13.52379227675668, 162.50011761027042, 13.584272722990317, 19.74931315785272, 32.45199667606297, 64.00255620082655, 234.7298178330243, 33.545225177016555, 775.7302259754296, 103.63830804551148, 61.58580891927044, 103.01687007978316, 31.394235249559735, 40.998648680681704, 1032.5259470690157, 73.6359582284549, 126.6687696610564, 289.7924441546847, 545.675642100267, 92.04734171165647, 273.83578617029735, 453.77805827333054, 354.3203206108949, 273.6332717449371, 100.13931682216008, 216.9753619316783, 355.8849654552371, 107.99046567322699, 137.87830377158028, 138.75329953586413, 95.57757569920525, 95.85386452475693, 92.91449297237561, 100.04332534520613, 94.08638967157775], \"Total\": [1069.0, 1182.0, 2312.0, 1829.0, 573.0, 5569.0, 835.0, 2890.0, 817.0, 310.0, 361.0, 560.0, 288.0, 310.0, 404.0, 2985.0, 1433.0, 4696.0, 304.0, 406.0, 471.0, 247.0, 281.0, 3861.0, 491.0, 510.0, 1282.0, 5629.0, 183.0, 152.0, 32.953037473001196, 47.48824535185648, 35.769164522840434, 22.591396058721962, 21.913849301066985, 19.579773532159454, 17.945190543603445, 17.266462381311193, 17.1286531666554, 15.45432475496091, 13.816559621140897, 14.25138910807422, 13.82210122460089, 14.368934524789015, 18.46118859995877, 12.616600127383617, 12.427860793608067, 14.27758261804966, 12.18856130839144, 11.783084143213266, 13.865285175849428, 11.309181280515547, 11.79687445371233, 10.86012094530421, 10.875152483658141, 10.445884488401566, 9.870762242213644, 15.341942852413537, 10.720185282553988, 10.651261131776648, 102.30236645782873, 15.082306252003026, 15.296492891748983, 471.84488818665216, 75.7935015474091, 1829.5747103675717, 128.7400346036917, 24.504128896394363, 14.754976502101627, 274.7648447319421, 424.1215972143375, 46.78054510180708, 933.241524348113, 192.60072959650103, 74.71709711195416, 666.5598723324904, 52.956073055717376, 817.8090028487721, 2985.020419767877, 379.78798868152415, 110.73961971885858, 460.94641132311625, 84.99672689607972, 5629.906389058484, 242.05296643316933, 1282.383928657111, 122.65136363978306, 239.24318410364984, 294.88782630180117, 184.01865466111101, 2312.7905513143937, 384.94026372307445, 206.897225201622, 1876.7212708063523, 2890.953000468249, 1010.8035528727456, 841.92701579147, 1565.2912417622156, 491.16190476480085, 712.2560057323615, 1979.4885238914783, 858.4705180098595, 1722.319141914711, 619.9996319273606, 795.8811039976491, 5569.875688247888, 644.5370449926927, 3861.7276940533634, 4696.262997749312, 1056.9098827479354, 19.188451690950096, 19.889967837309854, 17.96983845718949, 17.969838701472483, 18.341296024247118, 19.39089196258698, 18.63133814091871, 17.99698456071037, 16.557071633289002, 17.236052111765872, 23.404066834594733, 17.163407014787538, 22.604424515415324, 14.743219068871229, 16.828575378539263, 13.926872782134105, 13.500487299570585, 13.537875925621112, 12.907633049194851, 13.27437202959407, 12.89045535198244, 16.06867018883656, 14.00848215238105, 13.196264834942145, 13.122227304601594, 12.432829532273962, 12.833954227904949, 12.263783147008656, 14.230416373410137, 12.408998623707678, 14.816135236003225, 13.732849662378001, 123.93895776262092, 59.329563327791185, 135.03046606628033, 19.763377536984216, 1433.0719257197995, 142.13277176424384, 422.8583612753662, 82.37487268403662, 84.6425715992322, 91.16608148857914, 125.26062857430216, 171.98378904806253, 38.64805312048659, 27.345947327678953, 491.16190476480085, 2890.953000468249, 452.91754834008236, 817.8090028487721, 157.36882043997142, 152.40238138231197, 88.55228201298057, 5569.875688247888, 80.47919572678512, 3861.7276940533634, 239.36097887496032, 170.55843067348147, 525.8209972737073, 4696.262997749312, 132.17336202833593, 1979.4885238914783, 292.155588035728, 1722.319141914711, 2312.7905513143937, 659.2572348982102, 1056.9098827479354, 286.75017576195347, 5629.906389058484, 610.3864827752066, 644.5370449926927, 619.9996319273606, 1565.2912417622156, 1547.798964798116, 592.5292225826562, 536.1973019954131, 1282.383928657111, 337.72159103279995, 558.4392890790202, 899.8073901578058, 616.0196587544569, 858.4705180098595, 1113.253751588872, 2985.020419767877, 1069.1882842889404, 304.6491188734952, 76.93275137816461, 67.25223016421609, 48.544101378553925, 43.97907903932895, 41.45317851948395, 39.46481609534543, 38.28005833566065, 31.55901469146764, 28.60305213689749, 28.066197743216573, 24.93856508543607, 22.13820382149229, 25.2527490464249, 19.87334581242953, 20.231011562358116, 19.04481093564389, 18.302969122875147, 28.645906649823473, 17.972894451054394, 17.63962724358605, 18.077005059469073, 17.242253059003428, 36.910007247187906, 14.675338785929233, 14.976892718826491, 15.173053844750399, 14.571302758934292, 15.087322669732977, 213.2272899153121, 32.34416089829318, 116.66675152640745, 18.681105931867293, 19.304714832643857, 23.782684965624362, 34.06914279722405, 174.7407423926158, 21.78169461206186, 1182.8034889247765, 284.07551615103387, 65.10760083280296, 179.5014627112961, 24.306265093316274, 62.1347361803047, 37.04657796775475, 190.85372029405792, 346.94816120971603, 140.3820179568471, 238.42845632725798, 125.18182763077752, 4696.262997749312, 5569.875688247888, 447.6412143982882, 3861.7276940533634, 127.16533352452944, 492.085691729255, 85.06231719556325, 1113.253751588872, 1876.7212708063523, 1547.798964798116, 5629.906389058484, 1056.9098827479354, 144.0016954347382, 1565.2912417622156, 712.2560057323615, 1433.0719257197995, 795.8811039976491, 841.92701579147, 1979.4885238914783, 2985.020419767877, 659.2572348982102, 2890.953000468249, 899.8073901578058, 247.50256103809355, 153.5256149119509, 111.94739418836883, 95.36199995329305, 77.87501354377078, 123.9808045361993, 77.84134200921353, 573.7279656989037, 55.32884347186797, 40.327051566160605, 37.87246426664994, 31.84285368205035, 31.427796374686412, 46.53047369702923, 24.9069973407607, 23.966755153020912, 23.33219106689082, 22.71401951581992, 21.053828886705585, 21.053839609247706, 22.87126854317867, 21.407577412379833, 19.203461652180625, 17.147794024483858, 18.92531828172735, 15.890600956104022, 19.31025694654363, 34.43487925055412, 20.026410967008484, 14.11875976086826, 107.12904152566418, 33.98646433996402, 106.77055657868617, 86.30932322907282, 108.45582581110371, 130.4619406326161, 52.62490295437964, 49.65527156349856, 89.14946951242193, 99.25495025917148, 560.3919652622097, 37.87002438928825, 120.72863379079449, 41.811602975345124, 34.682228997003065, 835.3064322498476, 2890.953000468249, 2985.020419767877, 66.89325259192636, 4696.262997749312, 5629.906389058484, 236.16200635433307, 858.4705180098595, 1722.319141914711, 1876.7212708063523, 1010.8035528727456, 5569.875688247888, 3861.7276940533634, 899.8073901578058, 1547.798964798116, 841.92701579147, 1979.4885238914783, 1565.2912417622156, 1282.383928657111, 406.9784347214722, 628.316140616688, 933.241524348113, 485.5551986735766, 1829.5747103675717, 1056.9098827479354, 1113.253751588872, 310.95336919106563, 361.63976769797114, 109.64907749249329, 50.98307900265164, 22.674024130643808, 23.83625504629344, 25.63454627867653, 32.16229615131289, 20.950605346127702, 17.70911621618159, 19.059097175352797, 18.35738964099494, 18.356191565020534, 15.230177811883925, 15.085772983741107, 14.489731481439524, 15.812132111056345, 13.683054132711707, 11.849143952601406, 15.456546872130275, 14.52755147724929, 11.68664586337166, 11.88809211080182, 12.208762020422498, 11.957320197342622, 10.882293265221742, 10.233940898256789, 12.185239652755852, 10.730727023606901, 10.9829391106047, 10.843975818630968, 208.72550475847237, 281.99398570148674, 181.70195482095633, 32.77732818196511, 41.35235260507689, 89.61681034031065, 33.2130992383765, 39.99133753210569, 406.9784347214722, 137.8526281062376, 510.78682173595143, 835.3064322498476, 53.139319783112896, 194.90658175942184, 231.70522547087867, 5629.906389058484, 123.91838792126552, 404.7889631800474, 130.97242235132276, 82.60902126687802, 92.92637780150261, 243.2242954372857, 1282.383928657111, 1113.253751588872, 525.8209972737073, 4696.262997749312, 1722.319141914711, 286.75017576195347, 5569.875688247888, 899.8073901578058, 3861.7276940533634, 330.57120717714724, 2985.020419767877, 1433.0719257197995, 1010.8035528727456, 472.9698887508049, 1547.798964798116, 795.8811039976491, 1979.4885238914783, 492.085691729255, 1565.2912417622156, 2312.7905513143937, 1876.7212708063523, 858.4705180098595, 1056.9098827479354, 2890.953000468249, 310.4424521166901, 288.9400683753501, 152.5577342429399, 125.06693042114235, 130.419967846117, 106.86709342600206, 64.40628281735695, 49.92953903665245, 40.083737232238576, 27.5472654942795, 27.5472654942795, 30.00926407109131, 25.081765368718226, 22.20273051645358, 26.725750991973307, 18.76270046613166, 18.306438613484584, 17.47993245327306, 17.37182475124048, 17.835366486621574, 16.31540272869236, 32.964440282536714, 16.7825910228184, 15.646535924465972, 29.184149922660016, 16.36764434781592, 17.80741637655839, 13.672940596541299, 13.557905199878647, 13.899040488579955, 183.53448719904796, 13.974023404599302, 21.48400638472784, 38.52262577881976, 85.72908708263489, 404.7889631800474, 40.89428334178745, 2312.7905513143937, 181.2758673434549, 93.26586571808198, 189.62709731532522, 39.99403746103559, 58.4434456153261, 5569.875688247888, 134.62696031567447, 315.63934416879914, 1182.8034889247765, 3861.7276940533634, 221.81069654054284, 1547.798964798116, 4696.262997749312, 2985.020419767877, 1979.4885238914783, 346.94816120971603, 1876.7212708063523, 5629.906389058484, 485.5551986735766, 1113.253751588872, 1565.2912417622156, 510.78682173595143, 536.1973019954131, 659.2572348982102, 1056.9098827479354, 1433.0719257197995], \"Category\": [\"Default\", \"Default\", \"Default\", \"Default\", \"Default\", \"Default\", \"Default\", \"Default\", \"Default\", \"Default\", \"Default\", \"Default\", \"Default\", \"Default\", \"Default\", \"Default\", \"Default\", \"Default\", \"Default\", \"Default\", \"Default\", \"Default\", \"Default\", \"Default\", \"Default\", \"Default\", \"Default\", \"Default\", \"Default\", \"Default\", \"Topic1\", \"Topic1\", \"Topic1\", \"Topic1\", \"Topic1\", \"Topic1\", \"Topic1\", \"Topic1\", \"Topic1\", \"Topic1\", \"Topic1\", \"Topic1\", \"Topic1\", \"Topic1\", \"Topic1\", \"Topic1\", \"Topic1\", \"Topic1\", \"Topic1\", \"Topic1\", \"Topic1\", \"Topic1\", \"Topic1\", \"Topic1\", \"Topic1\", \"Topic1\", \"Topic1\", \"Topic1\", \"Topic1\", \"Topic1\", \"Topic1\", \"Topic1\", \"Topic1\", \"Topic1\", \"Topic1\", \"Topic1\", \"Topic1\", \"Topic1\", \"Topic1\", \"Topic1\", \"Topic1\", \"Topic1\", \"Topic1\", \"Topic1\", \"Topic1\", \"Topic1\", \"Topic1\", \"Topic1\", \"Topic1\", \"Topic1\", \"Topic1\", \"Topic1\", \"Topic1\", \"Topic1\", \"Topic1\", \"Topic1\", \"Topic1\", \"Topic1\", \"Topic1\", \"Topic1\", \"Topic1\", \"Topic1\", \"Topic1\", \"Topic1\", \"Topic1\", \"Topic1\", \"Topic1\", \"Topic1\", \"Topic1\", \"Topic1\", \"Topic1\", \"Topic1\", \"Topic1\", \"Topic1\", \"Topic1\", \"Topic1\", \"Topic1\", \"Topic1\", \"Topic1\", \"Topic1\", \"Topic2\", \"Topic2\", \"Topic2\", \"Topic2\", \"Topic2\", \"Topic2\", \"Topic2\", \"Topic2\", \"Topic2\", \"Topic2\", \"Topic2\", \"Topic2\", \"Topic2\", \"Topic2\", \"Topic2\", \"Topic2\", \"Topic2\", \"Topic2\", \"Topic2\", \"Topic2\", \"Topic2\", \"Topic2\", \"Topic2\", \"Topic2\", \"Topic2\", \"Topic2\", \"Topic2\", \"Topic2\", \"Topic2\", \"Topic2\", \"Topic2\", \"Topic2\", \"Topic2\", \"Topic2\", \"Topic2\", \"Topic2\", \"Topic2\", \"Topic2\", \"Topic2\", \"Topic2\", \"Topic2\", \"Topic2\", \"Topic2\", \"Topic2\", \"Topic2\", \"Topic2\", \"Topic2\", \"Topic2\", \"Topic2\", \"Topic2\", \"Topic2\", \"Topic2\", \"Topic2\", \"Topic2\", \"Topic2\", \"Topic2\", \"Topic2\", \"Topic2\", \"Topic2\", \"Topic2\", \"Topic2\", \"Topic2\", \"Topic2\", \"Topic2\", \"Topic2\", \"Topic2\", \"Topic2\", \"Topic2\", \"Topic2\", \"Topic2\", \"Topic2\", \"Topic2\", \"Topic2\", \"Topic2\", \"Topic2\", \"Topic2\", \"Topic2\", \"Topic2\", \"Topic2\", \"Topic2\", \"Topic2\", \"Topic2\", \"Topic2\", \"Topic2\", \"Topic3\", \"Topic3\", \"Topic3\", \"Topic3\", \"Topic3\", \"Topic3\", \"Topic3\", \"Topic3\", \"Topic3\", \"Topic3\", \"Topic3\", \"Topic3\", \"Topic3\", \"Topic3\", \"Topic3\", \"Topic3\", \"Topic3\", \"Topic3\", \"Topic3\", \"Topic3\", \"Topic3\", \"Topic3\", \"Topic3\", \"Topic3\", \"Topic3\", \"Topic3\", \"Topic3\", \"Topic3\", \"Topic3\", \"Topic3\", \"Topic3\", \"Topic3\", \"Topic3\", \"Topic3\", \"Topic3\", \"Topic3\", \"Topic3\", \"Topic3\", \"Topic3\", \"Topic3\", \"Topic3\", \"Topic3\", \"Topic3\", \"Topic3\", \"Topic3\", \"Topic3\", \"Topic3\", \"Topic3\", \"Topic3\", \"Topic3\", \"Topic3\", \"Topic3\", \"Topic3\", \"Topic3\", \"Topic3\", \"Topic3\", \"Topic3\", \"Topic3\", \"Topic3\", \"Topic3\", \"Topic3\", \"Topic3\", \"Topic3\", \"Topic3\", \"Topic3\", \"Topic3\", \"Topic3\", \"Topic3\", \"Topic3\", \"Topic3\", \"Topic3\", \"Topic3\", \"Topic3\", \"Topic3\", \"Topic4\", \"Topic4\", \"Topic4\", \"Topic4\", \"Topic4\", \"Topic4\", \"Topic4\", \"Topic4\", \"Topic4\", \"Topic4\", \"Topic4\", \"Topic4\", \"Topic4\", \"Topic4\", \"Topic4\", \"Topic4\", \"Topic4\", \"Topic4\", \"Topic4\", \"Topic4\", \"Topic4\", \"Topic4\", \"Topic4\", \"Topic4\", \"Topic4\", \"Topic4\", \"Topic4\", \"Topic4\", \"Topic4\", \"Topic4\", \"Topic4\", \"Topic4\", \"Topic4\", \"Topic4\", \"Topic4\", \"Topic4\", \"Topic4\", \"Topic4\", \"Topic4\", \"Topic4\", \"Topic4\", \"Topic4\", \"Topic4\", \"Topic4\", \"Topic4\", \"Topic4\", \"Topic4\", \"Topic4\", \"Topic4\", \"Topic4\", \"Topic4\", \"Topic4\", \"Topic4\", \"Topic4\", \"Topic4\", \"Topic4\", \"Topic4\", \"Topic4\", \"Topic4\", \"Topic4\", \"Topic4\", \"Topic4\", \"Topic4\", \"Topic4\", \"Topic4\", \"Topic4\", \"Topic4\", \"Topic4\", \"Topic4\", \"Topic4\", \"Topic4\", \"Topic5\", \"Topic5\", \"Topic5\", \"Topic5\", \"Topic5\", \"Topic5\", \"Topic5\", \"Topic5\", \"Topic5\", \"Topic5\", \"Topic5\", \"Topic5\", \"Topic5\", \"Topic5\", \"Topic5\", \"Topic5\", \"Topic5\", \"Topic5\", \"Topic5\", \"Topic5\", \"Topic5\", \"Topic5\", \"Topic5\", \"Topic5\", \"Topic5\", \"Topic5\", \"Topic5\", \"Topic5\", \"Topic5\", \"Topic5\", \"Topic5\", \"Topic5\", \"Topic5\", \"Topic5\", \"Topic5\", \"Topic5\", \"Topic5\", \"Topic5\", \"Topic5\", \"Topic5\", \"Topic5\", \"Topic5\", \"Topic5\", \"Topic5\", \"Topic5\", \"Topic5\", \"Topic5\", \"Topic5\", \"Topic5\", \"Topic5\", \"Topic5\", \"Topic5\", \"Topic5\", \"Topic5\", \"Topic5\", \"Topic5\", \"Topic5\", \"Topic5\", \"Topic5\", \"Topic5\", \"Topic5\", \"Topic5\", \"Topic5\", \"Topic5\", \"Topic5\", \"Topic5\", \"Topic5\", \"Topic5\", \"Topic5\", \"Topic5\", \"Topic5\", \"Topic5\", \"Topic5\", \"Topic5\", \"Topic5\", \"Topic5\", \"Topic5\", \"Topic6\", \"Topic6\", \"Topic6\", \"Topic6\", \"Topic6\", \"Topic6\", \"Topic6\", \"Topic6\", \"Topic6\", \"Topic6\", \"Topic6\", \"Topic6\", \"Topic6\", \"Topic6\", \"Topic6\", \"Topic6\", \"Topic6\", \"Topic6\", \"Topic6\", \"Topic6\", \"Topic6\", \"Topic6\", \"Topic6\", \"Topic6\", \"Topic6\", \"Topic6\", \"Topic6\", \"Topic6\", \"Topic6\", \"Topic6\", \"Topic6\", \"Topic6\", \"Topic6\", \"Topic6\", \"Topic6\", \"Topic6\", \"Topic6\", \"Topic6\", \"Topic6\", \"Topic6\", \"Topic6\", \"Topic6\", \"Topic6\", \"Topic6\", \"Topic6\", \"Topic6\", \"Topic6\", \"Topic6\", \"Topic6\", \"Topic6\", \"Topic6\", \"Topic6\", \"Topic6\", \"Topic6\", \"Topic6\", \"Topic6\", \"Topic6\", \"Topic6\", \"Topic6\", \"Topic6\", \"Topic6\", \"Topic6\", \"Topic6\", \"Topic6\"], \"logprob\": [30.0, 29.0, 28.0, 27.0, 26.0, 25.0, 24.0, 23.0, 22.0, 21.0, 20.0, 19.0, 18.0, 17.0, 16.0, 15.0, 14.0, 13.0, 12.0, 11.0, 10.0, 9.0, 8.0, 7.0, 6.0, 5.0, 4.0, 3.0, 2.0, 1.0, -7.1064, -6.7414, -7.0255, -7.4876, -7.5197, -7.6334, -7.7229, -7.7615, -7.7709, -7.8741, -7.9891, -7.9582, -7.9891, -7.9509, -7.7004, -8.0825, -8.0983, -7.9598, -8.1187, -8.1527, -7.9913, -8.1952, -8.1533, -8.2361, -8.2352, -8.2764, -8.3338, -7.8928, -8.2517, -8.2582, -6.0018, -7.9124, -7.8996, -4.5483, -6.3435, -3.2564, -5.8676, -7.4634, -7.9424, -5.2455, -4.8676, -6.8953, -4.2383, -5.6545, -6.5187, -4.6254, -6.8235, -4.4793, -3.3884, -5.17, -6.2286, -5.0321, -6.4568, -3.0177, -5.5992, -4.2899, -6.1729, -5.6387, -5.477, -5.8592, -3.8854, -5.2838, -5.7796, -4.1108, -3.8016, -4.5991, -4.7938, -4.3549, -5.1767, -4.9198, -4.2573, -4.8335, -4.4368, -5.1225, -5.046, -4.161, -5.1747, -4.4514, -4.4955, -5.2148, -7.4122, -7.377, -7.4788, -7.4788, -7.4586, -7.4032, -7.4435, -7.4788, -7.5623, -7.5221, -7.2165, -7.5267, -7.2517, -7.681, -7.5488, -7.7398, -7.7714, -7.7693, -7.817, -7.789, -7.8187, -7.5984, -7.7357, -7.7954, -7.8012, -7.8558, -7.8243, -7.8701, -7.7216, -7.8591, -7.683, -7.7596, -5.6954, -6.4054, -5.6605, -7.4375, -3.6976, -5.7137, -4.7869, -6.2132, -6.1903, -6.1338, -5.87, -5.6028, -6.8766, -7.1684, -4.8188, -3.401, -4.908, -4.4464, -5.7752, -5.8383, -6.277, -3.1408, -6.3534, -3.4584, -5.5408, -5.797, -4.9672, -3.4696, -6.0461, -4.169, -5.5214, -4.3643, -4.1779, -5.0738, -4.8121, -5.5966, -3.9605, -5.197, -5.171, -5.2078, -4.7543, -4.7995, -5.2375, -5.3196, -5.0336, -5.5066, -5.3944, -5.341, -5.4179, -5.4364, -5.4669, -5.4864, -3.3562, -4.6127, -5.993, -6.1282, -6.4563, -6.5558, -6.6153, -6.6646, -6.6975, -6.8913, -6.9909, -7.0108, -7.1298, -7.2507, -7.1192, -7.3598, -7.3421, -7.403, -7.4434, -6.9958, -7.462, -7.4811, -7.457, -7.5044, -6.7454, -7.6685, -7.6482, -7.6358, -7.677, -7.6423, -5.0141, -6.8832, -5.6209, -7.4301, -7.3981, -7.1955, -6.8492, -5.3118, -7.2828, -3.5419, -4.9183, -6.299, -5.3904, -7.1858, -6.36, -6.8276, -5.4523, -4.9707, -5.7326, -5.3259, -5.8572, -3.0438, -3.147, -5.0199, -3.4977, -5.9702, -5.0775, -6.2417, -4.6953, -4.393, -4.5353, -3.816, -4.9176, -5.9774, -4.8769, -5.2899, -5.0279, -5.3722, -5.3535, -5.098, -5.1654, -5.548, -5.3518, -5.55, -4.7081, -5.1875, -5.5034, -5.6647, -5.8678, -5.403, -5.869, -3.8715, -6.2129, -6.5303, -6.5945, -6.7705, -6.7847, -6.3927, -7.018, -7.0572, -7.0842, -7.1123, -7.1883, -7.1883, -7.1079, -7.1742, -7.2832, -7.3972, -7.2986, -7.475, -7.2804, -6.7027, -7.2449, -7.596, -5.577, -6.7185, -5.5886, -5.8166, -5.613, -5.4563, -6.3225, -6.3858, -5.8426, -5.745, -4.1407, -6.652, -5.6512, -6.5791, -6.7436, -4.3113, -3.7148, -3.7705, -6.2836, -3.5821, -3.4941, -5.498, -4.7456, -4.3486, -4.3246, -4.6798, -3.7673, -3.9841, -4.7917, -4.5819, -4.8959, -4.5946, -4.7311, -4.8526, -5.3035, -5.1832, -5.1529, -5.3868, -5.1987, -5.3371, -5.3839, -4.4367, -4.2861, -5.4813, -6.2505, -7.069, -7.0194, -6.9467, -6.721, -7.1502, -7.3206, -7.2485, -7.2861, -7.2866, -7.4738, -7.4848, -7.5254, -7.4389, -7.5838, -7.7306, -7.466, -7.528, -7.7464, -7.7295, -7.7033, -7.7245, -7.8201, -7.8815, -7.707, -7.8343, -7.8111, -7.8239, -4.9141, -4.6221, -5.0578, -6.7373, -6.5184, -5.8232, -6.7684, -6.6289, -4.5945, -5.5688, -4.5195, -4.1193, -6.4898, -5.4667, -5.4132, -3.0568, -5.9041, -5.0515, -5.8743, -6.209, -6.1536, -5.5213, -4.4645, -4.5765, -5.0979, -3.7653, -4.3924, -5.4719, -3.7442, -4.8884, -4.0996, -5.4491, -4.2987, -4.7045, -4.97, -5.3133, -4.8157, -5.1454, -4.8872, -5.3196, -5.0188, -5.0108, -5.1535, -5.3034, -5.2932, -5.3103, -4.135, -4.2069, -4.8471, -5.0459, -5.0041, -5.2042, -5.7142, -5.969, -6.1909, -6.5688, -6.5688, -6.4837, -6.6642, -6.7875, -6.6053, -6.9593, -6.9845, -7.0314, -7.0377, -7.0123, -7.1016, -6.3986, -7.0744, -7.1449, -6.5217, -7.1001, -7.0162, -7.2821, -7.2912, -7.2667, -4.7804, -7.2622, -6.888, -6.3914, -5.7122, -4.4127, -6.3582, -3.2173, -5.2302, -5.7507, -5.2362, -6.4245, -6.1576, -2.9314, -5.572, -5.0296, -4.202, -3.5691, -5.3488, -4.2586, -3.7535, -4.0009, -4.2593, -5.2646, -4.4913, -3.9965, -5.1891, -4.9448, -4.9384, -5.3112, -5.3083, -5.3394, -5.2655, -5.3269], \"loglift\": [30.0, 29.0, 28.0, 27.0, 26.0, 25.0, 24.0, 23.0, 22.0, 21.0, 20.0, 19.0, 18.0, 17.0, 16.0, 15.0, 14.0, 13.0, 12.0, 11.0, 10.0, 9.0, 8.0, 7.0, 6.0, 5.0, 4.0, 3.0, 2.0, 1.0, 1.4679, 1.4675, 1.4668, 1.4643, 1.4626, 1.4616, 1.4592, 1.4591, 1.4577, 1.4575, 1.4544, 1.4544, 1.4541, 1.4535, 1.4533, 1.452, 1.4512, 1.4509, 1.4502, 1.4501, 1.4488, 1.4487, 1.4483, 1.4483, 1.4478, 1.4469, 1.4461, 1.4461, 1.4456, 1.4456, 1.4397, 1.4435, 1.4422, 1.3645, 1.3979, 1.3012, 1.344, 1.4072, 1.4354, 1.2081, 1.1518, 1.3286, 0.9924, 1.1543, 1.2371, 0.9419, 1.2764, 0.8835, 0.6797, 0.9598, 1.1337, 0.904, 1.1701, 0.4159, 0.981, 0.623, 1.0872, 0.9533, 0.9058, 0.9952, 0.4378, 0.8326, 0.9576, 0.4213, 0.2985, 0.5519, 0.5399, 0.3587, 0.6959, 0.5812, 0.2215, 0.4808, 0.1812, 0.5172, 0.344, -0.7167, 0.4262, -0.6408, -0.8806, -0.1084, 1.703, 1.7022, 1.7019, 1.7019, 1.7017, 1.7014, 1.7011, 1.7004, 1.7004, 1.7003, 1.7, 1.7, 1.6996, 1.6977, 1.6975, 1.6958, 1.6953, 1.6946, 1.6946, 1.6946, 1.6943, 1.6941, 1.6941, 1.6941, 1.6939, 1.6933, 1.693, 1.6927, 1.6925, 1.6919, 1.6907, 1.6901, 1.5542, 1.5809, 1.5035, 1.6481, 1.1043, 1.3989, 1.2355, 1.4449, 1.4406, 1.4229, 1.3691, 1.3193, 1.5383, 1.5925, 1.0538, 0.6991, 1.0457, 0.9164, 1.2357, 1.2046, 1.3088, 0.3035, 1.328, 0.3522, 1.0506, 1.1333, 0.8373, 0.1453, 1.1392, 0.3098, 0.8708, 0.2537, 0.1453, 0.5045, 0.2942, 0.8142, -0.5269, 0.4583, 0.4299, 0.4319, -0.0407, -0.0746, 0.4475, 0.4653, -0.1206, 0.7406, 0.3499, -0.0737, 0.2282, -0.1221, -0.4125, -1.4183, 1.7385, 1.7375, 1.7335, 1.7328, 1.7307, 1.7299, 1.7296, 1.7294, 1.727, 1.7262, 1.725, 1.724, 1.7233, 1.7215, 1.7212, 1.7202, 1.7202, 1.7196, 1.719, 1.7186, 1.7186, 1.7182, 1.7178, 1.7176, 1.7155, 1.7148, 1.7147, 1.7141, 1.7134, 1.7133, 1.693, 1.7098, 1.6892, 1.7118, 1.711, 1.705, 1.6918, 1.5944, 1.7055, 1.4518, 1.5019, 1.5944, 1.4888, 1.6929, 1.5801, 1.6296, 1.3656, 1.2495, 1.3925, 1.2694, 1.3825, 0.5711, 0.2973, 0.9455, 0.3128, 1.2537, 0.7933, 1.3843, 0.3591, 0.1392, 0.1896, -0.3824, 0.1887, 1.1222, -0.1633, 0.2111, -0.226, 0.0178, -0.0197, -0.6192, -1.0973, 0.0303, -1.2517, -0.2828, 1.8499, 1.8481, 1.848, 1.847, 1.8465, 1.8463, 1.8458, 1.8457, 1.8433, 1.8421, 1.8407, 1.8382, 1.837, 1.8366, 1.8362, 1.8356, 1.8354, 1.8342, 1.834, 1.834, 1.8316, 1.8315, 1.8312, 1.8304, 1.8304, 1.8287, 1.8284, 1.8277, 1.8275, 1.8259, 1.8184, 1.825, 1.8102, 1.7949, 1.7701, 1.742, 1.7838, 1.7786, 1.7365, 1.7268, 1.6001, 1.7832, 1.6247, 1.7572, 1.7796, 1.0303, 0.3853, 0.2975, 1.5828, 0.0328, -0.0605, 1.1069, 0.5687, 0.2694, 0.2076, 0.4712, -0.323, -0.1735, 0.4756, 0.1429, 0.4378, -0.1157, -0.0175, 0.0604, 0.7572, 0.4432, 0.0779, 0.4974, -0.6411, -0.2308, -0.3295, 1.8931, 1.8926, 1.8908, 1.8874, 1.8792, 1.8788, 1.8787, 1.8776, 1.877, 1.8747, 1.8734, 1.8733, 1.8728, 1.8723, 1.8709, 1.8706, 1.8697, 1.8695, 1.8665, 1.8654, 1.8654, 1.8646, 1.8644, 1.864, 1.8636, 1.8622, 1.8622, 1.8622, 1.862, 1.862, 1.8619, 1.8143, 1.8054, 1.8092, 1.8424, 1.8289, 1.7507, 1.798, 1.7519, 1.4661, 1.5744, 1.314, 1.2224, 1.6067, 1.3302, 1.2107, 0.3768, 1.3457, 1.0146, 1.3201, 1.4464, 1.384, 1.0541, 0.4485, 0.4779, 0.7066, -0.1503, 0.2256, 0.939, -0.2998, 0.3788, -0.2891, 0.8195, -0.2306, 0.0974, 0.181, 0.5971, -0.0908, 0.2446, -0.4084, 0.5512, -0.3051, -0.6876, -0.6213, 0.0108, -0.1869, -1.2102, 2.1964, 2.1963, 2.1948, 2.1947, 2.1946, 2.1936, 2.19, 2.1898, 2.1875, 2.1847, 2.1847, 2.1842, 2.1831, 2.1817, 2.1785, 2.1783, 2.1777, 2.177, 2.1769, 2.1759, 2.1758, 2.1754, 2.1747, 2.1743, 2.1741, 2.1741, 2.1737, 2.1719, 2.1713, 2.1709, 2.0766, 2.17, 2.1141, 2.0268, 1.906, 1.6534, 2.0002, 1.1059, 1.6392, 1.7833, 1.5881, 1.9562, 1.8438, 0.5129, 1.5949, 1.2853, 0.7918, 0.2415, 1.3188, 0.4662, -0.1386, 0.0671, 0.2195, 0.9557, 0.0408, -0.5629, 0.6951, 0.1096, -0.2248, 0.5223, 0.4766, 0.2389, -0.1592, -0.5251]}, \"token.table\": {\"Topic\": [5, 6, 6, 1, 1, 2, 3, 4, 5, 6, 4, 4, 6, 5, 1, 2, 3, 4, 5, 6, 3, 4, 1, 2, 3, 4, 5, 6, 5, 3, 4, 1, 2, 3, 4, 5, 6, 1, 2, 3, 4, 5, 6, 4, 5, 6, 1, 5, 3, 1, 1, 2, 3, 4, 5, 6, 1, 2, 3, 4, 5, 6, 1, 1, 2, 3, 4, 5, 6, 1, 4, 5, 2, 2, 1, 3, 1, 2, 3, 4, 5, 6, 4, 1, 2, 3, 4, 5, 6, 3, 2, 1, 2, 3, 4, 5, 6, 1, 2, 3, 4, 5, 6, 3, 1, 2, 3, 4, 5, 6, 2, 3, 1, 2, 3, 4, 5, 6, 1, 3, 5, 1, 2, 3, 4, 5, 6, 1, 2, 3, 4, 5, 6, 1, 5, 4, 3, 4, 3, 6, 5, 3, 2, 1, 6, 6, 1, 2, 3, 4, 5, 6, 6, 4, 5, 5, 4, 2, 4, 5, 6, 4, 1, 2, 3, 4, 5, 6, 2, 3, 4, 2, 4, 5, 2, 6, 1, 2, 4, 6, 3, 1, 2, 3, 4, 5, 6, 2, 3, 5, 1, 3, 4, 1, 2, 6, 2, 3, 3, 3, 3, 5, 2, 5, 1, 2, 3, 4, 5, 6, 3, 1, 2, 3, 4, 5, 6, 1, 1, 2, 3, 4, 5, 6, 2, 1, 2, 3, 4, 5, 6, 3, 5, 1, 6, 2, 5, 5, 1, 5, 3, 3, 6, 3, 4, 5, 1, 2, 3, 4, 5, 6, 1, 2, 3, 4, 5, 6, 1, 2, 3, 4, 5, 6, 5, 6, 4, 1, 2, 3, 4, 5, 6, 1, 2, 3, 4, 5, 6, 1, 2, 3, 4, 5, 6, 1, 2, 3, 4, 5, 6, 3, 1, 2, 3, 4, 5, 6, 1, 2, 3, 4, 5, 6, 1, 2, 3, 4, 5, 6, 1, 2, 3, 4, 5, 6, 4, 3, 1, 2, 3, 4, 5, 6, 1, 2, 6, 1, 2, 3, 4, 5, 6, 6, 6, 4, 5, 1, 2, 3, 4, 5, 6, 2, 3, 4, 1, 1, 4, 1, 2, 3, 4, 5, 6, 1, 1, 1, 2, 3, 4, 5, 6, 2, 1, 1, 2, 3, 4, 5, 6, 1, 2, 3, 4, 5, 6, 1, 2, 3, 4, 5, 6, 6, 1, 2, 6, 1, 2, 3, 4, 5, 6, 3, 5, 2, 1, 2, 3, 4, 5, 6, 1, 2, 3, 4, 5, 6, 1, 2, 3, 4, 5, 6, 6, 1, 2, 3, 4, 5, 6, 3, 6, 2, 1, 2, 3, 4, 5, 6, 4, 4, 3, 3, 2, 1, 3, 4, 3, 1, 2, 3, 4, 5, 6, 5, 4, 1, 2, 3, 4, 5, 6, 1, 2, 3, 4, 5, 6, 2, 6, 2, 1, 2, 3, 4, 5, 6, 6, 6, 6, 5, 4, 1, 2, 3, 4, 5, 6, 3, 4, 4, 5, 6, 3, 1, 2, 5, 3, 1, 2, 3, 4, 5, 6, 4, 1, 2, 3, 4, 5, 6, 1, 2, 3, 4, 5, 6, 4, 6, 1, 2, 4, 5, 6, 1, 2, 3, 4, 5, 6, 2, 1, 2, 3, 4, 5, 6, 1, 2, 3, 4, 5, 6, 6, 3, 2, 1, 2, 1, 5, 1, 2, 3, 4, 5, 6, 2, 6, 1, 2, 3, 4, 5, 6, 1, 2, 1, 2, 3, 4, 5, 6, 1, 2, 3, 4, 5, 6, 1, 2, 3, 4, 5, 6, 4, 1, 2, 3, 4, 5, 6, 1, 2, 3, 4, 5, 6, 1, 2, 3, 4, 5, 6, 5, 1, 6, 4, 3, 1, 2, 3, 4, 5, 6, 2, 6, 1, 2, 3, 4, 5, 6, 1, 2, 3, 4, 5, 6, 2, 5, 1, 2, 3, 4, 5, 6, 1, 2, 1, 2, 3, 4, 5, 6, 3, 6, 1, 2, 4, 3, 5, 2, 4, 5, 1, 2, 3, 4, 5, 6, 1, 4, 3, 4, 5, 3, 1, 2, 3, 4, 5, 6, 2, 1, 3, 4, 3, 4, 6, 2, 3, 6, 5, 2, 3, 1, 1, 2, 3, 4, 5, 6, 1, 1, 2, 3, 4, 5, 6, 5, 1, 2, 3, 4, 5, 6, 4, 2, 6, 6, 5, 6, 6, 1, 2, 1, 2, 3, 4, 5, 6, 1, 2, 1, 4, 5, 1, 6, 1, 2, 3, 4, 5, 6, 1, 1, 2, 3, 4, 5, 6, 3, 4, 5, 2, 1, 2, 3, 4, 5, 6, 4, 1, 2, 3, 4, 5, 6, 1, 2, 3, 4, 5, 6, 6, 4, 6, 6, 1, 2, 3, 4, 5, 6, 1, 2, 3, 4, 5, 6, 6, 1, 2, 3, 4, 5, 6, 1, 3, 5, 6, 5, 4, 5, 4, 5, 5, 1, 2, 6, 1, 2, 3, 4, 5, 6, 1, 5, 6, 6, 4, 5, 2, 1, 2, 3, 4, 5, 6, 2, 3, 6, 4, 4, 6, 6, 1, 2, 3, 4, 5, 6, 1, 2, 3, 4, 5, 6, 1, 2, 3, 4, 5, 6, 1, 2, 3, 4, 5, 6, 1, 2, 3, 4, 5, 6, 5, 1, 2, 3, 4, 5, 6, 1, 2, 3, 4, 5, 6, 2, 1, 2, 3, 4, 2, 5, 1, 2, 3, 4, 5, 6, 1, 1, 2, 3, 4, 5, 6, 4, 5, 1, 2, 3, 4, 5, 6, 3, 1, 5, 1, 2, 1, 2, 3, 4, 5, 6, 1, 2, 3, 4, 5, 6, 1, 2, 3, 4, 5, 6, 1, 2, 3, 4, 5, 6, 1, 2, 3, 4, 5, 6, 1, 2, 3, 4, 5, 6, 1, 2, 5, 1, 2, 3, 4, 5, 6, 6, 1, 2, 3, 4, 5, 6, 2, 5, 1, 2, 3, 4, 5, 6, 5, 3, 3], \"Freq\": [0.3216610897140231, 0.6647662520756478, 0.9985747692892085, 0.982360378615177, 0.34688155887970046, 0.0618099244701156, 0.20194794288080872, 0.19288959188087798, 0.08045947064644358, 0.11562718629323349, 0.9974432732879494, 0.9974427652985417, 0.9967464935526736, 0.9752464400275201, 0.22177209936973213, 0.04118624702580739, 0.23444479076228825, 0.07603614835533673, 0.02217720993697321, 0.40235795171365685, 0.9774520437520362, 0.9769630975025244, 0.011971654489796759, 0.027534805326532543, 0.007182992693878055, 0.43935971977554106, 0.5099924812653419, 0.0035914963469390274, 0.9943143129733193, 0.9392663675297211, 0.029352073985303786, 0.016549362272894497, 0.04413163272771865, 0.06068099500061315, 0.005516454090964832, 0.30340497500306574, 0.5737112254603425, 0.36809650811604316, 0.15842128197399324, 0.02562697208402832, 0.2772372434544882, 0.15143210776925825, 0.019802660246749156, 0.9707918461595255, 0.00933453698230313, 0.01866907396460626, 0.9408999314205927, 1.000331894379064, 1.0015428621682294, 0.9573148172472473, 0.2728878687822621, 0.2305031572479959, 0.06618982349186783, 0.20553682031685278, 0.18811844571372965, 0.03715919915332931, 0.11113353953411452, 0.24219571055172937, 0.23645051949342297, 0.11364706062212357, 0.11131307675468659, 0.18546194885095363, 0.9806169365849271, 0.007427932693831839, 0.007427932693831839, 0.2674055769779462, 0.007427932693831839, 0.17827038465196415, 0.5496670193435561, 0.07154573550300992, 0.0055035181156161475, 0.9190875253078967, 0.9663544589510034, 0.9851272433982639, 0.9845676331707874, 0.9842155227214965, 0.20436936348670162, 0.24032323298899172, 0.21193859917139427, 0.12489238879742877, 0.12489238879742877, 0.09461544605865815, 0.991381163998539, 0.19415789956368593, 0.2957874251165528, 0.18050617225061427, 0.08949465683013648, 0.09859580837218426, 0.14106784890174057, 0.9942121825293657, 0.979841465604513, 0.015727556752833206, 0.07863778376416604, 0.6133747133604951, 0.18873068103399848, 0.03931889188208302, 0.06291022701133282, 0.5221589398208527, 0.06234733609801226, 0.0727385587810143, 0.1688573685987832, 0.11170564384227197, 0.06234733609801226, 0.9637391859389417, 0.08721752255271051, 0.6686676729041139, 0.11629003007028067, 0.08140302104919647, 0.029072507517570168, 0.011629003007028068, 0.9651865626283708, 0.9976413711674723, 0.14259689335916648, 0.7458914421864092, 0.01096899179685896, 0.09872092617173063, 0.01096899179685896, 0.01096899179685896, 0.9897186061889863, 0.964112314216866, 0.9829006397148797, 0.5835934867167653, 0.15752523420375414, 0.010501682280250274, 0.08851417921925232, 0.1455233115977538, 0.015002403257500393, 0.18114987916626635, 0.16559099383910236, 0.13225052528089384, 0.25227621209044454, 0.21893574353223602, 0.04889935388537251, 0.9750184774148398, 0.9221709977275182, 0.9986811931977231, 0.046344935290288804, 0.9500711734509205, 0.2737689373298037, 0.701532901907622, 1.0108163538612245, 1.0004757025642201, 0.9793306960975342, 0.9511278695402796, 0.9963441103415202, 0.9967798807724556, 0.3523881570412086, 0.20667673504993583, 0.008647562135980578, 0.021186527233152418, 0.07566616868983007, 0.3355254108760465, 0.9918862448841423, 0.9226627274378807, 0.05766642046486754, 1.003569345133608, 0.9873709662987386, 0.030660282842672828, 0.8968132731481802, 0.061320565685345656, 0.007665070710668207, 0.9891915788256329, 0.15478485170535816, 0.7246745329841768, 0.00703567507751628, 0.00703567507751628, 0.09849945108522792, 0.00703567507751628, 0.00174298632764366, 0.00348597265528732, 0.9935022067568863, 0.027661031369813793, 0.922034378993793, 0.03688137515975172, 1.0052507995879525, 0.9546584209924316, 0.8550563041313267, 0.04275281520656633, 0.021376407603283167, 0.0641292228098495, 0.9859500345938299, 0.7294398533228649, 0.10588643032106104, 0.011765158924562338, 0.07059095354737402, 0.08235611247193636, 0.011765158924562338, 0.9507637836298426, 0.9957401649656155, 0.9771406830875252, 0.9324503743055802, 0.9789165109369723, 0.9915371483611785, 0.9945428603140787, 0.8471912455573936, 0.14523278495269604, 0.9863047459919934, 1.0015081348760726, 0.9978692901660263, 0.9998238997829408, 0.9890677015449866, 0.9500802871868534, 0.9466352810672872, 0.9805315653268681, 0.3064733324465995, 0.3597429635942026, 0.05015647088573017, 0.2307197660743588, 0.04462196375351167, 0.007955854002564097, 0.9753452433348618, 0.008283039148217791, 0.06626431318574233, 0.06626431318574233, 0.795171758228908, 0.008283039148217791, 0.05798127403752454, 1.0030542699595961, 0.060526568116538663, 0.5598707550779827, 0.17401388333504866, 0.05296074710197134, 0.12105313623307733, 0.03782910507283667, 0.9838081776833547, 0.007405736121129475, 0.8072252372031127, 0.037028680605647374, 0.007405736121129475, 0.022217208363388422, 0.1184917779380716, 0.1227448283221488, 0.8703724190116006, 0.9924890085984197, 0.9806684067848543, 1.0016784401367524, 0.9319033070173764, 0.9940804108220817, 0.9386173284202857, 0.04080944906175155, 0.9962494899633783, 0.8641373381642504, 0.13162356806475337, 0.07175041822168353, 0.9088386308079913, 0.9848867285249736, 0.38225829144970686, 0.2758066153497885, 0.09516134681659369, 0.11290329283324675, 0.06612907151661596, 0.06935487988328015, 0.1742409870668278, 0.03132422239403646, 0.023493166795527345, 0.025450930695154625, 0.5579627113937745, 0.18794533436421876, 0.7606504398475662, 0.047313185253676365, 0.007278951577488672, 0.10918427366233008, 0.06551056419739805, 0.014557903154977344, 0.046546253156527724, 0.9309250631305545, 1.0013871234035159, 0.010261326128373905, 0.16931188111816942, 0.10261326128373904, 0.14365856579723466, 0.5695036001247517, 0.005130663064186952, 0.016712955731313987, 0.005570985243771328, 0.779937934127986, 0.005570985243771328, 0.005570985243771328, 0.18941349828822518, 0.3276612533925593, 0.2834269841845638, 0.019659675203553557, 0.14744756402665168, 0.201511670836424, 0.019659675203553557, 0.09227086539453841, 0.08807673514933212, 0.6249254065357374, 0.058717823432888075, 0.054523693187681785, 0.07968847465891954, 0.9887916067430944, 0.32581796051311096, 0.17185300270201342, 0.14949294658836856, 0.15396495781109754, 0.11052256307601607, 0.08880136570847534, 0.14801152958538405, 0.0781171961700638, 0.053448607905833126, 0.2713544709065374, 0.4317002946240368, 0.016445725509487117, 0.011814385847523931, 0.7561206942415316, 0.047257543390095726, 0.07088631508514359, 0.09451508678019145, 0.023628771695047863, 0.052767840114744474, 0.5569938678778583, 0.15830352034423342, 0.023452373384330878, 0.15830352034423342, 0.05863093346082719, 0.9857625430059926, 0.9834469959031678, 0.24431305325948963, 0.2853427263259688, 0.024244806812010418, 0.04289465820586459, 0.22566320186563543, 0.17903857338100002, 0.07283774535244576, 0.7526567019752729, 0.14567549070489152, 0.15090899065933971, 0.11857134980376692, 0.25151498443223286, 0.11318174299450479, 0.242532306416796, 0.12396095661302906, 0.9936918760160544, 0.9996912929597552, 0.04836484199823875, 0.9431144189656555, 0.6073050959306735, 0.19004105042728558, 0.016525308732807442, 0.07849521648083535, 0.09915185239684465, 0.012393981549605582, 0.01494919085636889, 0.20928867198916445, 0.7624087336748133, 0.9703891604666833, 0.9335416658579748, 1.0068845126876058, 0.5893584827850857, 0.008359694791277811, 0.06687755833022249, 0.15883420103427842, 0.14211481145172278, 0.033438779165111246, 1.003931335738848, 0.9805581501101776, 0.6139889675400496, 0.017144543596231753, 0.0278598833438766, 0.16930236801278856, 0.12215487312315124, 0.04929056283916629, 1.0055320432687551, 0.9738220667202353, 0.8357133443830864, 0.02951505598213647, 0.007652051550924271, 0.08253284172782606, 0.022409579541992505, 0.022409579541992505, 0.4489081518927103, 0.04321578477176092, 0.05862606461285396, 0.2113888386897763, 0.11926216572672006, 0.11859215355971602, 0.6140681780773853, 0.2662773515556804, 0.07607924330162297, 0.005434231664401641, 0.027171158322008202, 0.010868463328803282, 0.9832606101080272, 0.07501118142730066, 0.12501863571216779, 0.7751155414154403, 0.5950688456066868, 0.010532191957640474, 0.021064383915280947, 0.28173613486688265, 0.05529400777761249, 0.03949571984115178, 0.9514278793892296, 0.03428568934735962, 0.9732607872851118, 0.004914265300982741, 0.0024571326504913703, 0.0024571326504913703, 0.33417004046682636, 0.651140152380213, 0.0073713979514741105, 0.07835761417378512, 0.007123419470344102, 0.7052185275640661, 0.021370258411032305, 0.021370258411032305, 0.16383864781791435, 0.007254123579198935, 0.01450824715839787, 0.1668448423215755, 0.07979535937118828, 0.7254123579198934, 0.007254123579198935, 0.9979109424913796, 0.6767148569482208, 0.1956765851416542, 0.008153191047568925, 0.11414467466596495, 0.008153191047568925, 0.008153191047568925, 0.8529850331415714, 0.12875245783269001, 1.000167552474108, 0.11989452304287772, 0.25429032749050956, 0.24030694899306806, 0.1318062899110686, 0.11238493088684434, 0.14138749369635256, 0.983933049290721, 1.0037339972364754, 0.9885946595509992, 1.006373068167075, 0.9784908829643651, 0.03071837964258616, 0.8601146299924124, 0.09215513892775848, 0.9926839626730727, 0.18780354724642884, 0.15278932657336583, 0.1671133259396189, 0.24509954471144105, 0.1862119917612896, 0.062070663920429876, 0.9968992668010938, 0.9965763699285468, 0.3947354546449955, 0.0781556413958763, 0.05144421965298187, 0.25128522676648835, 0.18005476878543655, 0.04451903623815739, 0.21777284865224883, 0.09091487856356019, 0.22834434615963956, 0.07822908155469133, 0.2727446356906806, 0.10994357407686349, 1.0016784537536254, 0.9593501762974684, 0.9350196975074387, 0.7043549562299686, 0.054181150479228356, 0.018060383493076117, 0.12642268445153282, 0.045150958732690295, 0.054181150479228356, 1.0018589202728936, 0.9801335818833581, 0.9531623593354144, 0.9486386715369981, 0.9885994348460051, 0.0024704230869931273, 0.0024704230869931273, 0.0024704230869931273, 0.0024704230869931273, 0.41503107861484534, 0.5805494254433848, 0.02809763380589952, 0.9553195494005837, 0.9962039391637093, 0.8751895325306746, 0.10002166086064852, 0.9607926093921834, 1.0014251349981707, 0.9827351871172466, 1.0015533992516472, 0.9885813143032385, 0.4071569739897299, 0.13337900872077357, 0.21761838264968322, 0.0982792695837279, 0.03931170783349116, 0.10529921741113704, 0.970974787783263, 0.1192269988166875, 0.5078186986636689, 0.15013770221360648, 0.015455351698459489, 0.05298977725186111, 0.15234560959910068, 0.2569414192541119, 0.12499852828578417, 0.541660289238398, 0.020833088047630694, 0.03472181341271783, 0.02777745073017426, 0.924213822526609, 0.05281221843009194, 0.7896452389149424, 0.040151452826183515, 0.1070705408698227, 0.06691908804363919, 0.013383817608727838, 0.4560614286795415, 0.5130691072644843, 0.004071977041781621, 0.0020359885208908104, 0.004071977041781621, 0.022395873729798916, 0.9495890914053866, 0.12216312192105079, 0.015270390240131349, 0.007635195120065674, 0.022905585360197024, 0.5650044388848598, 0.27486702432236426, 0.561887442092363, 0.07593073541788689, 0.02169449583368197, 0.23647000458713344, 0.08460853375135967, 0.017355596666945573, 0.9586786540108853, 0.9539813836136615, 1.0071559944765327, 0.8699702493072682, 0.1242814641867526, 0.9375934093763478, 1.0127313878540125, 0.5944980648248719, 0.1788327512074818, 0.08216639920343757, 0.014499952800606631, 0.06283312880262874, 0.06766644640283095, 0.9661141815932079, 0.9908691178184887, 0.016139654764317522, 0.04034913691079381, 0.04034913691079381, 0.3147232679041917, 0.572957744133272, 0.016139654764317522, 0.8119937434703257, 0.16995217886588213, 0.29304267564084413, 0.05410018627215584, 0.15779220996045454, 0.02705009313607792, 0.05410018627215584, 0.41476809475319476, 0.09586055921306624, 0.007988379934422188, 0.7029774342291524, 0.007988379934422188, 0.0639070394753775, 0.127814078950755, 0.7217002775181866, 0.10903385487684833, 0.015576264982406905, 0.10384176654937936, 0.02076835330987587, 0.02596044163734484, 0.9979694713622935, 0.1921181455903245, 0.19658600944126228, 0.4512542489447157, 0.008935727701875559, 0.024573251180157785, 0.1273341197517267, 0.2722560163921675, 0.09680213916165956, 0.015125334244009307, 0.2631808158457619, 0.3418325539146103, 0.009075200546405584, 0.03810943232967189, 0.05081257643956252, 0.03387505095970835, 0.4742507134359169, 0.389563086036646, 0.01270314410989063, 1.0094134439870717, 0.9579446047359789, 0.029324834838856496, 0.9894049491770917, 0.958441930136326, 0.2775885437580815, 0.22401882478722365, 0.07954291604763739, 0.08603621531683228, 0.1899290036239505, 0.14285258392228756, 0.990685475737893, 0.9533688795875229, 0.09433032183510764, 0.20676014108778676, 0.3108854850547566, 0.16204373570319847, 0.12925170508783373, 0.09667260973620513, 0.02015012848001698, 0.08060051392006792, 0.01007506424000849, 0.8866056531207471, 0.01007506424000849, 0.01007506424000849, 0.9107754970685391, 0.05059863872602995, 0.1266314324131654, 0.16604223535807913, 0.21255990440781336, 0.180902046304522, 0.13696869220199523, 0.17702557388371082, 1.0130929866017493, 0.9904793369610853, 0.10026696963224466, 0.5096904289639103, 0.16711161605374109, 0.05013348481612233, 0.07520022722418349, 0.09608917923090113, 0.9899912264617114, 0.9728445052043149, 0.1988091438477792, 0.6709808604862548, 0.0994045719238896, 0.2446399399363644, 0.7527382767272751, 0.9670401588306831, 0.9920890613682626, 0.9702732904066699, 0.030210799026109052, 0.03884245589071164, 0.15968565199514786, 0.22442307847966725, 0.5049519265792514, 0.043158284323012934, 0.9743241557575103, 0.9915885132348936, 0.08973693330710503, 0.8861522164076622, 0.011217116663388128, 0.9822866874351822, 0.053806035684295775, 0.032283621410577466, 0.032283621410577466, 0.26903017842147886, 0.6026275996641126, 0.010761207136859154, 0.9449157811397391, 1.0114800704201128, 0.9882220128880761, 1.003946127465912, 0.9462580907308762, 0.04114165611873375, 0.9725438038987848, 0.03751864971494678, 0.956725567731143, 0.004689831214368348, 0.9847980295804886, 0.9993944988265835, 0.9670901344084716, 0.9845296500858045, 0.2952709766858194, 0.5971035306313237, 0.026246309038739504, 0.006561577259684876, 0.006561577259684876, 0.07217734985653364, 0.9328196982074539, 0.06052607721675966, 0.012105215443351932, 0.012105215443351932, 0.2178938779803348, 0.6415764184976525, 0.07263129266011159, 0.9636861395345626, 0.16458521777408414, 0.09404869587090522, 0.7053652190317892, 0.011756086983863153, 0.011756086983863153, 0.011756086983863153, 0.9887638729811717, 0.9957264547700863, 0.9775383469970755, 0.9801335818833581, 0.945775684579958, 0.030508893050966386, 0.9588501917033879, 0.2874007611948514, 0.702535194031859, 0.5502507289996332, 0.44753725958636836, 0.0012227793977769626, 0.0012227793977769626, 0.0012227793977769626, 0.0012227793977769626, 0.11798502478984295, 0.876460184153119, 0.948832415829731, 0.9863879614852353, 0.9969340445046606, 0.9777118937475547, 0.9594248958493534, 0.047909813472826634, 0.004790981347282664, 0.004790981347282664, 0.023954906736413317, 0.9198684186782714, 0.004790981347282664, 0.9706020960368994, 0.562925916887828, 0.3425031181064496, 0.006782239962503952, 0.01017335994375593, 0.06443127964378755, 0.01017335994375593, 1.0008741221473392, 0.08156202318565527, 0.9149131296477852, 0.9602688096289054, 0.005764549934568125, 0.014411374836420314, 0.6139245680315054, 0.04899867444382907, 0.03170502464012469, 0.28822749672840625, 0.9918900203843556, 0.8901230266880769, 0.006358021619200549, 0.002119340539733516, 0.08477362158934065, 0.012716043238401097, 0.002119340539733516, 0.08437612675889923, 0.042188063379449615, 0.3005899515785785, 0.021094031689724808, 0.010547015844862404, 0.5431713160104138, 0.9967400473006496, 0.10897134541427887, 0.8881164651263729, 1.007263775618396, 0.04191691934364181, 0.1205111431129702, 0.6863895542521347, 0.005239614917955227, 0.13622998786683588, 0.010479229835910453, 0.04665860953522544, 0.10498187145425723, 0.08165256668664451, 0.01166465238380636, 0.01166465238380636, 0.746537752563607, 0.9994648431770335, 0.014080762940067415, 0.052802861025252806, 0.7885227246437753, 0.049282670290235954, 0.007040381470033707, 0.08800476837542134, 0.9405227026454056, 0.9635403849027255, 0.9032580725058057, 0.06021720483372038, 0.9704625570053117, 0.931118106621079, 0.05700723101761708, 0.9619055435629291, 0.9412452579295014, 0.980595562878125, 0.9388559604614617, 0.17117306938711196, 0.8314120513088296, 0.21212830236679978, 0.09473691173662903, 0.09679640981786009, 0.25743726015388324, 0.11739139063017075, 0.2224257927729551, 0.10383508182869643, 0.025958770457174107, 0.8306806546295714, 1.0014112079684097, 0.926387039111764, 0.04027769735268539, 0.9629282048517979, 0.22932985964932667, 0.42785421576366917, 0.01026850117832806, 0.07530234197440577, 0.24302119455376409, 0.013691334904437413, 0.8776437587776577, 0.07313697989813814, 0.03656848994906907, 0.9685648101463231, 0.9940565634263588, 0.9785961027949047, 0.9507830380897343, 0.32039961587120835, 0.08920930481119918, 0.17841860962239836, 0.1344421917577227, 0.192239769522725, 0.08543989756565556, 0.04396150595746025, 0.5394007000812187, 0.14025813805475412, 0.045357109321189144, 0.16537899860187427, 0.06559335809525815, 0.05928505520468312, 0.40453331786724955, 0.04882298663915081, 0.05231034282766158, 0.38360918073618494, 0.05231034282766158, 0.045642909135306366, 0.41268797009839503, 0.13502693952528133, 0.034232181851479776, 0.3042860609020424, 0.06846436370295955, 0.0008454489772506899, 0.0016908979545013799, 0.749913242821362, 0.0008454489772506899, 0.0008454489772506899, 0.24518020340270008, 0.9949538381666116, 0.03925823595580302, 0.0017844652707183191, 0.0017844652707183191, 0.7780268580331872, 0.1766620618011136, 0.0017844652707183191, 0.3447659456242935, 0.10550797099476061, 0.11989542158495525, 0.14760458568458934, 0.2188313472483924, 0.06323373345813936, 0.9901789006228692, 0.9784964358798685, 0.08097913935832866, 0.8907705329416152, 0.9809610679186831, 1.0084981208984765, 0.9599575604154859, 0.15809869245320848, 0.6662730610528071, 0.011292763746657749, 0.011292763746657749, 0.15809869245320848, 0.011292763746657749, 0.9655724504229943, 0.016554006355432065, 0.6148630932017625, 0.03783772881241615, 0.12297261864035249, 0.18918864406208075, 0.021283722456984084, 0.973530837076783, 0.966201479850276, 0.16116344562437265, 0.2542801030962324, 0.07520960795804058, 0.1826519050409557, 0.17369838028404608, 0.154000625818845, 0.9976470789972494, 0.9726610377138235, 0.9649166765219909, 0.9235620280218187, 0.06596871628727277, 0.42420993264448253, 0.1582989270713786, 0.006238381362418861, 0.16687670144470454, 0.235498896431312, 0.009357572043628292, 0.21023233895965032, 0.3760493950405013, 0.06218139603031911, 0.23392048982834332, 0.08290852804042548, 0.03849324516162612, 0.39077021384177474, 0.08076709587003247, 0.17222395442874572, 0.24348903901995084, 0.07720384164047221, 0.03682029370545598, 0.2839117242746948, 0.24349724395089484, 0.09446884775688244, 0.1399351381211574, 0.10002583880140493, 0.13841959510901491, 0.7191333853386928, 0.11789071890798242, 0.004715628756319297, 0.1367532339332596, 0.016504700647117537, 0.004715628756319297, 0.050835991384021416, 0.6163863955312596, 0.2414709590741017, 0.050835991384021416, 0.01906349676900803, 0.025417995692010708, 1.0128800641724227, 0.827984786199681, 0.1552471474124402, 0.04064332764831532, 0.13412298123944055, 0.3881437790414113, 0.07519015614938335, 0.26011729694921804, 0.09957615273837253, 0.9707430105207144, 0.3490877704361444, 0.27461571274310026, 0.015515012019384197, 0.17221663341516458, 0.17842263822291826, 0.009309007211630518, 0.981391935237514, 1.002357671917171, 0.23458758606730132, 0.2801549589005181, 0.0911347456664336, 0.054005775209738434, 0.19239557418469316, 0.14682820135147637, 0.9954657428622711, 0.993757225174785, 1.0024634502567995], \"Term\": [\"!\", \"!\", \"''\", \"'d\", \"'s\", \"'s\", \"'s\", \"'s\", \"'s\", \"'s\", \"(\", \")\", \"``\", \"abandon\", \"about\", \"about\", \"about\", \"about\", \"about\", \"about\", \"account\", \"accus\", \"actionadventure\", \"actionadventure\", \"actionadventure\", \"actionadventure\", \"actionadventure\", \"actionadventure\", \"actual\", \"adapt\", \"adapt\", \"adventur\", \"adventur\", \"adventur\", \"adventur\", \"adventur\", \"adventur\", \"after\", \"after\", \"after\", \"after\", \"after\", \"after\", \"agent\", \"agent\", \"agent\", \"ahmedhelmy\", \"alien\", \"amateur\", \"amyadams\", \"an\", \"an\", \"an\", \"an\", \"an\", \"an\", \"and\", \"and\", \"and\", \"and\", \"and\", \"and\", \"anilkapoor\", \"anim\", \"anim\", \"anim\", \"anim\", \"anim\", \"anim\", \"anime\", \"anime\", \"anime\", \"annaclairebartlam\", \"antic\", \"app\", \"argentina\", \"as\", \"as\", \"as\", \"as\", \"as\", \"as\", \"assign\", \"at\", \"at\", \"at\", \"at\", \"at\", \"at\", \"award-win\", \"balanc\", \"base\", \"base\", \"base\", \"base\", \"base\", \"base\", \"be\", \"be\", \"be\", \"be\", \"be\", \"be\", \"becam\", \"between\", \"between\", \"between\", \"between\", \"between\", \"between\", \"bicker\", \"biopic\", \"bond\", \"bond\", \"bond\", \"bond\", \"bond\", \"bond\", \"boyfriend\", \"britain\", \"buri\", \"but\", \"but\", \"but\", \"but\", \"but\", \"but\", \"by\", \"by\", \"by\", \"by\", \"by\", \"by\", \"ca\", \"carlagugino\", \"cartel\", \"case\", \"case\", \"charact\", \"charact\", \"chosen\", \"chronicl\", \"coast\", \"coma\", \"comedi\", \"comedian\", \"comedy\", \"comedy\", \"comedy\", \"comedy\", \"comedy\", \"comedy\", \"comic\", \"conspiraci\", \"conspiraci\", \"contact\", \"convict\", \"cop\", \"cop\", \"cop\", \"cop\", \"corrupt\", \"coupl\", \"coupl\", \"coupl\", \"coupl\", \"coupl\", \"coupl\", \"crime\", \"crime\", \"crime\", \"crimin\", \"crimin\", \"crimin\", \"crumbl\", \"curiou\", \"dad\", \"dad\", \"dad\", \"dad\", \"davidattenborough\", \"decid\", \"decid\", \"decid\", \"decid\", \"decid\", \"decid\", \"delhi\", \"delv\", \"dennisquaid\", \"depress\", \"detail\", \"detect\", \"diagnos\", \"differ\", \"differ\", \"divid\", \"document\", \"documentari\", \"documentary\", \"docuseri\", \"doll\", \"domest\", \"dragon\", \"drama\", \"drama\", \"drama\", \"drama\", \"drama\", \"drama\", \"dramat\", \"drug\", \"drug\", \"drug\", \"drug\", \"drug\", \"drug\", \"dump\", \"dure\", \"dure\", \"dure\", \"dure\", \"dure\", \"dure\", \"dysfunct\", \"each\", \"each\", \"each\", \"each\", \"each\", \"each\", \"earth\", \"earth\", \"els\", \"ericidle\", \"ericpeterson\", \"evad\", \"evil\", \"ex\", \"ex\", \"examin\", \"explor\", \"explor\", \"expos\", \"expos\", \"fact\", \"famili\", \"famili\", \"famili\", \"famili\", \"famili\", \"famili\", \"family\", \"family\", \"family\", \"family\", \"family\", \"family\", \"father\", \"father\", \"father\", \"father\", \"father\", \"father\", \"favorit\", \"favorit\", \"fbi\", \"fight\", \"fight\", \"fight\", \"fight\", \"fight\", \"fight\", \"film\", \"film\", \"film\", \"film\", \"film\", \"film\", \"find\", \"find\", \"find\", \"find\", \"find\", \"find\", \"follow\", \"follow\", \"follow\", \"follow\", \"follow\", \"follow\", \"footag\", \"for\", \"for\", \"for\", \"for\", \"for\", \"for\", \"forc\", \"forc\", \"forc\", \"forc\", \"forc\", \"forc\", \"form\", \"form\", \"form\", \"form\", \"form\", \"form\", \"four\", \"four\", \"four\", \"four\", \"four\", \"four\", \"frame\", \"frank\", \"friend\", \"friend\", \"friend\", \"friend\", \"friend\", \"friend\", \"friendship\", \"friendship\", \"friendship\", \"from\", \"from\", \"from\", \"from\", \"from\", \"from\", \"fun\", \"funni\", \"ghost\", \"ghost\", \"girl\", \"girl\", \"girl\", \"girl\", \"girl\", \"girl\", \"govern\", \"govern\", \"govern\", \"graduat\", \"grandson\", \"grisli\", \"ha\", \"ha\", \"ha\", \"ha\", \"ha\", \"ha\", \"handsom\", \"hassanhosny\", \"he\", \"he\", \"he\", \"he\", \"he\", \"he\", \"heartbreak\", \"heir\", \"her\", \"her\", \"her\", \"her\", \"her\", \"her\", \"hi\", \"hi\", \"hi\", \"hi\", \"hi\", \"hi\", \"high\", \"high\", \"high\", \"high\", \"high\", \"high\", \"highlight\", \"hilari\", \"hilari\", \"hilari\", \"him\", \"him\", \"him\", \"him\", \"him\", \"him\", \"histori\", \"histori\", \"hong\", \"horror\", \"horror\", \"horror\", \"horror\", \"horror\", \"horror\", \"how\", \"how\", \"how\", \"how\", \"how\", \"how\", \"human\", \"human\", \"human\", \"human\", \"human\", \"human\", \"humor\", \"husband\", \"husband\", \"husband\", \"husband\", \"husband\", \"husband\", \"icon\", \"icon\", \"idealist\", \"in\", \"in\", \"in\", \"in\", \"in\", \"in\", \"inmat\", \"innoc\", \"innov\", \"insight\", \"intersect\", \"interview\", \"interview\", \"interview\", \"intim\", \"into\", \"into\", \"into\", \"into\", \"into\", \"into\", \"invad\", \"investig\", \"is\", \"is\", \"is\", \"is\", \"is\", \"is\", \"it\", \"it\", \"it\", \"it\", \"it\", \"it\", \"jamiewatson\", \"jansuter\", \"jimmi\", \"job\", \"job\", \"job\", \"job\", \"job\", \"job\", \"johncleese\", \"johnpaultremblay\", \"joke\", \"jungl\", \"justic\", \"kids\", \"kids\", \"kids\", \"kids\", \"kids\", \"kids\", \"kill\", \"kill\", \"killer\", \"kingdom\", \"kingdom\", \"kitchen\", \"know\", \"kong\", \"laurabailey\", \"lee\", \"life\", \"life\", \"life\", \"life\", \"life\", \"life\", \"link\", \"live\", \"live\", \"live\", \"live\", \"live\", \"live\", \"look\", \"look\", \"look\", \"look\", \"look\", \"look\", \"lord\", \"lord\", \"lose\", \"lose\", \"lose\", \"lose\", \"lose\", \"love\", \"love\", \"love\", \"love\", \"love\", \"love\", \"madrid\", \"magic\", \"magic\", \"magic\", \"magic\", \"magic\", \"magic\", \"man\", \"man\", \"man\", \"man\", \"man\", \"man\", \"marcusraboy\", \"marin\", \"mariocasas\", \"marri\", \"marri\", \"matriarch\", \"mattdamon\", \"meet\", \"meet\", \"meet\", \"meet\", \"meet\", \"meet\", \"michelaluci\", \"mikesmith\", \"mission\", \"mission\", \"mission\", \"mission\", \"mission\", \"mission\", \"mom\", \"mom\", \"more\", \"more\", \"more\", \"more\", \"more\", \"more\", \"most\", \"most\", \"most\", \"most\", \"most\", \"most\", \"mother\", \"mother\", \"mother\", \"mother\", \"mother\", \"mother\", \"murder\", \"music\", \"music\", \"music\", \"music\", \"music\", \"music\", \"must\", \"must\", \"must\", \"must\", \"must\", \"must\", \"mysteri\", \"mysteri\", \"mysteri\", \"mysteri\", \"mysteri\", \"mysteri\", \"mythic\", \"n't\", \"n't\", \"nawazuddinsiddiqui\", \"nazi\", \"new\", \"new\", \"new\", \"new\", \"new\", \"new\", \"nicolasaqui\", \"observ\", \"of\", \"of\", \"of\", \"of\", \"of\", \"of\", \"offic\", \"offic\", \"offic\", \"offic\", \"offic\", \"offic\", \"omonioboli\", \"omonioboli\", \"on\", \"on\", \"on\", \"on\", \"on\", \"on\", \"opera\", \"opposit\", \"other\", \"other\", \"other\", \"other\", \"other\", \"other\", \"our\", \"pack\", \"path\", \"path\", \"path\", \"planet\", \"planet\", \"poet\", \"polic\", \"possess\", \"power\", \"power\", \"power\", \"power\", \"power\", \"power\", \"pretend\", \"prime\", \"prison\", \"prison\", \"prison\", \"prize\", \"protect\", \"protect\", \"protect\", \"protect\", \"protect\", \"protect\", \"rainbow\", \"ramseynouah\", \"ranger\", \"rape\", \"rare\", \"rare\", \"ra\\u00falcampos\", \"reality\", \"reality\", \"reality\", \"rebellion\", \"reckon\", \"recount\", \"reject\", \"relationship\", \"relationship\", \"relationship\", \"relationship\", \"relationship\", \"relationship\", \"replac\", \"rescu\", \"rescu\", \"rescu\", \"rescu\", \"rescu\", \"rescu\", \"retreat\", \"reveal\", \"reveal\", \"reveal\", \"reveal\", \"reveal\", \"reveal\", \"reveng\", \"revolut\", \"riff\", \"robbwells\", \"robot\", \"robot\", \"rocki\", \"romanc\", \"romanc\", \"romance\", \"romance\", \"romance\", \"romance\", \"romance\", \"romance\", \"romant\", \"romant\", \"roommat\", \"ruthless\", \"s\", \"salmankhan\", \"santa\", \"save\", \"save\", \"save\", \"save\", \"save\", \"save\", \"say\", \"school\", \"school\", \"school\", \"school\", \"school\", \"school\", \"science\", \"scififantasy\", \"scififantasy\", \"self-discoveri\", \"seri\", \"seri\", \"seri\", \"seri\", \"seri\", \"seri\", \"serial\", \"she\", \"she\", \"she\", \"she\", \"she\", \"she\", \"show\", \"show\", \"show\", \"show\", \"show\", \"show\", \"sketch\", \"special\", \"special\", \"spinoff\", \"sports\", \"sports\", \"sports\", \"sports\", \"sports\", \"sports\", \"stage\", \"stage\", \"stage\", \"stage\", \"stage\", \"stage\", \"stand-up\", \"stori\", \"stori\", \"stori\", \"stori\", \"stori\", \"stori\", \"strain\", \"studio\", \"superhero\", \"superhero\", \"superpow\", \"suspect\", \"suspect\", \"suspici\", \"sword\", \"t\", \"tabithast.germain\", \"tackl\", \"tackl\", \"take\", \"take\", \"take\", \"take\", \"take\", \"take\", \"talk\", \"talk\", \"talk\", \"talkshow\", \"target\", \"target\", \"taypinghui\", \"teen\", \"teen\", \"teen\", \"teen\", \"teen\", \"teen\", \"tension\", \"tension\", \"tension\", \"termin\", \"terrorist\", \"terrygilliam\", \"terryjones\", \"that\", \"that\", \"that\", \"that\", \"that\", \"that\", \"their\", \"their\", \"their\", \"their\", \"their\", \"their\", \"them\", \"them\", \"them\", \"them\", \"them\", \"them\", \"they\", \"they\", \"they\", \"they\", \"they\", \"they\", \"thi\", \"thi\", \"thi\", \"thi\", \"thi\", \"thi\", \"threat\", \"thriller\", \"thriller\", \"thriller\", \"thriller\", \"thriller\", \"thriller\", \"to\", \"to\", \"to\", \"to\", \"to\", \"to\", \"tom\", \"too\", \"trace\", \"trace\", \"traffick\", \"trainer\", \"transport\", \"trip\", \"trip\", \"trip\", \"trip\", \"trip\", \"trip\", \"truli\", \"two\", \"two\", \"two\", \"two\", \"two\", \"two\", \"undercov\", \"unknown\", \"up\", \"up\", \"up\", \"up\", \"up\", \"up\", \"us\", \"vengeanc\", \"villain\", \"wed\", \"wed\", \"when\", \"when\", \"when\", \"when\", \"when\", \"when\", \"while\", \"while\", \"while\", \"while\", \"while\", \"while\", \"who\", \"who\", \"who\", \"who\", \"who\", \"who\", \"with\", \"with\", \"with\", \"with\", \"with\", \"with\", \"woman\", \"woman\", \"woman\", \"woman\", \"woman\", \"woman\", \"women\", \"women\", \"women\", \"women\", \"women\", \"women\", \"woodyharrelson\", \"worker\", \"worker\", \"world\", \"world\", \"world\", \"world\", \"world\", \"world\", \"you\", \"young\", \"young\", \"young\", \"young\", \"young\", \"young\", \"y\\u0131lmazerdo\\u011fan\", \"zombi\", \"\\u2013\", \"\\u2013\", \"\\u2013\", \"\\u2013\", \"\\u2013\", \"\\u2013\", \"\\u2019\", \"\\u201c\", \"\\u201d\"]}, \"R\": 30, \"lambda.step\": 0.01, \"plot.opts\": {\"xlab\": \"PC1\", \"ylab\": \"PC2\"}, \"topic.order\": [3, 5, 2, 1, 4, 6]};\n",
              "\n",
              "function LDAvis_load_lib(url, callback){\n",
              "  var s = document.createElement('script');\n",
              "  s.src = url;\n",
              "  s.async = true;\n",
              "  s.onreadystatechange = s.onload = callback;\n",
              "  s.onerror = function(){console.warn(\"failed to load library \" + url);};\n",
              "  document.getElementsByTagName(\"head\")[0].appendChild(s);\n",
              "}\n",
              "\n",
              "if(typeof(LDAvis) !== \"undefined\"){\n",
              "   // already loaded: just create the visualization\n",
              "   !function(LDAvis){\n",
              "       new LDAvis(\"#\" + \"ldavis_el1151397275863717287028348968\", ldavis_el1151397275863717287028348968_data);\n",
              "   }(LDAvis);\n",
              "}else if(typeof define === \"function\" && define.amd){\n",
              "   // require.js is available: use it to load d3/LDAvis\n",
              "   require.config({paths: {d3: \"https://d3js.org/d3.v5\"}});\n",
              "   require([\"d3\"], function(d3){\n",
              "      window.d3 = d3;\n",
              "      LDAvis_load_lib(\"https://cdn.jsdelivr.net/gh/bmabey/pyLDAvis@3.3.1/pyLDAvis/js/ldavis.v3.0.0.js\", function(){\n",
              "        new LDAvis(\"#\" + \"ldavis_el1151397275863717287028348968\", ldavis_el1151397275863717287028348968_data);\n",
              "      });\n",
              "    });\n",
              "}else{\n",
              "    // require.js not available: dynamically load d3 & LDAvis\n",
              "    LDAvis_load_lib(\"https://d3js.org/d3.v5.js\", function(){\n",
              "         LDAvis_load_lib(\"https://cdn.jsdelivr.net/gh/bmabey/pyLDAvis@3.3.1/pyLDAvis/js/ldavis.v3.0.0.js\", function(){\n",
              "                 new LDAvis(\"#\" + \"ldavis_el1151397275863717287028348968\", ldavis_el1151397275863717287028348968_data);\n",
              "            })\n",
              "         });\n",
              "}\n",
              "</script>"
            ]
          },
          "metadata": {},
          "execution_count": 109
        }
      ]
    },
    {
      "cell_type": "code",
      "source": [
        "lda = {}\n",
        "for i in range(0,lda_gensim_para.num_topics):\n",
        "  lda[f'Topic {i}'] = np.zeros(df.shape[0])"
      ],
      "metadata": {
        "id": "GCCTFeJ2Xfoc"
      },
      "execution_count": 110,
      "outputs": []
    },
    {
      "cell_type": "code",
      "source": [
        "for i, row in enumerate(lda_gensim_para[bow_gensim_para]):\n",
        "  for topic in row:\n",
        "    lda[f'Topic {topic[0]}'][i] = topic[1] "
      ],
      "metadata": {
        "id": "Swt4RrI_Xm0-"
      },
      "execution_count": 111,
      "outputs": []
    },
    {
      "cell_type": "code",
      "source": [
        "topic_model_df = pd.DataFrame(lda)"
      ],
      "metadata": {
        "id": "zDsYrgnCXm4W"
      },
      "execution_count": 112,
      "outputs": []
    },
    {
      "cell_type": "code",
      "source": [
        "topic_model_df"
      ],
      "metadata": {
        "id": "_w9UCZzfXm8C",
        "colab": {
          "base_uri": "https://localhost:8080/",
          "height": 424
        },
        "outputId": "0daf4618-ca81-4ed8-8937-af2be83b8d48"
      },
      "execution_count": 113,
      "outputs": [
        {
          "output_type": "execute_result",
          "data": {
            "text/plain": [
              "       Topic 0   Topic 1   Topic 2   Topic 3   Topic 4   Topic 5\n",
              "0     0.000000  0.000000  0.000000  0.520313  0.301861  0.155904\n",
              "1     0.000000  0.000000  0.000000  0.967517  0.000000  0.000000\n",
              "2     0.000000  0.000000  0.000000  0.968939  0.000000  0.000000\n",
              "3     0.266360  0.251847  0.067419  0.399747  0.000000  0.000000\n",
              "4     0.243806  0.299027  0.000000  0.000000  0.434295  0.000000\n",
              "...        ...       ...       ...       ...       ...       ...\n",
              "7782  0.000000  0.000000  0.648084  0.000000  0.326001  0.000000\n",
              "7783  0.000000  0.000000  0.723386  0.000000  0.252588  0.000000\n",
              "7784  0.000000  0.582956  0.000000  0.000000  0.000000  0.389039\n",
              "7785  0.000000  0.959916  0.000000  0.000000  0.000000  0.000000\n",
              "7786  0.000000  0.958058  0.000000  0.000000  0.000000  0.000000\n",
              "\n",
              "[7787 rows x 6 columns]"
            ],
            "text/html": [
              "\n",
              "  <div id=\"df-c24ef897-d474-4b0b-9bcc-4c6e158a1887\">\n",
              "    <div class=\"colab-df-container\">\n",
              "      <div>\n",
              "<style scoped>\n",
              "    .dataframe tbody tr th:only-of-type {\n",
              "        vertical-align: middle;\n",
              "    }\n",
              "\n",
              "    .dataframe tbody tr th {\n",
              "        vertical-align: top;\n",
              "    }\n",
              "\n",
              "    .dataframe thead th {\n",
              "        text-align: right;\n",
              "    }\n",
              "</style>\n",
              "<table border=\"1\" class=\"dataframe\">\n",
              "  <thead>\n",
              "    <tr style=\"text-align: right;\">\n",
              "      <th></th>\n",
              "      <th>Topic 0</th>\n",
              "      <th>Topic 1</th>\n",
              "      <th>Topic 2</th>\n",
              "      <th>Topic 3</th>\n",
              "      <th>Topic 4</th>\n",
              "      <th>Topic 5</th>\n",
              "    </tr>\n",
              "  </thead>\n",
              "  <tbody>\n",
              "    <tr>\n",
              "      <th>0</th>\n",
              "      <td>0.000000</td>\n",
              "      <td>0.000000</td>\n",
              "      <td>0.000000</td>\n",
              "      <td>0.520313</td>\n",
              "      <td>0.301861</td>\n",
              "      <td>0.155904</td>\n",
              "    </tr>\n",
              "    <tr>\n",
              "      <th>1</th>\n",
              "      <td>0.000000</td>\n",
              "      <td>0.000000</td>\n",
              "      <td>0.000000</td>\n",
              "      <td>0.967517</td>\n",
              "      <td>0.000000</td>\n",
              "      <td>0.000000</td>\n",
              "    </tr>\n",
              "    <tr>\n",
              "      <th>2</th>\n",
              "      <td>0.000000</td>\n",
              "      <td>0.000000</td>\n",
              "      <td>0.000000</td>\n",
              "      <td>0.968939</td>\n",
              "      <td>0.000000</td>\n",
              "      <td>0.000000</td>\n",
              "    </tr>\n",
              "    <tr>\n",
              "      <th>3</th>\n",
              "      <td>0.266360</td>\n",
              "      <td>0.251847</td>\n",
              "      <td>0.067419</td>\n",
              "      <td>0.399747</td>\n",
              "      <td>0.000000</td>\n",
              "      <td>0.000000</td>\n",
              "    </tr>\n",
              "    <tr>\n",
              "      <th>4</th>\n",
              "      <td>0.243806</td>\n",
              "      <td>0.299027</td>\n",
              "      <td>0.000000</td>\n",
              "      <td>0.000000</td>\n",
              "      <td>0.434295</td>\n",
              "      <td>0.000000</td>\n",
              "    </tr>\n",
              "    <tr>\n",
              "      <th>...</th>\n",
              "      <td>...</td>\n",
              "      <td>...</td>\n",
              "      <td>...</td>\n",
              "      <td>...</td>\n",
              "      <td>...</td>\n",
              "      <td>...</td>\n",
              "    </tr>\n",
              "    <tr>\n",
              "      <th>7782</th>\n",
              "      <td>0.000000</td>\n",
              "      <td>0.000000</td>\n",
              "      <td>0.648084</td>\n",
              "      <td>0.000000</td>\n",
              "      <td>0.326001</td>\n",
              "      <td>0.000000</td>\n",
              "    </tr>\n",
              "    <tr>\n",
              "      <th>7783</th>\n",
              "      <td>0.000000</td>\n",
              "      <td>0.000000</td>\n",
              "      <td>0.723386</td>\n",
              "      <td>0.000000</td>\n",
              "      <td>0.252588</td>\n",
              "      <td>0.000000</td>\n",
              "    </tr>\n",
              "    <tr>\n",
              "      <th>7784</th>\n",
              "      <td>0.000000</td>\n",
              "      <td>0.582956</td>\n",
              "      <td>0.000000</td>\n",
              "      <td>0.000000</td>\n",
              "      <td>0.000000</td>\n",
              "      <td>0.389039</td>\n",
              "    </tr>\n",
              "    <tr>\n",
              "      <th>7785</th>\n",
              "      <td>0.000000</td>\n",
              "      <td>0.959916</td>\n",
              "      <td>0.000000</td>\n",
              "      <td>0.000000</td>\n",
              "      <td>0.000000</td>\n",
              "      <td>0.000000</td>\n",
              "    </tr>\n",
              "    <tr>\n",
              "      <th>7786</th>\n",
              "      <td>0.000000</td>\n",
              "      <td>0.958058</td>\n",
              "      <td>0.000000</td>\n",
              "      <td>0.000000</td>\n",
              "      <td>0.000000</td>\n",
              "      <td>0.000000</td>\n",
              "    </tr>\n",
              "  </tbody>\n",
              "</table>\n",
              "<p>7787 rows × 6 columns</p>\n",
              "</div>\n",
              "      <button class=\"colab-df-convert\" onclick=\"convertToInteractive('df-c24ef897-d474-4b0b-9bcc-4c6e158a1887')\"\n",
              "              title=\"Convert this dataframe to an interactive table.\"\n",
              "              style=\"display:none;\">\n",
              "        \n",
              "  <svg xmlns=\"http://www.w3.org/2000/svg\" height=\"24px\"viewBox=\"0 0 24 24\"\n",
              "       width=\"24px\">\n",
              "    <path d=\"M0 0h24v24H0V0z\" fill=\"none\"/>\n",
              "    <path d=\"M18.56 5.44l.94 2.06.94-2.06 2.06-.94-2.06-.94-.94-2.06-.94 2.06-2.06.94zm-11 1L8.5 8.5l.94-2.06 2.06-.94-2.06-.94L8.5 2.5l-.94 2.06-2.06.94zm10 10l.94 2.06.94-2.06 2.06-.94-2.06-.94-.94-2.06-.94 2.06-2.06.94z\"/><path d=\"M17.41 7.96l-1.37-1.37c-.4-.4-.92-.59-1.43-.59-.52 0-1.04.2-1.43.59L10.3 9.45l-7.72 7.72c-.78.78-.78 2.05 0 2.83L4 21.41c.39.39.9.59 1.41.59.51 0 1.02-.2 1.41-.59l7.78-7.78 2.81-2.81c.8-.78.8-2.07 0-2.86zM5.41 20L4 18.59l7.72-7.72 1.47 1.35L5.41 20z\"/>\n",
              "  </svg>\n",
              "      </button>\n",
              "      \n",
              "  <style>\n",
              "    .colab-df-container {\n",
              "      display:flex;\n",
              "      flex-wrap:wrap;\n",
              "      gap: 12px;\n",
              "    }\n",
              "\n",
              "    .colab-df-convert {\n",
              "      background-color: #E8F0FE;\n",
              "      border: none;\n",
              "      border-radius: 50%;\n",
              "      cursor: pointer;\n",
              "      display: none;\n",
              "      fill: #1967D2;\n",
              "      height: 32px;\n",
              "      padding: 0 0 0 0;\n",
              "      width: 32px;\n",
              "    }\n",
              "\n",
              "    .colab-df-convert:hover {\n",
              "      background-color: #E2EBFA;\n",
              "      box-shadow: 0px 1px 2px rgba(60, 64, 67, 0.3), 0px 1px 3px 1px rgba(60, 64, 67, 0.15);\n",
              "      fill: #174EA6;\n",
              "    }\n",
              "\n",
              "    [theme=dark] .colab-df-convert {\n",
              "      background-color: #3B4455;\n",
              "      fill: #D2E3FC;\n",
              "    }\n",
              "\n",
              "    [theme=dark] .colab-df-convert:hover {\n",
              "      background-color: #434B5C;\n",
              "      box-shadow: 0px 1px 3px 1px rgba(0, 0, 0, 0.15);\n",
              "      filter: drop-shadow(0px 1px 2px rgba(0, 0, 0, 0.3));\n",
              "      fill: #FFFFFF;\n",
              "    }\n",
              "  </style>\n",
              "\n",
              "      <script>\n",
              "        const buttonEl =\n",
              "          document.querySelector('#df-c24ef897-d474-4b0b-9bcc-4c6e158a1887 button.colab-df-convert');\n",
              "        buttonEl.style.display =\n",
              "          google.colab.kernel.accessAllowed ? 'block' : 'none';\n",
              "\n",
              "        async function convertToInteractive(key) {\n",
              "          const element = document.querySelector('#df-c24ef897-d474-4b0b-9bcc-4c6e158a1887');\n",
              "          const dataTable =\n",
              "            await google.colab.kernel.invokeFunction('convertToInteractive',\n",
              "                                                     [key], {});\n",
              "          if (!dataTable) return;\n",
              "\n",
              "          const docLinkHtml = 'Like what you see? Visit the ' +\n",
              "            '<a target=\"_blank\" href=https://colab.research.google.com/notebooks/data_table.ipynb>data table notebook</a>'\n",
              "            + ' to learn more about interactive tables.';\n",
              "          element.innerHTML = '';\n",
              "          dataTable['output_type'] = 'display_data';\n",
              "          await google.colab.output.renderOutput(dataTable, element);\n",
              "          const docLink = document.createElement('div');\n",
              "          docLink.innerHTML = docLinkHtml;\n",
              "          element.appendChild(docLink);\n",
              "        }\n",
              "      </script>\n",
              "    </div>\n",
              "  </div>\n",
              "  "
            ]
          },
          "metadata": {},
          "execution_count": 113
        }
      ]
    },
    {
      "cell_type": "code",
      "source": [
        "def topic_input(row):\n",
        "  highest = 0\n",
        "  top = 'None'\n",
        "  for topic in topic_model_df.columns:\n",
        "    if row[topic] > highest:\n",
        "      highest = row[topic]\n",
        "      top = f'Topic {int(topic[-1])+1}'\n",
        "  return top\n",
        "\n",
        "topic = topic_model_df.apply(lambda x:topic_input(x),axis=1)"
      ],
      "metadata": {
        "id": "qAg-un_xXvUe"
      },
      "execution_count": 114,
      "outputs": []
    },
    {
      "cell_type": "markdown",
      "source": [
        "## Concatenating clustering_df with topic models"
      ],
      "metadata": {
        "id": "gXGEuMD_YL0U"
      }
    },
    {
      "cell_type": "code",
      "source": [
        "clustering_df"
      ],
      "metadata": {
        "id": "ZesRNFA1X_7I",
        "colab": {
          "base_uri": "https://localhost:8080/",
          "height": 424
        },
        "outputId": "8686a6b8-970f-49ca-845f-b1ad391f2325"
      },
      "execution_count": 118,
      "outputs": [
        {
          "output_type": "execute_result",
          "data": {
            "text/plain": [
              "      release_year  Adult  Kids  Older Kids  Teens  Movie  TV Show  \\\n",
              "0             2020      1     0           0      0      0        1   \n",
              "1             2016      1     0           0      0      1        0   \n",
              "2             2011      1     0           0      0      1        0   \n",
              "3             2009      0     0           0      1      1        0   \n",
              "4             2008      0     0           0      1      1        0   \n",
              "...            ...    ...   ...         ...    ...    ...      ...   \n",
              "7782          2005      1     0           0      0      1        0   \n",
              "7783          2015      0     0           0      1      1        0   \n",
              "7784          2019      1     0           0      0      1        0   \n",
              "7785          2019      0     0           1      0      0        1   \n",
              "7786          2019      1     0           0      0      1        0   \n",
              "\n",
              "      show_duration  movie_duration  release_year_bins  \n",
              "0                 4               0               2020  \n",
              "1                 0              93               2010  \n",
              "2                 0              78               2010  \n",
              "3                 0              80               2000  \n",
              "4                 0             123               2000  \n",
              "...             ...             ...                ...  \n",
              "7782              0              99               2000  \n",
              "7783              0             111               2010  \n",
              "7784              0              44               2010  \n",
              "7785              1               0               2010  \n",
              "7786              0              90               2010  \n",
              "\n",
              "[7787 rows x 10 columns]"
            ],
            "text/html": [
              "\n",
              "  <div id=\"df-ffdf23b1-f4dd-4bb0-b1ea-01a609387401\">\n",
              "    <div class=\"colab-df-container\">\n",
              "      <div>\n",
              "<style scoped>\n",
              "    .dataframe tbody tr th:only-of-type {\n",
              "        vertical-align: middle;\n",
              "    }\n",
              "\n",
              "    .dataframe tbody tr th {\n",
              "        vertical-align: top;\n",
              "    }\n",
              "\n",
              "    .dataframe thead th {\n",
              "        text-align: right;\n",
              "    }\n",
              "</style>\n",
              "<table border=\"1\" class=\"dataframe\">\n",
              "  <thead>\n",
              "    <tr style=\"text-align: right;\">\n",
              "      <th></th>\n",
              "      <th>release_year</th>\n",
              "      <th>Adult</th>\n",
              "      <th>Kids</th>\n",
              "      <th>Older Kids</th>\n",
              "      <th>Teens</th>\n",
              "      <th>Movie</th>\n",
              "      <th>TV Show</th>\n",
              "      <th>show_duration</th>\n",
              "      <th>movie_duration</th>\n",
              "      <th>release_year_bins</th>\n",
              "    </tr>\n",
              "  </thead>\n",
              "  <tbody>\n",
              "    <tr>\n",
              "      <th>0</th>\n",
              "      <td>2020</td>\n",
              "      <td>1</td>\n",
              "      <td>0</td>\n",
              "      <td>0</td>\n",
              "      <td>0</td>\n",
              "      <td>0</td>\n",
              "      <td>1</td>\n",
              "      <td>4</td>\n",
              "      <td>0</td>\n",
              "      <td>2020</td>\n",
              "    </tr>\n",
              "    <tr>\n",
              "      <th>1</th>\n",
              "      <td>2016</td>\n",
              "      <td>1</td>\n",
              "      <td>0</td>\n",
              "      <td>0</td>\n",
              "      <td>0</td>\n",
              "      <td>1</td>\n",
              "      <td>0</td>\n",
              "      <td>0</td>\n",
              "      <td>93</td>\n",
              "      <td>2010</td>\n",
              "    </tr>\n",
              "    <tr>\n",
              "      <th>2</th>\n",
              "      <td>2011</td>\n",
              "      <td>1</td>\n",
              "      <td>0</td>\n",
              "      <td>0</td>\n",
              "      <td>0</td>\n",
              "      <td>1</td>\n",
              "      <td>0</td>\n",
              "      <td>0</td>\n",
              "      <td>78</td>\n",
              "      <td>2010</td>\n",
              "    </tr>\n",
              "    <tr>\n",
              "      <th>3</th>\n",
              "      <td>2009</td>\n",
              "      <td>0</td>\n",
              "      <td>0</td>\n",
              "      <td>0</td>\n",
              "      <td>1</td>\n",
              "      <td>1</td>\n",
              "      <td>0</td>\n",
              "      <td>0</td>\n",
              "      <td>80</td>\n",
              "      <td>2000</td>\n",
              "    </tr>\n",
              "    <tr>\n",
              "      <th>4</th>\n",
              "      <td>2008</td>\n",
              "      <td>0</td>\n",
              "      <td>0</td>\n",
              "      <td>0</td>\n",
              "      <td>1</td>\n",
              "      <td>1</td>\n",
              "      <td>0</td>\n",
              "      <td>0</td>\n",
              "      <td>123</td>\n",
              "      <td>2000</td>\n",
              "    </tr>\n",
              "    <tr>\n",
              "      <th>...</th>\n",
              "      <td>...</td>\n",
              "      <td>...</td>\n",
              "      <td>...</td>\n",
              "      <td>...</td>\n",
              "      <td>...</td>\n",
              "      <td>...</td>\n",
              "      <td>...</td>\n",
              "      <td>...</td>\n",
              "      <td>...</td>\n",
              "      <td>...</td>\n",
              "    </tr>\n",
              "    <tr>\n",
              "      <th>7782</th>\n",
              "      <td>2005</td>\n",
              "      <td>1</td>\n",
              "      <td>0</td>\n",
              "      <td>0</td>\n",
              "      <td>0</td>\n",
              "      <td>1</td>\n",
              "      <td>0</td>\n",
              "      <td>0</td>\n",
              "      <td>99</td>\n",
              "      <td>2000</td>\n",
              "    </tr>\n",
              "    <tr>\n",
              "      <th>7783</th>\n",
              "      <td>2015</td>\n",
              "      <td>0</td>\n",
              "      <td>0</td>\n",
              "      <td>0</td>\n",
              "      <td>1</td>\n",
              "      <td>1</td>\n",
              "      <td>0</td>\n",
              "      <td>0</td>\n",
              "      <td>111</td>\n",
              "      <td>2010</td>\n",
              "    </tr>\n",
              "    <tr>\n",
              "      <th>7784</th>\n",
              "      <td>2019</td>\n",
              "      <td>1</td>\n",
              "      <td>0</td>\n",
              "      <td>0</td>\n",
              "      <td>0</td>\n",
              "      <td>1</td>\n",
              "      <td>0</td>\n",
              "      <td>0</td>\n",
              "      <td>44</td>\n",
              "      <td>2010</td>\n",
              "    </tr>\n",
              "    <tr>\n",
              "      <th>7785</th>\n",
              "      <td>2019</td>\n",
              "      <td>0</td>\n",
              "      <td>0</td>\n",
              "      <td>1</td>\n",
              "      <td>0</td>\n",
              "      <td>0</td>\n",
              "      <td>1</td>\n",
              "      <td>1</td>\n",
              "      <td>0</td>\n",
              "      <td>2010</td>\n",
              "    </tr>\n",
              "    <tr>\n",
              "      <th>7786</th>\n",
              "      <td>2019</td>\n",
              "      <td>1</td>\n",
              "      <td>0</td>\n",
              "      <td>0</td>\n",
              "      <td>0</td>\n",
              "      <td>1</td>\n",
              "      <td>0</td>\n",
              "      <td>0</td>\n",
              "      <td>90</td>\n",
              "      <td>2010</td>\n",
              "    </tr>\n",
              "  </tbody>\n",
              "</table>\n",
              "<p>7787 rows × 10 columns</p>\n",
              "</div>\n",
              "      <button class=\"colab-df-convert\" onclick=\"convertToInteractive('df-ffdf23b1-f4dd-4bb0-b1ea-01a609387401')\"\n",
              "              title=\"Convert this dataframe to an interactive table.\"\n",
              "              style=\"display:none;\">\n",
              "        \n",
              "  <svg xmlns=\"http://www.w3.org/2000/svg\" height=\"24px\"viewBox=\"0 0 24 24\"\n",
              "       width=\"24px\">\n",
              "    <path d=\"M0 0h24v24H0V0z\" fill=\"none\"/>\n",
              "    <path d=\"M18.56 5.44l.94 2.06.94-2.06 2.06-.94-2.06-.94-.94-2.06-.94 2.06-2.06.94zm-11 1L8.5 8.5l.94-2.06 2.06-.94-2.06-.94L8.5 2.5l-.94 2.06-2.06.94zm10 10l.94 2.06.94-2.06 2.06-.94-2.06-.94-.94-2.06-.94 2.06-2.06.94z\"/><path d=\"M17.41 7.96l-1.37-1.37c-.4-.4-.92-.59-1.43-.59-.52 0-1.04.2-1.43.59L10.3 9.45l-7.72 7.72c-.78.78-.78 2.05 0 2.83L4 21.41c.39.39.9.59 1.41.59.51 0 1.02-.2 1.41-.59l7.78-7.78 2.81-2.81c.8-.78.8-2.07 0-2.86zM5.41 20L4 18.59l7.72-7.72 1.47 1.35L5.41 20z\"/>\n",
              "  </svg>\n",
              "      </button>\n",
              "      \n",
              "  <style>\n",
              "    .colab-df-container {\n",
              "      display:flex;\n",
              "      flex-wrap:wrap;\n",
              "      gap: 12px;\n",
              "    }\n",
              "\n",
              "    .colab-df-convert {\n",
              "      background-color: #E8F0FE;\n",
              "      border: none;\n",
              "      border-radius: 50%;\n",
              "      cursor: pointer;\n",
              "      display: none;\n",
              "      fill: #1967D2;\n",
              "      height: 32px;\n",
              "      padding: 0 0 0 0;\n",
              "      width: 32px;\n",
              "    }\n",
              "\n",
              "    .colab-df-convert:hover {\n",
              "      background-color: #E2EBFA;\n",
              "      box-shadow: 0px 1px 2px rgba(60, 64, 67, 0.3), 0px 1px 3px 1px rgba(60, 64, 67, 0.15);\n",
              "      fill: #174EA6;\n",
              "    }\n",
              "\n",
              "    [theme=dark] .colab-df-convert {\n",
              "      background-color: #3B4455;\n",
              "      fill: #D2E3FC;\n",
              "    }\n",
              "\n",
              "    [theme=dark] .colab-df-convert:hover {\n",
              "      background-color: #434B5C;\n",
              "      box-shadow: 0px 1px 3px 1px rgba(0, 0, 0, 0.15);\n",
              "      filter: drop-shadow(0px 1px 2px rgba(0, 0, 0, 0.3));\n",
              "      fill: #FFFFFF;\n",
              "    }\n",
              "  </style>\n",
              "\n",
              "      <script>\n",
              "        const buttonEl =\n",
              "          document.querySelector('#df-ffdf23b1-f4dd-4bb0-b1ea-01a609387401 button.colab-df-convert');\n",
              "        buttonEl.style.display =\n",
              "          google.colab.kernel.accessAllowed ? 'block' : 'none';\n",
              "\n",
              "        async function convertToInteractive(key) {\n",
              "          const element = document.querySelector('#df-ffdf23b1-f4dd-4bb0-b1ea-01a609387401');\n",
              "          const dataTable =\n",
              "            await google.colab.kernel.invokeFunction('convertToInteractive',\n",
              "                                                     [key], {});\n",
              "          if (!dataTable) return;\n",
              "\n",
              "          const docLinkHtml = 'Like what you see? Visit the ' +\n",
              "            '<a target=\"_blank\" href=https://colab.research.google.com/notebooks/data_table.ipynb>data table notebook</a>'\n",
              "            + ' to learn more about interactive tables.';\n",
              "          element.innerHTML = '';\n",
              "          dataTable['output_type'] = 'display_data';\n",
              "          await google.colab.output.renderOutput(dataTable, element);\n",
              "          const docLink = document.createElement('div');\n",
              "          docLink.innerHTML = docLinkHtml;\n",
              "          element.appendChild(docLink);\n",
              "        }\n",
              "      </script>\n",
              "    </div>\n",
              "  </div>\n",
              "  "
            ]
          },
          "metadata": {},
          "execution_count": 118
        }
      ]
    },
    {
      "cell_type": "markdown",
      "source": [
        "### 5. Data Transformation"
      ],
      "metadata": {
        "id": "TNVZ9zx19K6k"
      }
    },
    {
      "cell_type": "markdown",
      "source": [
        "#### Do you think that your data needs to be transformed? If yes, which transformation have you used. Explain Why?"
      ],
      "metadata": {
        "id": "nqoHp30x9hH9"
      }
    },
    {
      "cell_type": "code",
      "source": [
        "# Transform Your data"
      ],
      "metadata": {
        "id": "I6quWQ1T9rtH"
      },
      "execution_count": null,
      "outputs": []
    },
    {
      "cell_type": "markdown",
      "source": [
        "### 6. Data Scaling"
      ],
      "metadata": {
        "id": "rMDnDkt2B6du"
      }
    },
    {
      "cell_type": "code",
      "source": [
        "# Scaling your data\n",
        "#vectorizer_clustering = pd.concat([clustering_df.drop(['release_year','Movie','TV Show'], axis=1), pd.get_dummies(clustering_df['release_year'])], a\n"
      ],
      "metadata": {
        "id": "dL9LWpySC6x_"
      },
      "execution_count": 119,
      "outputs": []
    },
    {
      "cell_type": "code",
      "source": [
        "vectorizer_clustering = pd.concat([clustering_df.drop(['release_year'], axis=1),], axis =1)"
      ],
      "metadata": {
        "id": "sZeKfTChYeF-"
      },
      "execution_count": 120,
      "outputs": []
    },
    {
      "cell_type": "code",
      "source": [
        "vectorizer_clustering"
      ],
      "metadata": {
        "id": "MqjNEG1PYefP",
        "colab": {
          "base_uri": "https://localhost:8080/",
          "height": 424
        },
        "outputId": "e5853230-6b75-4924-9562-7070ceef2102"
      },
      "execution_count": 121,
      "outputs": [
        {
          "output_type": "execute_result",
          "data": {
            "text/plain": [
              "      Adult  Kids  Older Kids  Teens  Movie  TV Show  show_duration  \\\n",
              "0         1     0           0      0      0        1              4   \n",
              "1         1     0           0      0      1        0              0   \n",
              "2         1     0           0      0      1        0              0   \n",
              "3         0     0           0      1      1        0              0   \n",
              "4         0     0           0      1      1        0              0   \n",
              "...     ...   ...         ...    ...    ...      ...            ...   \n",
              "7782      1     0           0      0      1        0              0   \n",
              "7783      0     0           0      1      1        0              0   \n",
              "7784      1     0           0      0      1        0              0   \n",
              "7785      0     0           1      0      0        1              1   \n",
              "7786      1     0           0      0      1        0              0   \n",
              "\n",
              "      movie_duration  release_year_bins  \n",
              "0                  0               2020  \n",
              "1                 93               2010  \n",
              "2                 78               2010  \n",
              "3                 80               2000  \n",
              "4                123               2000  \n",
              "...              ...                ...  \n",
              "7782              99               2000  \n",
              "7783             111               2010  \n",
              "7784              44               2010  \n",
              "7785               0               2010  \n",
              "7786              90               2010  \n",
              "\n",
              "[7787 rows x 9 columns]"
            ],
            "text/html": [
              "\n",
              "  <div id=\"df-e75e4e71-ca61-42f1-9a10-8363e1c61dff\">\n",
              "    <div class=\"colab-df-container\">\n",
              "      <div>\n",
              "<style scoped>\n",
              "    .dataframe tbody tr th:only-of-type {\n",
              "        vertical-align: middle;\n",
              "    }\n",
              "\n",
              "    .dataframe tbody tr th {\n",
              "        vertical-align: top;\n",
              "    }\n",
              "\n",
              "    .dataframe thead th {\n",
              "        text-align: right;\n",
              "    }\n",
              "</style>\n",
              "<table border=\"1\" class=\"dataframe\">\n",
              "  <thead>\n",
              "    <tr style=\"text-align: right;\">\n",
              "      <th></th>\n",
              "      <th>Adult</th>\n",
              "      <th>Kids</th>\n",
              "      <th>Older Kids</th>\n",
              "      <th>Teens</th>\n",
              "      <th>Movie</th>\n",
              "      <th>TV Show</th>\n",
              "      <th>show_duration</th>\n",
              "      <th>movie_duration</th>\n",
              "      <th>release_year_bins</th>\n",
              "    </tr>\n",
              "  </thead>\n",
              "  <tbody>\n",
              "    <tr>\n",
              "      <th>0</th>\n",
              "      <td>1</td>\n",
              "      <td>0</td>\n",
              "      <td>0</td>\n",
              "      <td>0</td>\n",
              "      <td>0</td>\n",
              "      <td>1</td>\n",
              "      <td>4</td>\n",
              "      <td>0</td>\n",
              "      <td>2020</td>\n",
              "    </tr>\n",
              "    <tr>\n",
              "      <th>1</th>\n",
              "      <td>1</td>\n",
              "      <td>0</td>\n",
              "      <td>0</td>\n",
              "      <td>0</td>\n",
              "      <td>1</td>\n",
              "      <td>0</td>\n",
              "      <td>0</td>\n",
              "      <td>93</td>\n",
              "      <td>2010</td>\n",
              "    </tr>\n",
              "    <tr>\n",
              "      <th>2</th>\n",
              "      <td>1</td>\n",
              "      <td>0</td>\n",
              "      <td>0</td>\n",
              "      <td>0</td>\n",
              "      <td>1</td>\n",
              "      <td>0</td>\n",
              "      <td>0</td>\n",
              "      <td>78</td>\n",
              "      <td>2010</td>\n",
              "    </tr>\n",
              "    <tr>\n",
              "      <th>3</th>\n",
              "      <td>0</td>\n",
              "      <td>0</td>\n",
              "      <td>0</td>\n",
              "      <td>1</td>\n",
              "      <td>1</td>\n",
              "      <td>0</td>\n",
              "      <td>0</td>\n",
              "      <td>80</td>\n",
              "      <td>2000</td>\n",
              "    </tr>\n",
              "    <tr>\n",
              "      <th>4</th>\n",
              "      <td>0</td>\n",
              "      <td>0</td>\n",
              "      <td>0</td>\n",
              "      <td>1</td>\n",
              "      <td>1</td>\n",
              "      <td>0</td>\n",
              "      <td>0</td>\n",
              "      <td>123</td>\n",
              "      <td>2000</td>\n",
              "    </tr>\n",
              "    <tr>\n",
              "      <th>...</th>\n",
              "      <td>...</td>\n",
              "      <td>...</td>\n",
              "      <td>...</td>\n",
              "      <td>...</td>\n",
              "      <td>...</td>\n",
              "      <td>...</td>\n",
              "      <td>...</td>\n",
              "      <td>...</td>\n",
              "      <td>...</td>\n",
              "    </tr>\n",
              "    <tr>\n",
              "      <th>7782</th>\n",
              "      <td>1</td>\n",
              "      <td>0</td>\n",
              "      <td>0</td>\n",
              "      <td>0</td>\n",
              "      <td>1</td>\n",
              "      <td>0</td>\n",
              "      <td>0</td>\n",
              "      <td>99</td>\n",
              "      <td>2000</td>\n",
              "    </tr>\n",
              "    <tr>\n",
              "      <th>7783</th>\n",
              "      <td>0</td>\n",
              "      <td>0</td>\n",
              "      <td>0</td>\n",
              "      <td>1</td>\n",
              "      <td>1</td>\n",
              "      <td>0</td>\n",
              "      <td>0</td>\n",
              "      <td>111</td>\n",
              "      <td>2010</td>\n",
              "    </tr>\n",
              "    <tr>\n",
              "      <th>7784</th>\n",
              "      <td>1</td>\n",
              "      <td>0</td>\n",
              "      <td>0</td>\n",
              "      <td>0</td>\n",
              "      <td>1</td>\n",
              "      <td>0</td>\n",
              "      <td>0</td>\n",
              "      <td>44</td>\n",
              "      <td>2010</td>\n",
              "    </tr>\n",
              "    <tr>\n",
              "      <th>7785</th>\n",
              "      <td>0</td>\n",
              "      <td>0</td>\n",
              "      <td>1</td>\n",
              "      <td>0</td>\n",
              "      <td>0</td>\n",
              "      <td>1</td>\n",
              "      <td>1</td>\n",
              "      <td>0</td>\n",
              "      <td>2010</td>\n",
              "    </tr>\n",
              "    <tr>\n",
              "      <th>7786</th>\n",
              "      <td>1</td>\n",
              "      <td>0</td>\n",
              "      <td>0</td>\n",
              "      <td>0</td>\n",
              "      <td>1</td>\n",
              "      <td>0</td>\n",
              "      <td>0</td>\n",
              "      <td>90</td>\n",
              "      <td>2010</td>\n",
              "    </tr>\n",
              "  </tbody>\n",
              "</table>\n",
              "<p>7787 rows × 9 columns</p>\n",
              "</div>\n",
              "      <button class=\"colab-df-convert\" onclick=\"convertToInteractive('df-e75e4e71-ca61-42f1-9a10-8363e1c61dff')\"\n",
              "              title=\"Convert this dataframe to an interactive table.\"\n",
              "              style=\"display:none;\">\n",
              "        \n",
              "  <svg xmlns=\"http://www.w3.org/2000/svg\" height=\"24px\"viewBox=\"0 0 24 24\"\n",
              "       width=\"24px\">\n",
              "    <path d=\"M0 0h24v24H0V0z\" fill=\"none\"/>\n",
              "    <path d=\"M18.56 5.44l.94 2.06.94-2.06 2.06-.94-2.06-.94-.94-2.06-.94 2.06-2.06.94zm-11 1L8.5 8.5l.94-2.06 2.06-.94-2.06-.94L8.5 2.5l-.94 2.06-2.06.94zm10 10l.94 2.06.94-2.06 2.06-.94-2.06-.94-.94-2.06-.94 2.06-2.06.94z\"/><path d=\"M17.41 7.96l-1.37-1.37c-.4-.4-.92-.59-1.43-.59-.52 0-1.04.2-1.43.59L10.3 9.45l-7.72 7.72c-.78.78-.78 2.05 0 2.83L4 21.41c.39.39.9.59 1.41.59.51 0 1.02-.2 1.41-.59l7.78-7.78 2.81-2.81c.8-.78.8-2.07 0-2.86zM5.41 20L4 18.59l7.72-7.72 1.47 1.35L5.41 20z\"/>\n",
              "  </svg>\n",
              "      </button>\n",
              "      \n",
              "  <style>\n",
              "    .colab-df-container {\n",
              "      display:flex;\n",
              "      flex-wrap:wrap;\n",
              "      gap: 12px;\n",
              "    }\n",
              "\n",
              "    .colab-df-convert {\n",
              "      background-color: #E8F0FE;\n",
              "      border: none;\n",
              "      border-radius: 50%;\n",
              "      cursor: pointer;\n",
              "      display: none;\n",
              "      fill: #1967D2;\n",
              "      height: 32px;\n",
              "      padding: 0 0 0 0;\n",
              "      width: 32px;\n",
              "    }\n",
              "\n",
              "    .colab-df-convert:hover {\n",
              "      background-color: #E2EBFA;\n",
              "      box-shadow: 0px 1px 2px rgba(60, 64, 67, 0.3), 0px 1px 3px 1px rgba(60, 64, 67, 0.15);\n",
              "      fill: #174EA6;\n",
              "    }\n",
              "\n",
              "    [theme=dark] .colab-df-convert {\n",
              "      background-color: #3B4455;\n",
              "      fill: #D2E3FC;\n",
              "    }\n",
              "\n",
              "    [theme=dark] .colab-df-convert:hover {\n",
              "      background-color: #434B5C;\n",
              "      box-shadow: 0px 1px 3px 1px rgba(0, 0, 0, 0.15);\n",
              "      filter: drop-shadow(0px 1px 2px rgba(0, 0, 0, 0.3));\n",
              "      fill: #FFFFFF;\n",
              "    }\n",
              "  </style>\n",
              "\n",
              "      <script>\n",
              "        const buttonEl =\n",
              "          document.querySelector('#df-e75e4e71-ca61-42f1-9a10-8363e1c61dff button.colab-df-convert');\n",
              "        buttonEl.style.display =\n",
              "          google.colab.kernel.accessAllowed ? 'block' : 'none';\n",
              "\n",
              "        async function convertToInteractive(key) {\n",
              "          const element = document.querySelector('#df-e75e4e71-ca61-42f1-9a10-8363e1c61dff');\n",
              "          const dataTable =\n",
              "            await google.colab.kernel.invokeFunction('convertToInteractive',\n",
              "                                                     [key], {});\n",
              "          if (!dataTable) return;\n",
              "\n",
              "          const docLinkHtml = 'Like what you see? Visit the ' +\n",
              "            '<a target=\"_blank\" href=https://colab.research.google.com/notebooks/data_table.ipynb>data table notebook</a>'\n",
              "            + ' to learn more about interactive tables.';\n",
              "          element.innerHTML = '';\n",
              "          dataTable['output_type'] = 'display_data';\n",
              "          await google.colab.output.renderOutput(dataTable, element);\n",
              "          const docLink = document.createElement('div');\n",
              "          docLink.innerHTML = docLinkHtml;\n",
              "          element.appendChild(docLink);\n",
              "        }\n",
              "      </script>\n",
              "    </div>\n",
              "  </div>\n",
              "  "
            ]
          },
          "metadata": {},
          "execution_count": 121
        }
      ]
    },
    {
      "cell_type": "code",
      "source": [
        "scaler = MinMaxScaler()\n",
        "X_rescale = scaler.fit_transform(vectorizer_clustering)\n",
        "#dataset contains degree of belonging of document to each topic concatenated to scaled Dataframe \n",
        "X = pd.concat([pd.DataFrame(X_rescale,columns = vectorizer_clustering.columns ),(topic_model_df)],axis=1)"
      ],
      "metadata": {
        "id": "TnGXkm5aYei9"
      },
      "execution_count": 122,
      "outputs": []
    },
    {
      "cell_type": "code",
      "source": [
        "X"
      ],
      "metadata": {
        "id": "wlGEyc1jYnN8",
        "colab": {
          "base_uri": "https://localhost:8080/",
          "height": 424
        },
        "outputId": "d9a3a6c0-6365-4ca9-9f2f-61e4aec73aab"
      },
      "execution_count": 123,
      "outputs": [
        {
          "output_type": "execute_result",
          "data": {
            "text/plain": [
              "      Adult  Kids  Older Kids  Teens  Movie  TV Show  show_duration  \\\n",
              "0       1.0   0.0         0.0    0.0    0.0      1.0         0.2500   \n",
              "1       1.0   0.0         0.0    0.0    1.0      0.0         0.0000   \n",
              "2       1.0   0.0         0.0    0.0    1.0      0.0         0.0000   \n",
              "3       0.0   0.0         0.0    1.0    1.0      0.0         0.0000   \n",
              "4       0.0   0.0         0.0    1.0    1.0      0.0         0.0000   \n",
              "...     ...   ...         ...    ...    ...      ...            ...   \n",
              "7782    1.0   0.0         0.0    0.0    1.0      0.0         0.0000   \n",
              "7783    0.0   0.0         0.0    1.0    1.0      0.0         0.0000   \n",
              "7784    1.0   0.0         0.0    0.0    1.0      0.0         0.0000   \n",
              "7785    0.0   0.0         1.0    0.0    0.0      1.0         0.0625   \n",
              "7786    1.0   0.0         0.0    0.0    1.0      0.0         0.0000   \n",
              "\n",
              "      movie_duration  release_year_bins   Topic 0   Topic 1   Topic 2  \\\n",
              "0           0.000000                1.0  0.000000  0.000000  0.000000   \n",
              "1           0.298077                0.9  0.000000  0.000000  0.000000   \n",
              "2           0.250000                0.9  0.000000  0.000000  0.000000   \n",
              "3           0.256410                0.8  0.266360  0.251847  0.067419   \n",
              "4           0.394231                0.8  0.243806  0.299027  0.000000   \n",
              "...              ...                ...       ...       ...       ...   \n",
              "7782        0.317308                0.8  0.000000  0.000000  0.648084   \n",
              "7783        0.355769                0.9  0.000000  0.000000  0.723386   \n",
              "7784        0.141026                0.9  0.000000  0.582956  0.000000   \n",
              "7785        0.000000                0.9  0.000000  0.959916  0.000000   \n",
              "7786        0.288462                0.9  0.000000  0.958058  0.000000   \n",
              "\n",
              "       Topic 3   Topic 4   Topic 5  \n",
              "0     0.520313  0.301861  0.155904  \n",
              "1     0.967517  0.000000  0.000000  \n",
              "2     0.968939  0.000000  0.000000  \n",
              "3     0.399747  0.000000  0.000000  \n",
              "4     0.000000  0.434295  0.000000  \n",
              "...        ...       ...       ...  \n",
              "7782  0.000000  0.326001  0.000000  \n",
              "7783  0.000000  0.252588  0.000000  \n",
              "7784  0.000000  0.000000  0.389039  \n",
              "7785  0.000000  0.000000  0.000000  \n",
              "7786  0.000000  0.000000  0.000000  \n",
              "\n",
              "[7787 rows x 15 columns]"
            ],
            "text/html": [
              "\n",
              "  <div id=\"df-dd88a573-0fe0-4abc-8e5c-8781f2d44c0a\">\n",
              "    <div class=\"colab-df-container\">\n",
              "      <div>\n",
              "<style scoped>\n",
              "    .dataframe tbody tr th:only-of-type {\n",
              "        vertical-align: middle;\n",
              "    }\n",
              "\n",
              "    .dataframe tbody tr th {\n",
              "        vertical-align: top;\n",
              "    }\n",
              "\n",
              "    .dataframe thead th {\n",
              "        text-align: right;\n",
              "    }\n",
              "</style>\n",
              "<table border=\"1\" class=\"dataframe\">\n",
              "  <thead>\n",
              "    <tr style=\"text-align: right;\">\n",
              "      <th></th>\n",
              "      <th>Adult</th>\n",
              "      <th>Kids</th>\n",
              "      <th>Older Kids</th>\n",
              "      <th>Teens</th>\n",
              "      <th>Movie</th>\n",
              "      <th>TV Show</th>\n",
              "      <th>show_duration</th>\n",
              "      <th>movie_duration</th>\n",
              "      <th>release_year_bins</th>\n",
              "      <th>Topic 0</th>\n",
              "      <th>Topic 1</th>\n",
              "      <th>Topic 2</th>\n",
              "      <th>Topic 3</th>\n",
              "      <th>Topic 4</th>\n",
              "      <th>Topic 5</th>\n",
              "    </tr>\n",
              "  </thead>\n",
              "  <tbody>\n",
              "    <tr>\n",
              "      <th>0</th>\n",
              "      <td>1.0</td>\n",
              "      <td>0.0</td>\n",
              "      <td>0.0</td>\n",
              "      <td>0.0</td>\n",
              "      <td>0.0</td>\n",
              "      <td>1.0</td>\n",
              "      <td>0.2500</td>\n",
              "      <td>0.000000</td>\n",
              "      <td>1.0</td>\n",
              "      <td>0.000000</td>\n",
              "      <td>0.000000</td>\n",
              "      <td>0.000000</td>\n",
              "      <td>0.520313</td>\n",
              "      <td>0.301861</td>\n",
              "      <td>0.155904</td>\n",
              "    </tr>\n",
              "    <tr>\n",
              "      <th>1</th>\n",
              "      <td>1.0</td>\n",
              "      <td>0.0</td>\n",
              "      <td>0.0</td>\n",
              "      <td>0.0</td>\n",
              "      <td>1.0</td>\n",
              "      <td>0.0</td>\n",
              "      <td>0.0000</td>\n",
              "      <td>0.298077</td>\n",
              "      <td>0.9</td>\n",
              "      <td>0.000000</td>\n",
              "      <td>0.000000</td>\n",
              "      <td>0.000000</td>\n",
              "      <td>0.967517</td>\n",
              "      <td>0.000000</td>\n",
              "      <td>0.000000</td>\n",
              "    </tr>\n",
              "    <tr>\n",
              "      <th>2</th>\n",
              "      <td>1.0</td>\n",
              "      <td>0.0</td>\n",
              "      <td>0.0</td>\n",
              "      <td>0.0</td>\n",
              "      <td>1.0</td>\n",
              "      <td>0.0</td>\n",
              "      <td>0.0000</td>\n",
              "      <td>0.250000</td>\n",
              "      <td>0.9</td>\n",
              "      <td>0.000000</td>\n",
              "      <td>0.000000</td>\n",
              "      <td>0.000000</td>\n",
              "      <td>0.968939</td>\n",
              "      <td>0.000000</td>\n",
              "      <td>0.000000</td>\n",
              "    </tr>\n",
              "    <tr>\n",
              "      <th>3</th>\n",
              "      <td>0.0</td>\n",
              "      <td>0.0</td>\n",
              "      <td>0.0</td>\n",
              "      <td>1.0</td>\n",
              "      <td>1.0</td>\n",
              "      <td>0.0</td>\n",
              "      <td>0.0000</td>\n",
              "      <td>0.256410</td>\n",
              "      <td>0.8</td>\n",
              "      <td>0.266360</td>\n",
              "      <td>0.251847</td>\n",
              "      <td>0.067419</td>\n",
              "      <td>0.399747</td>\n",
              "      <td>0.000000</td>\n",
              "      <td>0.000000</td>\n",
              "    </tr>\n",
              "    <tr>\n",
              "      <th>4</th>\n",
              "      <td>0.0</td>\n",
              "      <td>0.0</td>\n",
              "      <td>0.0</td>\n",
              "      <td>1.0</td>\n",
              "      <td>1.0</td>\n",
              "      <td>0.0</td>\n",
              "      <td>0.0000</td>\n",
              "      <td>0.394231</td>\n",
              "      <td>0.8</td>\n",
              "      <td>0.243806</td>\n",
              "      <td>0.299027</td>\n",
              "      <td>0.000000</td>\n",
              "      <td>0.000000</td>\n",
              "      <td>0.434295</td>\n",
              "      <td>0.000000</td>\n",
              "    </tr>\n",
              "    <tr>\n",
              "      <th>...</th>\n",
              "      <td>...</td>\n",
              "      <td>...</td>\n",
              "      <td>...</td>\n",
              "      <td>...</td>\n",
              "      <td>...</td>\n",
              "      <td>...</td>\n",
              "      <td>...</td>\n",
              "      <td>...</td>\n",
              "      <td>...</td>\n",
              "      <td>...</td>\n",
              "      <td>...</td>\n",
              "      <td>...</td>\n",
              "      <td>...</td>\n",
              "      <td>...</td>\n",
              "      <td>...</td>\n",
              "    </tr>\n",
              "    <tr>\n",
              "      <th>7782</th>\n",
              "      <td>1.0</td>\n",
              "      <td>0.0</td>\n",
              "      <td>0.0</td>\n",
              "      <td>0.0</td>\n",
              "      <td>1.0</td>\n",
              "      <td>0.0</td>\n",
              "      <td>0.0000</td>\n",
              "      <td>0.317308</td>\n",
              "      <td>0.8</td>\n",
              "      <td>0.000000</td>\n",
              "      <td>0.000000</td>\n",
              "      <td>0.648084</td>\n",
              "      <td>0.000000</td>\n",
              "      <td>0.326001</td>\n",
              "      <td>0.000000</td>\n",
              "    </tr>\n",
              "    <tr>\n",
              "      <th>7783</th>\n",
              "      <td>0.0</td>\n",
              "      <td>0.0</td>\n",
              "      <td>0.0</td>\n",
              "      <td>1.0</td>\n",
              "      <td>1.0</td>\n",
              "      <td>0.0</td>\n",
              "      <td>0.0000</td>\n",
              "      <td>0.355769</td>\n",
              "      <td>0.9</td>\n",
              "      <td>0.000000</td>\n",
              "      <td>0.000000</td>\n",
              "      <td>0.723386</td>\n",
              "      <td>0.000000</td>\n",
              "      <td>0.252588</td>\n",
              "      <td>0.000000</td>\n",
              "    </tr>\n",
              "    <tr>\n",
              "      <th>7784</th>\n",
              "      <td>1.0</td>\n",
              "      <td>0.0</td>\n",
              "      <td>0.0</td>\n",
              "      <td>0.0</td>\n",
              "      <td>1.0</td>\n",
              "      <td>0.0</td>\n",
              "      <td>0.0000</td>\n",
              "      <td>0.141026</td>\n",
              "      <td>0.9</td>\n",
              "      <td>0.000000</td>\n",
              "      <td>0.582956</td>\n",
              "      <td>0.000000</td>\n",
              "      <td>0.000000</td>\n",
              "      <td>0.000000</td>\n",
              "      <td>0.389039</td>\n",
              "    </tr>\n",
              "    <tr>\n",
              "      <th>7785</th>\n",
              "      <td>0.0</td>\n",
              "      <td>0.0</td>\n",
              "      <td>1.0</td>\n",
              "      <td>0.0</td>\n",
              "      <td>0.0</td>\n",
              "      <td>1.0</td>\n",
              "      <td>0.0625</td>\n",
              "      <td>0.000000</td>\n",
              "      <td>0.9</td>\n",
              "      <td>0.000000</td>\n",
              "      <td>0.959916</td>\n",
              "      <td>0.000000</td>\n",
              "      <td>0.000000</td>\n",
              "      <td>0.000000</td>\n",
              "      <td>0.000000</td>\n",
              "    </tr>\n",
              "    <tr>\n",
              "      <th>7786</th>\n",
              "      <td>1.0</td>\n",
              "      <td>0.0</td>\n",
              "      <td>0.0</td>\n",
              "      <td>0.0</td>\n",
              "      <td>1.0</td>\n",
              "      <td>0.0</td>\n",
              "      <td>0.0000</td>\n",
              "      <td>0.288462</td>\n",
              "      <td>0.9</td>\n",
              "      <td>0.000000</td>\n",
              "      <td>0.958058</td>\n",
              "      <td>0.000000</td>\n",
              "      <td>0.000000</td>\n",
              "      <td>0.000000</td>\n",
              "      <td>0.000000</td>\n",
              "    </tr>\n",
              "  </tbody>\n",
              "</table>\n",
              "<p>7787 rows × 15 columns</p>\n",
              "</div>\n",
              "      <button class=\"colab-df-convert\" onclick=\"convertToInteractive('df-dd88a573-0fe0-4abc-8e5c-8781f2d44c0a')\"\n",
              "              title=\"Convert this dataframe to an interactive table.\"\n",
              "              style=\"display:none;\">\n",
              "        \n",
              "  <svg xmlns=\"http://www.w3.org/2000/svg\" height=\"24px\"viewBox=\"0 0 24 24\"\n",
              "       width=\"24px\">\n",
              "    <path d=\"M0 0h24v24H0V0z\" fill=\"none\"/>\n",
              "    <path d=\"M18.56 5.44l.94 2.06.94-2.06 2.06-.94-2.06-.94-.94-2.06-.94 2.06-2.06.94zm-11 1L8.5 8.5l.94-2.06 2.06-.94-2.06-.94L8.5 2.5l-.94 2.06-2.06.94zm10 10l.94 2.06.94-2.06 2.06-.94-2.06-.94-.94-2.06-.94 2.06-2.06.94z\"/><path d=\"M17.41 7.96l-1.37-1.37c-.4-.4-.92-.59-1.43-.59-.52 0-1.04.2-1.43.59L10.3 9.45l-7.72 7.72c-.78.78-.78 2.05 0 2.83L4 21.41c.39.39.9.59 1.41.59.51 0 1.02-.2 1.41-.59l7.78-7.78 2.81-2.81c.8-.78.8-2.07 0-2.86zM5.41 20L4 18.59l7.72-7.72 1.47 1.35L5.41 20z\"/>\n",
              "  </svg>\n",
              "      </button>\n",
              "      \n",
              "  <style>\n",
              "    .colab-df-container {\n",
              "      display:flex;\n",
              "      flex-wrap:wrap;\n",
              "      gap: 12px;\n",
              "    }\n",
              "\n",
              "    .colab-df-convert {\n",
              "      background-color: #E8F0FE;\n",
              "      border: none;\n",
              "      border-radius: 50%;\n",
              "      cursor: pointer;\n",
              "      display: none;\n",
              "      fill: #1967D2;\n",
              "      height: 32px;\n",
              "      padding: 0 0 0 0;\n",
              "      width: 32px;\n",
              "    }\n",
              "\n",
              "    .colab-df-convert:hover {\n",
              "      background-color: #E2EBFA;\n",
              "      box-shadow: 0px 1px 2px rgba(60, 64, 67, 0.3), 0px 1px 3px 1px rgba(60, 64, 67, 0.15);\n",
              "      fill: #174EA6;\n",
              "    }\n",
              "\n",
              "    [theme=dark] .colab-df-convert {\n",
              "      background-color: #3B4455;\n",
              "      fill: #D2E3FC;\n",
              "    }\n",
              "\n",
              "    [theme=dark] .colab-df-convert:hover {\n",
              "      background-color: #434B5C;\n",
              "      box-shadow: 0px 1px 3px 1px rgba(0, 0, 0, 0.15);\n",
              "      filter: drop-shadow(0px 1px 2px rgba(0, 0, 0, 0.3));\n",
              "      fill: #FFFFFF;\n",
              "    }\n",
              "  </style>\n",
              "\n",
              "      <script>\n",
              "        const buttonEl =\n",
              "          document.querySelector('#df-dd88a573-0fe0-4abc-8e5c-8781f2d44c0a button.colab-df-convert');\n",
              "        buttonEl.style.display =\n",
              "          google.colab.kernel.accessAllowed ? 'block' : 'none';\n",
              "\n",
              "        async function convertToInteractive(key) {\n",
              "          const element = document.querySelector('#df-dd88a573-0fe0-4abc-8e5c-8781f2d44c0a');\n",
              "          const dataTable =\n",
              "            await google.colab.kernel.invokeFunction('convertToInteractive',\n",
              "                                                     [key], {});\n",
              "          if (!dataTable) return;\n",
              "\n",
              "          const docLinkHtml = 'Like what you see? Visit the ' +\n",
              "            '<a target=\"_blank\" href=https://colab.research.google.com/notebooks/data_table.ipynb>data table notebook</a>'\n",
              "            + ' to learn more about interactive tables.';\n",
              "          element.innerHTML = '';\n",
              "          dataTable['output_type'] = 'display_data';\n",
              "          await google.colab.output.renderOutput(dataTable, element);\n",
              "          const docLink = document.createElement('div');\n",
              "          docLink.innerHTML = docLinkHtml;\n",
              "          element.appendChild(docLink);\n",
              "        }\n",
              "      </script>\n",
              "    </div>\n",
              "  </div>\n",
              "  "
            ]
          },
          "metadata": {},
          "execution_count": 123
        }
      ]
    },
    {
      "cell_type": "code",
      "source": [
        "X = X.to_numpy()"
      ],
      "metadata": {
        "id": "7KCTXqddYqi7"
      },
      "execution_count": 124,
      "outputs": []
    },
    {
      "cell_type": "code",
      "source": [
        "X.shape"
      ],
      "metadata": {
        "id": "0KE2qKZ3Yqm-",
        "colab": {
          "base_uri": "https://localhost:8080/"
        },
        "outputId": "23dcefe1-1f46-4e8a-e137-eb1e68efbb62"
      },
      "execution_count": 125,
      "outputs": [
        {
          "output_type": "execute_result",
          "data": {
            "text/plain": [
              "(7787, 15)"
            ]
          },
          "metadata": {},
          "execution_count": 125
        }
      ]
    },
    {
      "cell_type": "markdown",
      "source": [
        "## Performing Hopkins test for uniform distribution to check if clustering is possible on the dataset"
      ],
      "metadata": {
        "id": "zsWNLyXPY5cr"
      }
    },
    {
      "cell_type": "code",
      "source": [
        "pip install pyclustertend"
      ],
      "metadata": {
        "id": "GbcfYckwZNcd",
        "colab": {
          "base_uri": "https://localhost:8080/",
          "height": 1000
        },
        "outputId": "e3f55d29-0c5b-461e-cbe4-f393149541ca"
      },
      "execution_count": 126,
      "outputs": [
        {
          "output_type": "stream",
          "name": "stdout",
          "text": [
            "Looking in indexes: https://pypi.org/simple, https://us-python.pkg.dev/colab-wheels/public/simple/\n",
            "Collecting pyclustertend\n",
            "  Downloading pyclustertend-1.8.2-py3-none-any.whl (7.2 kB)\n",
            "Collecting scikit-learn<2.0.0,>=1.1.2\n",
            "  Downloading scikit_learn-1.2.0-cp38-cp38-manylinux_2_17_x86_64.manylinux2014_x86_64.whl (9.7 MB)\n",
            "\u001b[K     |████████████████████████████████| 9.7 MB 4.9 MB/s \n",
            "\u001b[?25hCollecting matplotlib<4.0.0,>=3.3.3\n",
            "  Downloading matplotlib-3.6.2-cp38-cp38-manylinux_2_12_x86_64.manylinux2010_x86_64.whl (9.4 MB)\n",
            "\u001b[K     |████████████████████████████████| 9.4 MB 48.7 MB/s \n",
            "\u001b[?25hCollecting numba<0.55.0,>=0.54.1\n",
            "  Downloading numba-0.54.1-cp38-cp38-manylinux2014_x86_64.manylinux_2_17_x86_64.whl (3.3 MB)\n",
            "\u001b[K     |████████████████████████████████| 3.3 MB 49.3 MB/s \n",
            "\u001b[?25hRequirement already satisfied: pandas<2.0.0,>=1.2.0 in /usr/local/lib/python3.8/dist-packages (from pyclustertend) (1.3.5)\n",
            "Collecting numpy==1.20.3\n",
            "  Downloading numpy-1.20.3-cp38-cp38-manylinux_2_12_x86_64.manylinux2010_x86_64.whl (15.4 MB)\n",
            "\u001b[K     |████████████████████████████████| 15.4 MB 45.6 MB/s \n",
            "\u001b[?25hRequirement already satisfied: kiwisolver>=1.0.1 in /usr/local/lib/python3.8/dist-packages (from matplotlib<4.0.0,>=3.3.3->pyclustertend) (1.4.4)\n",
            "Requirement already satisfied: pyparsing>=2.2.1 in /usr/local/lib/python3.8/dist-packages (from matplotlib<4.0.0,>=3.3.3->pyclustertend) (3.0.9)\n",
            "Requirement already satisfied: cycler>=0.10 in /usr/local/lib/python3.8/dist-packages (from matplotlib<4.0.0,>=3.3.3->pyclustertend) (0.11.0)\n",
            "Requirement already satisfied: packaging>=20.0 in /usr/local/lib/python3.8/dist-packages (from matplotlib<4.0.0,>=3.3.3->pyclustertend) (21.3)\n",
            "Requirement already satisfied: pillow>=6.2.0 in /usr/local/lib/python3.8/dist-packages (from matplotlib<4.0.0,>=3.3.3->pyclustertend) (7.1.2)\n",
            "Requirement already satisfied: python-dateutil>=2.7 in /usr/local/lib/python3.8/dist-packages (from matplotlib<4.0.0,>=3.3.3->pyclustertend) (2.8.2)\n",
            "Collecting fonttools>=4.22.0\n",
            "  Downloading fonttools-4.38.0-py3-none-any.whl (965 kB)\n",
            "\u001b[K     |████████████████████████████████| 965 kB 57.0 MB/s \n",
            "\u001b[?25hCollecting contourpy>=1.0.1\n",
            "  Downloading contourpy-1.0.6-cp38-cp38-manylinux_2_17_x86_64.manylinux2014_x86_64.whl (295 kB)\n",
            "\u001b[K     |████████████████████████████████| 295 kB 63.2 MB/s \n",
            "\u001b[?25hCollecting llvmlite<0.38,>=0.37.0rc1\n",
            "  Downloading llvmlite-0.37.0-cp38-cp38-manylinux2014_x86_64.whl (26.3 MB)\n",
            "\u001b[K     |████████████████████████████████| 26.3 MB 76.5 MB/s \n",
            "\u001b[?25hRequirement already satisfied: setuptools in /usr/local/lib/python3.8/dist-packages (from numba<0.55.0,>=0.54.1->pyclustertend) (57.4.0)\n",
            "Requirement already satisfied: pytz>=2017.3 in /usr/local/lib/python3.8/dist-packages (from pandas<2.0.0,>=1.2.0->pyclustertend) (2022.6)\n",
            "Requirement already satisfied: six>=1.5 in /usr/local/lib/python3.8/dist-packages (from python-dateutil>=2.7->matplotlib<4.0.0,>=3.3.3->pyclustertend) (1.15.0)\n",
            "Requirement already satisfied: threadpoolctl>=2.0.0 in /usr/local/lib/python3.8/dist-packages (from scikit-learn<2.0.0,>=1.1.2->pyclustertend) (3.1.0)\n",
            "Requirement already satisfied: joblib>=1.1.1 in /usr/local/lib/python3.8/dist-packages (from scikit-learn<2.0.0,>=1.1.2->pyclustertend) (1.2.0)\n",
            "Requirement already satisfied: scipy>=1.3.2 in /usr/local/lib/python3.8/dist-packages (from scikit-learn<2.0.0,>=1.1.2->pyclustertend) (1.7.3)\n",
            "Installing collected packages: numpy, llvmlite, fonttools, contourpy, scikit-learn, numba, matplotlib, pyclustertend\n",
            "  Attempting uninstall: numpy\n",
            "    Found existing installation: numpy 1.21.6\n",
            "    Uninstalling numpy-1.21.6:\n",
            "      Successfully uninstalled numpy-1.21.6\n",
            "  Attempting uninstall: llvmlite\n",
            "    Found existing installation: llvmlite 0.39.1\n",
            "    Uninstalling llvmlite-0.39.1:\n",
            "      Successfully uninstalled llvmlite-0.39.1\n",
            "  Attempting uninstall: scikit-learn\n",
            "    Found existing installation: scikit-learn 1.0.2\n",
            "    Uninstalling scikit-learn-1.0.2:\n",
            "      Successfully uninstalled scikit-learn-1.0.2\n",
            "  Attempting uninstall: numba\n",
            "    Found existing installation: numba 0.56.4\n",
            "    Uninstalling numba-0.56.4:\n",
            "      Successfully uninstalled numba-0.56.4\n",
            "  Attempting uninstall: matplotlib\n",
            "    Found existing installation: matplotlib 3.2.2\n",
            "    Uninstalling matplotlib-3.2.2:\n",
            "      Successfully uninstalled matplotlib-3.2.2\n",
            "\u001b[31mERROR: pip's dependency resolver does not currently take into account all the packages that are installed. This behaviour is the source of the following dependency conflicts.\n",
            "cmdstanpy 1.0.8 requires numpy>=1.21, but you have numpy 1.20.3 which is incompatible.\u001b[0m\n",
            "Successfully installed contourpy-1.0.6 fonttools-4.38.0 llvmlite-0.37.0 matplotlib-3.6.2 numba-0.54.1 numpy-1.20.3 pyclustertend-1.8.2 scikit-learn-1.2.0\n"
          ]
        },
        {
          "output_type": "display_data",
          "data": {
            "application/vnd.colab-display-data+json": {
              "pip_warning": {
                "packages": [
                  "matplotlib",
                  "mpl_toolkits",
                  "numpy",
                  "sklearn"
                ]
              }
            }
          },
          "metadata": {}
        }
      ]
    },
    {
      "cell_type": "code",
      "source": [
        "pip install numba==0.53"
      ],
      "metadata": {
        "id": "KjxN9zbmZNf1",
        "colab": {
          "base_uri": "https://localhost:8080/"
        },
        "outputId": "93407a78-7313-4fe1-b8bd-f8a62bade005"
      },
      "execution_count": 127,
      "outputs": [
        {
          "output_type": "stream",
          "name": "stdout",
          "text": [
            "Looking in indexes: https://pypi.org/simple, https://us-python.pkg.dev/colab-wheels/public/simple/\n",
            "Collecting numba==0.53\n",
            "  Downloading numba-0.53.0-cp38-cp38-manylinux2014_x86_64.whl (3.4 MB)\n",
            "\u001b[K     |████████████████████████████████| 3.4 MB 5.2 MB/s \n",
            "\u001b[?25hRequirement already satisfied: numpy>=1.15 in /usr/local/lib/python3.8/dist-packages (from numba==0.53) (1.20.3)\n",
            "Collecting llvmlite<0.37,>=0.36.0rc1\n",
            "  Downloading llvmlite-0.36.0-cp38-cp38-manylinux2010_x86_64.whl (25.3 MB)\n",
            "\u001b[K     |████████████████████████████████| 25.3 MB 1.2 MB/s \n",
            "\u001b[?25hRequirement already satisfied: setuptools in /usr/local/lib/python3.8/dist-packages (from numba==0.53) (57.4.0)\n",
            "Installing collected packages: llvmlite, numba\n",
            "  Attempting uninstall: llvmlite\n",
            "    Found existing installation: llvmlite 0.37.0\n",
            "    Uninstalling llvmlite-0.37.0:\n",
            "      Successfully uninstalled llvmlite-0.37.0\n",
            "  Attempting uninstall: numba\n",
            "    Found existing installation: numba 0.54.1\n",
            "    Uninstalling numba-0.54.1:\n",
            "      Successfully uninstalled numba-0.54.1\n",
            "\u001b[31mERROR: pip's dependency resolver does not currently take into account all the packages that are installed. This behaviour is the source of the following dependency conflicts.\n",
            "pyclustertend 1.8.2 requires numba<0.55.0,>=0.54.1, but you have numba 0.53.0 which is incompatible.\u001b[0m\n",
            "Successfully installed llvmlite-0.36.0 numba-0.53.0\n"
          ]
        }
      ]
    },
    {
      "cell_type": "code",
      "source": [
        "from pyclustertend import hopkins\n",
        "hopkins(X,150)"
      ],
      "metadata": {
        "id": "3K49hitvZNjD",
        "colab": {
          "base_uri": "https://localhost:8080/"
        },
        "outputId": "edf28ec7-fad1-468b-be01-e1e864a3cdc1"
      },
      "execution_count": 128,
      "outputs": [
        {
          "output_type": "execute_result",
          "data": {
            "text/plain": [
              "0.048990622812376074"
            ]
          },
          "metadata": {},
          "execution_count": 128
        }
      ]
    },
    {
      "cell_type": "code",
      "source": [
        "X.shape"
      ],
      "metadata": {
        "id": "4jv-jxqXZY-N",
        "colab": {
          "base_uri": "https://localhost:8080/"
        },
        "outputId": "2ddde990-670f-48a4-c3b5-efba9d79f6d3"
      },
      "execution_count": 129,
      "outputs": [
        {
          "output_type": "execute_result",
          "data": {
            "text/plain": [
              "(7787, 15)"
            ]
          },
          "metadata": {},
          "execution_count": 129
        }
      ]
    },
    {
      "cell_type": "markdown",
      "source": [
        "## CREATING DICTIONARY FOR REPORT"
      ],
      "metadata": {
        "id": "w4VqYCXuZb1B"
      }
    },
    {
      "cell_type": "code",
      "source": [
        "clustering_report = {\n",
        "    'Algorithm':[],\n",
        "    'Parameters':[],\n",
        "    'Clusters':[],\n",
        "    'Silhouette Coefficient':[],\n",
        "    'Davies-Bouldin Index': [],\n",
        "    'Calinski-Harbaz Score': []\n",
        "}"
      ],
      "metadata": {
        "id": "CRuwxTwUZhfS"
      },
      "execution_count": 130,
      "outputs": []
    },
    {
      "cell_type": "code",
      "source": [
        "def update_report(algo_name, details,clusters, sil_score, db_index, ch_score):\n",
        "  data = [algo_name, details, clusters,sil_score, db_index, ch_score]\n",
        "  for i,detail in enumerate(clustering_report):\n",
        "    clustering_report[detail].append(data[i])"
      ],
      "metadata": {
        "id": "6SVDHufFZkJ0"
      },
      "execution_count": 131,
      "outputs": []
    },
    {
      "cell_type": "markdown",
      "source": [
        "### 7. Dimesionality Reduction"
      ],
      "metadata": {
        "id": "1UUpS68QDMuG"
      }
    },
    {
      "cell_type": "markdown",
      "source": [
        "##### Do you think that dimensionality reduction is needed? Explain Why?"
      ],
      "metadata": {
        "id": "kexQrXU-DjzY"
      }
    },
    {
      "cell_type": "markdown",
      "source": [
        "Answer Here."
      ],
      "metadata": {
        "id": "GGRlBsSGDtTQ"
      }
    },
    {
      "cell_type": "code",
      "source": [
        "# DImensionality Reduction (If needed)"
      ],
      "metadata": {
        "id": "kQfvxBBHDvCa"
      },
      "execution_count": null,
      "outputs": []
    },
    {
      "cell_type": "markdown",
      "source": [
        "##### Which dimensionality reduction technique have you used and why? (If dimensionality reduction done on dataset.)"
      ],
      "metadata": {
        "id": "T5CmagL3EC8N"
      }
    },
    {
      "cell_type": "markdown",
      "source": [
        "Answer Here."
      ],
      "metadata": {
        "id": "ZKr75IDuEM7t"
      }
    },
    {
      "cell_type": "markdown",
      "source": [
        "### 8. Data Splitting"
      ],
      "metadata": {
        "id": "BhH2vgX9EjGr"
      }
    },
    {
      "cell_type": "code",
      "source": [
        "# Split your data to train and test. Choose Splitting ratio wisely."
      ],
      "metadata": {
        "id": "0CTyd2UwEyNM"
      },
      "execution_count": null,
      "outputs": []
    },
    {
      "cell_type": "markdown",
      "source": [
        "##### What data splitting ratio have you used and why? "
      ],
      "metadata": {
        "id": "qjKvONjwE8ra"
      }
    },
    {
      "cell_type": "markdown",
      "source": [
        "Answer Here."
      ],
      "metadata": {
        "id": "Y2lJ8cobFDb_"
      }
    },
    {
      "cell_type": "markdown",
      "source": [
        "### 9. Handling Imbalanced Dataset"
      ],
      "metadata": {
        "id": "P1XJ9OREExlT"
      }
    },
    {
      "cell_type": "markdown",
      "source": [
        "##### Do you think the dataset is imbalanced? Explain Why."
      ],
      "metadata": {
        "id": "VFOzZv6IFROw"
      }
    },
    {
      "cell_type": "markdown",
      "source": [
        "Answer Here."
      ],
      "metadata": {
        "id": "GeKDIv7pFgcC"
      }
    },
    {
      "cell_type": "code",
      "source": [
        "# Handling Imbalanced Dataset (If needed)"
      ],
      "metadata": {
        "id": "nQsRhhZLFiDs"
      },
      "execution_count": null,
      "outputs": []
    },
    {
      "cell_type": "markdown",
      "source": [
        "##### What technique did you use to handle the imbalance dataset and why? (If needed to be balanced)"
      ],
      "metadata": {
        "id": "TIqpNgepFxVj"
      }
    },
    {
      "cell_type": "markdown",
      "source": [
        "Answer Here."
      ],
      "metadata": {
        "id": "qbet1HwdGDTz"
      }
    },
    {
      "cell_type": "markdown",
      "source": [
        "## ***7. ML Model Implementation***"
      ],
      "metadata": {
        "id": "VfCC591jGiD4"
      }
    },
    {
      "cell_type": "markdown",
      "source": [
        "### ML Model - 1"
      ],
      "metadata": {
        "id": "OB4l2ZhMeS1U"
      }
    },
    {
      "cell_type": "code",
      "source": [
        "# ML Model - 1 Implementation\n",
        "\n",
        "# Fit the Algorithm\n",
        "\n",
        "# Predict on the model"
      ],
      "metadata": {
        "id": "7ebyywQieS1U"
      },
      "execution_count": null,
      "outputs": []
    },
    {
      "cell_type": "markdown",
      "source": [
        "#### 1. Explain the ML Model used and it's performance using Evaluation metric Score Chart."
      ],
      "metadata": {
        "id": "ArJBuiUVfxKd"
      }
    },
    {
      "cell_type": "code",
      "source": [
        "# Visualizing evaluation Metric Score chart"
      ],
      "metadata": {
        "id": "rqD5ZohzfxKe"
      },
      "execution_count": null,
      "outputs": []
    },
    {
      "cell_type": "markdown",
      "source": [
        "#### 2. Cross- Validation & Hyperparameter Tuning"
      ],
      "metadata": {
        "id": "4qY1EAkEfxKe"
      }
    },
    {
      "cell_type": "code",
      "source": [
        "# ML Model - 1 Implementation with hyperparameter optimization techniques (i.e., GridSearch CV, RandomSearch CV, Bayesian Optimization etc.)\n",
        "\n",
        "# Fit the Algorithm\n",
        "\n",
        "# Predict on the model"
      ],
      "metadata": {
        "id": "Dy61ujd6fxKe"
      },
      "execution_count": null,
      "outputs": []
    },
    {
      "cell_type": "markdown",
      "source": [
        "##### Which hyperparameter optimization technique have you used and why?"
      ],
      "metadata": {
        "id": "PiV4Ypx8fxKe"
      }
    },
    {
      "cell_type": "markdown",
      "source": [
        "Answer Here."
      ],
      "metadata": {
        "id": "negyGRa7fxKf"
      }
    },
    {
      "cell_type": "markdown",
      "source": [
        "##### Have you seen any improvement? Note down the improvement with updates Evaluation metric Score Chart."
      ],
      "metadata": {
        "id": "TfvqoZmBfxKf"
      }
    },
    {
      "cell_type": "markdown",
      "source": [
        "Answer Here."
      ],
      "metadata": {
        "id": "OaLui8CcfxKf"
      }
    },
    {
      "cell_type": "markdown",
      "source": [
        "### ML Model - 2"
      ],
      "metadata": {
        "id": "dJ2tPlVmpsJ0"
      }
    },
    {
      "cell_type": "markdown",
      "source": [
        "#### 1. Explain the ML Model used and it's performance using Evaluation metric Score Chart."
      ],
      "metadata": {
        "id": "JWYfwnehpsJ1"
      }
    },
    {
      "cell_type": "code",
      "source": [
        "# Visualizing evaluation Metric Score chart"
      ],
      "metadata": {
        "id": "yEl-hgQWpsJ1"
      },
      "execution_count": null,
      "outputs": []
    },
    {
      "cell_type": "markdown",
      "source": [
        "#### 2. Cross- Validation & Hyperparameter Tuning"
      ],
      "metadata": {
        "id": "-jK_YjpMpsJ2"
      }
    },
    {
      "cell_type": "code",
      "source": [
        "# ML Model - 1 Implementation with hyperparameter optimization techniques (i.e., GridSearch CV, RandomSearch CV, Bayesian Optimization etc.)\n",
        "\n",
        "# Fit the Algorithm\n",
        "\n",
        "# Predict on the model"
      ],
      "metadata": {
        "id": "Dn0EOfS6psJ2"
      },
      "execution_count": null,
      "outputs": []
    },
    {
      "cell_type": "markdown",
      "source": [
        "##### Which hyperparameter optimization technique have you used and why?"
      ],
      "metadata": {
        "id": "HAih1iBOpsJ2"
      }
    },
    {
      "cell_type": "markdown",
      "source": [
        "Answer Here."
      ],
      "metadata": {
        "id": "9kBgjYcdpsJ2"
      }
    },
    {
      "cell_type": "markdown",
      "source": [
        "##### Have you seen any improvement? Note down the improvement with updates Evaluation metric Score Chart."
      ],
      "metadata": {
        "id": "zVGeBEFhpsJ2"
      }
    },
    {
      "cell_type": "markdown",
      "source": [
        "Answer Here."
      ],
      "metadata": {
        "id": "74yRdG6UpsJ3"
      }
    },
    {
      "cell_type": "markdown",
      "source": [
        "#### 3. Explain each evaluation metric's indication towards business and the business impact pf the ML model used."
      ],
      "metadata": {
        "id": "bmKjuQ-FpsJ3"
      }
    },
    {
      "cell_type": "markdown",
      "source": [
        "Answer Here."
      ],
      "metadata": {
        "id": "BDKtOrBQpsJ3"
      }
    },
    {
      "cell_type": "markdown",
      "source": [
        "### ML Model - 3"
      ],
      "metadata": {
        "id": "Fze-IPXLpx6K"
      }
    },
    {
      "cell_type": "code",
      "source": [
        "# ML Model - 3 Implementation\n",
        "\n",
        "# Fit the Algorithm\n",
        "\n",
        "# Predict on the model"
      ],
      "metadata": {
        "id": "FFrSXAtrpx6M"
      },
      "execution_count": null,
      "outputs": []
    },
    {
      "cell_type": "markdown",
      "source": [
        "#### 1. Explain the ML Model used and it's performance using Evaluation metric Score Chart."
      ],
      "metadata": {
        "id": "7AN1z2sKpx6M"
      }
    },
    {
      "cell_type": "code",
      "source": [
        "# Visualizing evaluation Metric Score chart"
      ],
      "metadata": {
        "id": "xIY4lxxGpx6M"
      },
      "execution_count": null,
      "outputs": []
    },
    {
      "cell_type": "markdown",
      "source": [
        "#### 2. Cross- Validation & Hyperparameter Tuning"
      ],
      "metadata": {
        "id": "9PIHJqyupx6M"
      }
    },
    {
      "cell_type": "code",
      "source": [
        "# ML Model - 3 Implementation with hyperparameter optimization techniques (i.e., GridSearch CV, RandomSearch CV, Bayesian Optimization etc.)\n",
        "\n",
        "# Fit the Algorithm\n",
        "\n",
        "# Predict on the model"
      ],
      "metadata": {
        "id": "eSVXuaSKpx6M"
      },
      "execution_count": null,
      "outputs": []
    },
    {
      "cell_type": "markdown",
      "source": [
        "##### Which hyperparameter optimization technique have you used and why?"
      ],
      "metadata": {
        "id": "_-qAgymDpx6N"
      }
    },
    {
      "cell_type": "markdown",
      "source": [
        "Answer Here."
      ],
      "metadata": {
        "id": "lQMffxkwpx6N"
      }
    },
    {
      "cell_type": "markdown",
      "source": [
        "##### Have you seen any improvement? Note down the improvement with updates Evaluation metric Score Chart."
      ],
      "metadata": {
        "id": "Z-hykwinpx6N"
      }
    },
    {
      "cell_type": "markdown",
      "source": [
        "Answer Here."
      ],
      "metadata": {
        "id": "MzVzZC6opx6N"
      }
    },
    {
      "cell_type": "markdown",
      "source": [
        "### 1. Which Evaluation metrics did you consider for a positive business impact and why?"
      ],
      "metadata": {
        "id": "h_CCil-SKHpo"
      }
    },
    {
      "cell_type": "markdown",
      "source": [
        "Answer Here."
      ],
      "metadata": {
        "id": "jHVz9hHDKFms"
      }
    },
    {
      "cell_type": "markdown",
      "source": [
        "### 2. Which ML model did you choose from the above created models as your final prediction model and why?"
      ],
      "metadata": {
        "id": "cBFFvTBNJzUa"
      }
    },
    {
      "cell_type": "markdown",
      "source": [
        "Answer Here."
      ],
      "metadata": {
        "id": "6ksF5Q1LKTVm"
      }
    },
    {
      "cell_type": "markdown",
      "source": [
        "### 3. Explain the model which you have used and the feature importance using any model explainability tool?"
      ],
      "metadata": {
        "id": "HvGl1hHyA_VK"
      }
    },
    {
      "cell_type": "markdown",
      "source": [
        "Answer Here."
      ],
      "metadata": {
        "id": "YnvVTiIxBL-C"
      }
    },
    {
      "cell_type": "markdown",
      "source": [
        "## ***8.*** ***Future Work (Optional)***"
      ],
      "metadata": {
        "id": "EyNgTHvd2WFk"
      }
    },
    {
      "cell_type": "markdown",
      "source": [
        "### 1. Save the best performing ml model in a pickle file or joblib file format for deployment process.\n"
      ],
      "metadata": {
        "id": "KH5McJBi2d8v"
      }
    },
    {
      "cell_type": "code",
      "source": [
        "# Save the File"
      ],
      "metadata": {
        "id": "bQIANRl32f4J"
      },
      "execution_count": null,
      "outputs": []
    },
    {
      "cell_type": "markdown",
      "source": [
        "### 2. Again Load the saved model file and try to predict unseen data for a sanity check.\n"
      ],
      "metadata": {
        "id": "iW_Lq9qf2h6X"
      }
    },
    {
      "cell_type": "code",
      "source": [
        "# Load the File and predict unseen data."
      ],
      "metadata": {
        "id": "oEXk9ydD2nVC"
      },
      "execution_count": null,
      "outputs": []
    },
    {
      "cell_type": "markdown",
      "source": [
        "### ***Congrats! Your model is successfully created and ready for deployment on a live server for a real user interaction !!!***"
      ],
      "metadata": {
        "id": "-Kee-DAl2viO"
      }
    },
    {
      "cell_type": "markdown",
      "source": [
        "# **Conclusion**"
      ],
      "metadata": {
        "id": "gCX9965dhzqZ"
      }
    },
    {
      "cell_type": "markdown",
      "source": [
        "Write the conclusion here."
      ],
      "metadata": {
        "id": "Fjb1IsQkh3yE"
      }
    },
    {
      "cell_type": "markdown",
      "source": [
        "### ***Hurrah! You have successfully completed your Machine Learning Capstone Project !!!***"
      ],
      "metadata": {
        "id": "gIfDvo9L0UH2"
      }
    },
    {
      "cell_type": "code",
      "source": [],
      "metadata": {
        "id": "-kJ3z7zU5Tje"
      },
      "execution_count": null,
      "outputs": []
    }
  ]
}