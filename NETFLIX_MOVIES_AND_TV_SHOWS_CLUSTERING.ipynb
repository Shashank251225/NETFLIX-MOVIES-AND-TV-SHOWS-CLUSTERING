{
  "nbformat": 4,
  "nbformat_minor": 0,
  "metadata": {
    "colab": {
      "private_outputs": true,
      "provenance": [],
      "collapsed_sections": [
        "vncDsAP0Gaoa",
        "FJNUwmbgGyua",
        "w6K7xa23Elo4",
        "yQaldy8SH6Dl",
        "PH-0ReGfmX4f",
        "mDgbUHAGgjLW",
        "O_i_v8NEhb9l",
        "HhfV-JJviCcP",
        "Y3lxredqlCYt",
        "3RnN4peoiCZX",
        "x71ZqKXriCWQ",
        "7hBIi_osiCS2",
        "JlHwYmJAmNHm",
        "35m5QtbWiB9F",
        "PoPl-ycgm1ru",
        "H0kj-8xxnORC",
        "nA9Y7ga8ng1Z",
        "PBTbrJXOngz2",
        "u3PMJOP6ngxN",
        "dauF4eBmngu3",
        "bKJF3rekwFvQ",
        "MSa1f5Uengrz",
        "GF8Ens_Soomf",
        "0wOQAZs5pc--",
        "K5QZ13OEpz2H",
        "lQ7QKXXCp7Bj",
        "448CDAPjqfQr",
        "KSlN3yHqYklG",
        "t6dVpIINYklI",
        "ijmpgYnKYklI",
        "-JiQyfWJYklI",
        "EM7whBJCYoAo",
        "fge-S5ZAYoAp",
        "85gYPyotYoAp",
        "RoGjAbkUYoAp",
        "4Of9eVA-YrdM",
        "iky9q4vBYrdO",
        "F6T5p64dYrdO",
        "y-Ehk30pYrdP",
        "bamQiAODYuh1",
        "QHF8YVU7Yuh3",
        "GwzvFGzlYuh3",
        "qYpmQ266Yuh3",
        "OH-pJp9IphqM",
        "bbFf2-_FphqN",
        "_ouA3fa0phqN",
        "Seke61FWphqN",
        "PIIx-8_IphqN",
        "t27r6nlMphqO",
        "r2jJGEOYphqO",
        "b0JNsNcRphqO",
        "BZR9WyysphqO",
        "jj7wYXLtphqO",
        "eZrbJ2SmphqO",
        "rFu4xreNphqO",
        "YJ55k-q6phqO",
        "gCFgpxoyphqP",
        "OVtJsKN_phqQ",
        "lssrdh5qphqQ",
        "U2RJ9gkRphqQ",
        "1M8mcRywphqQ",
        "tgIPom80phqQ",
        "JMzcOPDDphqR",
        "x-EpHcCOp1ci",
        "X_VqEhTip1ck",
        "8zGJKyg5p1ck",
        "PVzmfK_Ep1ck",
        "n3dbpmDWp1ck",
        "ylSl6qgtp1ck",
        "ZWILFDl5p1ck",
        "M7G43BXep1ck",
        "Ag9LCva-p1cl",
        "E6MkPsBcp1cl",
        "2cELzS2fp1cl",
        "3MPXvC8up1cl",
        "NC_X3p0fY2L0",
        "UV0SzAkaZNRQ",
        "YPEH6qLeZNRQ",
        "q29F0dvdveiT",
        "EXh0U9oCveiU",
        "22aHeOlLveiV",
        "JcMwzZxoAimU",
        "8G2x9gOozGDZ",
        "gCX9965dhzqZ",
        "gIfDvo9L0UH2"
      ],
      "include_colab_link": true
    },
    "kernelspec": {
      "name": "python3",
      "display_name": "Python 3"
    },
    "language_info": {
      "name": "python"
    }
  },
  "cells": [
    {
      "cell_type": "markdown",
      "metadata": {
        "id": "view-in-github",
        "colab_type": "text"
      },
      "source": [
        "<a href=\"https://colab.research.google.com/github/Shashank251225/NETFLIX-MOVIES-AND-TV-SHOWS-CLUSTERING/blob/main/NETFLIX_MOVIES_AND_TV_SHOWS_CLUSTERING.ipynb\" target=\"_parent\"><img src=\"https://colab.research.google.com/assets/colab-badge.svg\" alt=\"Open In Colab\"/></a>"
      ]
    },
    {
      "cell_type": "code",
      "source": [],
      "metadata": {
        "id": "m3ZuPKzbw8Jd"
      },
      "execution_count": null,
      "outputs": []
    },
    {
      "cell_type": "markdown",
      "source": [
        "# **Project Name**    - NETFLIX MOVIES AND TV SHOWS CLUSTERING\n",
        "\n"
      ],
      "metadata": {
        "id": "vncDsAP0Gaoa"
      }
    },
    {
      "cell_type": "markdown",
      "source": [
        "##### **Project Type**    - Unsupervised\n",
        "##### **Contribution**    - Team\n",
        "##### **Team Member 1 -**\n",
        "##### **Team Member 2 -**\n",
        "##### **Team Member 3 -**\n",
        "##### **Team Member 4 -**"
      ],
      "metadata": {
        "id": "beRrZCGUAJYm"
      }
    },
    {
      "cell_type": "markdown",
      "source": [
        "# **Project Summary -**"
      ],
      "metadata": {
        "id": "FJNUwmbgGyua"
      }
    },
    {
      "cell_type": "markdown",
      "source": [
        ".Write the summary here within 500-600 words."
      ],
      "metadata": {
        "id": "F6v_1wHtG2nS"
      }
    },
    {
      "cell_type": "markdown",
      "source": [
        "# **Problem Statement**\n"
      ],
      "metadata": {
        "id": "yQaldy8SH6Dl"
      }
    },
    {
      "cell_type": "markdown",
      "source": [
        "This dataset consists of tv shows and movies available on Netflix as of 2019. The dataset is collected from Flixable which is a third-party Netflix search.\n",
        "\n",
        "In 2018, they released an interesting report which shows that the number of TV shows on Netflix has nearly tripled since 2010. The streaming service’s number of movies has decreased by more than 2,000 titles since 2010, while its number of TV shows has nearly tripled. It will be interesting to explore what all other insights can be obtained from the same dataset.\n",
        "\n",
        "Integrating this dataset with other external datasets such as IMDB ratings, rotten tomatoes can also provide many interesting findings"
      ],
      "metadata": {
        "id": "DpeJGUA3kjGy"
      }
    },
    {
      "cell_type": "markdown",
      "source": [
        "#### **Define Your Business Objective?**"
      ],
      "metadata": {
        "id": "PH-0ReGfmX4f"
      }
    },
    {
      "cell_type": "markdown",
      "source": [
        "Exploratory Data Analysis\n",
        "\n",
        "Understanding what type content is available in different countries\n",
        "\n",
        "Is Netflix has increasingly focusing on TV rather than movies in recent years.\n",
        "\n",
        "Clustering similar content by matching text-based featuresAnswer Here."
      ],
      "metadata": {
        "id": "PhDvGCAqmjP1"
      }
    },
    {
      "cell_type": "markdown",
      "source": [
        "# ***Let's Begin !***"
      ],
      "metadata": {
        "id": "O_i_v8NEhb9l"
      }
    },
    {
      "cell_type": "markdown",
      "source": [
        "# Attribute **Information**\n",
        "show_id : Unique ID for every Movie / Tv Show\n",
        "\n",
        "type : Identifier - A Movie or TV Show\n",
        "\n",
        "title : Title of the Movie / Tv Show\n",
        "\n",
        "director : Director of the Movie\n",
        "\n",
        "cast : Actors involved in the movie / show\n",
        "\n",
        "country : Country where the movie / show was produced\n",
        "\n",
        "date_added : Date it was added on Netflix\n",
        "\n",
        "release_year : Actual Releaseyear of the movie / show\n",
        "\n",
        "rating : TV Rating of the movie / show\n",
        "\n",
        "duration : Total Duration - in minutes or number of seasons\n",
        "\n",
        "listed_in : Genere\n",
        "\n",
        "description: The Summary description"
      ],
      "metadata": {
        "id": "tOShZfqw-g5M"
      }
    },
    {
      "cell_type": "markdown",
      "source": [
        "## ***1. Know Your Data***"
      ],
      "metadata": {
        "id": "HhfV-JJviCcP"
      }
    },
    {
      "cell_type": "markdown",
      "source": [
        "### Import Libraries"
      ],
      "metadata": {
        "id": "Y3lxredqlCYt"
      }
    },
    {
      "cell_type": "code",
      "source": [
        "# Import Libraries\n",
        "import pandas as pd\n",
        "import numpy as np\n",
        "import pylab as pl\n",
        "import spacy\n",
        "import sklearn\n",
        "import en_core_web_sm\n",
        "\n",
        "import matplotlib.pyplot as plt\n",
        "import plotly.express as px\n",
        "import seaborn as sns\n",
        "import warnings\n",
        "warnings.filterwarnings('ignore')\n",
        "\n",
        "from nltk.corpus import stopwords  #stopwords\n",
        "from nltk import word_tokenize,sent_tokenize # tokenizing\n",
        "from nltk.stem import PorterStemmer,LancasterStemmer  # using the Porter Stemmer and Lancaster Stemmer and others\n",
        "from nltk.stem.snowball import SnowballStemmer\n",
        "from nltk.stem import WordNetLemmatizer  # lammatizer from WordNet\n",
        "!pip install nltk\n",
        "import nltk \n",
        "!python3 -c \"import nltk; nltk.download('all')\"\n",
        "\n",
        "# for named entity recognition (NER)\n",
        "from nltk import ne_chunk\n",
        "\n",
        "# vectorizers for creating the document-term-matrix (DTM)\n",
        "from sklearn.feature_extraction.text import TfidfVectorizer,CountVectorizer\n",
        "from sklearn.decomposition import TruncatedSVD\n",
        "\n",
        "#stop-words\n",
        "nltk.download('stopwords')\n",
        "from nltk.corpus import stopwords\n",
        "STOPWORDS = set(stopwords.words('english'))\n",
        "from sklearn.decomposition import LatentDirichletAllocation\n",
        "from wordcloud import WordCloud\n",
        "from sklearn.cluster import KMeans\n",
        "from sklearn.decomposition import PCA\n",
        "from sklearn.metrics.pairwise import linear_kernel\n",
        "from sklearn.preprocessing import StandardScaler\n",
        "\n",
        "\n",
        "# Importing libraries for clustering\n",
        "import matplotlib.cm as cm\n",
        "from sklearn import metrics\n",
        "from sklearn.preprocessing import LabelEncoder\n",
        "from sklearn.preprocessing import StandardScaler\n",
        "from sklearn.decomposition import PCA\n",
        "#from scipy.cluster.hierarchy import linkage\n",
        "from sklearn.cluster import AgglomerativeClustering\n",
        "from sklearn.cluster import AffinityPropagation\n",
        "from sklearn.datasets import make_blobs\n",
        "from sklearn.metrics import silhouette_samples, silhouette_score\n",
        "from sklearn.preprocessing import MinMaxScaler\n",
        "from sklearn.preprocessing import MultiLabelBinarizer\n",
        "from sklearn.preprocessing import OneHotEncoder\n",
        "\n",
        "\n",
        "   \n"
      ],
      "metadata": {
        "id": "M8Vqi-pPk-HR"
      },
      "execution_count": null,
      "outputs": []
    },
    {
      "cell_type": "markdown",
      "source": [
        "### Dataset Loading"
      ],
      "metadata": {
        "id": "3RnN4peoiCZX"
      }
    },
    {
      "cell_type": "markdown",
      "source": [
        "There is a total of 7787 movies / TV shows in this data set collected from AlmaBetter\n",
        "\n",
        "Each row contains the following information: type (Movie or TV Show), title, director, cast, country, rating (ex. PG, PG-13, R, etc.), listed_in (genre), and plot description."
      ],
      "metadata": {
        "id": "3jlBfuao6Z-V"
      }
    },
    {
      "cell_type": "code",
      "source": [
        "# Load Dataset"
      ],
      "metadata": {
        "id": "4CkvbW_SlZ_R"
      },
      "execution_count": null,
      "outputs": []
    },
    {
      "cell_type": "code",
      "source": [
        "from google.colab import drive\n",
        "drive.mount('/content/drive')"
      ],
      "metadata": {
        "id": "l4ogucF15TXV"
      },
      "execution_count": null,
      "outputs": []
    },
    {
      "cell_type": "code",
      "source": [
        "netflix = pd.read_csv('/content/drive/MyDrive/NETFLIX MOVIES AND TV SHOWS CLUSTERING.csv')\n",
        "df = netflix.copy()\n"
      ],
      "metadata": {
        "id": "mTs2vq7n5t1j"
      },
      "execution_count": null,
      "outputs": []
    },
    {
      "cell_type": "markdown",
      "source": [
        "### Dataset First View"
      ],
      "metadata": {
        "id": "x71ZqKXriCWQ"
      }
    },
    {
      "cell_type": "code",
      "source": [
        "# Dataset First Look\n",
        "df.head()"
      ],
      "metadata": {
        "id": "LWNFOSvLl09H"
      },
      "execution_count": null,
      "outputs": []
    },
    {
      "cell_type": "markdown",
      "source": [
        "### INFORMATION: COLUMN NAMES, MISSING VALUES AND DATA TYPES"
      ],
      "metadata": {
        "id": "7hBIi_osiCS2"
      }
    },
    {
      "cell_type": "code",
      "source": [
        "df.info()"
      ],
      "metadata": {
        "id": "Kllu7SJgmLij"
      },
      "execution_count": null,
      "outputs": []
    },
    {
      "cell_type": "markdown",
      "source": [
        "COLUMNS"
      ],
      "metadata": {
        "id": "35m5QtbWiB9F"
      }
    },
    {
      "cell_type": "code",
      "source": [
        "df.columns"
      ],
      "metadata": {
        "id": "3vnfW_83x6or"
      },
      "execution_count": null,
      "outputs": []
    },
    {
      "cell_type": "markdown",
      "source": [
        "## DATASET SUMMARY"
      ],
      "metadata": {
        "id": "gN_NcuXMyXgN"
      }
    },
    {
      "cell_type": "code",
      "source": [
        "df.describe(include = 'O').T"
      ],
      "metadata": {
        "id": "1sLdpKYkmox0"
      },
      "execution_count": null,
      "outputs": []
    },
    {
      "cell_type": "code",
      "source": [
        "df.describe().T"
      ],
      "metadata": {
        "id": "lvXnG8rK0GiX"
      },
      "execution_count": null,
      "outputs": []
    },
    {
      "cell_type": "markdown",
      "source": [
        "## MISSING VALUES"
      ],
      "metadata": {
        "id": "RNTY2Tp70Uxf"
      }
    },
    {
      "cell_type": "code",
      "source": [
        "df.isna().sum()"
      ],
      "metadata": {
        "id": "h9QAbyAK0Y8O"
      },
      "execution_count": null,
      "outputs": []
    },
    {
      "cell_type": "code",
      "source": [
        "#HANDLING MISSING VALUES\n",
        "df['director'].fillna('unknown', inplace=True)\n",
        "df['cast'].fillna('unknown', inplace=True)\n",
        "df['country'].fillna('unknown', inplace=True)\n",
        "df['date_added'].fillna('unknown', inplace=True)\n",
        "df['rating'].fillna('unknown', inplace=True)\n",
        "     "
      ],
      "metadata": {
        "id": "5Pd5RpXT0bsr"
      },
      "execution_count": null,
      "outputs": []
    },
    {
      "cell_type": "markdown",
      "source": [
        "# CONVERTING 'date_added' to datetime format"
      ],
      "metadata": {
        "id": "ldKz7OZ80jyX"
      }
    },
    {
      "cell_type": "code",
      "source": [
        "import datetime as dt"
      ],
      "metadata": {
        "id": "JPtwVSXK0ggL"
      },
      "execution_count": null,
      "outputs": []
    },
    {
      "cell_type": "code",
      "source": [
        "def date(row):\n",
        "  a = row['date_added']\n",
        "  if 'unknown' not in a:\n",
        "    month = a.split()[0]\n",
        "    year = a.split()[-1]\n",
        "    day = a.split()[1].split(',')[0]\n",
        "    a = dt.datetime.strptime(f'{month[:3]} {day} {year}' , '%b %d %Y')\n",
        "    return a\n",
        "  else:\n",
        "    return np.nan\n",
        "\n",
        "df['date_added'] = df.apply(lambda x: date(x), axis=1)"
      ],
      "metadata": {
        "id": "tAtCI1Lg0xcr"
      },
      "execution_count": null,
      "outputs": []
    },
    {
      "cell_type": "markdown",
      "source": [
        "## FEATURE ENGINEERING LISTED_IN \n",
        "FEATURE ENGINEERING LISTED_IN\n",
        "Genres are extracted and re-defined accordingly. TV and Movie genres are separately defined. These are combined. Topics like International TV Shows are removed as it could bring in a bias by displaying content in reference to American movies."
      ],
      "metadata": {
        "id": "HiQAcs7k0_nH"
      }
    },
    {
      "cell_type": "code",
      "source": [
        "a = df.copy()"
      ],
      "metadata": {
        "id": "_Q1Rn6p81A4t"
      },
      "execution_count": null,
      "outputs": []
    },
    {
      "cell_type": "code",
      "source": [
        "a['listed_in'] = a.listed_in.apply(lambda row: row.split(', '))\n",
        "a.explode('listed_in')['listed_in'].unique()\n",
        "     "
      ],
      "metadata": {
        "id": "doP_f-PL1Kkr"
      },
      "execution_count": null,
      "outputs": []
    },
    {
      "cell_type": "code",
      "source": [
        "replacing_genre = {'International TV Shows': '-',\n",
        "                   'TV Dramas': 'Drama',\n",
        "                   'TV Sci-Fi & Fantasy': 'SciFiFantasy',\n",
        "                   'Dramas': 'Drama' ,\n",
        "                   'International Movies': '-',\n",
        "                   'Horror Movies': 'Horror',\n",
        "                   'Action & Adventure': 'ActionAdventure',\n",
        "                   'Independent Movies': '-',\n",
        "                   'Sci-Fi & Fantasy': 'SciFiFantasy',\n",
        "                  'TV Mysteries': 'Mystery'       ,\n",
        "                  'Thrillers': 'Thriller',\n",
        "                   'Crime TV Shows': 'Crime',\n",
        "                   'Docuseries': 'Documentary',\n",
        "                  'Documentaries': 'Documentary', 'Sports Movies': 'Sports',\n",
        "                   'Comedies':'Comedy',\n",
        "                   'Anime Series': 'Anime',\n",
        "                  'Reality TV': 'Reality',\n",
        "                   'TV Comedies': 'Comedy',\n",
        "                   'Romantic Movies': 'Romance',\n",
        "                  'Romantic TV Shows': 'Romance', \n",
        "                   'Science & Nature TV': 'Science',\n",
        "                   'Movies': '-',\n",
        "                  'British TV Shows': '-',\n",
        "                   'Korean TV Shows': '-',\n",
        "                   'Music & Musicals': 'Music',\n",
        "                  'LGBTQ Movies': 'LGBTQ',\n",
        "                   'Faith & Spirituality': 'Spirituality', \n",
        "                   \"Kids' TV\": 'Kids',\n",
        "                  'TV Action & Adventure': 'ActionAdventure',\n",
        "                   'Spanish-Language TV Shows': '-',\n",
        "                  'Children & Family Movies': 'Family', \n",
        "                   'TV Shows': '-',\n",
        "                   'Classic Movies': 'Classic',\n",
        "                  'Cult Movies': 'Cult',\n",
        "                   'TV Horror': 'Horror',\n",
        "                   'Stand-Up Comedy & Talk Shows':'Comedy, TalkShow',\n",
        "                  'Teen TV Shows': 'Teen', 'Stand-Up Comedy':'Comedy', \n",
        "                   'Anime Features':'Anime',\n",
        "                  'TV Thrillers': 'Thriller',\n",
        "                   'Classic & Cult TV':'Classic, Cult'}"
      ],
      "metadata": {
        "id": "3zLFiB6d1PXT"
      },
      "execution_count": null,
      "outputs": []
    },
    {
      "cell_type": "code",
      "source": [
        "def genre_replace(row, replacing_genre = replacing_genre):\n",
        "  new_text = []\n",
        " \n",
        "  for word in (row['listed_in']):\n",
        "    if word in replacing_genre:\n",
        "      if '-' not in replacing_genre[word]:\n",
        "       new_text.append(replacing_genre[word])\n",
        "    else:\n",
        "      print(word, 'not present in dictionary')\n",
        "\n",
        "  return(', '.join(new_text))\n",
        "  \n",
        "\n",
        "df['Genres'] = a.apply(lambda row: genre_replace(row),axis=1)\n",
        "df['Genres'] = df['Genres'].apply(lambda row: row.split(', '))\n",
        "     "
      ],
      "metadata": {
        "id": "RNtbFfUO1ewu"
      },
      "execution_count": null,
      "outputs": []
    },
    {
      "cell_type": "code",
      "source": [
        "(df.explode('Genres')['Genres'].unique())"
      ],
      "metadata": {
        "id": "4OH5kp-51hST"
      },
      "execution_count": null,
      "outputs": []
    },
    {
      "cell_type": "markdown",
      "source": [
        "#1 EXPLORATORY DATA ANALYSIS\n",
        "Histogram plot of release dates of shows/movies on Netflix"
      ],
      "metadata": {
        "id": "vAZofvUA1tVP"
      }
    },
    {
      "cell_type": "code",
      "source": [
        "a = plt.figure(figsize=(14,8))\n",
        "a = sns.displot(x='release_year', hue = 'type', data = df, kind = 'hist', height=10, aspect=2, bins = 50, multiple='dodge', palette='GnBu')\n",
        "a = plt.xticks(ticks= np.arange(df.release_year.min(),df.release_year.max()+1,1), rotation = 90)\n",
        "a = plt.title('Distribution of Movie/Shows Release Dates')\n",
        "a = plt.xlabel('Release Year')"
      ],
      "metadata": {
        "id": "VAirA6UL1oJj"
      },
      "execution_count": null,
      "outputs": []
    },
    {
      "cell_type": "markdown",
      "source": [
        "OBSERVATIONS :\n",
        "Most Movies streaming on the platform were released after 2010\n",
        "Most TV Shows streaming on the platform were released after 2015\n",
        "The year 2017 had highest number of Movie and TV show releases on the platform"
      ],
      "metadata": {
        "id": "Ger6jn3y16uu"
      }
    },
    {
      "cell_type": "code",
      "source": [
        "df['date_added'].dt.year.max()"
      ],
      "metadata": {
        "id": "xD9-tb9d1znz"
      },
      "execution_count": null,
      "outputs": []
    },
    {
      "cell_type": "markdown",
      "source": [
        "## Histogram plot of dates of number of shows/movies added by the Streaming giant"
      ],
      "metadata": {
        "id": "6F3_Uf_E2Ezp"
      }
    },
    {
      "cell_type": "code",
      "source": [
        "a = plt.figure(figsize=(14,8))\n",
        "a = sns.displot(x= df['date_added'], hue = 'type', data = df, kind = 'hist', height=10, aspect=2, bins = 50, multiple='dodge', palette='GnBu')\n",
        "a = plt.title('Number of Movie/Shows Added by Year')\n",
        "a = plt.xlabel('Added Year')"
      ],
      "metadata": {
        "id": "KY0IuLRR2BGs"
      },
      "execution_count": null,
      "outputs": []
    },
    {
      "cell_type": "markdown",
      "source": [
        "OBSERVATIONS:\n",
        "Netflix began adding videos to the platform from 2008\n",
        "The streaming giant started aggressively adding movies and TV shows from 2017\n",
        "More movies are added as compared to TV shows"
      ],
      "metadata": {
        "id": "RMLkvqgo2uKv"
      }
    },
    {
      "cell_type": "markdown",
      "source": [
        "## Type of Videos on Netflix"
      ],
      "metadata": {
        "id": "SRhxzaSp2xjP"
      }
    },
    {
      "cell_type": "code",
      "source": [
        "a = plt.figure(figsize=(14,8))\n",
        "a = sns.countplot(x= df['type'], data = df,palette='icefire')\n",
        "a = plt.title('Types of Video Entertainment on Netflix ')\n",
        "a = plt.xlabel('Type')\n",
        "a = plt.ylabel('Number of Shows / Movies')\n",
        "     "
      ],
      "metadata": {
        "id": "rBNh4izS2zzV"
      },
      "execution_count": null,
      "outputs": []
    },
    {
      "cell_type": "markdown",
      "source": [
        "OBSERVATIONS :\n",
        "There are almost twice as many movies as TV shows on Netflix."
      ],
      "metadata": {
        "id": "SOogksis25_2"
      }
    },
    {
      "cell_type": "markdown",
      "source": [
        "## Different Ratings on the Platform"
      ],
      "metadata": {
        "id": "zAa4HWWB3BXe"
      }
    },
    {
      "cell_type": "code",
      "source": [
        "a = plt.figure(figsize=(14,8))\n",
        "d = df.groupby('rating').agg({'show_id':'count'}).reset_index()\n",
        "a = sns.barplot(x= d['rating'], y=d['show_id'], palette='bone')\n",
        "a = plt.title('Ratings Distribution of Movies and Shows on Netflix')\n",
        "a = plt.xlabel('Ratings')\n",
        "a = plt.ylabel('Number of Videos')\n",
        "     "
      ],
      "metadata": {
        "id": "P03N4sMC22M7"
      },
      "execution_count": null,
      "outputs": []
    },
    {
      "cell_type": "markdown",
      "source": [
        "OBSERVATIONS :\n",
        "Most content on Netflix is rated for Mature Audiences and over 14 years old"
      ],
      "metadata": {
        "id": "FjNKRg015s2c"
      }
    },
    {
      "cell_type": "markdown",
      "source": [
        "## Top 10 Countries that produced content on Netflix"
      ],
      "metadata": {
        "id": "ehZWGcC55w6-"
      }
    },
    {
      "cell_type": "code",
      "source": [
        "a = df[df.country != 'unknown'].loc[:,['show_id','title','country', 'listed_in']].copy()\n",
        "countrylist = (a['country'].to_list())\n",
        "\n",
        "newlist = []\n",
        "for country in countrylist:\n",
        "  if ',' in country:\n",
        "    a = country.split(', ')\n",
        "    newlist = newlist + a\n",
        "  else:\n",
        "    newlist.append(country)\n",
        "\n",
        "country_list = pd.DataFrame({'country' : newlist, 'id':np.arange(0,len(newlist),1)})\n",
        "a = country_list.groupby('country').agg({'id':'count'}).sort_values('id', ascending= False).head(20).reset_index()\n",
        "plt.figure(figsize=(15,10))\n",
        "a = sns.barplot(y = 'country', x = 'id',data = a , palette='icefire')\n",
        "a = plt.title('Movies/Show numbers produced in Countries')\n",
        "a = plt.ylabel('Country')\n",
        "a = plt.xlabel('Number of Videos')\n",
        "top10countries = country_list.groupby('country').agg({'id':'count'}).sort_values('id', ascending= False).head(10).reset_index()['country'].unique()"
      ],
      "metadata": {
        "id": "9svQNKZF3FsD"
      },
      "execution_count": null,
      "outputs": []
    },
    {
      "cell_type": "markdown",
      "source": [
        "OBSERVATIONS :\n",
        "Top Countries in Netflix are:\n",
        "\n",
        "1.United States\n",
        "2.India 3.United Kingdom 4.Canada 5.France"
      ],
      "metadata": {
        "id": "pZNamYyN6iDt"
      }
    },
    {
      "cell_type": "markdown",
      "source": [
        "## Top Genres on Netflix"
      ],
      "metadata": {
        "id": "Rv4ZxlBd6pof"
      }
    },
    {
      "cell_type": "code",
      "source": [
        "a = df.loc[:,['show_id','title','country', 'Genres']].copy()\n",
        "a = a.explode('Genres')\n",
        "genre_list = a.Genres.unique()\n",
        "group = a.groupby('Genres').agg(count = ('show_id','count')).sort_values('count', ascending= False).reset_index()\n",
        "plt.figure(figsize=(15,10))\n",
        "_ = sns.barplot(y = 'Genres', x = 'count',data = group , palette='inferno')"
      ],
      "metadata": {
        "id": "VbhJxjGx54GT"
      },
      "execution_count": null,
      "outputs": []
    },
    {
      "cell_type": "code",
      "source": [
        "top15genres = group.head(15)['Genres'].to_list()"
      ],
      "metadata": {
        "id": "xJI9_9NL6vKb"
      },
      "execution_count": null,
      "outputs": []
    },
    {
      "cell_type": "markdown",
      "source": [
        "OBSERVATIONS\n",
        "Top Genres in Netflix are:\n",
        "\n",
        "Drama\n",
        "2.Comedy 3.Documentary 4.Action and Adventure 5.Romance"
      ],
      "metadata": {
        "id": "fhheX2nb68rg"
      }
    },
    {
      "cell_type": "markdown",
      "source": [
        "## Frequent Directors on Netflix"
      ],
      "metadata": {
        "id": "ikMuMxhk7CP2"
      }
    },
    {
      "cell_type": "code",
      "source": [
        "a=df[df.director != 'unknown'].loc[:,['show_id','title','director', 'cast']].copy()\n",
        "director = (a['director'].to_list())\n",
        "\n",
        "newlist = []\n",
        "for genre in director:\n",
        "  if ',' in genre:\n",
        "    a = genre.split(', ')\n",
        "    newlist = newlist + a\n",
        "  else:\n",
        "    newlist.append(genre)\n",
        "country_list = pd.DataFrame({'Director' : newlist, 'id':np.arange(0,len(newlist),1)})\n",
        "a = country_list.groupby('Director').agg({'id':'count'}).sort_values('id', ascending= False).reset_index().head(15)\n",
        "plt.figure(figsize=(15,10))\n",
        "a = sns.barplot(y = 'Director', x = 'id',data = a , palette= 'copper')\n",
        "a = plt.title('Directors on Netflix')\n",
        "a = plt.ylabel('Director')\n",
        "a = plt.xlabel('Number of Movies/Shows Directed')\n",
        "top10directors = country_list.groupby('Director').agg({'id':'count'}).sort_values('id', ascending= False).reset_index().head(10)['Director'].to_list()"
      ],
      "metadata": {
        "id": "66aNq4n26_9r"
      },
      "execution_count": null,
      "outputs": []
    },
    {
      "cell_type": "markdown",
      "source": [
        "OBSERVATIONS\n",
        "Top Directors on Netflix are:\n",
        "\n",
        "1.Jan Suter\n",
        "2.Raul Campos 3.Marcus Raboy 4.Jay Karas 5.Cathy Garcia-Molina"
      ],
      "metadata": {
        "id": "5lH3XKLN7iY-"
      }
    },
    {
      "cell_type": "markdown",
      "source": [
        "## Frequent Cast on Netflix"
      ],
      "metadata": {
        "id": "XLBj6v0P7n4Y"
      }
    },
    {
      "cell_type": "code",
      "source": [
        "a=df[df.cast != 'unknown'].loc[:,['show_id','title','director', 'cast']].copy()\n",
        "cast = (a['cast'].to_list())\n",
        "\n",
        "newlist = []\n",
        "for genre in cast:\n",
        "  if ',' in genre:\n",
        "    a = genre.split(', ')\n",
        "    newlist = newlist + a\n",
        "  else:\n",
        "    newlist.append(genre)\n",
        "country_list = pd.DataFrame({'Actor' : newlist, 'id':np.arange(0,len(newlist),1)})\n",
        "a = country_list.groupby('Actor').agg({'id':'count'}).sort_values('id', ascending= False).head(20).reset_index()\n",
        "plt.figure(figsize=(15,10))\n",
        "a = sns.barplot(y = 'Actor', x = 'id',data = a , palette= 'bone')\n",
        "a = plt.title('Directors on Netflix')\n",
        "a = plt.ylabel('Director')\n",
        "a = plt.xlabel('Number of Movies/Shows Directed')\n",
        "top10actors = country_list.groupby('Actor').agg({'id':'count'}).sort_values('id', ascending= False).head(20).reset_index()['Actor'].to_list()"
      ],
      "metadata": {
        "id": "o0Sw-QQl7Gi7"
      },
      "execution_count": null,
      "outputs": []
    },
    {
      "cell_type": "code",
      "source": [],
      "metadata": {
        "id": "3dJQOcae7vqp"
      },
      "execution_count": null,
      "outputs": []
    },
    {
      "cell_type": "markdown",
      "source": [
        "OBSERVATIONS\n",
        "Top Actors on Netflix are:\n",
        "\n",
        "1.Anupam Kher\n",
        "2.Shah Rukh Khan 3.Naseeruddin Shah 4.Om Puri 5.Akshay Kumar"
      ],
      "metadata": {
        "id": "KATT_bH-70h1"
      }
    },
    {
      "cell_type": "code",
      "source": [],
      "metadata": {
        "id": "DFWzRHnO71lh"
      },
      "execution_count": null,
      "outputs": []
    },
    {
      "cell_type": "markdown",
      "source": [
        "## Duration of Movies on Netflix"
      ],
      "metadata": {
        "id": "07Rhv2oF76uI"
      }
    },
    {
      "cell_type": "code",
      "source": [
        "a=df[df['type']=='Movie'].loc[:,['show_id','duration']].copy()\n",
        "cast = (a['duration'].to_list())\n",
        "\n",
        "newlist = []\n",
        "for genre in cast:\n",
        "  newlist.append(int(genre.split(' ')[0]))\n",
        "country_list = pd.DataFrame({'Duration' : newlist, 'id':np.arange(0,len(newlist),1)})\n",
        "a = sns.displot(x= 'Duration',  data = country_list, kind = 'hist', height=10, aspect=2, bins = 50)\n",
        "a = plt.title('Distribution of Movie Duration')\n",
        "a = plt.xlabel('Minutes')\n",
        "a = plt.xticks(ticks = np.arange(0,country_list.Duration.max()+1,10))\n",
        "     "
      ],
      "metadata": {
        "id": "9bg1C9nF77sO"
      },
      "execution_count": null,
      "outputs": []
    },
    {
      "cell_type": "markdown",
      "source": [
        "\n",
        "OBSERVATIONS\n",
        "Most movies on Netflix have a duration range from 90 to 110 minutes"
      ],
      "metadata": {
        "id": "6wAoOjdD8D0O"
      }
    },
    {
      "cell_type": "code",
      "source": [],
      "metadata": {
        "id": "oHavNj6G7_QT"
      },
      "execution_count": null,
      "outputs": []
    },
    {
      "cell_type": "markdown",
      "source": [
        "## Duration of TV shows on Netflix"
      ],
      "metadata": {
        "id": "qZgSbKts8G22"
      }
    },
    {
      "cell_type": "code",
      "source": [
        "a=df[df['type']!='Movie'].loc[:,['show_id','duration']].copy()\n",
        "cast = (a['duration'].to_list())\n",
        "\n",
        "newlist = []\n",
        "for genre in cast:\n",
        "  newlist.append(int(genre.split(' ')[0]))\n",
        "country_list = pd.DataFrame({'Seasons' : newlist, 'id':np.arange(0,len(newlist),1)})\n",
        "a = sns.displot(x= 'Seasons',  data = country_list, kind = 'hist', height=10, aspect=2)\n",
        "a = plt.title('TV Show Season Distribution')\n",
        "a = plt.xlabel('Seasons')\n",
        "a = plt.xticks(ticks = np.arange(country_list.Seasons.min(),country_list.Seasons.max()+1,1))"
      ],
      "metadata": {
        "id": "yClQufXZ8H19"
      },
      "execution_count": null,
      "outputs": []
    },
    {
      "cell_type": "markdown",
      "source": [
        "OBSERVATIONS\n",
        "Most TV shows on Netflix have a span of 1 season only"
      ],
      "metadata": {
        "id": "ZD5rqrFS8PlI"
      }
    },
    {
      "cell_type": "code",
      "source": [],
      "metadata": {
        "id": "MpkTkgfI8Myi"
      },
      "execution_count": null,
      "outputs": []
    }
  ]
}